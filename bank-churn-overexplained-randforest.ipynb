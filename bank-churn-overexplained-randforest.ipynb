{
 "cells": [
  {
   "cell_type": "code",
   "execution_count": 1,
   "id": "cc1b5a55",
   "metadata": {
    "_cell_guid": "b1076dfc-b9ad-4769-8c92-a6c4dae69d19",
    "_uuid": "8f2839f25d086af736a60e9eeb907d3b93b6e0e5",
    "execution": {
     "iopub.execute_input": "2024-10-09T16:53:21.933227Z",
     "iopub.status.busy": "2024-10-09T16:53:21.932847Z",
     "iopub.status.idle": "2024-10-09T16:53:22.720884Z",
     "shell.execute_reply": "2024-10-09T16:53:22.719909Z"
    },
    "papermill": {
     "duration": 0.815956,
     "end_time": "2024-10-09T16:53:22.723731",
     "exception": false,
     "start_time": "2024-10-09T16:53:21.907775",
     "status": "completed"
    },
    "tags": []
   },
   "outputs": [
    {
     "name": "stdout",
     "output_type": "stream",
     "text": [
      "/kaggle/input/predict-customer-churn-a-binary-classification-ch/sample_submission.csv\n",
      "/kaggle/input/predict-customer-churn-a-binary-classification-ch/train.csv\n",
      "/kaggle/input/predict-customer-churn-a-binary-classification-ch/test.csv\n"
     ]
    }
   ],
   "source": [
    "# This Python 3 environment comes with many helpful analytics libraries installed\n",
    "# It is defined by the kaggle/python Docker image: https://github.com/kaggle/docker-python\n",
    "# For example, here's several helpful packages to load\n",
    "\n",
    "import numpy as np # linear algebra\n",
    "import pandas as pd # data processing, CSV file I/O (e.g. pd.read_csv)\n",
    "\n",
    "# Input data files are available in the read-only \"../input/\" directory\n",
    "# For example, running this (by clicking run or pressing Shift+Enter) will list all files under the input directory\n",
    "\n",
    "import os\n",
    "for dirname, _, filenames in os.walk('/kaggle/input'):\n",
    "    for filename in filenames:\n",
    "        print(os.path.join(dirname, filename))\n",
    "\n",
    "# You can write up to 20GB to the current directory (/kaggle/working/) that gets preserved as output when you create a version using \"Save & Run All\" \n",
    "# You can also write temporary files to /kaggle/temp/, but they won't be saved outside of the current session"
   ]
  },
  {
   "cell_type": "markdown",
   "id": "c98b15bc",
   "metadata": {
    "papermill": {
     "duration": 0.023802,
     "end_time": "2024-10-09T16:53:22.780640",
     "exception": false,
     "start_time": "2024-10-09T16:53:22.756838",
     "status": "completed"
    },
    "tags": []
   },
   "source": [
    "**Introduction**\n",
    "\n",
    "Welcome to this comprehensive guide on building a RandomForestClassifier machine learning model. This notebook is crafted with a beginner-friendly approach, providing detailed explanations for each step involved. The focus is on making concepts like data preparation, pipeline creation, and hyperparameter tuning with GridSearchCV accessible for less experienced readers. Hope you find this guide insightful and informative!"
   ]
  },
  {
   "cell_type": "markdown",
   "id": "737e3cb4",
   "metadata": {
    "execution": {
     "iopub.execute_input": "2024-08-31T01:12:34.532862Z",
     "iopub.status.busy": "2024-08-31T01:12:34.532324Z",
     "iopub.status.idle": "2024-08-31T01:12:34.541051Z",
     "shell.execute_reply": "2024-08-31T01:12:34.540056Z",
     "shell.execute_reply.started": "2024-08-31T01:12:34.532826Z"
    },
    "papermill": {
     "duration": 0.022779,
     "end_time": "2024-10-09T16:53:22.827308",
     "exception": false,
     "start_time": "2024-10-09T16:53:22.804529",
     "status": "completed"
    },
    "tags": []
   },
   "source": [
    "# 1) Data wrangling\n",
    "This section covers everything from the initial examination of the data to preparing a preprocessed dataframe ready for input into the pipeline."
   ]
  },
  {
   "cell_type": "markdown",
   "id": "08844d77",
   "metadata": {
    "papermill": {
     "duration": 0.023115,
     "end_time": "2024-10-09T16:53:22.874100",
     "exception": false,
     "start_time": "2024-10-09T16:53:22.850985",
     "status": "completed"
    },
    "tags": []
   },
   "source": [
    "## Overview and Cleaning"
   ]
  },
  {
   "cell_type": "markdown",
   "id": "00e93839",
   "metadata": {
    "papermill": {
     "duration": 0.026436,
     "end_time": "2024-10-09T16:53:22.927043",
     "exception": false,
     "start_time": "2024-10-09T16:53:22.900607",
     "status": "completed"
    },
    "tags": []
   },
   "source": [
    "A good way to begin tackling a classification problem is by visually examining the raw training data."
   ]
  },
  {
   "cell_type": "code",
   "execution_count": 2,
   "id": "dcdc88a8",
   "metadata": {
    "execution": {
     "iopub.execute_input": "2024-10-09T16:53:22.975019Z",
     "iopub.status.busy": "2024-10-09T16:53:22.974258Z",
     "iopub.status.idle": "2024-10-09T16:53:23.076295Z",
     "shell.execute_reply": "2024-10-09T16:53:23.075239Z"
    },
    "papermill": {
     "duration": 0.128754,
     "end_time": "2024-10-09T16:53:23.078672",
     "exception": false,
     "start_time": "2024-10-09T16:53:22.949918",
     "status": "completed"
    },
    "tags": []
   },
   "outputs": [
    {
     "data": {
      "text/html": [
       "<div>\n",
       "<style scoped>\n",
       "    .dataframe tbody tr th:only-of-type {\n",
       "        vertical-align: middle;\n",
       "    }\n",
       "\n",
       "    .dataframe tbody tr th {\n",
       "        vertical-align: top;\n",
       "    }\n",
       "\n",
       "    .dataframe thead th {\n",
       "        text-align: right;\n",
       "    }\n",
       "</style>\n",
       "<table border=\"1\" class=\"dataframe\">\n",
       "  <thead>\n",
       "    <tr style=\"text-align: right;\">\n",
       "      <th></th>\n",
       "      <th>id</th>\n",
       "      <th>CustomerId</th>\n",
       "      <th>Surname</th>\n",
       "      <th>CreditScore</th>\n",
       "      <th>Geography</th>\n",
       "      <th>Gender</th>\n",
       "      <th>Age</th>\n",
       "      <th>Tenure</th>\n",
       "      <th>Balance</th>\n",
       "      <th>NumOfProducts</th>\n",
       "      <th>HasCrCard</th>\n",
       "      <th>IsActiveMember</th>\n",
       "      <th>EstimatedSalary</th>\n",
       "      <th>Exited</th>\n",
       "    </tr>\n",
       "  </thead>\n",
       "  <tbody>\n",
       "    <tr>\n",
       "      <th>0</th>\n",
       "      <td>0</td>\n",
       "      <td>15682442.0</td>\n",
       "      <td>Hsueh</td>\n",
       "      <td>506.0</td>\n",
       "      <td>Spain</td>\n",
       "      <td>Male</td>\n",
       "      <td>33.0</td>\n",
       "      <td>6.0</td>\n",
       "      <td>0.00</td>\n",
       "      <td>1.0</td>\n",
       "      <td>1.0</td>\n",
       "      <td>1.0</td>\n",
       "      <td>158845.49</td>\n",
       "      <td>0.0</td>\n",
       "    </tr>\n",
       "    <tr>\n",
       "      <th>1</th>\n",
       "      <td>1</td>\n",
       "      <td>15576676.0</td>\n",
       "      <td>Mazzi</td>\n",
       "      <td>651.0</td>\n",
       "      <td>Germany</td>\n",
       "      <td>Female</td>\n",
       "      <td>43.0</td>\n",
       "      <td>5.0</td>\n",
       "      <td>102773.20</td>\n",
       "      <td>1.0</td>\n",
       "      <td>0.0</td>\n",
       "      <td>1.0</td>\n",
       "      <td>85902.39</td>\n",
       "      <td>1.0</td>\n",
       "    </tr>\n",
       "    <tr>\n",
       "      <th>2</th>\n",
       "      <td>2</td>\n",
       "      <td>15668958.0</td>\n",
       "      <td>Walker</td>\n",
       "      <td>554.0</td>\n",
       "      <td>France</td>\n",
       "      <td>Female</td>\n",
       "      <td>37.0</td>\n",
       "      <td>6.0</td>\n",
       "      <td>0.00</td>\n",
       "      <td>2.0</td>\n",
       "      <td>1.0</td>\n",
       "      <td>1.0</td>\n",
       "      <td>139861.53</td>\n",
       "      <td>0.0</td>\n",
       "    </tr>\n",
       "    <tr>\n",
       "      <th>3</th>\n",
       "      <td>3</td>\n",
       "      <td>15783629.0</td>\n",
       "      <td>Yobachi</td>\n",
       "      <td>553.0</td>\n",
       "      <td>France</td>\n",
       "      <td>Female</td>\n",
       "      <td>31.0</td>\n",
       "      <td>1.0</td>\n",
       "      <td>0.00</td>\n",
       "      <td>2.0</td>\n",
       "      <td>1.0</td>\n",
       "      <td>1.0</td>\n",
       "      <td>26149.25</td>\n",
       "      <td>0.0</td>\n",
       "    </tr>\n",
       "    <tr>\n",
       "      <th>4</th>\n",
       "      <td>4</td>\n",
       "      <td>15795527.0</td>\n",
       "      <td>Chiu</td>\n",
       "      <td>646.0</td>\n",
       "      <td>France</td>\n",
       "      <td>Male</td>\n",
       "      <td>42.0</td>\n",
       "      <td>5.0</td>\n",
       "      <td>0.00</td>\n",
       "      <td>2.0</td>\n",
       "      <td>1.0</td>\n",
       "      <td>1.0</td>\n",
       "      <td>61761.77</td>\n",
       "      <td>0.0</td>\n",
       "    </tr>\n",
       "    <tr>\n",
       "      <th>...</th>\n",
       "      <td>...</td>\n",
       "      <td>...</td>\n",
       "      <td>...</td>\n",
       "      <td>...</td>\n",
       "      <td>...</td>\n",
       "      <td>...</td>\n",
       "      <td>...</td>\n",
       "      <td>...</td>\n",
       "      <td>...</td>\n",
       "      <td>...</td>\n",
       "      <td>...</td>\n",
       "      <td>...</td>\n",
       "      <td>...</td>\n",
       "      <td>...</td>\n",
       "    </tr>\n",
       "    <tr>\n",
       "      <th>14995</th>\n",
       "      <td>14995</td>\n",
       "      <td>15661830.0</td>\n",
       "      <td>Ts'ui</td>\n",
       "      <td>597.0</td>\n",
       "      <td>France</td>\n",
       "      <td>Male</td>\n",
       "      <td>31.0</td>\n",
       "      <td>7.0</td>\n",
       "      <td>74988.59</td>\n",
       "      <td>1.0</td>\n",
       "      <td>0.0</td>\n",
       "      <td>0.0</td>\n",
       "      <td>92621.90</td>\n",
       "      <td>0.0</td>\n",
       "    </tr>\n",
       "    <tr>\n",
       "      <th>14996</th>\n",
       "      <td>14996</td>\n",
       "      <td>15578866.0</td>\n",
       "      <td>Ch'iu</td>\n",
       "      <td>682.0</td>\n",
       "      <td>Spain</td>\n",
       "      <td>Male</td>\n",
       "      <td>32.0</td>\n",
       "      <td>0.0</td>\n",
       "      <td>131394.56</td>\n",
       "      <td>1.0</td>\n",
       "      <td>0.0</td>\n",
       "      <td>1.0</td>\n",
       "      <td>119903.20</td>\n",
       "      <td>0.0</td>\n",
       "    </tr>\n",
       "    <tr>\n",
       "      <th>14997</th>\n",
       "      <td>14997</td>\n",
       "      <td>15689147.0</td>\n",
       "      <td>Chidiebele</td>\n",
       "      <td>535.0</td>\n",
       "      <td>Germany</td>\n",
       "      <td>Female</td>\n",
       "      <td>39.0</td>\n",
       "      <td>9.0</td>\n",
       "      <td>90971.85</td>\n",
       "      <td>1.0</td>\n",
       "      <td>0.0</td>\n",
       "      <td>1.0</td>\n",
       "      <td>74836.45</td>\n",
       "      <td>0.0</td>\n",
       "    </tr>\n",
       "    <tr>\n",
       "      <th>14998</th>\n",
       "      <td>14998</td>\n",
       "      <td>15807577.0</td>\n",
       "      <td>Niu</td>\n",
       "      <td>668.0</td>\n",
       "      <td>France</td>\n",
       "      <td>Female</td>\n",
       "      <td>47.0</td>\n",
       "      <td>2.0</td>\n",
       "      <td>0.00</td>\n",
       "      <td>2.0</td>\n",
       "      <td>0.0</td>\n",
       "      <td>1.0</td>\n",
       "      <td>171552.02</td>\n",
       "      <td>1.0</td>\n",
       "    </tr>\n",
       "    <tr>\n",
       "      <th>14999</th>\n",
       "      <td>14999</td>\n",
       "      <td>15681928.0</td>\n",
       "      <td>Ch'in</td>\n",
       "      <td>599.0</td>\n",
       "      <td>France</td>\n",
       "      <td>Male</td>\n",
       "      <td>38.0</td>\n",
       "      <td>2.0</td>\n",
       "      <td>124495.98</td>\n",
       "      <td>1.0</td>\n",
       "      <td>1.0</td>\n",
       "      <td>0.0</td>\n",
       "      <td>144878.13</td>\n",
       "      <td>0.0</td>\n",
       "    </tr>\n",
       "  </tbody>\n",
       "</table>\n",
       "<p>15000 rows × 14 columns</p>\n",
       "</div>"
      ],
      "text/plain": [
       "          id  CustomerId     Surname  CreditScore Geography  Gender   Age  \\\n",
       "0          0  15682442.0       Hsueh        506.0     Spain    Male  33.0   \n",
       "1          1  15576676.0       Mazzi        651.0   Germany  Female  43.0   \n",
       "2          2  15668958.0      Walker        554.0    France  Female  37.0   \n",
       "3          3  15783629.0     Yobachi        553.0    France  Female  31.0   \n",
       "4          4  15795527.0        Chiu        646.0    France    Male  42.0   \n",
       "...      ...         ...         ...          ...       ...     ...   ...   \n",
       "14995  14995  15661830.0       Ts'ui        597.0    France    Male  31.0   \n",
       "14996  14996  15578866.0       Ch'iu        682.0     Spain    Male  32.0   \n",
       "14997  14997  15689147.0  Chidiebele        535.0   Germany  Female  39.0   \n",
       "14998  14998  15807577.0         Niu        668.0    France  Female  47.0   \n",
       "14999  14999  15681928.0       Ch'in        599.0    France    Male  38.0   \n",
       "\n",
       "       Tenure    Balance  NumOfProducts  HasCrCard  IsActiveMember  \\\n",
       "0         6.0       0.00            1.0        1.0             1.0   \n",
       "1         5.0  102773.20            1.0        0.0             1.0   \n",
       "2         6.0       0.00            2.0        1.0             1.0   \n",
       "3         1.0       0.00            2.0        1.0             1.0   \n",
       "4         5.0       0.00            2.0        1.0             1.0   \n",
       "...       ...        ...            ...        ...             ...   \n",
       "14995     7.0   74988.59            1.0        0.0             0.0   \n",
       "14996     0.0  131394.56            1.0        0.0             1.0   \n",
       "14997     9.0   90971.85            1.0        0.0             1.0   \n",
       "14998     2.0       0.00            2.0        0.0             1.0   \n",
       "14999     2.0  124495.98            1.0        1.0             0.0   \n",
       "\n",
       "       EstimatedSalary  Exited  \n",
       "0            158845.49     0.0  \n",
       "1             85902.39     1.0  \n",
       "2            139861.53     0.0  \n",
       "3             26149.25     0.0  \n",
       "4             61761.77     0.0  \n",
       "...                ...     ...  \n",
       "14995         92621.90     0.0  \n",
       "14996        119903.20     0.0  \n",
       "14997         74836.45     0.0  \n",
       "14998        171552.02     1.0  \n",
       "14999        144878.13     0.0  \n",
       "\n",
       "[15000 rows x 14 columns]"
      ]
     },
     "execution_count": 2,
     "metadata": {},
     "output_type": "execute_result"
    }
   ],
   "source": [
    "train = pd.read_csv('/kaggle/input/predict-customer-churn-a-binary-classification-ch/train.csv')\n",
    "train"
   ]
  },
  {
   "cell_type": "markdown",
   "id": "49fd55d7",
   "metadata": {
    "papermill": {
     "duration": 0.023074,
     "end_time": "2024-10-09T16:53:23.126827",
     "exception": false,
     "start_time": "2024-10-09T16:53:23.103753",
     "status": "completed"
    },
    "tags": []
   },
   "source": [
    "Before we go on with meaningful outlook on this dataset, some basic formal issues (missing values, duplicates), as well as primary data cleaning (redundant features exclusion), are sorted out."
   ]
  },
  {
   "cell_type": "markdown",
   "id": "20ed02ef",
   "metadata": {
    "papermill": {
     "duration": 0.022912,
     "end_time": "2024-10-09T16:53:23.173131",
     "exception": false,
     "start_time": "2024-10-09T16:53:23.150219",
     "status": "completed"
    },
    "tags": []
   },
   "source": [
    "**Redundant features**\n",
    "\n",
    "Some features (columns) appear to be redundant, specifically **`'id'`**, **`'CustomerId'`**, and **`'Surname'`**. We will exclude them from the analysis, as there is no reason to believe that these arbitrary unique identifiers have any relevance to the target variable (note that we are working with cross-sectional data, where there is no inherent order among rows). A similar principle applies to **`'Surname'`**; it is likely best to exclude this arbitrary variable as well."
   ]
  },
  {
   "cell_type": "code",
   "execution_count": 3,
   "id": "975fc907",
   "metadata": {
    "execution": {
     "iopub.execute_input": "2024-10-09T16:53:23.221895Z",
     "iopub.status.busy": "2024-10-09T16:53:23.220985Z",
     "iopub.status.idle": "2024-10-09T16:53:23.229358Z",
     "shell.execute_reply": "2024-10-09T16:53:23.228497Z"
    },
    "papermill": {
     "duration": 0.035168,
     "end_time": "2024-10-09T16:53:23.231748",
     "exception": false,
     "start_time": "2024-10-09T16:53:23.196580",
     "status": "completed"
    },
    "tags": []
   },
   "outputs": [],
   "source": [
    "train.drop(columns=['id', 'CustomerId', 'Surname'], inplace=True)"
   ]
  },
  {
   "cell_type": "markdown",
   "id": "c791feb1",
   "metadata": {
    "papermill": {
     "duration": 0.023506,
     "end_time": "2024-10-09T16:53:23.281007",
     "exception": false,
     "start_time": "2024-10-09T16:53:23.257501",
     "status": "completed"
    },
    "tags": []
   },
   "source": [
    "**Basic formal issues**"
   ]
  },
  {
   "cell_type": "code",
   "execution_count": 4,
   "id": "8b8fb44d",
   "metadata": {
    "execution": {
     "iopub.execute_input": "2024-10-09T16:53:23.329061Z",
     "iopub.status.busy": "2024-10-09T16:53:23.328684Z",
     "iopub.status.idle": "2024-10-09T16:53:23.350389Z",
     "shell.execute_reply": "2024-10-09T16:53:23.348973Z"
    },
    "papermill": {
     "duration": 0.048166,
     "end_time": "2024-10-09T16:53:23.352441",
     "exception": false,
     "start_time": "2024-10-09T16:53:23.304275",
     "status": "completed"
    },
    "tags": []
   },
   "outputs": [
    {
     "name": "stdout",
     "output_type": "stream",
     "text": [
      "Number of rows: 15000\n",
      "Number of columns: 11\n",
      "Data types: {dtype('float64'), dtype('O')}\n",
      "Missing values: False\n",
      "Duplicates: 0\n"
     ]
    }
   ],
   "source": [
    "print(f'Number of rows: {train.shape[0]}')\n",
    "print(f'Number of columns: {train.shape[1]}')\n",
    "print(f'Data types: {set(train.dtypes.values)}')\n",
    "print(f'Missing values: {train.isnull().values.any()}')\n",
    "print(f\"Duplicates: {train.duplicated().sum()}\")"
   ]
  },
  {
   "cell_type": "markdown",
   "id": "787c55ac",
   "metadata": {
    "papermill": {
     "duration": 0.0233,
     "end_time": "2024-10-09T16:53:23.399350",
     "exception": false,
     "start_time": "2024-10-09T16:53:23.376050",
     "status": "completed"
    },
    "tags": []
   },
   "source": [
    "The training data has no missing values or duplicates. However, if any NULL values (np.NAN) were present, we would need to decide how to address them. Common solutions include dropping rows with NULL values, removing entire columns if most of their values are NULL, or applying an imputation method. In the case of duplicates, when genuine duplicates are detected, only the first occurrence is typically kept."
   ]
  },
  {
   "cell_type": "markdown",
   "id": "b9772583",
   "metadata": {
    "papermill": {
     "duration": 0.022742,
     "end_time": "2024-10-09T16:53:23.445122",
     "exception": false,
     "start_time": "2024-10-09T16:53:23.422380",
     "status": "completed"
    },
    "tags": []
   },
   "source": [
    "**Meaningful outlook on training dataset**\n",
    "\n",
    "Quick Reminder:\n",
    "* **Nominal Variable**: Categorical data without an inherent order (e.g., color, gender).\n",
    "* **Ordinal Variable**: Categorical data with a meaningful order or ranking (e.g., education level, satisfaction ratings).\n",
    "* **Continuous Variable**: Numeric data that can take any value within a range and is measured on a continuous scale (e.g., height, temperature)."
   ]
  },
  {
   "cell_type": "code",
   "execution_count": 5,
   "id": "f749433c",
   "metadata": {
    "execution": {
     "iopub.execute_input": "2024-10-09T16:53:23.493598Z",
     "iopub.status.busy": "2024-10-09T16:53:23.492776Z",
     "iopub.status.idle": "2024-10-09T16:53:23.513350Z",
     "shell.execute_reply": "2024-10-09T16:53:23.512340Z"
    },
    "papermill": {
     "duration": 0.047598,
     "end_time": "2024-10-09T16:53:23.515741",
     "exception": false,
     "start_time": "2024-10-09T16:53:23.468143",
     "status": "completed"
    },
    "tags": []
   },
   "outputs": [
    {
     "data": {
      "text/html": [
       "<div>\n",
       "<style scoped>\n",
       "    .dataframe tbody tr th:only-of-type {\n",
       "        vertical-align: middle;\n",
       "    }\n",
       "\n",
       "    .dataframe tbody tr th {\n",
       "        vertical-align: top;\n",
       "    }\n",
       "\n",
       "    .dataframe thead th {\n",
       "        text-align: right;\n",
       "    }\n",
       "</style>\n",
       "<table border=\"1\" class=\"dataframe\">\n",
       "  <thead>\n",
       "    <tr style=\"text-align: right;\">\n",
       "      <th></th>\n",
       "      <th>CreditScore</th>\n",
       "      <th>Geography</th>\n",
       "      <th>Gender</th>\n",
       "      <th>Age</th>\n",
       "      <th>Tenure</th>\n",
       "      <th>Balance</th>\n",
       "      <th>NumOfProducts</th>\n",
       "      <th>HasCrCard</th>\n",
       "      <th>IsActiveMember</th>\n",
       "      <th>EstimatedSalary</th>\n",
       "      <th>Exited</th>\n",
       "    </tr>\n",
       "  </thead>\n",
       "  <tbody>\n",
       "    <tr>\n",
       "      <th>12782</th>\n",
       "      <td>675.0</td>\n",
       "      <td>Germany</td>\n",
       "      <td>Male</td>\n",
       "      <td>48.0</td>\n",
       "      <td>0.0</td>\n",
       "      <td>105163.88</td>\n",
       "      <td>1.0</td>\n",
       "      <td>1.0</td>\n",
       "      <td>1.0</td>\n",
       "      <td>129964.94</td>\n",
       "      <td>0.0</td>\n",
       "    </tr>\n",
       "    <tr>\n",
       "      <th>11187</th>\n",
       "      <td>727.0</td>\n",
       "      <td>France</td>\n",
       "      <td>Female</td>\n",
       "      <td>35.0</td>\n",
       "      <td>2.0</td>\n",
       "      <td>96196.24</td>\n",
       "      <td>1.0</td>\n",
       "      <td>0.0</td>\n",
       "      <td>0.0</td>\n",
       "      <td>126013.58</td>\n",
       "      <td>0.0</td>\n",
       "    </tr>\n",
       "    <tr>\n",
       "      <th>7013</th>\n",
       "      <td>611.0</td>\n",
       "      <td>Spain</td>\n",
       "      <td>Male</td>\n",
       "      <td>34.0</td>\n",
       "      <td>5.0</td>\n",
       "      <td>0.00</td>\n",
       "      <td>1.0</td>\n",
       "      <td>1.0</td>\n",
       "      <td>0.0</td>\n",
       "      <td>46857.52</td>\n",
       "      <td>0.0</td>\n",
       "    </tr>\n",
       "  </tbody>\n",
       "</table>\n",
       "</div>"
      ],
      "text/plain": [
       "       CreditScore Geography  Gender   Age  Tenure    Balance  NumOfProducts  \\\n",
       "12782        675.0   Germany    Male  48.0     0.0  105163.88            1.0   \n",
       "11187        727.0    France  Female  35.0     2.0   96196.24            1.0   \n",
       "7013         611.0     Spain    Male  34.0     5.0       0.00            1.0   \n",
       "\n",
       "       HasCrCard  IsActiveMember  EstimatedSalary  Exited  \n",
       "12782        1.0             1.0        129964.94     0.0  \n",
       "11187        0.0             0.0        126013.58     0.0  \n",
       "7013         1.0             0.0         46857.52     0.0  "
      ]
     },
     "execution_count": 5,
     "metadata": {},
     "output_type": "execute_result"
    }
   ],
   "source": [
    "train.sample(3)"
   ]
  },
  {
   "cell_type": "markdown",
   "id": "b3b2351c",
   "metadata": {
    "papermill": {
     "duration": 0.023105,
     "end_time": "2024-10-09T16:53:23.564419",
     "exception": false,
     "start_time": "2024-10-09T16:53:23.541314",
     "status": "completed"
    },
    "tags": []
   },
   "source": [
    "The immediate goals when examining the training data are, on one hand, to identify the types of features present (nominal, ordinal, or continuous) and, on the other hand, to examine the target distribution, particularly to assess whether it is imbalanced. As you might suspect, there are some reasons for this.  Let’s closely examine both aspects, starting with the issue of target distribution."
   ]
  },
  {
   "cell_type": "markdown",
   "id": "69fbcdb8",
   "metadata": {
    "papermill": {
     "duration": 0.024073,
     "end_time": "2024-10-09T16:53:23.612714",
     "exception": false,
     "start_time": "2024-10-09T16:53:23.588641",
     "status": "completed"
    },
    "tags": []
   },
   "source": [
    "### Target distribution"
   ]
  },
  {
   "cell_type": "code",
   "execution_count": 6,
   "id": "7b9366e0",
   "metadata": {
    "execution": {
     "iopub.execute_input": "2024-10-09T16:53:23.661679Z",
     "iopub.status.busy": "2024-10-09T16:53:23.661279Z",
     "iopub.status.idle": "2024-10-09T16:53:23.673056Z",
     "shell.execute_reply": "2024-10-09T16:53:23.672002Z"
    },
    "papermill": {
     "duration": 0.038565,
     "end_time": "2024-10-09T16:53:23.675224",
     "exception": false,
     "start_time": "2024-10-09T16:53:23.636659",
     "status": "completed"
    },
    "tags": []
   },
   "outputs": [
    {
     "data": {
      "text/plain": [
       "Exited\n",
       "0.0    0.7952\n",
       "1.0    0.2048\n",
       "Name: proportion, dtype: float64"
      ]
     },
     "execution_count": 6,
     "metadata": {},
     "output_type": "execute_result"
    }
   ],
   "source": [
    "train.Exited.value_counts(normalize=True)"
   ]
  },
  {
   "cell_type": "markdown",
   "id": "d2fc9683",
   "metadata": {
    "papermill": {
     "duration": 0.023297,
     "end_time": "2024-10-09T16:53:23.766680",
     "exception": false,
     "start_time": "2024-10-09T16:53:23.743383",
     "status": "completed"
    },
    "tags": []
   },
   "source": [
    "The magnitude of this imbalance requires careful consideration. Ignoring a significant imbalance in the target variable can lead to a model biased toward the majority class, poor detection of the minority class, and misleading performance metrics.\n",
    "\n",
    "One approach to address this imbalance is **oversampling**, such as generating synthetic examples for the minority class using SMOTE (Synthetic Minority Over-sampling Technique). This method can be effective when class instances are particularly rare. Alternatively, **undersampling** involves randomly removing instances from the majority class to balance the dataset. This approach works well when there is an abundance of data. In some cases, a combination of both strategies may be necessary. These approaches are known as **Resampling**.\n",
    "\n",
    "However, we prefer a solution that retains all original data and avoids synthetic samples, given our sample size and target distribution. A suitable alternative is to use a scikit-learn classifier with a class_weight parameter. By setting `class_weight='balanced'`, the algorithm automatically adjusts class weights inversely proportional to class frequencies. This allows the model to handle the imbalance naturally while keeping things simple and effective."
   ]
  },
  {
   "cell_type": "markdown",
   "id": "955b7e7b",
   "metadata": {
    "papermill": {
     "duration": 0.023258,
     "end_time": "2024-10-09T16:53:23.813651",
     "exception": false,
     "start_time": "2024-10-09T16:53:23.790393",
     "status": "completed"
    },
    "tags": []
   },
   "source": [
    "### Features\n",
    "Different types of features require different procedures (such as statistical tests, correlation coefficients, and preprocessing techniques, etc). To appropriately handle each variable, we first need to identify and categorize its type. Specifically, the variable can be classified as nominal, ordinal, or continuous. In some cases, the choice between treating a variable as ordinal or continuous may not be clear-cut. In such situations, relying on your intuition or experience, or conducting further investigation, is advisable.\n",
    "\n",
    "In this notebook, we will adopt a **convention** to identify whether a feature is nominal, ordinal, or continuous based on its data type. Specifically, we will:\n",
    "* Indicate **nominal** features with the **object** dtype,\n",
    "* Indicate **ordinal** features with the **int** dtype,\n",
    "* Indicate **continuous** features with the **float** dtype.\n",
    "\n",
    "To facilitate this analysis, a dataframe named ***`features_info`*** is created. This dataframe provides basic metadata about our variables (columns), including data type 'dtype' and the number of unique values 'nunique'."
   ]
  },
  {
   "cell_type": "code",
   "execution_count": 7,
   "id": "cecaec82",
   "metadata": {
    "execution": {
     "iopub.execute_input": "2024-10-09T16:53:23.861916Z",
     "iopub.status.busy": "2024-10-09T16:53:23.861585Z",
     "iopub.status.idle": "2024-10-09T16:53:23.883883Z",
     "shell.execute_reply": "2024-10-09T16:53:23.883006Z"
    },
    "papermill": {
     "duration": 0.048925,
     "end_time": "2024-10-09T16:53:23.885983",
     "exception": false,
     "start_time": "2024-10-09T16:53:23.837058",
     "status": "completed"
    },
    "tags": []
   },
   "outputs": [
    {
     "data": {
      "text/html": [
       "<div>\n",
       "<style scoped>\n",
       "    .dataframe tbody tr th:only-of-type {\n",
       "        vertical-align: middle;\n",
       "    }\n",
       "\n",
       "    .dataframe tbody tr th {\n",
       "        vertical-align: top;\n",
       "    }\n",
       "\n",
       "    .dataframe thead th {\n",
       "        text-align: right;\n",
       "    }\n",
       "</style>\n",
       "<table border=\"1\" class=\"dataframe\">\n",
       "  <thead>\n",
       "    <tr style=\"text-align: right;\">\n",
       "      <th></th>\n",
       "      <th>dtype</th>\n",
       "      <th>nunique_vals</th>\n",
       "    </tr>\n",
       "    <tr>\n",
       "      <th>feature</th>\n",
       "      <th></th>\n",
       "      <th></th>\n",
       "    </tr>\n",
       "  </thead>\n",
       "  <tbody>\n",
       "    <tr>\n",
       "      <th>EstimatedSalary</th>\n",
       "      <td>float64</td>\n",
       "      <td>6211</td>\n",
       "    </tr>\n",
       "    <tr>\n",
       "      <th>Balance</th>\n",
       "      <td>float64</td>\n",
       "      <td>3412</td>\n",
       "    </tr>\n",
       "    <tr>\n",
       "      <th>CreditScore</th>\n",
       "      <td>float64</td>\n",
       "      <td>372</td>\n",
       "    </tr>\n",
       "    <tr>\n",
       "      <th>Age</th>\n",
       "      <td>float64</td>\n",
       "      <td>55</td>\n",
       "    </tr>\n",
       "    <tr>\n",
       "      <th>Tenure</th>\n",
       "      <td>float64</td>\n",
       "      <td>11</td>\n",
       "    </tr>\n",
       "    <tr>\n",
       "      <th>NumOfProducts</th>\n",
       "      <td>float64</td>\n",
       "      <td>4</td>\n",
       "    </tr>\n",
       "    <tr>\n",
       "      <th>Geography</th>\n",
       "      <td>object</td>\n",
       "      <td>3</td>\n",
       "    </tr>\n",
       "    <tr>\n",
       "      <th>Gender</th>\n",
       "      <td>object</td>\n",
       "      <td>2</td>\n",
       "    </tr>\n",
       "    <tr>\n",
       "      <th>HasCrCard</th>\n",
       "      <td>float64</td>\n",
       "      <td>2</td>\n",
       "    </tr>\n",
       "    <tr>\n",
       "      <th>IsActiveMember</th>\n",
       "      <td>float64</td>\n",
       "      <td>2</td>\n",
       "    </tr>\n",
       "  </tbody>\n",
       "</table>\n",
       "</div>"
      ],
      "text/plain": [
       "                   dtype  nunique_vals\n",
       "feature                               \n",
       "EstimatedSalary  float64          6211\n",
       "Balance          float64          3412\n",
       "CreditScore      float64           372\n",
       "Age              float64            55\n",
       "Tenure           float64            11\n",
       "NumOfProducts    float64             4\n",
       "Geography         object             3\n",
       "Gender            object             2\n",
       "HasCrCard        float64             2\n",
       "IsActiveMember   float64             2"
      ]
     },
     "execution_count": 7,
     "metadata": {},
     "output_type": "execute_result"
    }
   ],
   "source": [
    "def columns_info(df):\n",
    "    # features' basic metadata for a given df\n",
    "    feature_info = {\n",
    "        'feature': df.columns,\n",
    "        'dtype': [df[col].dtype for col in df.columns],\n",
    "        'nunique_vals': [df[col].nunique() for col in df.columns]}\n",
    "    features_df = pd.DataFrame(feature_info)\n",
    "    features_df.set_index('feature', inplace=True)\n",
    "    features_df.sort_values(by='nunique_vals', ascending=False, inplace=True)\n",
    "    return features_df\n",
    "\n",
    "features_info = columns_info(train.drop(columns=['Exited']))\n",
    "features_info"
   ]
  },
  {
   "cell_type": "markdown",
   "id": "7e14d652",
   "metadata": {
    "papermill": {
     "duration": 0.02407,
     "end_time": "2024-10-09T16:53:23.933901",
     "exception": false,
     "start_time": "2024-10-09T16:53:23.909831",
     "status": "completed"
    },
    "tags": []
   },
   "source": [
    "**Nominal features**\n",
    "\n",
    "By definition, binary features are essentially nominal features. Another feature identified as nominal is **`'Geography'`**. "
   ]
  },
  {
   "cell_type": "code",
   "execution_count": 8,
   "id": "1d0d7882",
   "metadata": {
    "execution": {
     "iopub.execute_input": "2024-10-09T16:53:23.984339Z",
     "iopub.status.busy": "2024-10-09T16:53:23.983715Z",
     "iopub.status.idle": "2024-10-09T16:53:24.017062Z",
     "shell.execute_reply": "2024-10-09T16:53:24.016215Z"
    },
    "papermill": {
     "duration": 0.061412,
     "end_time": "2024-10-09T16:53:24.019373",
     "exception": false,
     "start_time": "2024-10-09T16:53:23.957961",
     "status": "completed"
    },
    "tags": []
   },
   "outputs": [],
   "source": [
    "for col in train.drop(columns='Exited').columns:\n",
    "    if train[col].nunique() < 4:\n",
    "        train[col] = train[col].astype(str)"
   ]
  },
  {
   "cell_type": "markdown",
   "id": "702703af",
   "metadata": {
    "papermill": {
     "duration": 0.023742,
     "end_time": "2024-10-09T16:53:24.067923",
     "exception": false,
     "start_time": "2024-10-09T16:53:24.044181",
     "status": "completed"
    },
    "tags": []
   },
   "source": [
    "**Ordinal features**\n",
    "\n",
    "Features **`'NumOfProducts'`** and **`'Tenure'`** are inferred to be ordinal."
   ]
  },
  {
   "cell_type": "code",
   "execution_count": 9,
   "id": "875a6841",
   "metadata": {
    "execution": {
     "iopub.execute_input": "2024-10-09T16:53:24.116987Z",
     "iopub.status.busy": "2024-10-09T16:53:24.116583Z",
     "iopub.status.idle": "2024-10-09T16:53:24.122748Z",
     "shell.execute_reply": "2024-10-09T16:53:24.121913Z"
    },
    "papermill": {
     "duration": 0.033199,
     "end_time": "2024-10-09T16:53:24.124843",
     "exception": false,
     "start_time": "2024-10-09T16:53:24.091644",
     "status": "completed"
    },
    "tags": []
   },
   "outputs": [],
   "source": [
    "train.NumOfProducts = train.NumOfProducts.astype(int)\n",
    "train.Tenure = train.Tenure.astype(int)"
   ]
  },
  {
   "cell_type": "markdown",
   "id": "6809ccbe",
   "metadata": {
    "papermill": {
     "duration": 0.023592,
     "end_time": "2024-10-09T16:53:24.172380",
     "exception": false,
     "start_time": "2024-10-09T16:53:24.148788",
     "status": "completed"
    },
    "tags": []
   },
   "source": [
    "**Continous features**\n",
    "\n",
    "The remaining features are assumed to be continuous, and these variables are indicated by the dtype 'float'."
   ]
  },
  {
   "cell_type": "code",
   "execution_count": 10,
   "id": "74ea0e1d",
   "metadata": {
    "execution": {
     "iopub.execute_input": "2024-10-09T16:53:24.221103Z",
     "iopub.status.busy": "2024-10-09T16:53:24.220377Z",
     "iopub.status.idle": "2024-10-09T16:53:24.241350Z",
     "shell.execute_reply": "2024-10-09T16:53:24.240423Z"
    },
    "papermill": {
     "duration": 0.047377,
     "end_time": "2024-10-09T16:53:24.243245",
     "exception": false,
     "start_time": "2024-10-09T16:53:24.195868",
     "status": "completed"
    },
    "tags": []
   },
   "outputs": [
    {
     "data": {
      "text/html": [
       "<div>\n",
       "<style scoped>\n",
       "    .dataframe tbody tr th:only-of-type {\n",
       "        vertical-align: middle;\n",
       "    }\n",
       "\n",
       "    .dataframe tbody tr th {\n",
       "        vertical-align: top;\n",
       "    }\n",
       "\n",
       "    .dataframe thead th {\n",
       "        text-align: right;\n",
       "    }\n",
       "</style>\n",
       "<table border=\"1\" class=\"dataframe\">\n",
       "  <thead>\n",
       "    <tr style=\"text-align: right;\">\n",
       "      <th></th>\n",
       "      <th>dtype</th>\n",
       "      <th>nunique_vals</th>\n",
       "    </tr>\n",
       "    <tr>\n",
       "      <th>feature</th>\n",
       "      <th></th>\n",
       "      <th></th>\n",
       "    </tr>\n",
       "  </thead>\n",
       "  <tbody>\n",
       "    <tr>\n",
       "      <th>EstimatedSalary</th>\n",
       "      <td>float64</td>\n",
       "      <td>6211</td>\n",
       "    </tr>\n",
       "    <tr>\n",
       "      <th>Balance</th>\n",
       "      <td>float64</td>\n",
       "      <td>3412</td>\n",
       "    </tr>\n",
       "    <tr>\n",
       "      <th>CreditScore</th>\n",
       "      <td>float64</td>\n",
       "      <td>372</td>\n",
       "    </tr>\n",
       "    <tr>\n",
       "      <th>Age</th>\n",
       "      <td>float64</td>\n",
       "      <td>55</td>\n",
       "    </tr>\n",
       "    <tr>\n",
       "      <th>Tenure</th>\n",
       "      <td>int64</td>\n",
       "      <td>11</td>\n",
       "    </tr>\n",
       "    <tr>\n",
       "      <th>NumOfProducts</th>\n",
       "      <td>int64</td>\n",
       "      <td>4</td>\n",
       "    </tr>\n",
       "    <tr>\n",
       "      <th>Geography</th>\n",
       "      <td>object</td>\n",
       "      <td>3</td>\n",
       "    </tr>\n",
       "    <tr>\n",
       "      <th>Gender</th>\n",
       "      <td>object</td>\n",
       "      <td>2</td>\n",
       "    </tr>\n",
       "    <tr>\n",
       "      <th>HasCrCard</th>\n",
       "      <td>object</td>\n",
       "      <td>2</td>\n",
       "    </tr>\n",
       "    <tr>\n",
       "      <th>IsActiveMember</th>\n",
       "      <td>object</td>\n",
       "      <td>2</td>\n",
       "    </tr>\n",
       "  </tbody>\n",
       "</table>\n",
       "</div>"
      ],
      "text/plain": [
       "                   dtype  nunique_vals\n",
       "feature                               \n",
       "EstimatedSalary  float64          6211\n",
       "Balance          float64          3412\n",
       "CreditScore      float64           372\n",
       "Age              float64            55\n",
       "Tenure             int64            11\n",
       "NumOfProducts      int64             4\n",
       "Geography         object             3\n",
       "Gender            object             2\n",
       "HasCrCard         object             2\n",
       "IsActiveMember    object             2"
      ]
     },
     "execution_count": 10,
     "metadata": {},
     "output_type": "execute_result"
    }
   ],
   "source": [
    "features_info = columns_info(train.drop(columns=['Exited']))\n",
    "features_info"
   ]
  },
  {
   "cell_type": "markdown",
   "id": "9f61e1ba",
   "metadata": {
    "papermill": {
     "duration": 0.024361,
     "end_time": "2024-10-09T16:53:24.291990",
     "exception": false,
     "start_time": "2024-10-09T16:53:24.267629",
     "status": "completed"
    },
    "tags": []
   },
   "source": [
    "## Exploratory Data Analysis"
   ]
  },
  {
   "cell_type": "code",
   "execution_count": 11,
   "id": "35bac455",
   "metadata": {
    "execution": {
     "iopub.execute_input": "2024-10-09T16:53:24.341350Z",
     "iopub.status.busy": "2024-10-09T16:53:24.341013Z",
     "iopub.status.idle": "2024-10-09T16:53:25.793726Z",
     "shell.execute_reply": "2024-10-09T16:53:25.792954Z"
    },
    "papermill": {
     "duration": 1.480042,
     "end_time": "2024-10-09T16:53:25.795970",
     "exception": false,
     "start_time": "2024-10-09T16:53:24.315928",
     "status": "completed"
    },
    "tags": []
   },
   "outputs": [],
   "source": [
    "import matplotlib.pyplot as plt\n",
    "import seaborn as sns\n",
    "plt.style.use('fivethirtyeight')\n",
    "%matplotlib inline"
   ]
  },
  {
   "cell_type": "markdown",
   "id": "ecef3ef9",
   "metadata": {
    "papermill": {
     "duration": 0.023975,
     "end_time": "2024-10-09T16:53:25.844508",
     "exception": false,
     "start_time": "2024-10-09T16:53:25.820533",
     "status": "completed"
    },
    "tags": []
   },
   "source": [
    "To enhance exploratory data analysis (EDA) for categorical features, the function `categorical_eda()` is defined. This function generates two plots for a given categorical variable:\n",
    "* **Countplot**: This plot shows the distribution of the variable and helps verify that each unique value has a sufficient frequency for meaningful statistical analysis.\n",
    "* **Barplot**: This plot compares the mean of the target variable for each unique value of the feature. A red horizontal line represents the overall target mean. Values below this line indicate that the target is more frequently 0 for that particular unique value, while values above the line suggest that the target is more frequently 1."
   ]
  },
  {
   "cell_type": "code",
   "execution_count": 12,
   "id": "ef201c02",
   "metadata": {
    "execution": {
     "iopub.execute_input": "2024-10-09T16:53:25.895251Z",
     "iopub.status.busy": "2024-10-09T16:53:25.894693Z",
     "iopub.status.idle": "2024-10-09T16:53:25.904391Z",
     "shell.execute_reply": "2024-10-09T16:53:25.903507Z"
    },
    "papermill": {
     "duration": 0.037788,
     "end_time": "2024-10-09T16:53:25.906257",
     "exception": false,
     "start_time": "2024-10-09T16:53:25.868469",
     "status": "completed"
    },
    "tags": []
   },
   "outputs": [],
   "source": [
    "def categorical_eda(feature):\n",
    "    # generates figure facilitating EDA for a categorical feature \n",
    "    fig, axes = plt.subplots(1, 2, figsize=(10 * 0.8, 3 * 0.8))\n",
    "    \n",
    "    # countplot\n",
    "    sns.countplot(data=train, x=feature, ax=axes[0])\n",
    "    axes[0].set_title('Countplot', fontsize=11)\n",
    "    axes[0].tick_params(axis='y', labelsize=9)\n",
    "    axes[0].tick_params(axis='x', labelsize=9)\n",
    "    axes[0].set_xlabel(xlabel=feature, fontsize=10)\n",
    "    axes[0].set_ylabel(ylabel='Count', fontsize=10)\n",
    "\n",
    "    # barplot\n",
    "    sns.barplot(data=train, x=feature, y='Exited', ax=axes[1])\n",
    "    axes[1].axhline(y=train.Exited.mean(), color='red', linestyle='-', label='global mean')\n",
    "    axes[1].legend(loc='upper left', fontsize=8.2)\n",
    "    axes[1].set_title('Target vs feature', fontsize=11)\n",
    "    axes[1].tick_params(axis='y', labelsize=9)\n",
    "    axes[1].tick_params(axis='x', labelsize=9)\n",
    "    axes[1].set_xlabel(xlabel=feature, fontsize=10)\n",
    "    axes[1].set_ylabel(ylabel='target_mean', fontsize=10)\n",
    "    \n",
    "    plt.tight_layout()\n",
    "    plt.show()"
   ]
  },
  {
   "cell_type": "markdown",
   "id": "0709f26b",
   "metadata": {
    "papermill": {
     "duration": 0.023696,
     "end_time": "2024-10-09T16:53:25.953788",
     "exception": false,
     "start_time": "2024-10-09T16:53:25.930092",
     "status": "completed"
    },
    "tags": []
   },
   "source": [
    "### Nominal features\n",
    "Here we apply `categorical_eda()` to each nominal variable one by one and inspect the results visually."
   ]
  },
  {
   "cell_type": "code",
   "execution_count": 13,
   "id": "1ff09de8",
   "metadata": {
    "execution": {
     "iopub.execute_input": "2024-10-09T16:53:26.002854Z",
     "iopub.status.busy": "2024-10-09T16:53:26.002469Z",
     "iopub.status.idle": "2024-10-09T16:53:26.012599Z",
     "shell.execute_reply": "2024-10-09T16:53:26.011779Z"
    },
    "papermill": {
     "duration": 0.03694,
     "end_time": "2024-10-09T16:53:26.014413",
     "exception": false,
     "start_time": "2024-10-09T16:53:25.977473",
     "status": "completed"
    },
    "tags": []
   },
   "outputs": [
    {
     "data": {
      "text/html": [
       "<div>\n",
       "<style scoped>\n",
       "    .dataframe tbody tr th:only-of-type {\n",
       "        vertical-align: middle;\n",
       "    }\n",
       "\n",
       "    .dataframe tbody tr th {\n",
       "        vertical-align: top;\n",
       "    }\n",
       "\n",
       "    .dataframe thead th {\n",
       "        text-align: right;\n",
       "    }\n",
       "</style>\n",
       "<table border=\"1\" class=\"dataframe\">\n",
       "  <thead>\n",
       "    <tr style=\"text-align: right;\">\n",
       "      <th></th>\n",
       "      <th>dtype</th>\n",
       "      <th>nunique_vals</th>\n",
       "    </tr>\n",
       "    <tr>\n",
       "      <th>feature</th>\n",
       "      <th></th>\n",
       "      <th></th>\n",
       "    </tr>\n",
       "  </thead>\n",
       "  <tbody>\n",
       "    <tr>\n",
       "      <th>Geography</th>\n",
       "      <td>object</td>\n",
       "      <td>3</td>\n",
       "    </tr>\n",
       "    <tr>\n",
       "      <th>Gender</th>\n",
       "      <td>object</td>\n",
       "      <td>2</td>\n",
       "    </tr>\n",
       "    <tr>\n",
       "      <th>HasCrCard</th>\n",
       "      <td>object</td>\n",
       "      <td>2</td>\n",
       "    </tr>\n",
       "    <tr>\n",
       "      <th>IsActiveMember</th>\n",
       "      <td>object</td>\n",
       "      <td>2</td>\n",
       "    </tr>\n",
       "  </tbody>\n",
       "</table>\n",
       "</div>"
      ],
      "text/plain": [
       "                 dtype  nunique_vals\n",
       "feature                             \n",
       "Geography       object             3\n",
       "Gender          object             2\n",
       "HasCrCard       object             2\n",
       "IsActiveMember  object             2"
      ]
     },
     "execution_count": 13,
     "metadata": {},
     "output_type": "execute_result"
    }
   ],
   "source": [
    "# nominal features are indicated by 'object' dtype\n",
    "features_info[features_info.dtype=='object']"
   ]
  },
  {
   "cell_type": "markdown",
   "id": "84fffb54",
   "metadata": {
    "papermill": {
     "duration": 0.024054,
     "end_time": "2024-10-09T16:53:26.063430",
     "exception": false,
     "start_time": "2024-10-09T16:53:26.039376",
     "status": "completed"
    },
    "tags": []
   },
   "source": [
    "**`'Geography'`**\n",
    "\n",
    "The countplot indicates no frequency issues with this variable, as each country is represented by more than 2,000 instances. The barplot suggests that German customers are more likely to churn."
   ]
  },
  {
   "cell_type": "code",
   "execution_count": 14,
   "id": "94c6ee38",
   "metadata": {
    "execution": {
     "iopub.execute_input": "2024-10-09T16:53:26.113481Z",
     "iopub.status.busy": "2024-10-09T16:53:26.113111Z",
     "iopub.status.idle": "2024-10-09T16:53:26.661600Z",
     "shell.execute_reply": "2024-10-09T16:53:26.660602Z"
    },
    "papermill": {
     "duration": 0.575973,
     "end_time": "2024-10-09T16:53:26.663694",
     "exception": false,
     "start_time": "2024-10-09T16:53:26.087721",
     "status": "completed"
    },
    "tags": []
   },
   "outputs": [
    {
     "data": {
      "image/png": "[encoded data removed]",
      "text/plain": [
       "<Figure size 800x240 with 2 Axes>"
      ]
     },
     "metadata": {},
     "output_type": "display_data"
    }
   ],
   "source": [
    "categorical_eda('Geography')"
   ]
  },
  {
   "cell_type": "markdown",
   "id": "533825a3",
   "metadata": {
    "papermill": {
     "duration": 0.024558,
     "end_time": "2024-10-09T16:53:26.713446",
     "exception": false,
     "start_time": "2024-10-09T16:53:26.688888",
     "status": "completed"
    },
    "tags": []
   },
   "source": [
    "**`'Gender'`**\n",
    "\n",
    "The training data suggests that females are more likely to churn than males."
   ]
  },
  {
   "cell_type": "code",
   "execution_count": 15,
   "id": "2456cd0b",
   "metadata": {
    "execution": {
     "iopub.execute_input": "2024-10-09T16:53:26.766092Z",
     "iopub.status.busy": "2024-10-09T16:53:26.765130Z",
     "iopub.status.idle": "2024-10-09T16:53:27.218915Z",
     "shell.execute_reply": "2024-10-09T16:53:27.218003Z"
    },
    "papermill": {
     "duration": 0.481531,
     "end_time": "2024-10-09T16:53:27.220992",
     "exception": false,
     "start_time": "2024-10-09T16:53:26.739461",
     "status": "completed"
    },
    "tags": []
   },
   "outputs": [
    {
     "data": {
      "image/png": "[encoded data removed]",
      "text/plain": [
       "<Figure size 800x240 with 2 Axes>"
      ]
     },
     "metadata": {},
     "output_type": "display_data"
    }
   ],
   "source": [
    "categorical_eda('Gender')"
   ]
  },
  {
   "cell_type": "markdown",
   "id": "6597ed50",
   "metadata": {
    "papermill": {
     "duration": 0.02648,
     "end_time": "2024-10-09T16:53:27.272755",
     "exception": false,
     "start_time": "2024-10-09T16:53:27.246275",
     "status": "completed"
    },
    "tags": []
   },
   "source": [
    "**`'HasCrCard'`**\n",
    "\n",
    "At this point, there is nothing conclusive to say about this variable, except that it does not exhibit any frequency issues according to the plots."
   ]
  },
  {
   "cell_type": "code",
   "execution_count": 16,
   "id": "d9291200",
   "metadata": {
    "execution": {
     "iopub.execute_input": "2024-10-09T16:53:27.325197Z",
     "iopub.status.busy": "2024-10-09T16:53:27.324852Z",
     "iopub.status.idle": "2024-10-09T16:53:27.795737Z",
     "shell.execute_reply": "2024-10-09T16:53:27.794878Z"
    },
    "papermill": {
     "duration": 0.499557,
     "end_time": "2024-10-09T16:53:27.797884",
     "exception": false,
     "start_time": "2024-10-09T16:53:27.298327",
     "status": "completed"
    },
    "tags": []
   },
   "outputs": [
    {
     "data": {
      "image/png": "[encoded data removed]",
      "text/plain": [
       "<Figure size 800x240 with 2 Axes>"
      ]
     },
     "metadata": {},
     "output_type": "display_data"
    }
   ],
   "source": [
    "categorical_eda('HasCrCard')"
   ]
  },
  {
   "cell_type": "markdown",
   "id": "f7e44fdb",
   "metadata": {
    "papermill": {
     "duration": 0.025451,
     "end_time": "2024-10-09T16:53:27.849629",
     "exception": false,
     "start_time": "2024-10-09T16:53:27.824178",
     "status": "completed"
    },
    "tags": []
   },
   "source": [
    "**`'IsActiveMember'`**\n",
    "\n",
    "Active members appear to churn less frequently."
   ]
  },
  {
   "cell_type": "code",
   "execution_count": 17,
   "id": "2b4ae5c5",
   "metadata": {
    "execution": {
     "iopub.execute_input": "2024-10-09T16:53:27.902984Z",
     "iopub.status.busy": "2024-10-09T16:53:27.902619Z",
     "iopub.status.idle": "2024-10-09T16:53:28.362332Z",
     "shell.execute_reply": "2024-10-09T16:53:28.361385Z"
    },
    "papermill": {
     "duration": 0.489419,
     "end_time": "2024-10-09T16:53:28.364533",
     "exception": false,
     "start_time": "2024-10-09T16:53:27.875114",
     "status": "completed"
    },
    "tags": []
   },
   "outputs": [
    {
     "data": {
      "image/png": "[encoded data removed]",
      "text/plain": [
       "<Figure size 800x240 with 2 Axes>"
      ]
     },
     "metadata": {},
     "output_type": "display_data"
    }
   ],
   "source": [
    "categorical_eda('IsActiveMember')"
   ]
  },
  {
   "cell_type": "markdown",
   "id": "1b0e48e8",
   "metadata": {
    "papermill": {
     "duration": 0.025459,
     "end_time": "2024-10-09T16:53:28.416226",
     "exception": false,
     "start_time": "2024-10-09T16:53:28.390767",
     "status": "completed"
    },
    "tags": []
   },
   "source": [
    "### Ordinal features"
   ]
  },
  {
   "cell_type": "code",
   "execution_count": 18,
   "id": "9892fbe2",
   "metadata": {
    "execution": {
     "iopub.execute_input": "2024-10-09T16:53:28.468715Z",
     "iopub.status.busy": "2024-10-09T16:53:28.468341Z",
     "iopub.status.idle": "2024-10-09T16:53:28.478228Z",
     "shell.execute_reply": "2024-10-09T16:53:28.477311Z"
    },
    "papermill": {
     "duration": 0.038512,
     "end_time": "2024-10-09T16:53:28.480252",
     "exception": false,
     "start_time": "2024-10-09T16:53:28.441740",
     "status": "completed"
    },
    "tags": []
   },
   "outputs": [
    {
     "data": {
      "text/html": [
       "<div>\n",
       "<style scoped>\n",
       "    .dataframe tbody tr th:only-of-type {\n",
       "        vertical-align: middle;\n",
       "    }\n",
       "\n",
       "    .dataframe tbody tr th {\n",
       "        vertical-align: top;\n",
       "    }\n",
       "\n",
       "    .dataframe thead th {\n",
       "        text-align: right;\n",
       "    }\n",
       "</style>\n",
       "<table border=\"1\" class=\"dataframe\">\n",
       "  <thead>\n",
       "    <tr style=\"text-align: right;\">\n",
       "      <th></th>\n",
       "      <th>dtype</th>\n",
       "      <th>nunique_vals</th>\n",
       "    </tr>\n",
       "    <tr>\n",
       "      <th>feature</th>\n",
       "      <th></th>\n",
       "      <th></th>\n",
       "    </tr>\n",
       "  </thead>\n",
       "  <tbody>\n",
       "    <tr>\n",
       "      <th>Tenure</th>\n",
       "      <td>int64</td>\n",
       "      <td>11</td>\n",
       "    </tr>\n",
       "    <tr>\n",
       "      <th>NumOfProducts</th>\n",
       "      <td>int64</td>\n",
       "      <td>4</td>\n",
       "    </tr>\n",
       "  </tbody>\n",
       "</table>\n",
       "</div>"
      ],
      "text/plain": [
       "               dtype  nunique_vals\n",
       "feature                           \n",
       "Tenure         int64            11\n",
       "NumOfProducts  int64             4"
      ]
     },
     "execution_count": 18,
     "metadata": {},
     "output_type": "execute_result"
    }
   ],
   "source": [
    "# ordinal features are indicated by 'int' dtype\n",
    "features_info[features_info.dtype=='int']"
   ]
  },
  {
   "cell_type": "markdown",
   "id": "666e59e1",
   "metadata": {
    "papermill": {
     "duration": 0.025764,
     "end_time": "2024-10-09T16:53:28.531744",
     "exception": false,
     "start_time": "2024-10-09T16:53:28.505980",
     "status": "completed"
    },
    "tags": []
   },
   "source": [
    "Let's visually inspect both ordinal variables."
   ]
  },
  {
   "cell_type": "markdown",
   "id": "26ec9239",
   "metadata": {
    "papermill": {
     "duration": 0.025572,
     "end_time": "2024-10-09T16:53:28.583061",
     "exception": false,
     "start_time": "2024-10-09T16:53:28.557489",
     "status": "completed"
    },
    "tags": []
   },
   "source": [
    "**`'Tenure'`**\n",
    "\n",
    "In this case, the countplot suggests that there are at least a few hundred instances for each category, which is sufficient."
   ]
  },
  {
   "cell_type": "code",
   "execution_count": 19,
   "id": "edd123eb",
   "metadata": {
    "execution": {
     "iopub.execute_input": "2024-10-09T16:53:28.636201Z",
     "iopub.status.busy": "2024-10-09T16:53:28.635519Z",
     "iopub.status.idle": "2024-10-09T16:53:29.585343Z",
     "shell.execute_reply": "2024-10-09T16:53:29.584444Z"
    },
    "papermill": {
     "duration": 0.979006,
     "end_time": "2024-10-09T16:53:29.587608",
     "exception": false,
     "start_time": "2024-10-09T16:53:28.608602",
     "status": "completed"
    },
    "tags": []
   },
   "outputs": [
    {
     "data": {
      "image/png": "[encoded data removed]",
      "text/plain": [
       "<Figure size 800x240 with 2 Axes>"
      ]
     },
     "metadata": {},
     "output_type": "display_data"
    }
   ],
   "source": [
    "categorical_eda('Tenure')"
   ]
  },
  {
   "cell_type": "markdown",
   "id": "1af8c2b8",
   "metadata": {
    "papermill": {
     "duration": 0.026203,
     "end_time": "2024-10-09T16:53:29.641108",
     "exception": false,
     "start_time": "2024-10-09T16:53:29.614905",
     "status": "completed"
    },
    "tags": []
   },
   "source": [
    "**`'NumOfProducts'`**\n",
    "\n",
    "It appears that once a customer has 3 or more of the bank's products, they are almost certain to churn. However, let's closely examine the **`value_counts()`** of this feature, as there may be a frequency-related issue here."
   ]
  },
  {
   "cell_type": "code",
   "execution_count": 20,
   "id": "3a91ff37",
   "metadata": {
    "execution": {
     "iopub.execute_input": "2024-10-09T16:53:29.695668Z",
     "iopub.status.busy": "2024-10-09T16:53:29.695301Z",
     "iopub.status.idle": "2024-10-09T16:53:30.316534Z",
     "shell.execute_reply": "2024-10-09T16:53:30.315621Z"
    },
    "papermill": {
     "duration": 0.651341,
     "end_time": "2024-10-09T16:53:30.318712",
     "exception": false,
     "start_time": "2024-10-09T16:53:29.667371",
     "status": "completed"
    },
    "tags": []
   },
   "outputs": [
    {
     "data": {
      "image/png": "[encoded data removed]",
      "text/plain": [
       "<Figure size 800x240 with 2 Axes>"
      ]
     },
     "metadata": {},
     "output_type": "display_data"
    }
   ],
   "source": [
    "categorical_eda('NumOfProducts')"
   ]
  },
  {
   "cell_type": "code",
   "execution_count": 21,
   "id": "772f94a4",
   "metadata": {
    "execution": {
     "iopub.execute_input": "2024-10-09T16:53:30.374368Z",
     "iopub.status.busy": "2024-10-09T16:53:30.374019Z",
     "iopub.status.idle": "2024-10-09T16:53:30.383476Z",
     "shell.execute_reply": "2024-10-09T16:53:30.382587Z"
    },
    "papermill": {
     "duration": 0.03936,
     "end_time": "2024-10-09T16:53:30.385422",
     "exception": false,
     "start_time": "2024-10-09T16:53:30.346062",
     "status": "completed"
    },
    "tags": []
   },
   "outputs": [
    {
     "data": {
      "text/plain": [
       "NumOfProducts\n",
       "2    8339\n",
       "1    6388\n",
       "3     256\n",
       "4      17\n",
       "Name: count, dtype: int64"
      ]
     },
     "execution_count": 21,
     "metadata": {},
     "output_type": "execute_result"
    }
   ],
   "source": [
    "train.NumOfProducts.value_counts()"
   ]
  },
  {
   "cell_type": "code",
   "execution_count": 22,
   "id": "d60a6e6b",
   "metadata": {
    "execution": {
     "iopub.execute_input": "2024-10-09T16:53:30.446740Z",
     "iopub.status.busy": "2024-10-09T16:53:30.445948Z",
     "iopub.status.idle": "2024-10-09T16:53:30.477341Z",
     "shell.execute_reply": "2024-10-09T16:53:30.476269Z"
    },
    "papermill": {
     "duration": 0.064775,
     "end_time": "2024-10-09T16:53:30.479603",
     "exception": false,
     "start_time": "2024-10-09T16:53:30.414828",
     "status": "completed"
    },
    "tags": []
   },
   "outputs": [
    {
     "data": {
      "text/html": [
       "<div>\n",
       "<style scoped>\n",
       "    .dataframe tbody tr th:only-of-type {\n",
       "        vertical-align: middle;\n",
       "    }\n",
       "\n",
       "    .dataframe tbody tr th {\n",
       "        vertical-align: top;\n",
       "    }\n",
       "\n",
       "    .dataframe thead th {\n",
       "        text-align: right;\n",
       "    }\n",
       "</style>\n",
       "<table border=\"1\" class=\"dataframe\">\n",
       "  <thead>\n",
       "    <tr style=\"text-align: right;\">\n",
       "      <th></th>\n",
       "      <th>CreditScore</th>\n",
       "      <th>Geography</th>\n",
       "      <th>Gender</th>\n",
       "      <th>Age</th>\n",
       "      <th>Tenure</th>\n",
       "      <th>Balance</th>\n",
       "      <th>NumOfProducts</th>\n",
       "      <th>HasCrCard</th>\n",
       "      <th>IsActiveMember</th>\n",
       "      <th>EstimatedSalary</th>\n",
       "      <th>Exited</th>\n",
       "    </tr>\n",
       "  </thead>\n",
       "  <tbody>\n",
       "    <tr>\n",
       "      <th>264</th>\n",
       "      <td>544.0</td>\n",
       "      <td>Spain</td>\n",
       "      <td>Female</td>\n",
       "      <td>36.0</td>\n",
       "      <td>5</td>\n",
       "      <td>0.00</td>\n",
       "      <td>4</td>\n",
       "      <td>1.0</td>\n",
       "      <td>0.0</td>\n",
       "      <td>110748.88</td>\n",
       "      <td>1.0</td>\n",
       "    </tr>\n",
       "    <tr>\n",
       "      <th>296</th>\n",
       "      <td>478.0</td>\n",
       "      <td>France</td>\n",
       "      <td>Male</td>\n",
       "      <td>37.0</td>\n",
       "      <td>1</td>\n",
       "      <td>0.00</td>\n",
       "      <td>4</td>\n",
       "      <td>1.0</td>\n",
       "      <td>0.0</td>\n",
       "      <td>28750.67</td>\n",
       "      <td>1.0</td>\n",
       "    </tr>\n",
       "    <tr>\n",
       "      <th>1062</th>\n",
       "      <td>684.0</td>\n",
       "      <td>Germany</td>\n",
       "      <td>Female</td>\n",
       "      <td>37.0</td>\n",
       "      <td>1</td>\n",
       "      <td>144974.55</td>\n",
       "      <td>4</td>\n",
       "      <td>1.0</td>\n",
       "      <td>1.0</td>\n",
       "      <td>182865.09</td>\n",
       "      <td>1.0</td>\n",
       "    </tr>\n",
       "    <tr>\n",
       "      <th>1185</th>\n",
       "      <td>652.0</td>\n",
       "      <td>France</td>\n",
       "      <td>Female</td>\n",
       "      <td>56.0</td>\n",
       "      <td>3</td>\n",
       "      <td>0.00</td>\n",
       "      <td>4</td>\n",
       "      <td>0.0</td>\n",
       "      <td>1.0</td>\n",
       "      <td>171070.58</td>\n",
       "      <td>1.0</td>\n",
       "    </tr>\n",
       "    <tr>\n",
       "      <th>1417</th>\n",
       "      <td>633.0</td>\n",
       "      <td>Germany</td>\n",
       "      <td>Male</td>\n",
       "      <td>40.0</td>\n",
       "      <td>5</td>\n",
       "      <td>96763.89</td>\n",
       "      <td>4</td>\n",
       "      <td>1.0</td>\n",
       "      <td>0.0</td>\n",
       "      <td>86424.57</td>\n",
       "      <td>1.0</td>\n",
       "    </tr>\n",
       "    <tr>\n",
       "      <th>4842</th>\n",
       "      <td>539.0</td>\n",
       "      <td>Spain</td>\n",
       "      <td>Male</td>\n",
       "      <td>55.0</td>\n",
       "      <td>1</td>\n",
       "      <td>0.00</td>\n",
       "      <td>4</td>\n",
       "      <td>1.0</td>\n",
       "      <td>0.0</td>\n",
       "      <td>167984.72</td>\n",
       "      <td>1.0</td>\n",
       "    </tr>\n",
       "    <tr>\n",
       "      <th>7578</th>\n",
       "      <td>509.0</td>\n",
       "      <td>Spain</td>\n",
       "      <td>Female</td>\n",
       "      <td>55.0</td>\n",
       "      <td>9</td>\n",
       "      <td>123815.86</td>\n",
       "      <td>4</td>\n",
       "      <td>1.0</td>\n",
       "      <td>0.0</td>\n",
       "      <td>167984.72</td>\n",
       "      <td>1.0</td>\n",
       "    </tr>\n",
       "    <tr>\n",
       "      <th>8161</th>\n",
       "      <td>537.0</td>\n",
       "      <td>Spain</td>\n",
       "      <td>Female</td>\n",
       "      <td>47.0</td>\n",
       "      <td>1</td>\n",
       "      <td>0.00</td>\n",
       "      <td>4</td>\n",
       "      <td>1.0</td>\n",
       "      <td>0.0</td>\n",
       "      <td>45419.09</td>\n",
       "      <td>1.0</td>\n",
       "    </tr>\n",
       "    <tr>\n",
       "      <th>10530</th>\n",
       "      <td>558.0</td>\n",
       "      <td>France</td>\n",
       "      <td>Female</td>\n",
       "      <td>42.0</td>\n",
       "      <td>8</td>\n",
       "      <td>0.00</td>\n",
       "      <td>4</td>\n",
       "      <td>0.0</td>\n",
       "      <td>1.0</td>\n",
       "      <td>140929.98</td>\n",
       "      <td>1.0</td>\n",
       "    </tr>\n",
       "    <tr>\n",
       "      <th>11320</th>\n",
       "      <td>607.0</td>\n",
       "      <td>France</td>\n",
       "      <td>Female</td>\n",
       "      <td>43.0</td>\n",
       "      <td>6</td>\n",
       "      <td>0.00</td>\n",
       "      <td>4</td>\n",
       "      <td>1.0</td>\n",
       "      <td>0.0</td>\n",
       "      <td>107615.43</td>\n",
       "      <td>1.0</td>\n",
       "    </tr>\n",
       "    <tr>\n",
       "      <th>12465</th>\n",
       "      <td>850.0</td>\n",
       "      <td>France</td>\n",
       "      <td>Female</td>\n",
       "      <td>33.0</td>\n",
       "      <td>9</td>\n",
       "      <td>0.00</td>\n",
       "      <td>4</td>\n",
       "      <td>0.0</td>\n",
       "      <td>0.0</td>\n",
       "      <td>83629.60</td>\n",
       "      <td>1.0</td>\n",
       "    </tr>\n",
       "    <tr>\n",
       "      <th>13377</th>\n",
       "      <td>718.0</td>\n",
       "      <td>France</td>\n",
       "      <td>Female</td>\n",
       "      <td>46.0</td>\n",
       "      <td>3</td>\n",
       "      <td>156834.34</td>\n",
       "      <td>4</td>\n",
       "      <td>0.0</td>\n",
       "      <td>0.0</td>\n",
       "      <td>115842.10</td>\n",
       "      <td>1.0</td>\n",
       "    </tr>\n",
       "    <tr>\n",
       "      <th>14050</th>\n",
       "      <td>653.0</td>\n",
       "      <td>Germany</td>\n",
       "      <td>Male</td>\n",
       "      <td>48.0</td>\n",
       "      <td>7</td>\n",
       "      <td>137655.24</td>\n",
       "      <td>4</td>\n",
       "      <td>0.0</td>\n",
       "      <td>0.0</td>\n",
       "      <td>178827.30</td>\n",
       "      <td>1.0</td>\n",
       "    </tr>\n",
       "    <tr>\n",
       "      <th>14125</th>\n",
       "      <td>670.0</td>\n",
       "      <td>Germany</td>\n",
       "      <td>Male</td>\n",
       "      <td>63.0</td>\n",
       "      <td>10</td>\n",
       "      <td>141581.08</td>\n",
       "      <td>4</td>\n",
       "      <td>0.0</td>\n",
       "      <td>0.0</td>\n",
       "      <td>66825.33</td>\n",
       "      <td>1.0</td>\n",
       "    </tr>\n",
       "    <tr>\n",
       "      <th>14490</th>\n",
       "      <td>599.0</td>\n",
       "      <td>France</td>\n",
       "      <td>Female</td>\n",
       "      <td>47.0</td>\n",
       "      <td>6</td>\n",
       "      <td>0.00</td>\n",
       "      <td>4</td>\n",
       "      <td>1.0</td>\n",
       "      <td>1.0</td>\n",
       "      <td>79919.13</td>\n",
       "      <td>1.0</td>\n",
       "    </tr>\n",
       "    <tr>\n",
       "      <th>14539</th>\n",
       "      <td>758.0</td>\n",
       "      <td>France</td>\n",
       "      <td>Female</td>\n",
       "      <td>46.0</td>\n",
       "      <td>7</td>\n",
       "      <td>0.00</td>\n",
       "      <td>4</td>\n",
       "      <td>1.0</td>\n",
       "      <td>0.0</td>\n",
       "      <td>180598.86</td>\n",
       "      <td>1.0</td>\n",
       "    </tr>\n",
       "    <tr>\n",
       "      <th>14813</th>\n",
       "      <td>730.0</td>\n",
       "      <td>France</td>\n",
       "      <td>Female</td>\n",
       "      <td>44.0</td>\n",
       "      <td>1</td>\n",
       "      <td>0.00</td>\n",
       "      <td>4</td>\n",
       "      <td>1.0</td>\n",
       "      <td>0.0</td>\n",
       "      <td>136909.87</td>\n",
       "      <td>1.0</td>\n",
       "    </tr>\n",
       "  </tbody>\n",
       "</table>\n",
       "</div>"
      ],
      "text/plain": [
       "       CreditScore Geography  Gender   Age  Tenure    Balance  NumOfProducts  \\\n",
       "264          544.0     Spain  Female  36.0       5       0.00              4   \n",
       "296          478.0    France    Male  37.0       1       0.00              4   \n",
       "1062         684.0   Germany  Female  37.0       1  144974.55              4   \n",
       "1185         652.0    France  Female  56.0       3       0.00              4   \n",
       "1417         633.0   Germany    Male  40.0       5   96763.89              4   \n",
       "4842         539.0     Spain    Male  55.0       1       0.00              4   \n",
       "7578         509.0     Spain  Female  55.0       9  123815.86              4   \n",
       "8161         537.0     Spain  Female  47.0       1       0.00              4   \n",
       "10530        558.0    France  Female  42.0       8       0.00              4   \n",
       "11320        607.0    France  Female  43.0       6       0.00              4   \n",
       "12465        850.0    France  Female  33.0       9       0.00              4   \n",
       "13377        718.0    France  Female  46.0       3  156834.34              4   \n",
       "14050        653.0   Germany    Male  48.0       7  137655.24              4   \n",
       "14125        670.0   Germany    Male  63.0      10  141581.08              4   \n",
       "14490        599.0    France  Female  47.0       6       0.00              4   \n",
       "14539        758.0    France  Female  46.0       7       0.00              4   \n",
       "14813        730.0    France  Female  44.0       1       0.00              4   \n",
       "\n",
       "      HasCrCard IsActiveMember  EstimatedSalary  Exited  \n",
       "264         1.0            0.0        110748.88     1.0  \n",
       "296         1.0            0.0         28750.67     1.0  \n",
       "1062        1.0            1.0        182865.09     1.0  \n",
       "1185        0.0            1.0        171070.58     1.0  \n",
       "1417        1.0            0.0         86424.57     1.0  \n",
       "4842        1.0            0.0        167984.72     1.0  \n",
       "7578        1.0            0.0        167984.72     1.0  \n",
       "8161        1.0            0.0         45419.09     1.0  \n",
       "10530       0.0            1.0        140929.98     1.0  \n",
       "11320       1.0            0.0        107615.43     1.0  \n",
       "12465       0.0            0.0         83629.60     1.0  \n",
       "13377       0.0            0.0        115842.10     1.0  \n",
       "14050       0.0            0.0        178827.30     1.0  \n",
       "14125       0.0            0.0         66825.33     1.0  \n",
       "14490       1.0            1.0         79919.13     1.0  \n",
       "14539       1.0            0.0        180598.86     1.0  \n",
       "14813       1.0            0.0        136909.87     1.0  "
      ]
     },
     "execution_count": 22,
     "metadata": {},
     "output_type": "execute_result"
    }
   ],
   "source": [
    "# this is over-excessive and also a little sad to see\n",
    "train[train.NumOfProducts==4]"
   ]
  },
  {
   "cell_type": "markdown",
   "id": "0953608f",
   "metadata": {
    "papermill": {
     "duration": 0.027695,
     "end_time": "2024-10-09T16:53:30.537258",
     "exception": false,
     "start_time": "2024-10-09T16:53:30.509563",
     "status": "completed"
    },
    "tags": []
   },
   "source": [
    "The exact numbers indicated by **`value_counts()`** for this variable could ideally be more balanced, but it’s clear that this feature has significant predictive power worth incorporating into our model. The barplot suggests that having 3 or 4 products is similar in terms of churn probability. Therefor, we will merge these two categories and treat them as a single one, representing **`'NumOfProducts'>= 3`**."
   ]
  },
  {
   "cell_type": "code",
   "execution_count": 23,
   "id": "83784e63",
   "metadata": {
    "execution": {
     "iopub.execute_input": "2024-10-09T16:53:30.594979Z",
     "iopub.status.busy": "2024-10-09T16:53:30.594321Z",
     "iopub.status.idle": "2024-10-09T16:53:30.600005Z",
     "shell.execute_reply": "2024-10-09T16:53:30.599250Z"
    },
    "papermill": {
     "duration": 0.036536,
     "end_time": "2024-10-09T16:53:30.601983",
     "exception": false,
     "start_time": "2024-10-09T16:53:30.565447",
     "status": "completed"
    },
    "tags": []
   },
   "outputs": [],
   "source": [
    "train['NumOfProducts'] = train['NumOfProducts'].replace(4, 3)"
   ]
  },
  {
   "cell_type": "markdown",
   "id": "61bd6afb",
   "metadata": {
    "papermill": {
     "duration": 0.02715,
     "end_time": "2024-10-09T16:53:30.656827",
     "exception": false,
     "start_time": "2024-10-09T16:53:30.629677",
     "status": "completed"
    },
    "tags": []
   },
   "source": [
    "### Continous features\n",
    "To facilitate the exploratory data analysis (EDA) of continuous features, function `continous_eda()` is created. This function generates two plots for a given variable:\n",
    "* **histogram with KDE** (feature distribution)\n",
    "* **violinplot** (target impact on feature distribution)"
   ]
  },
  {
   "cell_type": "code",
   "execution_count": 24,
   "id": "90754330",
   "metadata": {
    "execution": {
     "iopub.execute_input": "2024-10-09T16:53:30.713517Z",
     "iopub.status.busy": "2024-10-09T16:53:30.713131Z",
     "iopub.status.idle": "2024-10-09T16:53:30.722525Z",
     "shell.execute_reply": "2024-10-09T16:53:30.721763Z"
    },
    "papermill": {
     "duration": 0.040243,
     "end_time": "2024-10-09T16:53:30.724497",
     "exception": false,
     "start_time": "2024-10-09T16:53:30.684254",
     "status": "completed"
    },
    "tags": []
   },
   "outputs": [],
   "source": [
    "import warnings\n",
    "# Suppress FutureWarnings\n",
    "warnings.simplefilter(action='ignore', category=FutureWarning)\n",
    "\n",
    "def continous_eda(feature):\n",
    "    # generates figure facilitating EDA for a continous features \n",
    "    fig, axes = plt.subplots(1, 2, figsize=(10 * 0.8, 3))\n",
    "    \n",
    "    # histogram with KDE \n",
    "    sns.histplot(data=train, x=feature, kde=True, ax=axes[0])\n",
    "    axes[0].set_title(f'Distribution of {feature}', fontsize=12)\n",
    "    axes[0].set_xlabel(feature, fontsize=10)\n",
    "    axes[0].set_ylabel('Count', fontsize=10)\n",
    "    axes[0].tick_params(axis='x', labelsize=10)\n",
    "    axes[0].tick_params(axis='y', labelsize=10)\n",
    "    \n",
    "    # violin plot \n",
    "    sns.violinplot(x='Exited', y=feature, data=train, ax=axes[1])\n",
    "    axes[1].set_title(f'{feature} vs. Target (Exited)', fontsize=12)\n",
    "    axes[1].set_xlabel('Exited', fontsize=10)\n",
    "    axes[1].set_ylabel(feature, fontsize=10)\n",
    "    axes[1].tick_params(axis='x', labelsize=10)\n",
    "    axes[1].tick_params(axis='y', labelsize=10)\n",
    "    \n",
    "    plt.tight_layout()\n",
    "    plt.show()"
   ]
  },
  {
   "cell_type": "code",
   "execution_count": 25,
   "id": "ef0e8554",
   "metadata": {
    "execution": {
     "iopub.execute_input": "2024-10-09T16:53:30.782688Z",
     "iopub.status.busy": "2024-10-09T16:53:30.782338Z",
     "iopub.status.idle": "2024-10-09T16:53:30.792361Z",
     "shell.execute_reply": "2024-10-09T16:53:30.791493Z"
    },
    "papermill": {
     "duration": 0.040901,
     "end_time": "2024-10-09T16:53:30.794222",
     "exception": false,
     "start_time": "2024-10-09T16:53:30.753321",
     "status": "completed"
    },
    "tags": []
   },
   "outputs": [
    {
     "data": {
      "text/html": [
       "<div>\n",
       "<style scoped>\n",
       "    .dataframe tbody tr th:only-of-type {\n",
       "        vertical-align: middle;\n",
       "    }\n",
       "\n",
       "    .dataframe tbody tr th {\n",
       "        vertical-align: top;\n",
       "    }\n",
       "\n",
       "    .dataframe thead th {\n",
       "        text-align: right;\n",
       "    }\n",
       "</style>\n",
       "<table border=\"1\" class=\"dataframe\">\n",
       "  <thead>\n",
       "    <tr style=\"text-align: right;\">\n",
       "      <th></th>\n",
       "      <th>dtype</th>\n",
       "      <th>nunique_vals</th>\n",
       "    </tr>\n",
       "    <tr>\n",
       "      <th>feature</th>\n",
       "      <th></th>\n",
       "      <th></th>\n",
       "    </tr>\n",
       "  </thead>\n",
       "  <tbody>\n",
       "    <tr>\n",
       "      <th>EstimatedSalary</th>\n",
       "      <td>float64</td>\n",
       "      <td>6211</td>\n",
       "    </tr>\n",
       "    <tr>\n",
       "      <th>Balance</th>\n",
       "      <td>float64</td>\n",
       "      <td>3412</td>\n",
       "    </tr>\n",
       "    <tr>\n",
       "      <th>CreditScore</th>\n",
       "      <td>float64</td>\n",
       "      <td>372</td>\n",
       "    </tr>\n",
       "    <tr>\n",
       "      <th>Age</th>\n",
       "      <td>float64</td>\n",
       "      <td>55</td>\n",
       "    </tr>\n",
       "  </tbody>\n",
       "</table>\n",
       "</div>"
      ],
      "text/plain": [
       "                   dtype  nunique_vals\n",
       "feature                               \n",
       "EstimatedSalary  float64          6211\n",
       "Balance          float64          3412\n",
       "CreditScore      float64           372\n",
       "Age              float64            55"
      ]
     },
     "execution_count": 25,
     "metadata": {},
     "output_type": "execute_result"
    }
   ],
   "source": [
    "# continous features are indicated by 'float' dtype\n",
    "features_info[features_info.dtype=='float']"
   ]
  },
  {
   "cell_type": "markdown",
   "id": "a6213840",
   "metadata": {
    "papermill": {
     "duration": 0.027834,
     "end_time": "2024-10-09T16:53:30.851032",
     "exception": false,
     "start_time": "2024-10-09T16:53:30.823198",
     "status": "completed"
    },
    "tags": []
   },
   "source": [
    "Quick Reminder:\n",
    "\n",
    "Descriptive statistics provide a summary of the central tendency, dispersion, and range of the numeric data.\n",
    "* **Count**: The number of non-null entries.\n",
    "* **Mean**: The average value of the column.\n",
    "* **Standard Deviation (std)**: The average deviation from the mean for a data point.\n",
    "* **Minimum (min)**: The smallest value in the column.\n",
    "* **25th Percentile (25%)**: The value below which 25% of the data falls.\n",
    "* **Median (50%)**: The middle value of the column, separating the data into two halves.\n",
    "* **75th Percentile (75%)**: The value below which 75% of the data falls.\n",
    "* **Maximum (max)**: The largest value in the column."
   ]
  },
  {
   "cell_type": "markdown",
   "id": "e5cd67cc",
   "metadata": {
    "papermill": {
     "duration": 0.028268,
     "end_time": "2024-10-09T16:53:30.907184",
     "exception": false,
     "start_time": "2024-10-09T16:53:30.878916",
     "status": "completed"
    },
    "tags": []
   },
   "source": [
    "**`'EstimatedSalary'`**\n",
    "\n",
    "A troublemaker variable; applying `continous_eda()` produces an unreadable mess."
   ]
  },
  {
   "cell_type": "code",
   "execution_count": 26,
   "id": "d62a95bd",
   "metadata": {
    "execution": {
     "iopub.execute_input": "2024-10-09T16:53:30.964598Z",
     "iopub.status.busy": "2024-10-09T16:53:30.964212Z",
     "iopub.status.idle": "2024-10-09T16:53:30.977536Z",
     "shell.execute_reply": "2024-10-09T16:53:30.976655Z"
    },
    "papermill": {
     "duration": 0.044587,
     "end_time": "2024-10-09T16:53:30.979645",
     "exception": false,
     "start_time": "2024-10-09T16:53:30.935058",
     "status": "completed"
    },
    "tags": []
   },
   "outputs": [
    {
     "data": {
      "text/html": [
       "<div>\n",
       "<style scoped>\n",
       "    .dataframe tbody tr th:only-of-type {\n",
       "        vertical-align: middle;\n",
       "    }\n",
       "\n",
       "    .dataframe tbody tr th {\n",
       "        vertical-align: top;\n",
       "    }\n",
       "\n",
       "    .dataframe thead th {\n",
       "        text-align: right;\n",
       "    }\n",
       "</style>\n",
       "<table border=\"1\" class=\"dataframe\">\n",
       "  <thead>\n",
       "    <tr style=\"text-align: right;\">\n",
       "      <th></th>\n",
       "      <th>EstimatedSalary</th>\n",
       "    </tr>\n",
       "  </thead>\n",
       "  <tbody>\n",
       "    <tr>\n",
       "      <th>count</th>\n",
       "      <td>15000.00</td>\n",
       "    </tr>\n",
       "    <tr>\n",
       "      <th>mean</th>\n",
       "      <td>118914.46</td>\n",
       "    </tr>\n",
       "    <tr>\n",
       "      <th>std</th>\n",
       "      <td>134968.90</td>\n",
       "    </tr>\n",
       "    <tr>\n",
       "      <th>min</th>\n",
       "      <td>11.58</td>\n",
       "    </tr>\n",
       "    <tr>\n",
       "      <th>25%</th>\n",
       "      <td>83022.92</td>\n",
       "    </tr>\n",
       "    <tr>\n",
       "      <th>50%</th>\n",
       "      <td>122949.71</td>\n",
       "    </tr>\n",
       "    <tr>\n",
       "      <th>75%</th>\n",
       "      <td>156914.44</td>\n",
       "    </tr>\n",
       "    <tr>\n",
       "      <th>max</th>\n",
       "      <td>15677431.85</td>\n",
       "    </tr>\n",
       "  </tbody>\n",
       "</table>\n",
       "</div>"
      ],
      "text/plain": [
       "       EstimatedSalary\n",
       "count         15000.00\n",
       "mean         118914.46\n",
       "std          134968.90\n",
       "min              11.58\n",
       "25%           83022.92\n",
       "50%          122949.71\n",
       "75%          156914.44\n",
       "max        15677431.85"
      ]
     },
     "execution_count": 26,
     "metadata": {},
     "output_type": "execute_result"
    }
   ],
   "source": [
    "# descriptive statistics\n",
    "pd.set_option('display.float_format', lambda x: '%.2f' % x)\n",
    "train['EstimatedSalary'].to_frame().describe()"
   ]
  },
  {
   "cell_type": "markdown",
   "id": "e92da2d6",
   "metadata": {
    "papermill": {
     "duration": 0.027746,
     "end_time": "2024-10-09T16:53:31.035848",
     "exception": false,
     "start_time": "2024-10-09T16:53:31.008102",
     "status": "completed"
    },
    "tags": []
   },
   "source": [
    "Descriptive statistics for this feature indicate a high degree of variability with a wide range and the presence of extreme outliers. Such extreme values can skew statistical analyses and models. To mitigate their impact, it may be beneficial to address these outliers using robust statistical methods or by applying transformations or binning techniques.\n",
    "\n",
    "In our case, the **RandomForestClassifier** is quite robust to outliers because it uses an ensemble of decision trees, which are less sensitive to extreme values. Each tree in the forest is trained on a random subset of the data, and the final decision is based on the majority vote from all trees, reducing the influence of outliers on the overall model.\n",
    "\n",
    "Let's investigate further **`'EstimatedSalary'`** and check whether a linear relationship is present between this feature and the target variable. The **`Point Biserial Correlation`** is an appriopriate coefficient for a continous feature and a binary target."
   ]
  },
  {
   "cell_type": "code",
   "execution_count": 27,
   "id": "c95433e2",
   "metadata": {
    "execution": {
     "iopub.execute_input": "2024-10-09T16:53:31.094405Z",
     "iopub.status.busy": "2024-10-09T16:53:31.093540Z",
     "iopub.status.idle": "2024-10-09T16:53:31.102917Z",
     "shell.execute_reply": "2024-10-09T16:53:31.101605Z"
    },
    "papermill": {
     "duration": 0.041063,
     "end_time": "2024-10-09T16:53:31.105032",
     "exception": false,
     "start_time": "2024-10-09T16:53:31.063969",
     "status": "completed"
    },
    "tags": []
   },
   "outputs": [
    {
     "name": "stdout",
     "output_type": "stream",
     "text": [
      "Point Biserial Correlation between EstimatedSalary and Target: 0.01\n",
      "p_value: 0.48\n"
     ]
    }
   ],
   "source": [
    "from scipy.stats import pointbiserialr\n",
    "\n",
    "corr, p_value = pointbiserialr(train['EstimatedSalary'], train['Exited'])\n",
    "print(f\"Point Biserial Correlation between EstimatedSalary and Target: {corr:.2f}\")\n",
    "print(f\"p_value: {p_value:.2f}\")"
   ]
  },
  {
   "cell_type": "markdown",
   "id": "af9308bd",
   "metadata": {
    "papermill": {
     "duration": 0.028829,
     "end_time": "2024-10-09T16:53:31.162585",
     "exception": false,
     "start_time": "2024-10-09T16:53:31.133756",
     "status": "completed"
    },
    "tags": []
   },
   "source": [
    "A coefficient close to 0 (e.g., 0.01) and a p-value of 0.48, which is much higher than the significance level of 0.05, lead us to conclude that there is no linear relationship between the feature and the target.\n",
    "\n",
    "Let's emphasize the fact that the **`Point Biserial Correlation`** specifically detects linear relationships. If the relationship between a feature and the target is non-linear, the correlation coefficient might be close to zero, even if the feature is significant for classification. The **`Mann-Whitney U test`** is non-parametric (it does not assume any specific distribution of the data) and does not rely on linearity, so it is suitable for detecting non-linear relationships between a feature and a binary target variable and therefore will be conducted down the line. \n",
    "\n",
    "Since binning a continuous variable can help capture potential non-linear relationships with a binary target, let's create an additional feature **`'EstimatedSalary_binned'`** derived from the **`'EstimatedSalary'`** variable and include it in the analysis. Although this might introduce some collinearity, the **RandomForestClassifier** is quite robust to such issues (more details on this are provided in the next subsection, titled 'Collinearity'). Adding this derived feature could help the model account for non-linearity."
   ]
  },
  {
   "cell_type": "code",
   "execution_count": 28,
   "id": "b72de708",
   "metadata": {
    "execution": {
     "iopub.execute_input": "2024-10-09T16:53:31.220696Z",
     "iopub.status.busy": "2024-10-09T16:53:31.220334Z",
     "iopub.status.idle": "2024-10-09T16:53:32.392813Z",
     "shell.execute_reply": "2024-10-09T16:53:32.391739Z"
    },
    "papermill": {
     "duration": 1.20421,
     "end_time": "2024-10-09T16:53:32.394902",
     "exception": false,
     "start_time": "2024-10-09T16:53:31.190692",
     "status": "completed"
    },
    "tags": []
   },
   "outputs": [
    {
     "data": {
      "image/png": "[encoded data removed]",
      "text/plain": [
       "<Figure size 800x240 with 2 Axes>"
      ]
     },
     "metadata": {},
     "output_type": "display_data"
    }
   ],
   "source": [
    "from sklearn.preprocessing import KBinsDiscretizer\n",
    "\n",
    "kbin_discretizer = KBinsDiscretizer(n_bins=10, encode='ordinal', strategy='quantile')\n",
    "train['EstimatedSalary_binned'] = kbin_discretizer.fit_transform(train[['EstimatedSalary']])\n",
    "# this is an ordinal variable\n",
    "train['EstimatedSalary_binned'] = train['EstimatedSalary_binned'].astype(int)\n",
    "\n",
    "categorical_eda('EstimatedSalary_binned')"
   ]
  },
  {
   "cell_type": "markdown",
   "id": "8af7e5c9",
   "metadata": {
    "papermill": {
     "duration": 0.028738,
     "end_time": "2024-10-09T16:53:32.453123",
     "exception": false,
     "start_time": "2024-10-09T16:53:32.424385",
     "status": "completed"
    },
    "tags": []
   },
   "source": [
    "Here is the rationale for why using **`KBinsDiscretizer`** with the quantile strategy can help capture potential non-linear relationships:\n",
    "* **Non-linear Relationships**: Continuous variables can have complex, non-linear relationships with the target variable that are not easily captured by linear models. By discretizing the continuous variable into bins, you essentially create a new categorical variable where each bin represents a range of values from the original variable.\n",
    "* **Quantile Strategy**: When using the quantile strategy in **KBinsDiscretizer**, the continuous variable is divided into bins such that each bin has roughly the same number of observations. This can help in revealing patterns or associations that might be missed if the variable were treated as continuous.\n",
    "* **Ordinal Encoding**: When these bins are encoded as ordinal values, you preserve the order of the bins, which might help models like decision trees or even some linear models with interaction terms capture the non-linear relationship more effectively.\n",
    "\n",
    "Okay, let’s now move on to the next continuous feature, **`'Balance'`**."
   ]
  },
  {
   "cell_type": "markdown",
   "id": "b6720f3b",
   "metadata": {
    "papermill": {
     "duration": 0.028454,
     "end_time": "2024-10-09T16:53:32.510438",
     "exception": false,
     "start_time": "2024-10-09T16:53:32.481984",
     "status": "completed"
    },
    "tags": []
   },
   "source": [
    "**`'Balance'`**\n",
    "\n",
    "\n",
    "At least half of the values for this variable are actually zeros. One possible explanation could be a significant number of \"ghost accounts\". It might be beneficial to create a binary variable **`'HasBalance'`** indicating whether the balance is zero, as this could help the model capture patterns related to these \"ghost accounts\"."
   ]
  },
  {
   "cell_type": "code",
   "execution_count": 29,
   "id": "b36226b5",
   "metadata": {
    "execution": {
     "iopub.execute_input": "2024-10-09T16:53:32.569773Z",
     "iopub.status.busy": "2024-10-09T16:53:32.569097Z",
     "iopub.status.idle": "2024-10-09T16:53:32.582301Z",
     "shell.execute_reply": "2024-10-09T16:53:32.581392Z"
    },
    "papermill": {
     "duration": 0.04537,
     "end_time": "2024-10-09T16:53:32.584310",
     "exception": false,
     "start_time": "2024-10-09T16:53:32.538940",
     "status": "completed"
    },
    "tags": []
   },
   "outputs": [
    {
     "data": {
      "text/html": [
       "<div>\n",
       "<style scoped>\n",
       "    .dataframe tbody tr th:only-of-type {\n",
       "        vertical-align: middle;\n",
       "    }\n",
       "\n",
       "    .dataframe tbody tr th {\n",
       "        vertical-align: top;\n",
       "    }\n",
       "\n",
       "    .dataframe thead th {\n",
       "        text-align: right;\n",
       "    }\n",
       "</style>\n",
       "<table border=\"1\" class=\"dataframe\">\n",
       "  <thead>\n",
       "    <tr style=\"text-align: right;\">\n",
       "      <th></th>\n",
       "      <th>Balance</th>\n",
       "    </tr>\n",
       "  </thead>\n",
       "  <tbody>\n",
       "    <tr>\n",
       "      <th>count</th>\n",
       "      <td>15000.00</td>\n",
       "    </tr>\n",
       "    <tr>\n",
       "      <th>mean</th>\n",
       "      <td>42689.54</td>\n",
       "    </tr>\n",
       "    <tr>\n",
       "      <th>std</th>\n",
       "      <td>59635.26</td>\n",
       "    </tr>\n",
       "    <tr>\n",
       "      <th>min</th>\n",
       "      <td>0.00</td>\n",
       "    </tr>\n",
       "    <tr>\n",
       "      <th>25%</th>\n",
       "      <td>0.00</td>\n",
       "    </tr>\n",
       "    <tr>\n",
       "      <th>50%</th>\n",
       "      <td>0.00</td>\n",
       "    </tr>\n",
       "    <tr>\n",
       "      <th>75%</th>\n",
       "      <td>109356.43</td>\n",
       "    </tr>\n",
       "    <tr>\n",
       "      <th>max</th>\n",
       "      <td>187530.66</td>\n",
       "    </tr>\n",
       "  </tbody>\n",
       "</table>\n",
       "</div>"
      ],
      "text/plain": [
       "        Balance\n",
       "count  15000.00\n",
       "mean   42689.54\n",
       "std    59635.26\n",
       "min        0.00\n",
       "25%        0.00\n",
       "50%        0.00\n",
       "75%   109356.43\n",
       "max   187530.66"
      ]
     },
     "execution_count": 29,
     "metadata": {},
     "output_type": "execute_result"
    }
   ],
   "source": [
    "# descriptive statistics\n",
    "train['Balance'].to_frame().describe()"
   ]
  },
  {
   "cell_type": "code",
   "execution_count": 30,
   "id": "b106ec20",
   "metadata": {
    "execution": {
     "iopub.execute_input": "2024-10-09T16:53:32.644082Z",
     "iopub.status.busy": "2024-10-09T16:53:32.643753Z",
     "iopub.status.idle": "2024-10-09T16:53:33.112448Z",
     "shell.execute_reply": "2024-10-09T16:53:33.111584Z"
    },
    "papermill": {
     "duration": 0.501366,
     "end_time": "2024-10-09T16:53:33.114599",
     "exception": false,
     "start_time": "2024-10-09T16:53:32.613233",
     "status": "completed"
    },
    "tags": []
   },
   "outputs": [
    {
     "data": {
      "image/png": "[encoded data removed]",
      "text/plain": [
       "<Figure size 800x240 with 2 Axes>"
      ]
     },
     "metadata": {},
     "output_type": "display_data"
    }
   ],
   "source": [
    "train['HasBalance'] = (train['Balance'] > 0).astype(int)\n",
    "# this is a nominal variable\n",
    "train['HasBalance'] = train['HasBalance'].astype(str)\n",
    "\n",
    "categorical_eda('HasBalance')"
   ]
  },
  {
   "cell_type": "markdown",
   "id": "277e4468",
   "metadata": {
    "papermill": {
     "duration": 0.029351,
     "end_time": "2024-10-09T16:53:33.174358",
     "exception": false,
     "start_time": "2024-10-09T16:53:33.145007",
     "status": "completed"
    },
    "tags": []
   },
   "source": [
    "It seems that binarization might add some explanatory power to the model, as indicated by the barplot. Let's explore the **`'Balance'`** feature further, specifically examining whether a linear relationship exists between this feature and the target variable. For this case, we will focus only on the non-zero instances of the **`'Balance'`** feature when calculating the Point Biserial correlation coefficient."
   ]
  },
  {
   "cell_type": "code",
   "execution_count": 31,
   "id": "2aacbc5e",
   "metadata": {
    "execution": {
     "iopub.execute_input": "2024-10-09T16:53:33.235357Z",
     "iopub.status.busy": "2024-10-09T16:53:33.235004Z",
     "iopub.status.idle": "2024-10-09T16:53:33.246825Z",
     "shell.execute_reply": "2024-10-09T16:53:33.245775Z"
    },
    "papermill": {
     "duration": 0.045108,
     "end_time": "2024-10-09T16:53:33.248905",
     "exception": false,
     "start_time": "2024-10-09T16:53:33.203797",
     "status": "completed"
    },
    "tags": []
   },
   "outputs": [
    {
     "name": "stdout",
     "output_type": "stream",
     "text": [
      "Point Biserial Correlation between Balance and Target: 0.01\n",
      "p_value: 0.40\n"
     ]
    }
   ],
   "source": [
    "corr, p_value = pointbiserialr(train[train['Balance']>0].Balance, train[train['Balance']>0].Exited)\n",
    "print(f\"Point Biserial Correlation between Balance and Target: {corr:.2f}\")\n",
    "print(f\"p_value: {p_value:.2f}\")"
   ]
  },
  {
   "cell_type": "markdown",
   "id": "1993dd51",
   "metadata": {
    "papermill": {
     "duration": 0.029422,
     "end_time": "2024-10-09T16:53:33.308649",
     "exception": false,
     "start_time": "2024-10-09T16:53:33.279227",
     "status": "completed"
    },
    "tags": []
   },
   "source": [
    "A coefficient close to 0 (e.g., 0.01) and a p-value of 0.40, which is much higher than the significance level of 0.05, lead us to conclude that there is no linear relationship between the **`'Balance'`** feature and the target. However, this does not exclude the possibility of a non-linear dependency. As with the **`'EstimatedSalary'`** feature, we will also verify potential non-linear relationships using the **`Mann-Whitney U test`** (while statistical testing). "
   ]
  },
  {
   "cell_type": "markdown",
   "id": "19ab8733",
   "metadata": {
    "papermill": {
     "duration": 0.029279,
     "end_time": "2024-10-09T16:53:33.367187",
     "exception": false,
     "start_time": "2024-10-09T16:53:33.337908",
     "status": "completed"
    },
    "tags": []
   },
   "source": [
    "Aside from the numerous zeros, the **`'Balance'`** variable does not appear to have any other issues. Below, a violin plot for non-zero balances is provided to give insight into how the binary target impacts the distribution of the feature."
   ]
  },
  {
   "cell_type": "code",
   "execution_count": 32,
   "id": "6b5eb657",
   "metadata": {
    "execution": {
     "iopub.execute_input": "2024-10-09T16:53:33.428141Z",
     "iopub.status.busy": "2024-10-09T16:53:33.427385Z",
     "iopub.status.idle": "2024-10-09T16:53:33.710807Z",
     "shell.execute_reply": "2024-10-09T16:53:33.709856Z"
    },
    "papermill": {
     "duration": 0.316302,
     "end_time": "2024-10-09T16:53:33.712952",
     "exception": false,
     "start_time": "2024-10-09T16:53:33.396650",
     "status": "completed"
    },
    "tags": []
   },
   "outputs": [
    {
     "data": {
      "image/png": "[encoded data removed]",
      "text/plain": [
       "<Figure size 590x280 with 1 Axes>"
      ]
     },
     "metadata": {},
     "output_type": "display_data"
    }
   ],
   "source": [
    "plt.figure(figsize=(5.9, 2.8))\n",
    "\n",
    "plt.title('Balance vs. Target for Non-Zero Balances', fontsize=12)\n",
    "ax = sns.violinplot(x='Exited', y='Balance', data=train[train['Balance'] > 0])\n",
    "ax.set_xlabel('Exited', fontsize=10)\n",
    "ax.set_ylabel('Balance', fontsize=10)\n",
    "ax.tick_params(axis='x', labelsize=9)  \n",
    "ax.tick_params(axis='y', labelsize=9) \n",
    "\n",
    "plt.show()"
   ]
  },
  {
   "cell_type": "markdown",
   "id": "e73ffa67",
   "metadata": {
    "papermill": {
     "duration": 0.031883,
     "end_time": "2024-10-09T16:53:33.775395",
     "exception": false,
     "start_time": "2024-10-09T16:53:33.743512",
     "status": "completed"
    },
    "tags": []
   },
   "source": [
    "**`'CreditScore'`**\n",
    "\n",
    "This continous feature behaves kindly."
   ]
  },
  {
   "cell_type": "code",
   "execution_count": 33,
   "id": "8a358613",
   "metadata": {
    "execution": {
     "iopub.execute_input": "2024-10-09T16:53:33.837942Z",
     "iopub.status.busy": "2024-10-09T16:53:33.837214Z",
     "iopub.status.idle": "2024-10-09T16:53:33.850805Z",
     "shell.execute_reply": "2024-10-09T16:53:33.849865Z"
    },
    "papermill": {
     "duration": 0.047092,
     "end_time": "2024-10-09T16:53:33.852855",
     "exception": false,
     "start_time": "2024-10-09T16:53:33.805763",
     "status": "completed"
    },
    "tags": []
   },
   "outputs": [
    {
     "data": {
      "text/html": [
       "<div>\n",
       "<style scoped>\n",
       "    .dataframe tbody tr th:only-of-type {\n",
       "        vertical-align: middle;\n",
       "    }\n",
       "\n",
       "    .dataframe tbody tr th {\n",
       "        vertical-align: top;\n",
       "    }\n",
       "\n",
       "    .dataframe thead th {\n",
       "        text-align: right;\n",
       "    }\n",
       "</style>\n",
       "<table border=\"1\" class=\"dataframe\">\n",
       "  <thead>\n",
       "    <tr style=\"text-align: right;\">\n",
       "      <th></th>\n",
       "      <th>CreditScore</th>\n",
       "    </tr>\n",
       "  </thead>\n",
       "  <tbody>\n",
       "    <tr>\n",
       "      <th>count</th>\n",
       "      <td>15000.00</td>\n",
       "    </tr>\n",
       "    <tr>\n",
       "      <th>mean</th>\n",
       "      <td>657.78</td>\n",
       "    </tr>\n",
       "    <tr>\n",
       "      <th>std</th>\n",
       "      <td>72.98</td>\n",
       "    </tr>\n",
       "    <tr>\n",
       "      <th>min</th>\n",
       "      <td>431.00</td>\n",
       "    </tr>\n",
       "    <tr>\n",
       "      <th>25%</th>\n",
       "      <td>600.00</td>\n",
       "    </tr>\n",
       "    <tr>\n",
       "      <th>50%</th>\n",
       "      <td>661.00</td>\n",
       "    </tr>\n",
       "    <tr>\n",
       "      <th>75%</th>\n",
       "      <td>709.00</td>\n",
       "    </tr>\n",
       "    <tr>\n",
       "      <th>max</th>\n",
       "      <td>850.00</td>\n",
       "    </tr>\n",
       "  </tbody>\n",
       "</table>\n",
       "</div>"
      ],
      "text/plain": [
       "       CreditScore\n",
       "count     15000.00\n",
       "mean        657.78\n",
       "std          72.98\n",
       "min         431.00\n",
       "25%         600.00\n",
       "50%         661.00\n",
       "75%         709.00\n",
       "max         850.00"
      ]
     },
     "execution_count": 33,
     "metadata": {},
     "output_type": "execute_result"
    }
   ],
   "source": [
    "train['CreditScore'].to_frame().describe()"
   ]
  },
  {
   "cell_type": "code",
   "execution_count": 34,
   "id": "b94a572c",
   "metadata": {
    "execution": {
     "iopub.execute_input": "2024-10-09T16:53:33.916416Z",
     "iopub.status.busy": "2024-10-09T16:53:33.916042Z",
     "iopub.status.idle": "2024-10-09T16:53:34.667470Z",
     "shell.execute_reply": "2024-10-09T16:53:34.666571Z"
    },
    "papermill": {
     "duration": 0.786485,
     "end_time": "2024-10-09T16:53:34.670017",
     "exception": false,
     "start_time": "2024-10-09T16:53:33.883532",
     "status": "completed"
    },
    "tags": []
   },
   "outputs": [
    {
     "data": {
      "image/png": "[encoded data removed]",
      "text/plain": [
       "<Figure size 800x300 with 2 Axes>"
      ]
     },
     "metadata": {},
     "output_type": "display_data"
    }
   ],
   "source": [
    "continous_eda('CreditScore')"
   ]
  },
  {
   "cell_type": "code",
   "execution_count": 35,
   "id": "4b969708",
   "metadata": {
    "execution": {
     "iopub.execute_input": "2024-10-09T16:53:34.734926Z",
     "iopub.status.busy": "2024-10-09T16:53:34.734128Z",
     "iopub.status.idle": "2024-10-09T16:53:34.742843Z",
     "shell.execute_reply": "2024-10-09T16:53:34.741797Z"
    },
    "papermill": {
     "duration": 0.043121,
     "end_time": "2024-10-09T16:53:34.744728",
     "exception": false,
     "start_time": "2024-10-09T16:53:34.701607",
     "status": "completed"
    },
    "tags": []
   },
   "outputs": [
    {
     "name": "stdout",
     "output_type": "stream",
     "text": [
      "Point Biserial Correlation between CreditScore and Target: -0.04\n",
      "p_value: 0.00\n"
     ]
    }
   ],
   "source": [
    "corr, p_value = pointbiserialr(train['CreditScore'], train['Exited'])\n",
    "print(f\"Point Biserial Correlation between CreditScore and Target: {corr:.2f}\")\n",
    "print(f\"p_value: {p_value:.2f}\")"
   ]
  },
  {
   "cell_type": "markdown",
   "id": "a4e97771",
   "metadata": {
    "papermill": {
     "duration": 0.031588,
     "end_time": "2024-10-09T16:53:34.809674",
     "exception": false,
     "start_time": "2024-10-09T16:53:34.778086",
     "status": "completed"
    },
    "tags": []
   },
   "source": [
    "Above results means that there is a statistically significant linear relationship between **`'CreditScore'`** and the binary target, but the strength of this relationship is minimal."
   ]
  },
  {
   "cell_type": "markdown",
   "id": "af1c252b",
   "metadata": {
    "papermill": {
     "duration": 0.031705,
     "end_time": "2024-10-09T16:53:34.873270",
     "exception": false,
     "start_time": "2024-10-09T16:53:34.841565",
     "status": "completed"
    },
    "tags": []
   },
   "source": [
    "**`'Age'`**\n",
    "\n",
    "This continous feature behaves very kindly."
   ]
  },
  {
   "cell_type": "code",
   "execution_count": 36,
   "id": "7b8b7a87",
   "metadata": {
    "execution": {
     "iopub.execute_input": "2024-10-09T16:53:34.938448Z",
     "iopub.status.busy": "2024-10-09T16:53:34.937584Z",
     "iopub.status.idle": "2024-10-09T16:53:34.950660Z",
     "shell.execute_reply": "2024-10-09T16:53:34.949725Z"
    },
    "papermill": {
     "duration": 0.047918,
     "end_time": "2024-10-09T16:53:34.952633",
     "exception": false,
     "start_time": "2024-10-09T16:53:34.904715",
     "status": "completed"
    },
    "tags": []
   },
   "outputs": [
    {
     "data": {
      "text/html": [
       "<div>\n",
       "<style scoped>\n",
       "    .dataframe tbody tr th:only-of-type {\n",
       "        vertical-align: middle;\n",
       "    }\n",
       "\n",
       "    .dataframe tbody tr th {\n",
       "        vertical-align: top;\n",
       "    }\n",
       "\n",
       "    .dataframe thead th {\n",
       "        text-align: right;\n",
       "    }\n",
       "</style>\n",
       "<table border=\"1\" class=\"dataframe\">\n",
       "  <thead>\n",
       "    <tr style=\"text-align: right;\">\n",
       "      <th></th>\n",
       "      <th>Age</th>\n",
       "    </tr>\n",
       "  </thead>\n",
       "  <tbody>\n",
       "    <tr>\n",
       "      <th>count</th>\n",
       "      <td>15000.00</td>\n",
       "    </tr>\n",
       "    <tr>\n",
       "      <th>mean</th>\n",
       "      <td>37.81</td>\n",
       "    </tr>\n",
       "    <tr>\n",
       "      <th>std</th>\n",
       "      <td>8.24</td>\n",
       "    </tr>\n",
       "    <tr>\n",
       "      <th>min</th>\n",
       "      <td>18.00</td>\n",
       "    </tr>\n",
       "    <tr>\n",
       "      <th>25%</th>\n",
       "      <td>32.00</td>\n",
       "    </tr>\n",
       "    <tr>\n",
       "      <th>50%</th>\n",
       "      <td>37.00</td>\n",
       "    </tr>\n",
       "    <tr>\n",
       "      <th>75%</th>\n",
       "      <td>42.00</td>\n",
       "    </tr>\n",
       "    <tr>\n",
       "      <th>max</th>\n",
       "      <td>74.00</td>\n",
       "    </tr>\n",
       "  </tbody>\n",
       "</table>\n",
       "</div>"
      ],
      "text/plain": [
       "           Age\n",
       "count 15000.00\n",
       "mean     37.81\n",
       "std       8.24\n",
       "min      18.00\n",
       "25%      32.00\n",
       "50%      37.00\n",
       "75%      42.00\n",
       "max      74.00"
      ]
     },
     "execution_count": 36,
     "metadata": {},
     "output_type": "execute_result"
    }
   ],
   "source": [
    "train['Age'].to_frame().describe()"
   ]
  },
  {
   "cell_type": "code",
   "execution_count": 37,
   "id": "e1a7171c",
   "metadata": {
    "execution": {
     "iopub.execute_input": "2024-10-09T16:53:35.018950Z",
     "iopub.status.busy": "2024-10-09T16:53:35.018094Z",
     "iopub.status.idle": "2024-10-09T16:53:35.866734Z",
     "shell.execute_reply": "2024-10-09T16:53:35.865786Z"
    },
    "papermill": {
     "duration": 0.88444,
     "end_time": "2024-10-09T16:53:35.869466",
     "exception": false,
     "start_time": "2024-10-09T16:53:34.985026",
     "status": "completed"
    },
    "tags": []
   },
   "outputs": [
    {
     "data": {
      "image/png": "[encoded data removed]",
      "text/plain": [
       "<Figure size 800x300 with 2 Axes>"
      ]
     },
     "metadata": {},
     "output_type": "display_data"
    }
   ],
   "source": [
    "continous_eda('Age')"
   ]
  },
  {
   "cell_type": "code",
   "execution_count": 38,
   "id": "6b24c0e4",
   "metadata": {
    "execution": {
     "iopub.execute_input": "2024-10-09T16:53:35.937300Z",
     "iopub.status.busy": "2024-10-09T16:53:35.936938Z",
     "iopub.status.idle": "2024-10-09T16:53:35.945266Z",
     "shell.execute_reply": "2024-10-09T16:53:35.944230Z"
    },
    "papermill": {
     "duration": 0.044384,
     "end_time": "2024-10-09T16:53:35.947315",
     "exception": false,
     "start_time": "2024-10-09T16:53:35.902931",
     "status": "completed"
    },
    "tags": []
   },
   "outputs": [
    {
     "name": "stdout",
     "output_type": "stream",
     "text": [
      "Point Biserial Correlation between Age and Target: 0.46\n",
      "p_value: 0.00\n"
     ]
    }
   ],
   "source": [
    "corr, p_value = pointbiserialr(train['Age'], train['Exited'])\n",
    "print(f\"Point Biserial Correlation between Age and Target: {corr:.2f}\")\n",
    "print(f\"p_value: {p_value:.2f}\")"
   ]
  },
  {
   "cell_type": "markdown",
   "id": "ff48a0b6",
   "metadata": {
    "papermill": {
     "duration": 0.032484,
     "end_time": "2024-10-09T16:53:36.015433",
     "exception": false,
     "start_time": "2024-10-09T16:53:35.982949",
     "status": "completed"
    },
    "tags": []
   },
   "source": [
    "The results indicate that there is a statistically significant moderate positive linear relationship between **`'Age'`** and the target variable."
   ]
  },
  {
   "cell_type": "markdown",
   "id": "f1f4378d",
   "metadata": {
    "papermill": {
     "duration": 0.033235,
     "end_time": "2024-10-09T16:53:36.081974",
     "exception": false,
     "start_time": "2024-10-09T16:53:36.048739",
     "status": "completed"
    },
    "tags": []
   },
   "source": [
    "### Colinearity\n",
    "Let's examine linear correlations by creating a heatmap that includes all numeric features and the binary target variable. Note that the Pearson correlation coefficient is used in this heatmap, which will provide us with only a rough, general sense of collinearity among the variables at most."
   ]
  },
  {
   "cell_type": "code",
   "execution_count": 39,
   "id": "a960afcf",
   "metadata": {
    "execution": {
     "iopub.execute_input": "2024-10-09T16:53:36.149905Z",
     "iopub.status.busy": "2024-10-09T16:53:36.149195Z",
     "iopub.status.idle": "2024-10-09T16:53:36.840484Z",
     "shell.execute_reply": "2024-10-09T16:53:36.839588Z"
    },
    "papermill": {
     "duration": 0.728896,
     "end_time": "2024-10-09T16:53:36.843595",
     "exception": false,
     "start_time": "2024-10-09T16:53:36.114699",
     "status": "completed"
    },
    "tags": []
   },
   "outputs": [
    {
     "data": {
      "image/png": "[encoded data removed]",
      "text/plain": [
       "<Figure size 670x670 with 2 Axes>"
      ]
     },
     "metadata": {},
     "output_type": "display_data"
    }
   ],
   "source": [
    "# reordering columns\n",
    "numeric_cols = train.select_dtypes(exclude='object').columns\n",
    "cols_with_exited_poped = [col for col in numeric_cols if col != 'Exited'] + ['Exited']\n",
    "\n",
    "# Pearson coeff heatmap\n",
    "plt.figure(figsize=(6.7, 6.7))\n",
    "\n",
    "ax = sns.heatmap(train[cols_with_exited_poped].corr(), \n",
    "                 annot=True,\n",
    "                 fmt='.2f',\n",
    "                 square=True, \n",
    "                 cmap='coolwarm')\n",
    "\n",
    "ax.xaxis.set_label_position('top')\n",
    "ax.xaxis.set_ticks_position('top')\n",
    "ax.xaxis.set_tick_params(labelsize=12, rotation=65)\n",
    "ax.yaxis.set_tick_params(labelsize=12)\n",
    "\n",
    "plt.show()"
   ]
  },
  {
   "cell_type": "markdown",
   "id": "eb1727f5",
   "metadata": {
    "papermill": {
     "duration": 0.034804,
     "end_time": "2024-10-09T16:53:36.913963",
     "exception": false,
     "start_time": "2024-10-09T16:53:36.879159",
     "status": "completed"
    },
    "tags": []
   },
   "source": [
    "Collinearity among our features does not appear to be a major issue. If it were, methods like **`PCA`** could be applied to address it. \n",
    "\n",
    "Moreover, **`RandomForestClassifier`** is generally robust to collinearity among features. Here's why:\n",
    "* **Decision Trees Structure**: Random forests are composed of multiple decision trees, and each tree is built using a random subset of the features (due to feature bagging). This means that not all trees will include the collinear features, reducing the impact of collinearity on the model as a whole.\n",
    "* **Feature Importance**: In random forests, if two or more features are highly correlated (collinear), the model might distribute the importance among them. However, because each tree in the forest can select different subsets of features, the overall importance of these correlated features is diluted across the forest.\n",
    "* **Model Averaging**: Since the final prediction of a random forest is based on the average or majority vote of all the trees, the effect of collinearity is further minimized compared to models like linear regression, where collinearity can directly affect the coefficients and lead to instability."
   ]
  },
  {
   "cell_type": "markdown",
   "id": "7fe5ba5d",
   "metadata": {
    "papermill": {
     "duration": 0.040802,
     "end_time": "2024-10-09T16:53:36.990517",
     "exception": false,
     "start_time": "2024-10-09T16:53:36.949715",
     "status": "completed"
    },
    "tags": []
   },
   "source": [
    "## Train / Test Split\n",
    "Train/test splitting is typically done before statistical testing or model training to prevent data leakage, which occurs when information from the test set unintentionally influences the model during training."
   ]
  },
  {
   "cell_type": "code",
   "execution_count": 40,
   "id": "8d2ff656",
   "metadata": {
    "execution": {
     "iopub.execute_input": "2024-10-09T16:53:37.080812Z",
     "iopub.status.busy": "2024-10-09T16:53:37.080088Z",
     "iopub.status.idle": "2024-10-09T16:53:37.183287Z",
     "shell.execute_reply": "2024-10-09T16:53:37.182492Z"
    },
    "papermill": {
     "duration": 0.146761,
     "end_time": "2024-10-09T16:53:37.185534",
     "exception": false,
     "start_time": "2024-10-09T16:53:37.038773",
     "status": "completed"
    },
    "tags": []
   },
   "outputs": [],
   "source": [
    "from sklearn.model_selection import train_test_split\n",
    "\n",
    "y = train.Exited\n",
    "X = train.drop('Exited', axis=1)\n",
    "X_train, X_test, y_train, y_test = train_test_split(X, y, test_size=0.2, stratify=train.Exited)"
   ]
  },
  {
   "cell_type": "markdown",
   "id": "6eb0fd73",
   "metadata": {
    "papermill": {
     "duration": 0.034823,
     "end_time": "2024-10-09T16:53:37.255574",
     "exception": false,
     "start_time": "2024-10-09T16:53:37.220751",
     "status": "completed"
    },
    "tags": []
   },
   "source": [
    "Due to the sufficiently large size of the ***`train`*** dataframe, the distribution of the target variable **`'Exited'`** in ***`y_test`*** is expected to closely resemble that in ***`train.Exited`***. This expectation is supported by the law of large numbers, which suggests that larger samples tend to reflect the true population distribution more accurately. However, to ensure that the distribution of ***`train.Exited`*** is preserved, we explicitly set the **`stratify`** parameter accordingly. This parameter is particularly useful when working with smaller samples, as it helps maintain the target distribution across both, ***`y_train`*** and ***`y_test`***."
   ]
  },
  {
   "cell_type": "markdown",
   "id": "b3c2f084",
   "metadata": {
    "papermill": {
     "duration": 0.034916,
     "end_time": "2024-10-09T16:53:37.325816",
     "exception": false,
     "start_time": "2024-10-09T16:53:37.290900",
     "status": "completed"
    },
    "tags": []
   },
   "source": [
    "### Training data summary"
   ]
  },
  {
   "cell_type": "code",
   "execution_count": 41,
   "id": "529ebab8",
   "metadata": {
    "execution": {
     "iopub.execute_input": "2024-10-09T16:53:37.398173Z",
     "iopub.status.busy": "2024-10-09T16:53:37.397395Z",
     "iopub.status.idle": "2024-10-09T16:53:37.403215Z",
     "shell.execute_reply": "2024-10-09T16:53:37.402332Z"
    },
    "papermill": {
     "duration": 0.045235,
     "end_time": "2024-10-09T16:53:37.405579",
     "exception": false,
     "start_time": "2024-10-09T16:53:37.360344",
     "status": "completed"
    },
    "tags": []
   },
   "outputs": [
    {
     "name": "stdout",
     "output_type": "stream",
     "text": [
      "Number of rows: 12000\n",
      "Number of columns: 12\n",
      "Data types: {dtype('float64'), dtype('O'), dtype('int64')}\n"
     ]
    }
   ],
   "source": [
    "# formal issues\n",
    "print(f'Number of rows: {X_train.shape[0]}')\n",
    "print(f'Number of columns: {X_train.shape[1]}')\n",
    "print(f'Data types: {set(X_train.dtypes.values)}')"
   ]
  },
  {
   "cell_type": "code",
   "execution_count": 42,
   "id": "d8572f30",
   "metadata": {
    "execution": {
     "iopub.execute_input": "2024-10-09T16:53:37.482275Z",
     "iopub.status.busy": "2024-10-09T16:53:37.481908Z",
     "iopub.status.idle": "2024-10-09T16:53:37.497521Z",
     "shell.execute_reply": "2024-10-09T16:53:37.496480Z"
    },
    "papermill": {
     "duration": 0.057784,
     "end_time": "2024-10-09T16:53:37.499513",
     "exception": false,
     "start_time": "2024-10-09T16:53:37.441729",
     "status": "completed"
    },
    "tags": []
   },
   "outputs": [
    {
     "data": {
      "text/html": [
       "<div>\n",
       "<style scoped>\n",
       "    .dataframe tbody tr th:only-of-type {\n",
       "        vertical-align: middle;\n",
       "    }\n",
       "\n",
       "    .dataframe tbody tr th {\n",
       "        vertical-align: top;\n",
       "    }\n",
       "\n",
       "    .dataframe thead th {\n",
       "        text-align: right;\n",
       "    }\n",
       "</style>\n",
       "<table border=\"1\" class=\"dataframe\">\n",
       "  <thead>\n",
       "    <tr style=\"text-align: right;\">\n",
       "      <th></th>\n",
       "      <th>CreditScore</th>\n",
       "      <th>Geography</th>\n",
       "      <th>Gender</th>\n",
       "      <th>Age</th>\n",
       "      <th>Tenure</th>\n",
       "      <th>Balance</th>\n",
       "      <th>NumOfProducts</th>\n",
       "      <th>HasCrCard</th>\n",
       "      <th>IsActiveMember</th>\n",
       "      <th>EstimatedSalary</th>\n",
       "      <th>EstimatedSalary_binned</th>\n",
       "      <th>HasBalance</th>\n",
       "    </tr>\n",
       "  </thead>\n",
       "  <tbody>\n",
       "    <tr>\n",
       "      <th>3775</th>\n",
       "      <td>691.00</td>\n",
       "      <td>France</td>\n",
       "      <td>Male</td>\n",
       "      <td>32.00</td>\n",
       "      <td>2</td>\n",
       "      <td>0.00</td>\n",
       "      <td>2</td>\n",
       "      <td>1.0</td>\n",
       "      <td>1.0</td>\n",
       "      <td>124592.84</td>\n",
       "      <td>5</td>\n",
       "      <td>0</td>\n",
       "    </tr>\n",
       "    <tr>\n",
       "      <th>12024</th>\n",
       "      <td>567.00</td>\n",
       "      <td>France</td>\n",
       "      <td>Female</td>\n",
       "      <td>24.00</td>\n",
       "      <td>5</td>\n",
       "      <td>0.00</td>\n",
       "      <td>2</td>\n",
       "      <td>0.0</td>\n",
       "      <td>0.0</td>\n",
       "      <td>184842.21</td>\n",
       "      <td>9</td>\n",
       "      <td>0</td>\n",
       "    </tr>\n",
       "    <tr>\n",
       "      <th>7498</th>\n",
       "      <td>516.00</td>\n",
       "      <td>France</td>\n",
       "      <td>Male</td>\n",
       "      <td>39.00</td>\n",
       "      <td>1</td>\n",
       "      <td>0.00</td>\n",
       "      <td>2</td>\n",
       "      <td>1.0</td>\n",
       "      <td>1.0</td>\n",
       "      <td>71175.94</td>\n",
       "      <td>1</td>\n",
       "      <td>0</td>\n",
       "    </tr>\n",
       "    <tr>\n",
       "      <th>2679</th>\n",
       "      <td>558.00</td>\n",
       "      <td>France</td>\n",
       "      <td>Female</td>\n",
       "      <td>48.00</td>\n",
       "      <td>1</td>\n",
       "      <td>135096.05</td>\n",
       "      <td>3</td>\n",
       "      <td>1.0</td>\n",
       "      <td>0.0</td>\n",
       "      <td>57572.38</td>\n",
       "      <td>1</td>\n",
       "      <td>1</td>\n",
       "    </tr>\n",
       "    <tr>\n",
       "      <th>6232</th>\n",
       "      <td>595.00</td>\n",
       "      <td>France</td>\n",
       "      <td>Male</td>\n",
       "      <td>25.00</td>\n",
       "      <td>3</td>\n",
       "      <td>0.00</td>\n",
       "      <td>2</td>\n",
       "      <td>1.0</td>\n",
       "      <td>0.0</td>\n",
       "      <td>48924.73</td>\n",
       "      <td>0</td>\n",
       "      <td>0</td>\n",
       "    </tr>\n",
       "  </tbody>\n",
       "</table>\n",
       "</div>"
      ],
      "text/plain": [
       "       CreditScore Geography  Gender   Age  Tenure   Balance  NumOfProducts  \\\n",
       "3775        691.00    France    Male 32.00       2      0.00              2   \n",
       "12024       567.00    France  Female 24.00       5      0.00              2   \n",
       "7498        516.00    France    Male 39.00       1      0.00              2   \n",
       "2679        558.00    France  Female 48.00       1 135096.05              3   \n",
       "6232        595.00    France    Male 25.00       3      0.00              2   \n",
       "\n",
       "      HasCrCard IsActiveMember  EstimatedSalary  EstimatedSalary_binned  \\\n",
       "3775        1.0            1.0        124592.84                       5   \n",
       "12024       0.0            0.0        184842.21                       9   \n",
       "7498        1.0            1.0         71175.94                       1   \n",
       "2679        1.0            0.0         57572.38                       1   \n",
       "6232        1.0            0.0         48924.73                       0   \n",
       "\n",
       "      HasBalance  \n",
       "3775           0  \n",
       "12024          0  \n",
       "7498           0  \n",
       "2679           1  \n",
       "6232           0  "
      ]
     },
     "execution_count": 42,
     "metadata": {},
     "output_type": "execute_result"
    }
   ],
   "source": [
    "X_train.sample(5)"
   ]
  },
  {
   "cell_type": "code",
   "execution_count": 43,
   "id": "38713d2d",
   "metadata": {
    "execution": {
     "iopub.execute_input": "2024-10-09T16:53:37.573311Z",
     "iopub.status.busy": "2024-10-09T16:53:37.572458Z",
     "iopub.status.idle": "2024-10-09T16:53:37.593395Z",
     "shell.execute_reply": "2024-10-09T16:53:37.592345Z"
    },
    "papermill": {
     "duration": 0.060054,
     "end_time": "2024-10-09T16:53:37.595446",
     "exception": false,
     "start_time": "2024-10-09T16:53:37.535392",
     "status": "completed"
    },
    "tags": []
   },
   "outputs": [
    {
     "data": {
      "text/html": [
       "<div>\n",
       "<style scoped>\n",
       "    .dataframe tbody tr th:only-of-type {\n",
       "        vertical-align: middle;\n",
       "    }\n",
       "\n",
       "    .dataframe tbody tr th {\n",
       "        vertical-align: top;\n",
       "    }\n",
       "\n",
       "    .dataframe thead th {\n",
       "        text-align: right;\n",
       "    }\n",
       "</style>\n",
       "<table border=\"1\" class=\"dataframe\">\n",
       "  <thead>\n",
       "    <tr style=\"text-align: right;\">\n",
       "      <th></th>\n",
       "      <th>dtype</th>\n",
       "      <th>nunique_vals</th>\n",
       "    </tr>\n",
       "    <tr>\n",
       "      <th>feature</th>\n",
       "      <th></th>\n",
       "      <th></th>\n",
       "    </tr>\n",
       "  </thead>\n",
       "  <tbody>\n",
       "    <tr>\n",
       "      <th>EstimatedSalary</th>\n",
       "      <td>float64</td>\n",
       "      <td>5482</td>\n",
       "    </tr>\n",
       "    <tr>\n",
       "      <th>Balance</th>\n",
       "      <td>float64</td>\n",
       "      <td>2909</td>\n",
       "    </tr>\n",
       "    <tr>\n",
       "      <th>CreditScore</th>\n",
       "      <td>float64</td>\n",
       "      <td>371</td>\n",
       "    </tr>\n",
       "    <tr>\n",
       "      <th>Age</th>\n",
       "      <td>float64</td>\n",
       "      <td>55</td>\n",
       "    </tr>\n",
       "    <tr>\n",
       "      <th>Tenure</th>\n",
       "      <td>int64</td>\n",
       "      <td>11</td>\n",
       "    </tr>\n",
       "    <tr>\n",
       "      <th>EstimatedSalary_binned</th>\n",
       "      <td>int64</td>\n",
       "      <td>10</td>\n",
       "    </tr>\n",
       "    <tr>\n",
       "      <th>NumOfProducts</th>\n",
       "      <td>int64</td>\n",
       "      <td>3</td>\n",
       "    </tr>\n",
       "    <tr>\n",
       "      <th>Geography</th>\n",
       "      <td>object</td>\n",
       "      <td>3</td>\n",
       "    </tr>\n",
       "    <tr>\n",
       "      <th>Gender</th>\n",
       "      <td>object</td>\n",
       "      <td>2</td>\n",
       "    </tr>\n",
       "    <tr>\n",
       "      <th>HasCrCard</th>\n",
       "      <td>object</td>\n",
       "      <td>2</td>\n",
       "    </tr>\n",
       "    <tr>\n",
       "      <th>IsActiveMember</th>\n",
       "      <td>object</td>\n",
       "      <td>2</td>\n",
       "    </tr>\n",
       "    <tr>\n",
       "      <th>HasBalance</th>\n",
       "      <td>object</td>\n",
       "      <td>2</td>\n",
       "    </tr>\n",
       "  </tbody>\n",
       "</table>\n",
       "</div>"
      ],
      "text/plain": [
       "                          dtype  nunique_vals\n",
       "feature                                      \n",
       "EstimatedSalary         float64          5482\n",
       "Balance                 float64          2909\n",
       "CreditScore             float64           371\n",
       "Age                     float64            55\n",
       "Tenure                    int64            11\n",
       "EstimatedSalary_binned    int64            10\n",
       "NumOfProducts             int64             3\n",
       "Geography                object             3\n",
       "Gender                   object             2\n",
       "HasCrCard                object             2\n",
       "IsActiveMember           object             2\n",
       "HasBalance               object             2"
      ]
     },
     "execution_count": 43,
     "metadata": {},
     "output_type": "execute_result"
    }
   ],
   "source": [
    "columns_info(X_train)"
   ]
  },
  {
   "cell_type": "markdown",
   "id": "f5137a12",
   "metadata": {
    "papermill": {
     "duration": 0.035544,
     "end_time": "2024-10-09T16:53:37.666751",
     "exception": false,
     "start_time": "2024-10-09T16:53:37.631207",
     "status": "completed"
    },
    "tags": []
   },
   "source": [
    "## Statististical Significance Testing"
   ]
  },
  {
   "cell_type": "markdown",
   "id": "d657624d",
   "metadata": {
    "papermill": {
     "duration": 0.035397,
     "end_time": "2024-10-09T16:53:37.737751",
     "exception": false,
     "start_time": "2024-10-09T16:53:37.702354",
     "status": "completed"
    },
    "tags": []
   },
   "source": [
    "**Numeric features**\n",
    "\n",
    "Since the target is binary, we can split the data into two groups based on the target variable and use the **`Mann-Whitney U test`** to determine if the distributions of our continuous or ordinal features differ significantly between these two groups. The **`Mann-Whitney U test`** is a non-parametric test (assumption of normality is not necessary) appropriate for significance testing here both, continuous and ordinal variables. "
   ]
  },
  {
   "cell_type": "code",
   "execution_count": 44,
   "id": "26222248",
   "metadata": {
    "execution": {
     "iopub.execute_input": "2024-10-09T16:53:37.812061Z",
     "iopub.status.busy": "2024-10-09T16:53:37.811210Z",
     "iopub.status.idle": "2024-10-09T16:53:37.818291Z",
     "shell.execute_reply": "2024-10-09T16:53:37.817351Z"
    },
    "papermill": {
     "duration": 0.045796,
     "end_time": "2024-10-09T16:53:37.820147",
     "exception": false,
     "start_time": "2024-10-09T16:53:37.774351",
     "status": "completed"
    },
    "tags": []
   },
   "outputs": [
    {
     "name": "stdout",
     "output_type": "stream",
     "text": [
      "CreditScore\n",
      "Age\n",
      "Tenure\n",
      "Balance\n",
      "NumOfProducts\n",
      "EstimatedSalary\n",
      "EstimatedSalary_binned\n"
     ]
    }
   ],
   "source": [
    "for feature in X_train.select_dtypes(exclude='object').columns:\n",
    "    print(feature)"
   ]
  },
  {
   "cell_type": "code",
   "execution_count": 45,
   "id": "accb0c44",
   "metadata": {
    "execution": {
     "iopub.execute_input": "2024-10-09T16:53:37.894765Z",
     "iopub.status.busy": "2024-10-09T16:53:37.893972Z",
     "iopub.status.idle": "2024-10-09T16:53:37.940491Z",
     "shell.execute_reply": "2024-10-09T16:53:37.939446Z"
    },
    "papermill": {
     "duration": 0.086527,
     "end_time": "2024-10-09T16:53:37.942626",
     "exception": false,
     "start_time": "2024-10-09T16:53:37.856099",
     "status": "completed"
    },
    "tags": []
   },
   "outputs": [
    {
     "name": "stdout",
     "output_type": "stream",
     "text": [
      "CreditScore is statistically significant.\n",
      "Age is statistically significant.\n",
      "Tenure is statistically significant.\n",
      "Balance is statistically significant.\n",
      "NumOfProducts is statistically significant.\n",
      "EstimatedSalary is statistically significant.\n",
      "EstimatedSalary_binned is statistically significant.\n"
     ]
    }
   ],
   "source": [
    "from scipy.stats import mannwhitneyu\n",
    "\n",
    "df_train = pd.concat([X_train, y_train], axis=1)\n",
    "\n",
    "for feature in X_train.select_dtypes(exclude='object').columns:\n",
    "    group_0 = df_train[df_train['Exited']==0][feature]\n",
    "    group_1 = df_train[df_train['Exited']==1][feature]\n",
    "    stat, p = mannwhitneyu(group_0, group_1, alternative='two-sided')\n",
    "    if p < 0.05:\n",
    "        print('{} is statistically significant.'.format(feature))"
   ]
  },
  {
   "cell_type": "markdown",
   "id": "e28ebdd1",
   "metadata": {
    "papermill": {
     "duration": 0.035807,
     "end_time": "2024-10-09T16:53:38.015054",
     "exception": false,
     "start_time": "2024-10-09T16:53:37.979247",
     "status": "completed"
    },
    "tags": []
   },
   "source": [
    "**Nominal features**\n",
    "\n",
    "The **`chi2_contingency test`** is used to determine if there is a significant association between two categorical variables. It assesses whether the observed frequencies in each category are significantly different from the expected frequencies under the assumption of independence. This test is also non-parametric, meaning it does not assume any specific distribution for the data."
   ]
  },
  {
   "cell_type": "code",
   "execution_count": 46,
   "id": "3ea73e71",
   "metadata": {
    "execution": {
     "iopub.execute_input": "2024-10-09T16:53:38.088984Z",
     "iopub.status.busy": "2024-10-09T16:53:38.088612Z",
     "iopub.status.idle": "2024-10-09T16:53:38.141356Z",
     "shell.execute_reply": "2024-10-09T16:53:38.140335Z"
    },
    "papermill": {
     "duration": 0.092478,
     "end_time": "2024-10-09T16:53:38.143400",
     "exception": false,
     "start_time": "2024-10-09T16:53:38.050922",
     "status": "completed"
    },
    "tags": []
   },
   "outputs": [
    {
     "name": "stdout",
     "output_type": "stream",
     "text": [
      "Geography is statistically significant.\n",
      "Gender is statistically significant.\n",
      "HasCrCard is statistically significant.\n",
      "IsActiveMember is statistically significant.\n",
      "HasBalance is statistically significant.\n"
     ]
    }
   ],
   "source": [
    "from scipy.stats import chi2_contingency\n",
    "\n",
    "for feature in X_train.select_dtypes(include='object').columns:\n",
    "    contingency_table = pd.crosstab(df_train[feature], df_train['Exited'])\n",
    "    chi2_stat, p_val, dof, expected = chi2_contingency(contingency_table)\n",
    "    if p < 0.05:\n",
    "        print('{} is statistically significant.'.format(feature))"
   ]
  },
  {
   "cell_type": "markdown",
   "id": "14fb755f",
   "metadata": {
    "papermill": {
     "duration": 0.035897,
     "end_time": "2024-10-09T16:53:38.215530",
     "exception": false,
     "start_time": "2024-10-09T16:53:38.179633",
     "status": "completed"
    },
    "tags": []
   },
   "source": [
    "## Preprocessing\n",
    "The **`RandomForestClassifier`** does not require the application of a **StandardScaler**, **MinMaxScaler**, or other scaling methods to numeric features, which is more the exception than the rule, as most other algorithms are sensitive to feature scaling. However, nominal features need to be converted to numeric format, so **One-Hot Encoding** should be applied to these variables. **One-hot Encoding** converts categorical variables into binary vectors, where each unique category is represented by a separate binary feature, with a value of 1 indicating the presence of that category and 0 indicating its absence."
   ]
  },
  {
   "cell_type": "code",
   "execution_count": 47,
   "id": "07e456c7",
   "metadata": {
    "execution": {
     "iopub.execute_input": "2024-10-09T16:53:38.288944Z",
     "iopub.status.busy": "2024-10-09T16:53:38.288519Z",
     "iopub.status.idle": "2024-10-09T16:53:38.298310Z",
     "shell.execute_reply": "2024-10-09T16:53:38.297603Z"
    },
    "papermill": {
     "duration": 0.048991,
     "end_time": "2024-10-09T16:53:38.300188",
     "exception": false,
     "start_time": "2024-10-09T16:53:38.251197",
     "status": "completed"
    },
    "tags": []
   },
   "outputs": [],
   "source": [
    "from sklearn.compose import make_column_transformer"
   ]
  },
  {
   "cell_type": "markdown",
   "id": "a2830dcf",
   "metadata": {
    "papermill": {
     "duration": 0.035738,
     "end_time": "2024-10-09T16:53:38.372512",
     "exception": false,
     "start_time": "2024-10-09T16:53:38.336774",
     "status": "completed"
    },
    "tags": []
   },
   "source": [
    "The **`make_column_transformer`** function from **`sklearn.compose`** is a powerful tool for preprocessing data in machine learning pipelines. It allows you to apply different preprocessing steps to different columns in your dataset. Two main features are:\n",
    "* **Column-Specific Transformations**: You can specify different preprocessing steps for different columns based on their data types. For example, you might want to apply one-hot encoding to categorical columns and scaling to numerical columns.\n",
    "* **Seamless Integration**: make_column_transformer integrates well with Pipeline from sklearn.pipeline, making it easy to include preprocessing steps as part of a complete machine learning workflow.\n",
    "\n",
    "Let's have a look at preprocessed data:"
   ]
  },
  {
   "cell_type": "code",
   "execution_count": 48,
   "id": "4afbb7ab",
   "metadata": {
    "execution": {
     "iopub.execute_input": "2024-10-09T16:53:38.446706Z",
     "iopub.status.busy": "2024-10-09T16:53:38.446292Z",
     "iopub.status.idle": "2024-10-09T16:53:38.506348Z",
     "shell.execute_reply": "2024-10-09T16:53:38.505356Z"
    },
    "papermill": {
     "duration": 0.099704,
     "end_time": "2024-10-09T16:53:38.508490",
     "exception": false,
     "start_time": "2024-10-09T16:53:38.408786",
     "status": "completed"
    },
    "tags": []
   },
   "outputs": [
    {
     "data": {
      "text/html": [
       "<div>\n",
       "<style scoped>\n",
       "    .dataframe tbody tr th:only-of-type {\n",
       "        vertical-align: middle;\n",
       "    }\n",
       "\n",
       "    .dataframe tbody tr th {\n",
       "        vertical-align: top;\n",
       "    }\n",
       "\n",
       "    .dataframe thead th {\n",
       "        text-align: right;\n",
       "    }\n",
       "</style>\n",
       "<table border=\"1\" class=\"dataframe\">\n",
       "  <thead>\n",
       "    <tr style=\"text-align: right;\">\n",
       "      <th></th>\n",
       "      <th>0</th>\n",
       "      <th>1</th>\n",
       "      <th>2</th>\n",
       "      <th>3</th>\n",
       "      <th>4</th>\n",
       "      <th>5</th>\n",
       "      <th>6</th>\n",
       "      <th>7</th>\n",
       "      <th>8</th>\n",
       "      <th>9</th>\n",
       "      <th>10</th>\n",
       "      <th>11</th>\n",
       "      <th>12</th>\n",
       "    </tr>\n",
       "  </thead>\n",
       "  <tbody>\n",
       "    <tr>\n",
       "      <th>0</th>\n",
       "      <td>0.00</td>\n",
       "      <td>0.00</td>\n",
       "      <td>0.00</td>\n",
       "      <td>1.00</td>\n",
       "      <td>1.00</td>\n",
       "      <td>0.00</td>\n",
       "      <td>649.00</td>\n",
       "      <td>41.00</td>\n",
       "      <td>2.00</td>\n",
       "      <td>0.00</td>\n",
       "      <td>2.00</td>\n",
       "      <td>38691.34</td>\n",
       "      <td>0.00</td>\n",
       "    </tr>\n",
       "    <tr>\n",
       "      <th>1</th>\n",
       "      <td>0.00</td>\n",
       "      <td>1.00</td>\n",
       "      <td>1.00</td>\n",
       "      <td>1.00</td>\n",
       "      <td>0.00</td>\n",
       "      <td>0.00</td>\n",
       "      <td>724.00</td>\n",
       "      <td>46.00</td>\n",
       "      <td>8.00</td>\n",
       "      <td>0.00</td>\n",
       "      <td>1.00</td>\n",
       "      <td>180712.52</td>\n",
       "      <td>9.00</td>\n",
       "    </tr>\n",
       "    <tr>\n",
       "      <th>2</th>\n",
       "      <td>0.00</td>\n",
       "      <td>0.00</td>\n",
       "      <td>1.00</td>\n",
       "      <td>1.00</td>\n",
       "      <td>1.00</td>\n",
       "      <td>1.00</td>\n",
       "      <td>697.00</td>\n",
       "      <td>31.00</td>\n",
       "      <td>2.00</td>\n",
       "      <td>101707.70</td>\n",
       "      <td>1.00</td>\n",
       "      <td>153566.97</td>\n",
       "      <td>7.00</td>\n",
       "    </tr>\n",
       "    <tr>\n",
       "      <th>3</th>\n",
       "      <td>0.00</td>\n",
       "      <td>1.00</td>\n",
       "      <td>1.00</td>\n",
       "      <td>1.00</td>\n",
       "      <td>0.00</td>\n",
       "      <td>0.00</td>\n",
       "      <td>629.00</td>\n",
       "      <td>37.00</td>\n",
       "      <td>5.00</td>\n",
       "      <td>0.00</td>\n",
       "      <td>2.00</td>\n",
       "      <td>167984.72</td>\n",
       "      <td>8.00</td>\n",
       "    </tr>\n",
       "    <tr>\n",
       "      <th>4</th>\n",
       "      <td>0.00</td>\n",
       "      <td>0.00</td>\n",
       "      <td>0.00</td>\n",
       "      <td>1.00</td>\n",
       "      <td>0.00</td>\n",
       "      <td>0.00</td>\n",
       "      <td>637.00</td>\n",
       "      <td>35.00</td>\n",
       "      <td>7.00</td>\n",
       "      <td>0.00</td>\n",
       "      <td>1.00</td>\n",
       "      <td>121408.56</td>\n",
       "      <td>4.00</td>\n",
       "    </tr>\n",
       "    <tr>\n",
       "      <th>...</th>\n",
       "      <td>...</td>\n",
       "      <td>...</td>\n",
       "      <td>...</td>\n",
       "      <td>...</td>\n",
       "      <td>...</td>\n",
       "      <td>...</td>\n",
       "      <td>...</td>\n",
       "      <td>...</td>\n",
       "      <td>...</td>\n",
       "      <td>...</td>\n",
       "      <td>...</td>\n",
       "      <td>...</td>\n",
       "      <td>...</td>\n",
       "    </tr>\n",
       "    <tr>\n",
       "      <th>11995</th>\n",
       "      <td>0.00</td>\n",
       "      <td>0.00</td>\n",
       "      <td>1.00</td>\n",
       "      <td>1.00</td>\n",
       "      <td>0.00</td>\n",
       "      <td>0.00</td>\n",
       "      <td>634.00</td>\n",
       "      <td>33.00</td>\n",
       "      <td>3.00</td>\n",
       "      <td>0.00</td>\n",
       "      <td>2.00</td>\n",
       "      <td>170829.87</td>\n",
       "      <td>8.00</td>\n",
       "    </tr>\n",
       "    <tr>\n",
       "      <th>11996</th>\n",
       "      <td>0.00</td>\n",
       "      <td>1.00</td>\n",
       "      <td>0.00</td>\n",
       "      <td>1.00</td>\n",
       "      <td>0.00</td>\n",
       "      <td>1.00</td>\n",
       "      <td>790.00</td>\n",
       "      <td>40.00</td>\n",
       "      <td>2.00</td>\n",
       "      <td>87779.83</td>\n",
       "      <td>2.00</td>\n",
       "      <td>131736.23</td>\n",
       "      <td>5.00</td>\n",
       "    </tr>\n",
       "    <tr>\n",
       "      <th>11997</th>\n",
       "      <td>1.00</td>\n",
       "      <td>0.00</td>\n",
       "      <td>0.00</td>\n",
       "      <td>1.00</td>\n",
       "      <td>1.00</td>\n",
       "      <td>1.00</td>\n",
       "      <td>662.00</td>\n",
       "      <td>27.00</td>\n",
       "      <td>2.00</td>\n",
       "      <td>93833.86</td>\n",
       "      <td>2.00</td>\n",
       "      <td>54871.02</td>\n",
       "      <td>0.00</td>\n",
       "    </tr>\n",
       "    <tr>\n",
       "      <th>11998</th>\n",
       "      <td>0.00</td>\n",
       "      <td>0.00</td>\n",
       "      <td>0.00</td>\n",
       "      <td>1.00</td>\n",
       "      <td>1.00</td>\n",
       "      <td>0.00</td>\n",
       "      <td>607.00</td>\n",
       "      <td>42.00</td>\n",
       "      <td>1.00</td>\n",
       "      <td>0.00</td>\n",
       "      <td>2.00</td>\n",
       "      <td>159718.15</td>\n",
       "      <td>7.00</td>\n",
       "    </tr>\n",
       "    <tr>\n",
       "      <th>11999</th>\n",
       "      <td>0.00</td>\n",
       "      <td>0.00</td>\n",
       "      <td>0.00</td>\n",
       "      <td>1.00</td>\n",
       "      <td>0.00</td>\n",
       "      <td>0.00</td>\n",
       "      <td>684.00</td>\n",
       "      <td>32.00</td>\n",
       "      <td>8.00</td>\n",
       "      <td>0.00</td>\n",
       "      <td>2.00</td>\n",
       "      <td>149384.43</td>\n",
       "      <td>7.00</td>\n",
       "    </tr>\n",
       "  </tbody>\n",
       "</table>\n",
       "<p>12000 rows × 13 columns</p>\n",
       "</div>"
      ],
      "text/plain": [
       "        0    1    2    3    4    5      6     7    8         9    10  \\\n",
       "0     0.00 0.00 0.00 1.00 1.00 0.00 649.00 41.00 2.00      0.00 2.00   \n",
       "1     0.00 1.00 1.00 1.00 0.00 0.00 724.00 46.00 8.00      0.00 1.00   \n",
       "2     0.00 0.00 1.00 1.00 1.00 1.00 697.00 31.00 2.00 101707.70 1.00   \n",
       "3     0.00 1.00 1.00 1.00 0.00 0.00 629.00 37.00 5.00      0.00 2.00   \n",
       "4     0.00 0.00 0.00 1.00 0.00 0.00 637.00 35.00 7.00      0.00 1.00   \n",
       "...    ...  ...  ...  ...  ...  ...    ...   ...  ...       ...  ...   \n",
       "11995 0.00 0.00 1.00 1.00 0.00 0.00 634.00 33.00 3.00      0.00 2.00   \n",
       "11996 0.00 1.00 0.00 1.00 0.00 1.00 790.00 40.00 2.00  87779.83 2.00   \n",
       "11997 1.00 0.00 0.00 1.00 1.00 1.00 662.00 27.00 2.00  93833.86 2.00   \n",
       "11998 0.00 0.00 0.00 1.00 1.00 0.00 607.00 42.00 1.00      0.00 2.00   \n",
       "11999 0.00 0.00 0.00 1.00 0.00 0.00 684.00 32.00 8.00      0.00 2.00   \n",
       "\n",
       "             11   12  \n",
       "0      38691.34 0.00  \n",
       "1     180712.52 9.00  \n",
       "2     153566.97 7.00  \n",
       "3     167984.72 8.00  \n",
       "4     121408.56 4.00  \n",
       "...         ...  ...  \n",
       "11995 170829.87 8.00  \n",
       "11996 131736.23 5.00  \n",
       "11997  54871.02 0.00  \n",
       "11998 159718.15 7.00  \n",
       "11999 149384.43 7.00  \n",
       "\n",
       "[12000 rows x 13 columns]"
      ]
     },
     "execution_count": 48,
     "metadata": {},
     "output_type": "execute_result"
    }
   ],
   "source": [
    "from sklearn.preprocessing import OneHotEncoder\n",
    "\n",
    "prep = make_column_transformer((OneHotEncoder(drop='first'), X_train.select_dtypes(include='object').columns), remainder='passthrough')\n",
    "\n",
    "X_train_transformed = prep.fit_transform(X_train)\n",
    "X_train_transformed = pd.DataFrame(X_train_transformed)\n",
    "X_train_transformed"
   ]
  },
  {
   "cell_type": "markdown",
   "id": "50eacce3",
   "metadata": {
    "papermill": {
     "duration": 0.03631,
     "end_time": "2024-10-09T16:53:38.585002",
     "exception": false,
     "start_time": "2024-10-09T16:53:38.548692",
     "status": "completed"
    },
    "tags": []
   },
   "source": [
    "# 2) Model Training\n",
    "All essential components are brought together in this section to perform machine learning with **`RandomForestClassifier`**."
   ]
  },
  {
   "cell_type": "markdown",
   "id": "a90c6463",
   "metadata": {
    "papermill": {
     "duration": 0.036936,
     "end_time": "2024-10-09T16:53:38.658589",
     "exception": false,
     "start_time": "2024-10-09T16:53:38.621653",
     "status": "completed"
    },
    "tags": []
   },
   "source": [
    "Quick Reminder:\n",
    "\n",
    "\n",
    "**`K-fold cross-validation (CV)`** is a technique used to evaluate a machine learning model's performance by making the most efficient use of the available data. Here's how it works:\n",
    "1. **Data Splitting**: The dataset is randomly divided into K equal-sized subsets or \"folds\".\n",
    "2. **Training and Validation**: The model is trained on K-1 folds and tested on the remaining fold. This process is repeated K times, with each fold serving as the test set exactly once.\n",
    "3. **Performance Averaging**: The results from all K iterations are averaged to give a more reliable estimate of the model's performance."
   ]
  },
  {
   "cell_type": "markdown",
   "id": "ae7cf963",
   "metadata": {
    "papermill": {
     "duration": 0.036255,
     "end_time": "2024-10-09T16:53:38.733629",
     "exception": false,
     "start_time": "2024-10-09T16:53:38.697374",
     "status": "completed"
    },
    "tags": []
   },
   "source": [
    "**Pipeline**\n",
    "\n",
    "To proceed with training, we need to use the already defined **prep** object, import **`RandomForestClassifier`**, and instantiate a pipeline with `make_pipeline()` to chain multiple steps into a single workflow. Note that `class_weight='balanced'` is specified to mitigate the impact of an imbalanced target distribution."
   ]
  },
  {
   "cell_type": "code",
   "execution_count": 49,
   "id": "51031c0d",
   "metadata": {
    "execution": {
     "iopub.execute_input": "2024-10-09T16:53:38.814030Z",
     "iopub.status.busy": "2024-10-09T16:53:38.813518Z",
     "iopub.status.idle": "2024-10-09T16:53:39.025818Z",
     "shell.execute_reply": "2024-10-09T16:53:39.024934Z"
    },
    "papermill": {
     "duration": 0.25745,
     "end_time": "2024-10-09T16:53:39.028225",
     "exception": false,
     "start_time": "2024-10-09T16:53:38.770775",
     "status": "completed"
    },
    "tags": []
   },
   "outputs": [],
   "source": [
    "from sklearn.ensemble import RandomForestClassifier\n",
    "from sklearn.pipeline import make_pipeline\n",
    "\n",
    "pipeline = make_pipeline(prep, RandomForestClassifier(class_weight='balanced'))"
   ]
  },
  {
   "cell_type": "markdown",
   "id": "0583cb29",
   "metadata": {
    "papermill": {
     "duration": 0.036947,
     "end_time": "2024-10-09T16:53:39.102970",
     "exception": false,
     "start_time": "2024-10-09T16:53:39.066023",
     "status": "completed"
    },
    "tags": []
   },
   "source": [
    "**Hyperparameters tuning**\n",
    "\n",
    "Hyperparameters of a **`RandomForestClassifier`** include settings such as:\n",
    "* **n_estimators**: This controls the number of trees in the forest, which impacts the model's performance and stability.\n",
    "* **criterion**: This defines the function used to measure the quality of a split, such as 'gini' or 'entropy'.\n",
    "* **min_samples_split**: This determines the minimum number of samples required to split an internal node, affecting the model's complexity and generalization.\n",
    "* **min_samples_leaf**: This specifies the minimum number of samples required to be at a leaf node, helping to prevent overfitting by ensuring that branches contain enough data.\n",
    "\n",
    "The exact values of these hyperparameters, which control the behavior and performance of the model, are unknown and need to be determined. **`GridSearchCV`** is an extremely useful tool for this task, as it exhaustively searches a pre-specified hyperparameter space by evaluating all possible combinations. Each combination is assessed using **`10-fold cross-validation`**, ensuring that the optimal set of hyperparameters is both robust and reliable. Here is our pre-defined `hyperparameter space` to be researched in this study:"
   ]
  },
  {
   "cell_type": "code",
   "execution_count": 50,
   "id": "0279be12",
   "metadata": {
    "execution": {
     "iopub.execute_input": "2024-10-09T16:53:39.179927Z",
     "iopub.status.busy": "2024-10-09T16:53:39.179525Z",
     "iopub.status.idle": "2024-10-09T16:53:39.184567Z",
     "shell.execute_reply": "2024-10-09T16:53:39.183659Z"
    },
    "papermill": {
     "duration": 0.045309,
     "end_time": "2024-10-09T16:53:39.186503",
     "exception": false,
     "start_time": "2024-10-09T16:53:39.141194",
     "status": "completed"
    },
    "tags": []
   },
   "outputs": [],
   "source": [
    "hyperspace = {\n",
    "        'randomforestclassifier__n_estimators':[85, 120, 150],\n",
    "        'randomforestclassifier__criterion':['gini', 'entropy', 'log_loss'],\n",
    "        'randomforestclassifier__min_samples_split':[2, 4, 8],\n",
    "        'randomforestclassifier__min_samples_leaf':[2, 4, 8]\n",
    "    }"
   ]
  },
  {
   "cell_type": "markdown",
   "id": "e0655a1b",
   "metadata": {
    "papermill": {
     "duration": 0.036754,
     "end_time": "2024-10-09T16:53:39.259892",
     "exception": false,
     "start_time": "2024-10-09T16:53:39.223138",
     "status": "completed"
    },
    "tags": []
   },
   "source": [
    "**Training**\n",
    "\n",
    "Now, we’re ready to bring everything together to build and execute our **`RandomForestClassifier`** ML model. The process seamlessly integrates all the steps we’ve prepared—`prep`, the machine learning `pipeline`, and hyperparameter tuning with **`GridSearchCV`**. Note that even with all this complexity, we still rely on the same familiar 'fit' and 'predict' API that is standard across all scikit-learn models."
   ]
  },
  {
   "cell_type": "code",
   "execution_count": 51,
   "id": "e8cacfd4",
   "metadata": {
    "execution": {
     "iopub.execute_input": "2024-10-09T16:53:39.334970Z",
     "iopub.status.busy": "2024-10-09T16:53:39.334320Z",
     "iopub.status.idle": "2024-10-09T17:13:41.845250Z",
     "shell.execute_reply": "2024-10-09T17:13:41.844372Z"
    },
    "papermill": {
     "duration": 1202.589712,
     "end_time": "2024-10-09T17:13:41.886117",
     "exception": false,
     "start_time": "2024-10-09T16:53:39.296405",
     "status": "completed"
    },
    "tags": []
   },
   "outputs": [
    {
     "name": "stdout",
     "output_type": "stream",
     "text": [
      "CPU times: user 20min, sys: 1.63 s, total: 20min 2s\n",
      "Wall time: 20min 2s\n"
     ]
    },
    {
     "data": {
      "text/html": [
       "<style>#sk-container-id-1 {color: black;background-color: white;}#sk-container-id-1 pre{padding: 0;}#sk-container-id-1 div.sk-toggleable {background-color: white;}#sk-container-id-1 label.sk-toggleable__label {cursor: pointer;display: block;width: 100%;margin-bottom: 0;padding: 0.3em;box-sizing: border-box;text-align: center;}#sk-container-id-1 label.sk-toggleable__label-arrow:before {content: \"▸\";float: left;margin-right: 0.25em;color: #696969;}#sk-container-id-1 label.sk-toggleable__label-arrow:hover:before {color: black;}#sk-container-id-1 div.sk-estimator:hover label.sk-toggleable__label-arrow:before {color: black;}#sk-container-id-1 div.sk-toggleable__content {max-height: 0;max-width: 0;overflow: hidden;text-align: left;background-color: #f0f8ff;}#sk-container-id-1 div.sk-toggleable__content pre {margin: 0.2em;color: black;border-radius: 0.25em;background-color: #f0f8ff;}#sk-container-id-1 input.sk-toggleable__control:checked~div.sk-toggleable__content {max-height: 200px;max-width: 100%;overflow: auto;}#sk-container-id-1 input.sk-toggleable__control:checked~label.sk-toggleable__label-arrow:before {content: \"▾\";}#sk-container-id-1 div.sk-estimator input.sk-toggleable__control:checked~label.sk-toggleable__label {background-color: #d4ebff;}#sk-container-id-1 div.sk-label input.sk-toggleable__control:checked~label.sk-toggleable__label {background-color: #d4ebff;}#sk-container-id-1 input.sk-hidden--visually {border: 0;clip: rect(1px 1px 1px 1px);clip: rect(1px, 1px, 1px, 1px);height: 1px;margin: -1px;overflow: hidden;padding: 0;position: absolute;width: 1px;}#sk-container-id-1 div.sk-estimator {font-family: monospace;background-color: #f0f8ff;border: 1px dotted black;border-radius: 0.25em;box-sizing: border-box;margin-bottom: 0.5em;}#sk-container-id-1 div.sk-estimator:hover {background-color: #d4ebff;}#sk-container-id-1 div.sk-parallel-item::after {content: \"\";width: 100%;border-bottom: 1px solid gray;flex-grow: 1;}#sk-container-id-1 div.sk-label:hover label.sk-toggleable__label {background-color: #d4ebff;}#sk-container-id-1 div.sk-serial::before {content: \"\";position: absolute;border-left: 1px solid gray;box-sizing: border-box;top: 0;bottom: 0;left: 50%;z-index: 0;}#sk-container-id-1 div.sk-serial {display: flex;flex-direction: column;align-items: center;background-color: white;padding-right: 0.2em;padding-left: 0.2em;position: relative;}#sk-container-id-1 div.sk-item {position: relative;z-index: 1;}#sk-container-id-1 div.sk-parallel {display: flex;align-items: stretch;justify-content: center;background-color: white;position: relative;}#sk-container-id-1 div.sk-item::before, #sk-container-id-1 div.sk-parallel-item::before {content: \"\";position: absolute;border-left: 1px solid gray;box-sizing: border-box;top: 0;bottom: 0;left: 50%;z-index: -1;}#sk-container-id-1 div.sk-parallel-item {display: flex;flex-direction: column;z-index: 1;position: relative;background-color: white;}#sk-container-id-1 div.sk-parallel-item:first-child::after {align-self: flex-end;width: 50%;}#sk-container-id-1 div.sk-parallel-item:last-child::after {align-self: flex-start;width: 50%;}#sk-container-id-1 div.sk-parallel-item:only-child::after {width: 0;}#sk-container-id-1 div.sk-dashed-wrapped {border: 1px dashed gray;margin: 0 0.4em 0.5em 0.4em;box-sizing: border-box;padding-bottom: 0.4em;background-color: white;}#sk-container-id-1 div.sk-label label {font-family: monospace;font-weight: bold;display: inline-block;line-height: 1.2em;}#sk-container-id-1 div.sk-label-container {text-align: center;}#sk-container-id-1 div.sk-container {/* jupyter's `normalize.less` sets `[hidden] { display: none; }` but bootstrap.min.css set `[hidden] { display: none !important; }` so we also need the `!important` here to be able to override the default hidden behavior on the sphinx rendered scikit-learn.org. See: https://github.com/scikit-learn/scikit-learn/issues/21755 */display: inline-block !important;position: relative;}#sk-container-id-1 div.sk-text-repr-fallback {display: none;}</style><div id=\"sk-container-id-1\" class=\"sk-top-container\"><div class=\"sk-text-repr-fallback\"><pre>GridSearchCV(cv=10,\n",
       "             estimator=Pipeline(steps=[(&#x27;columntransformer&#x27;,\n",
       "                                        ColumnTransformer(remainder=&#x27;passthrough&#x27;,\n",
       "                                                          transformers=[(&#x27;onehotencoder&#x27;,\n",
       "                                                                         OneHotEncoder(drop=&#x27;first&#x27;),\n",
       "                                                                         Index([&#x27;Geography&#x27;, &#x27;Gender&#x27;, &#x27;HasCrCard&#x27;, &#x27;IsActiveMember&#x27;, &#x27;HasBalance&#x27;], dtype=&#x27;object&#x27;))])),\n",
       "                                       (&#x27;randomforestclassifier&#x27;,\n",
       "                                        RandomForestClassifier(class_weight=&#x27;balanced&#x27;))]),\n",
       "             param_grid={&#x27;randomforestclassifier__criterion&#x27;: [&#x27;gini&#x27;,\n",
       "                                                               &#x27;entropy&#x27;,\n",
       "                                                               &#x27;log_loss&#x27;],\n",
       "                         &#x27;randomforestclassifier__min_samples_leaf&#x27;: [2, 4, 8],\n",
       "                         &#x27;randomforestclassifier__min_samples_split&#x27;: [2, 4, 8],\n",
       "                         &#x27;randomforestclassifier__n_estimators&#x27;: [85, 120,\n",
       "                                                                  150]},\n",
       "             scoring=&#x27;roc_auc&#x27;)</pre><b>In a Jupyter environment, please rerun this cell to show the HTML representation or trust the notebook. <br />On GitHub, the HTML representation is unable to render, please try loading this page with nbviewer.org.</b></div><div class=\"sk-container\" hidden><div class=\"sk-item sk-dashed-wrapped\"><div class=\"sk-label-container\"><div class=\"sk-label sk-toggleable\"><input class=\"sk-toggleable__control sk-hidden--visually\" id=\"sk-estimator-id-1\" type=\"checkbox\" ><label for=\"sk-estimator-id-1\" class=\"sk-toggleable__label sk-toggleable__label-arrow\">GridSearchCV</label><div class=\"sk-toggleable__content\"><pre>GridSearchCV(cv=10,\n",
       "             estimator=Pipeline(steps=[(&#x27;columntransformer&#x27;,\n",
       "                                        ColumnTransformer(remainder=&#x27;passthrough&#x27;,\n",
       "                                                          transformers=[(&#x27;onehotencoder&#x27;,\n",
       "                                                                         OneHotEncoder(drop=&#x27;first&#x27;),\n",
       "                                                                         Index([&#x27;Geography&#x27;, &#x27;Gender&#x27;, &#x27;HasCrCard&#x27;, &#x27;IsActiveMember&#x27;, &#x27;HasBalance&#x27;], dtype=&#x27;object&#x27;))])),\n",
       "                                       (&#x27;randomforestclassifier&#x27;,\n",
       "                                        RandomForestClassifier(class_weight=&#x27;balanced&#x27;))]),\n",
       "             param_grid={&#x27;randomforestclassifier__criterion&#x27;: [&#x27;gini&#x27;,\n",
       "                                                               &#x27;entropy&#x27;,\n",
       "                                                               &#x27;log_loss&#x27;],\n",
       "                         &#x27;randomforestclassifier__min_samples_leaf&#x27;: [2, 4, 8],\n",
       "                         &#x27;randomforestclassifier__min_samples_split&#x27;: [2, 4, 8],\n",
       "                         &#x27;randomforestclassifier__n_estimators&#x27;: [85, 120,\n",
       "                                                                  150]},\n",
       "             scoring=&#x27;roc_auc&#x27;)</pre></div></div></div><div class=\"sk-parallel\"><div class=\"sk-parallel-item\"><div class=\"sk-item\"><div class=\"sk-label-container\"><div class=\"sk-label sk-toggleable\"><input class=\"sk-toggleable__control sk-hidden--visually\" id=\"sk-estimator-id-2\" type=\"checkbox\" ><label for=\"sk-estimator-id-2\" class=\"sk-toggleable__label sk-toggleable__label-arrow\">estimator: Pipeline</label><div class=\"sk-toggleable__content\"><pre>Pipeline(steps=[(&#x27;columntransformer&#x27;,\n",
       "                 ColumnTransformer(remainder=&#x27;passthrough&#x27;,\n",
       "                                   transformers=[(&#x27;onehotencoder&#x27;,\n",
       "                                                  OneHotEncoder(drop=&#x27;first&#x27;),\n",
       "                                                  Index([&#x27;Geography&#x27;, &#x27;Gender&#x27;, &#x27;HasCrCard&#x27;, &#x27;IsActiveMember&#x27;, &#x27;HasBalance&#x27;], dtype=&#x27;object&#x27;))])),\n",
       "                (&#x27;randomforestclassifier&#x27;,\n",
       "                 RandomForestClassifier(class_weight=&#x27;balanced&#x27;))])</pre></div></div></div><div class=\"sk-serial\"><div class=\"sk-item\"><div class=\"sk-serial\"><div class=\"sk-item sk-dashed-wrapped\"><div class=\"sk-label-container\"><div class=\"sk-label sk-toggleable\"><input class=\"sk-toggleable__control sk-hidden--visually\" id=\"sk-estimator-id-3\" type=\"checkbox\" ><label for=\"sk-estimator-id-3\" class=\"sk-toggleable__label sk-toggleable__label-arrow\">columntransformer: ColumnTransformer</label><div class=\"sk-toggleable__content\"><pre>ColumnTransformer(remainder=&#x27;passthrough&#x27;,\n",
       "                  transformers=[(&#x27;onehotencoder&#x27;, OneHotEncoder(drop=&#x27;first&#x27;),\n",
       "                                 Index([&#x27;Geography&#x27;, &#x27;Gender&#x27;, &#x27;HasCrCard&#x27;, &#x27;IsActiveMember&#x27;, &#x27;HasBalance&#x27;], dtype=&#x27;object&#x27;))])</pre></div></div></div><div class=\"sk-parallel\"><div class=\"sk-parallel-item\"><div class=\"sk-item\"><div class=\"sk-label-container\"><div class=\"sk-label sk-toggleable\"><input class=\"sk-toggleable__control sk-hidden--visually\" id=\"sk-estimator-id-4\" type=\"checkbox\" ><label for=\"sk-estimator-id-4\" class=\"sk-toggleable__label sk-toggleable__label-arrow\">onehotencoder</label><div class=\"sk-toggleable__content\"><pre>Index([&#x27;Geography&#x27;, &#x27;Gender&#x27;, &#x27;HasCrCard&#x27;, &#x27;IsActiveMember&#x27;, &#x27;HasBalance&#x27;], dtype=&#x27;object&#x27;)</pre></div></div></div><div class=\"sk-serial\"><div class=\"sk-item\"><div class=\"sk-estimator sk-toggleable\"><input class=\"sk-toggleable__control sk-hidden--visually\" id=\"sk-estimator-id-5\" type=\"checkbox\" ><label for=\"sk-estimator-id-5\" class=\"sk-toggleable__label sk-toggleable__label-arrow\">OneHotEncoder</label><div class=\"sk-toggleable__content\"><pre>OneHotEncoder(drop=&#x27;first&#x27;)</pre></div></div></div></div></div></div><div class=\"sk-parallel-item\"><div class=\"sk-item\"><div class=\"sk-label-container\"><div class=\"sk-label sk-toggleable\"><input class=\"sk-toggleable__control sk-hidden--visually\" id=\"sk-estimator-id-6\" type=\"checkbox\" ><label for=\"sk-estimator-id-6\" class=\"sk-toggleable__label sk-toggleable__label-arrow\">remainder</label><div class=\"sk-toggleable__content\"><pre>[&#x27;CreditScore&#x27;, &#x27;Age&#x27;, &#x27;Tenure&#x27;, &#x27;Balance&#x27;, &#x27;NumOfProducts&#x27;, &#x27;EstimatedSalary&#x27;, &#x27;EstimatedSalary_binned&#x27;]</pre></div></div></div><div class=\"sk-serial\"><div class=\"sk-item\"><div class=\"sk-estimator sk-toggleable\"><input class=\"sk-toggleable__control sk-hidden--visually\" id=\"sk-estimator-id-7\" type=\"checkbox\" ><label for=\"sk-estimator-id-7\" class=\"sk-toggleable__label sk-toggleable__label-arrow\">passthrough</label><div class=\"sk-toggleable__content\"><pre>passthrough</pre></div></div></div></div></div></div></div></div><div class=\"sk-item\"><div class=\"sk-estimator sk-toggleable\"><input class=\"sk-toggleable__control sk-hidden--visually\" id=\"sk-estimator-id-8\" type=\"checkbox\" ><label for=\"sk-estimator-id-8\" class=\"sk-toggleable__label sk-toggleable__label-arrow\">RandomForestClassifier</label><div class=\"sk-toggleable__content\"><pre>RandomForestClassifier(class_weight=&#x27;balanced&#x27;)</pre></div></div></div></div></div></div></div></div></div></div></div></div>"
      ],
      "text/plain": [
       "GridSearchCV(cv=10,\n",
       "             estimator=Pipeline(steps=[('columntransformer',\n",
       "                                        ColumnTransformer(remainder='passthrough',\n",
       "                                                          transformers=[('onehotencoder',\n",
       "                                                                         OneHotEncoder(drop='first'),\n",
       "                                                                         Index(['Geography', 'Gender', 'HasCrCard', 'IsActiveMember', 'HasBalance'], dtype='object'))])),\n",
       "                                       ('randomforestclassifier',\n",
       "                                        RandomForestClassifier(class_weight='balanced'))]),\n",
       "             param_grid={'randomforestclassifier__criterion': ['gini',\n",
       "                                                               'entropy',\n",
       "                                                               'log_loss'],\n",
       "                         'randomforestclassifier__min_samples_leaf': [2, 4, 8],\n",
       "                         'randomforestclassifier__min_samples_split': [2, 4, 8],\n",
       "                         'randomforestclassifier__n_estimators': [85, 120,\n",
       "                                                                  150]},\n",
       "             scoring='roc_auc')"
      ]
     },
     "execution_count": 51,
     "metadata": {},
     "output_type": "execute_result"
    }
   ],
   "source": [
    "%%time\n",
    "from sklearn.model_selection import GridSearchCV\n",
    "\n",
    "model = GridSearchCV(pipeline, hyperspace, cv=10, scoring='roc_auc')\n",
    "model.fit(X_train, y_train)"
   ]
  },
  {
   "cell_type": "markdown",
   "id": "15c3912c",
   "metadata": {
    "papermill": {
     "duration": 0.038156,
     "end_time": "2024-10-09T17:13:41.963003",
     "exception": false,
     "start_time": "2024-10-09T17:13:41.924847",
     "status": "completed"
    },
    "tags": []
   },
   "source": [
    "## Best model (specification)\n",
    "Optimal hyperparams indicated by **`GridSearchCV`**. "
   ]
  },
  {
   "cell_type": "code",
   "execution_count": 52,
   "id": "6023fafc",
   "metadata": {
    "execution": {
     "iopub.execute_input": "2024-10-09T17:13:42.041420Z",
     "iopub.status.busy": "2024-10-09T17:13:42.040988Z",
     "iopub.status.idle": "2024-10-09T17:13:42.047349Z",
     "shell.execute_reply": "2024-10-09T17:13:42.046529Z"
    },
    "papermill": {
     "duration": 0.047768,
     "end_time": "2024-10-09T17:13:42.049393",
     "exception": false,
     "start_time": "2024-10-09T17:13:42.001625",
     "status": "completed"
    },
    "tags": []
   },
   "outputs": [
    {
     "data": {
      "text/plain": [
       "{'randomforestclassifier__criterion': 'entropy',\n",
       " 'randomforestclassifier__min_samples_leaf': 4,\n",
       " 'randomforestclassifier__min_samples_split': 2,\n",
       " 'randomforestclassifier__n_estimators': 150}"
      ]
     },
     "execution_count": 52,
     "metadata": {},
     "output_type": "execute_result"
    }
   ],
   "source": [
    "model.best_params_"
   ]
  },
  {
   "cell_type": "markdown",
   "id": "40418914",
   "metadata": {
    "papermill": {
     "duration": 0.03724,
     "end_time": "2024-10-09T17:13:42.125845",
     "exception": false,
     "start_time": "2024-10-09T17:13:42.088605",
     "status": "completed"
    },
    "tags": []
   },
   "source": [
    "# 3) Model Evaluation\n",
    "A good starting point for evaluating a classifier is the confusion matrix. **The confusion matrix** provides a detailed breakdown of the classifier's performance across all classes. It also serves as a basis for deeper analysis and subsequent metrics, like:\n",
    "* **Accuracy**: Provides a general overview of the model’s performance but does not indicate how well each individual class is performing.\n",
    "* **Sensitivity**: Measures the proportion of actual positive cases correctly identified by the model. It reflects the model’s ability to detect positive instances, also known as the true positive rate.\n",
    "* **Specificity**: Measures the proportion of actual negative cases correctly identified by the model. It reflects the model’s ability to identify negative instances, also known as the true negative rate."
   ]
  },
  {
   "cell_type": "code",
   "execution_count": 53,
   "id": "63a59269",
   "metadata": {
    "execution": {
     "iopub.execute_input": "2024-10-09T17:13:42.203358Z",
     "iopub.status.busy": "2024-10-09T17:13:42.202513Z",
     "iopub.status.idle": "2024-10-09T17:13:42.860505Z",
     "shell.execute_reply": "2024-10-09T17:13:42.859631Z"
    },
    "papermill": {
     "duration": 0.699579,
     "end_time": "2024-10-09T17:13:42.863005",
     "exception": false,
     "start_time": "2024-10-09T17:13:42.163426",
     "status": "completed"
    },
    "tags": []
   },
   "outputs": [
    {
     "data": {
      "image/png": "[encoded data removed]",
      "text/plain": [
       "<Figure size 820x380 with 2 Axes>"
      ]
     },
     "metadata": {},
     "output_type": "display_data"
    }
   ],
   "source": [
    "from sklearn.metrics import confusion_matrix, roc_curve, auc\n",
    "\n",
    "# Compute confusion matrix\n",
    "cm = confusion_matrix(y_test, model.predict(X_test))\n",
    "\n",
    "# Compute ROC curve and AUC\n",
    "y_pred_proba = model.predict_proba(X_test)[:, 1]\n",
    "fpr, tpr, thresholds = roc_curve(y_test, y_pred_proba)\n",
    "roc_auc = auc(fpr, tpr)\n",
    "\n",
    "# Compute accuracy, sensitivity and specificity\n",
    "accuracy = (cm[0, 0] + cm[1, 1]) / np.sum(cm)\n",
    "default_threshold_index = np.where(thresholds > 0.5)[0][-1]\n",
    "sensitivity = tpr[default_threshold_index]\n",
    "specificity = 1 - fpr[default_threshold_index]\n",
    "\n",
    "# Create figure with subplots\n",
    "fig, axes = plt.subplots(1, 2, figsize=(8.2, 3.8))\n",
    "\n",
    "# Confusion Matrix subplot\n",
    "sns.heatmap(cm, \n",
    "            annot=True, \n",
    "            fmt='d', \n",
    "            cmap='Blues', \n",
    "            xticklabels=['Predicted 0', 'Predicted 1'],\n",
    "            yticklabels=['Actual 0', 'Actual 1'], \n",
    "            cbar=False, \n",
    "            ax=axes[0])\n",
    "\n",
    "axes[0].set_title('Confusion Matrix', fontsize=12)\n",
    "\n",
    "\n",
    "# ROC Curve subplot\n",
    "axes[1].plot(fpr, tpr, color='blue', lw=2, label=f'ROC curve (area = {roc_auc:.4f})')\n",
    "axes[1].legend(loc=\"lower right\", fontsize=8)\n",
    "axes[1].text(0.6, 0.4, f'Accuracy: {accuracy:.2f}\\nSensitivity: {sensitivity:.2f}\\nSpecificity: {specificity:.2f}', \n",
    "             bbox=dict(facecolor='white', edgecolor='black', boxstyle='round,pad=0.5'), \n",
    "             fontsize=10)\n",
    "axes[1].set_xlim([0.0, 1.0])\n",
    "axes[1].set_ylim([0.0, 1.05])\n",
    "axes[1].set_xlabel('1 - Specificity', fontsize=12)\n",
    "axes[1].set_ylabel('Sensitivity', fontsize=12)\n",
    "axes[1].tick_params(axis='both', which='major', labelsize=8.5)\n",
    "axes[1].set_title('ROC Curve', fontsize=12)\n",
    "axes[1].plot(fpr[default_threshold_index], tpr[default_threshold_index], 'ro', label='Threshold = 0.5')\n",
    "axes[1].legend(loc=\"lower right\", fontsize=10)\n",
    "\n",
    "plt.tight_layout()\n",
    "plt.show()"
   ]
  },
  {
   "cell_type": "markdown",
   "id": "3536f5dd",
   "metadata": {
    "papermill": {
     "duration": 0.037658,
     "end_time": "2024-10-09T17:13:42.939193",
     "exception": false,
     "start_time": "2024-10-09T17:13:42.901535",
     "status": "completed"
    },
    "tags": []
   },
   "source": [
    "**ROC Curve**\n",
    "\n",
    "The **`ROC Curve`** (Receiver Operating Characteristic curve) is essentially a tool for visualizing **`trade-off`** between sensitivity and specificity. The trade-off between sensitivity and specificity often arises because adjusting the classification threshold can improve one metric at the expense of the other. The threshold is a decision point that determines how the model’s predicted probabilities are converted into class labels. For example, if the threshold is set to 0.5, the model will classify an instance as positive if its predicted probability is greater than or equal to 0.5. **`Threshold Tuning`** allows you to find the optimal balance between sensitivity and specificity based on your specific needs. For example, in medical diagnostics, you might prefer a higher sensitivity to ensure that most of the patients with a condition are identified, even if it means that some healthy patients are incorrectly classified as having the condition (lower specificity). Conversely, in fraud detection, you might prefer higher specificity to avoid falsely flagging legitimate transactions as fraudulent, even if it means missing some fraudulent cases (lower sensitivity)."
   ]
  },
  {
   "cell_type": "markdown",
   "id": "e0abfdcc",
   "metadata": {
    "papermill": {
     "duration": 0.037948,
     "end_time": "2024-10-09T17:13:43.014691",
     "exception": false,
     "start_time": "2024-10-09T17:13:42.976743",
     "status": "completed"
    },
    "tags": []
   },
   "source": [
    "**AUC (submission metric)**\n",
    "\n",
    "**`AUC (Area Under the ROC Curve)`** is a threshold-agnostic metric that evaluates a classifier's performance across all possible threshold values, providing a synthetic measure of its overall ability to distinguish between classes."
   ]
  },
  {
   "cell_type": "markdown",
   "id": "902426b2",
   "metadata": {
    "papermill": {
     "duration": 0.038281,
     "end_time": "2024-10-09T17:13:43.091097",
     "exception": false,
     "start_time": "2024-10-09T17:13:43.052816",
     "status": "completed"
    },
    "tags": []
   },
   "source": [
    "## Best model refit\n",
    "It is strongly recommended to refit the best model using the entire training dataset before making final predictions. This ensures that the model benefits from all available training data."
   ]
  },
  {
   "cell_type": "code",
   "execution_count": 54,
   "id": "8036b59a",
   "metadata": {
    "execution": {
     "iopub.execute_input": "2024-10-09T17:13:43.170438Z",
     "iopub.status.busy": "2024-10-09T17:13:43.170081Z",
     "iopub.status.idle": "2024-10-09T17:13:43.175169Z",
     "shell.execute_reply": "2024-10-09T17:13:43.174298Z"
    },
    "papermill": {
     "duration": 0.047149,
     "end_time": "2024-10-09T17:13:43.177319",
     "exception": false,
     "start_time": "2024-10-09T17:13:43.130170",
     "status": "completed"
    },
    "tags": []
   },
   "outputs": [
    {
     "name": "stdout",
     "output_type": "stream",
     "text": [
      "Number of rows X_train: 12000\n",
      "Number of rows train: 15000\n"
     ]
    }
   ],
   "source": [
    "print(f'Number of rows X_train: {X_train.shape[0]}')\n",
    "print(f'Number of rows train: {train.shape[0]}')"
   ]
  },
  {
   "cell_type": "code",
   "execution_count": 55,
   "id": "e11649d4",
   "metadata": {
    "execution": {
     "iopub.execute_input": "2024-10-09T17:13:43.255669Z",
     "iopub.status.busy": "2024-10-09T17:13:43.254836Z",
     "iopub.status.idle": "2024-10-09T17:13:43.260076Z",
     "shell.execute_reply": "2024-10-09T17:13:43.259204Z"
    },
    "papermill": {
     "duration": 0.046168,
     "end_time": "2024-10-09T17:13:43.261998",
     "exception": false,
     "start_time": "2024-10-09T17:13:43.215830",
     "status": "completed"
    },
    "tags": []
   },
   "outputs": [],
   "source": [
    "# Classifier instantiation with best params\n",
    "classifier = RandomForestClassifier(n_estimators = model.best_params_['randomforestclassifier__n_estimators'],\n",
    "                                    criterion = model.best_params_['randomforestclassifier__criterion'],\n",
    "                                    min_samples_split = model.best_params_['randomforestclassifier__min_samples_split'], \n",
    "                                    min_samples_leaf = model.best_params_['randomforestclassifier__min_samples_leaf'],\n",
    "                                    class_weight = 'balanced'\n",
    "                                   )"
   ]
  },
  {
   "cell_type": "code",
   "execution_count": 56,
   "id": "fbbd4bbc",
   "metadata": {
    "execution": {
     "iopub.execute_input": "2024-10-09T17:13:43.341360Z",
     "iopub.status.busy": "2024-10-09T17:13:43.340177Z",
     "iopub.status.idle": "2024-10-09T17:13:45.999885Z",
     "shell.execute_reply": "2024-10-09T17:13:45.998947Z"
    },
    "papermill": {
     "duration": 2.701306,
     "end_time": "2024-10-09T17:13:46.001825",
     "exception": false,
     "start_time": "2024-10-09T17:13:43.300519",
     "status": "completed"
    },
    "tags": []
   },
   "outputs": [
    {
     "name": "stdout",
     "output_type": "stream",
     "text": [
      "CPU times: user 2.61 s, sys: 18 ms, total: 2.63 s\n",
      "Wall time: 2.63 s\n"
     ]
    },
    {
     "data": {
      "text/html": [
       "<style>#sk-container-id-2 {color: black;background-color: white;}#sk-container-id-2 pre{padding: 0;}#sk-container-id-2 div.sk-toggleable {background-color: white;}#sk-container-id-2 label.sk-toggleable__label {cursor: pointer;display: block;width: 100%;margin-bottom: 0;padding: 0.3em;box-sizing: border-box;text-align: center;}#sk-container-id-2 label.sk-toggleable__label-arrow:before {content: \"▸\";float: left;margin-right: 0.25em;color: #696969;}#sk-container-id-2 label.sk-toggleable__label-arrow:hover:before {color: black;}#sk-container-id-2 div.sk-estimator:hover label.sk-toggleable__label-arrow:before {color: black;}#sk-container-id-2 div.sk-toggleable__content {max-height: 0;max-width: 0;overflow: hidden;text-align: left;background-color: #f0f8ff;}#sk-container-id-2 div.sk-toggleable__content pre {margin: 0.2em;color: black;border-radius: 0.25em;background-color: #f0f8ff;}#sk-container-id-2 input.sk-toggleable__control:checked~div.sk-toggleable__content {max-height: 200px;max-width: 100%;overflow: auto;}#sk-container-id-2 input.sk-toggleable__control:checked~label.sk-toggleable__label-arrow:before {content: \"▾\";}#sk-container-id-2 div.sk-estimator input.sk-toggleable__control:checked~label.sk-toggleable__label {background-color: #d4ebff;}#sk-container-id-2 div.sk-label input.sk-toggleable__control:checked~label.sk-toggleable__label {background-color: #d4ebff;}#sk-container-id-2 input.sk-hidden--visually {border: 0;clip: rect(1px 1px 1px 1px);clip: rect(1px, 1px, 1px, 1px);height: 1px;margin: -1px;overflow: hidden;padding: 0;position: absolute;width: 1px;}#sk-container-id-2 div.sk-estimator {font-family: monospace;background-color: #f0f8ff;border: 1px dotted black;border-radius: 0.25em;box-sizing: border-box;margin-bottom: 0.5em;}#sk-container-id-2 div.sk-estimator:hover {background-color: #d4ebff;}#sk-container-id-2 div.sk-parallel-item::after {content: \"\";width: 100%;border-bottom: 1px solid gray;flex-grow: 1;}#sk-container-id-2 div.sk-label:hover label.sk-toggleable__label {background-color: #d4ebff;}#sk-container-id-2 div.sk-serial::before {content: \"\";position: absolute;border-left: 1px solid gray;box-sizing: border-box;top: 0;bottom: 0;left: 50%;z-index: 0;}#sk-container-id-2 div.sk-serial {display: flex;flex-direction: column;align-items: center;background-color: white;padding-right: 0.2em;padding-left: 0.2em;position: relative;}#sk-container-id-2 div.sk-item {position: relative;z-index: 1;}#sk-container-id-2 div.sk-parallel {display: flex;align-items: stretch;justify-content: center;background-color: white;position: relative;}#sk-container-id-2 div.sk-item::before, #sk-container-id-2 div.sk-parallel-item::before {content: \"\";position: absolute;border-left: 1px solid gray;box-sizing: border-box;top: 0;bottom: 0;left: 50%;z-index: -1;}#sk-container-id-2 div.sk-parallel-item {display: flex;flex-direction: column;z-index: 1;position: relative;background-color: white;}#sk-container-id-2 div.sk-parallel-item:first-child::after {align-self: flex-end;width: 50%;}#sk-container-id-2 div.sk-parallel-item:last-child::after {align-self: flex-start;width: 50%;}#sk-container-id-2 div.sk-parallel-item:only-child::after {width: 0;}#sk-container-id-2 div.sk-dashed-wrapped {border: 1px dashed gray;margin: 0 0.4em 0.5em 0.4em;box-sizing: border-box;padding-bottom: 0.4em;background-color: white;}#sk-container-id-2 div.sk-label label {font-family: monospace;font-weight: bold;display: inline-block;line-height: 1.2em;}#sk-container-id-2 div.sk-label-container {text-align: center;}#sk-container-id-2 div.sk-container {/* jupyter's `normalize.less` sets `[hidden] { display: none; }` but bootstrap.min.css set `[hidden] { display: none !important; }` so we also need the `!important` here to be able to override the default hidden behavior on the sphinx rendered scikit-learn.org. See: https://github.com/scikit-learn/scikit-learn/issues/21755 */display: inline-block !important;position: relative;}#sk-container-id-2 div.sk-text-repr-fallback {display: none;}</style><div id=\"sk-container-id-2\" class=\"sk-top-container\"><div class=\"sk-text-repr-fallback\"><pre>Pipeline(steps=[(&#x27;columntransformer&#x27;,\n",
       "                 ColumnTransformer(remainder=&#x27;passthrough&#x27;,\n",
       "                                   transformers=[(&#x27;onehotencoder&#x27;,\n",
       "                                                  OneHotEncoder(drop=&#x27;first&#x27;),\n",
       "                                                  Index([&#x27;Geography&#x27;, &#x27;Gender&#x27;, &#x27;HasCrCard&#x27;, &#x27;IsActiveMember&#x27;, &#x27;HasBalance&#x27;], dtype=&#x27;object&#x27;))])),\n",
       "                (&#x27;randomforestclassifier&#x27;,\n",
       "                 RandomForestClassifier(class_weight=&#x27;balanced&#x27;,\n",
       "                                        criterion=&#x27;entropy&#x27;, min_samples_leaf=4,\n",
       "                                        n_estimators=150))])</pre><b>In a Jupyter environment, please rerun this cell to show the HTML representation or trust the notebook. <br />On GitHub, the HTML representation is unable to render, please try loading this page with nbviewer.org.</b></div><div class=\"sk-container\" hidden><div class=\"sk-item sk-dashed-wrapped\"><div class=\"sk-label-container\"><div class=\"sk-label sk-toggleable\"><input class=\"sk-toggleable__control sk-hidden--visually\" id=\"sk-estimator-id-9\" type=\"checkbox\" ><label for=\"sk-estimator-id-9\" class=\"sk-toggleable__label sk-toggleable__label-arrow\">Pipeline</label><div class=\"sk-toggleable__content\"><pre>Pipeline(steps=[(&#x27;columntransformer&#x27;,\n",
       "                 ColumnTransformer(remainder=&#x27;passthrough&#x27;,\n",
       "                                   transformers=[(&#x27;onehotencoder&#x27;,\n",
       "                                                  OneHotEncoder(drop=&#x27;first&#x27;),\n",
       "                                                  Index([&#x27;Geography&#x27;, &#x27;Gender&#x27;, &#x27;HasCrCard&#x27;, &#x27;IsActiveMember&#x27;, &#x27;HasBalance&#x27;], dtype=&#x27;object&#x27;))])),\n",
       "                (&#x27;randomforestclassifier&#x27;,\n",
       "                 RandomForestClassifier(class_weight=&#x27;balanced&#x27;,\n",
       "                                        criterion=&#x27;entropy&#x27;, min_samples_leaf=4,\n",
       "                                        n_estimators=150))])</pre></div></div></div><div class=\"sk-serial\"><div class=\"sk-item sk-dashed-wrapped\"><div class=\"sk-label-container\"><div class=\"sk-label sk-toggleable\"><input class=\"sk-toggleable__control sk-hidden--visually\" id=\"sk-estimator-id-10\" type=\"checkbox\" ><label for=\"sk-estimator-id-10\" class=\"sk-toggleable__label sk-toggleable__label-arrow\">columntransformer: ColumnTransformer</label><div class=\"sk-toggleable__content\"><pre>ColumnTransformer(remainder=&#x27;passthrough&#x27;,\n",
       "                  transformers=[(&#x27;onehotencoder&#x27;, OneHotEncoder(drop=&#x27;first&#x27;),\n",
       "                                 Index([&#x27;Geography&#x27;, &#x27;Gender&#x27;, &#x27;HasCrCard&#x27;, &#x27;IsActiveMember&#x27;, &#x27;HasBalance&#x27;], dtype=&#x27;object&#x27;))])</pre></div></div></div><div class=\"sk-parallel\"><div class=\"sk-parallel-item\"><div class=\"sk-item\"><div class=\"sk-label-container\"><div class=\"sk-label sk-toggleable\"><input class=\"sk-toggleable__control sk-hidden--visually\" id=\"sk-estimator-id-11\" type=\"checkbox\" ><label for=\"sk-estimator-id-11\" class=\"sk-toggleable__label sk-toggleable__label-arrow\">onehotencoder</label><div class=\"sk-toggleable__content\"><pre>Index([&#x27;Geography&#x27;, &#x27;Gender&#x27;, &#x27;HasCrCard&#x27;, &#x27;IsActiveMember&#x27;, &#x27;HasBalance&#x27;], dtype=&#x27;object&#x27;)</pre></div></div></div><div class=\"sk-serial\"><div class=\"sk-item\"><div class=\"sk-estimator sk-toggleable\"><input class=\"sk-toggleable__control sk-hidden--visually\" id=\"sk-estimator-id-12\" type=\"checkbox\" ><label for=\"sk-estimator-id-12\" class=\"sk-toggleable__label sk-toggleable__label-arrow\">OneHotEncoder</label><div class=\"sk-toggleable__content\"><pre>OneHotEncoder(drop=&#x27;first&#x27;)</pre></div></div></div></div></div></div><div class=\"sk-parallel-item\"><div class=\"sk-item\"><div class=\"sk-label-container\"><div class=\"sk-label sk-toggleable\"><input class=\"sk-toggleable__control sk-hidden--visually\" id=\"sk-estimator-id-13\" type=\"checkbox\" ><label for=\"sk-estimator-id-13\" class=\"sk-toggleable__label sk-toggleable__label-arrow\">remainder</label><div class=\"sk-toggleable__content\"><pre>[&#x27;CreditScore&#x27;, &#x27;Age&#x27;, &#x27;Tenure&#x27;, &#x27;Balance&#x27;, &#x27;NumOfProducts&#x27;, &#x27;EstimatedSalary&#x27;, &#x27;EstimatedSalary_binned&#x27;]</pre></div></div></div><div class=\"sk-serial\"><div class=\"sk-item\"><div class=\"sk-estimator sk-toggleable\"><input class=\"sk-toggleable__control sk-hidden--visually\" id=\"sk-estimator-id-14\" type=\"checkbox\" ><label for=\"sk-estimator-id-14\" class=\"sk-toggleable__label sk-toggleable__label-arrow\">passthrough</label><div class=\"sk-toggleable__content\"><pre>passthrough</pre></div></div></div></div></div></div></div></div><div class=\"sk-item\"><div class=\"sk-estimator sk-toggleable\"><input class=\"sk-toggleable__control sk-hidden--visually\" id=\"sk-estimator-id-15\" type=\"checkbox\" ><label for=\"sk-estimator-id-15\" class=\"sk-toggleable__label sk-toggleable__label-arrow\">RandomForestClassifier</label><div class=\"sk-toggleable__content\"><pre>RandomForestClassifier(class_weight=&#x27;balanced&#x27;, criterion=&#x27;entropy&#x27;,\n",
       "                       min_samples_leaf=4, n_estimators=150)</pre></div></div></div></div></div></div></div>"
      ],
      "text/plain": [
       "Pipeline(steps=[('columntransformer',\n",
       "                 ColumnTransformer(remainder='passthrough',\n",
       "                                   transformers=[('onehotencoder',\n",
       "                                                  OneHotEncoder(drop='first'),\n",
       "                                                  Index(['Geography', 'Gender', 'HasCrCard', 'IsActiveMember', 'HasBalance'], dtype='object'))])),\n",
       "                ('randomforestclassifier',\n",
       "                 RandomForestClassifier(class_weight='balanced',\n",
       "                                        criterion='entropy', min_samples_leaf=4,\n",
       "                                        n_estimators=150))])"
      ]
     },
     "execution_count": 56,
     "metadata": {},
     "output_type": "execute_result"
    }
   ],
   "source": [
    "%%time\n",
    "forest = make_pipeline(prep, classifier)\n",
    "forest.fit(train.drop(columns=['Exited']), train.Exited)"
   ]
  },
  {
   "cell_type": "markdown",
   "id": "a7ef7877",
   "metadata": {
    "papermill": {
     "duration": 0.039431,
     "end_time": "2024-10-09T17:13:46.081387",
     "exception": false,
     "start_time": "2024-10-09T17:13:46.041956",
     "status": "completed"
    },
    "tags": []
   },
   "source": [
    "# 4) Submisson"
   ]
  },
  {
   "cell_type": "code",
   "execution_count": 57,
   "id": "b747d51a",
   "metadata": {
    "execution": {
     "iopub.execute_input": "2024-10-09T17:13:46.163921Z",
     "iopub.status.busy": "2024-10-09T17:13:46.163109Z",
     "iopub.status.idle": "2024-10-09T17:13:46.170965Z",
     "shell.execute_reply": "2024-10-09T17:13:46.170033Z"
    },
    "papermill": {
     "duration": 0.050567,
     "end_time": "2024-10-09T17:13:46.172946",
     "exception": false,
     "start_time": "2024-10-09T17:13:46.122379",
     "status": "completed"
    },
    "tags": []
   },
   "outputs": [],
   "source": [
    "def data_cleaner(raw_data):\n",
    "    # cleans data for 'forest' pipeline\n",
    "    raw_data.set_index('id', inplace=True)\n",
    "    raw_data.drop(columns=['CustomerId', 'Surname'], inplace=True)\n",
    "    raw_data['NumOfProducts'] = raw_data['NumOfProducts'].replace(4, 3)\n",
    "    raw_data['EstimatedSalary_binned'] = kbin_discretizer.fit_transform(raw_data[['EstimatedSalary']])\n",
    "    raw_data['HasBalance'] = (raw_data['Balance'] > 0).astype(int)\n",
    "    raw_data['Tenure'] = raw_data['Tenure'].astype(int)\n",
    "    raw_data['EstimatedSalary_binned'] = raw_data['EstimatedSalary_binned'].astype(int)\n",
    "    raw_data['NumOfProducts'] = raw_data['NumOfProducts'].astype(int)\n",
    "    raw_data['HasCrCard'] = raw_data['HasCrCard'].astype(str)\n",
    "    raw_data['IsActiveMember'] = raw_data['IsActiveMember'].astype(str)\n",
    "    raw_data['HasBalance'] = raw_data['HasBalance'].astype(str)\n",
    "    return raw_data"
   ]
  },
  {
   "cell_type": "code",
   "execution_count": 58,
   "id": "9cce5121",
   "metadata": {
    "execution": {
     "iopub.execute_input": "2024-10-09T17:13:46.253913Z",
     "iopub.status.busy": "2024-10-09T17:13:46.253154Z",
     "iopub.status.idle": "2024-10-09T17:13:46.575225Z",
     "shell.execute_reply": "2024-10-09T17:13:46.574203Z"
    },
    "papermill": {
     "duration": 0.364648,
     "end_time": "2024-10-09T17:13:46.577284",
     "exception": false,
     "start_time": "2024-10-09T17:13:46.212636",
     "status": "completed"
    },
    "tags": []
   },
   "outputs": [
    {
     "data": {
      "text/html": [
       "<div>\n",
       "<style scoped>\n",
       "    .dataframe tbody tr th:only-of-type {\n",
       "        vertical-align: middle;\n",
       "    }\n",
       "\n",
       "    .dataframe tbody tr th {\n",
       "        vertical-align: top;\n",
       "    }\n",
       "\n",
       "    .dataframe thead th {\n",
       "        text-align: right;\n",
       "    }\n",
       "</style>\n",
       "<table border=\"1\" class=\"dataframe\">\n",
       "  <thead>\n",
       "    <tr style=\"text-align: right;\">\n",
       "      <th></th>\n",
       "      <th>id</th>\n",
       "      <th>Exited</th>\n",
       "    </tr>\n",
       "  </thead>\n",
       "  <tbody>\n",
       "    <tr>\n",
       "      <th>0</th>\n",
       "      <td>15000</td>\n",
       "      <td>0.71</td>\n",
       "    </tr>\n",
       "    <tr>\n",
       "      <th>1</th>\n",
       "      <td>15001</td>\n",
       "      <td>0.13</td>\n",
       "    </tr>\n",
       "    <tr>\n",
       "      <th>2</th>\n",
       "      <td>15002</td>\n",
       "      <td>0.26</td>\n",
       "    </tr>\n",
       "    <tr>\n",
       "      <th>3</th>\n",
       "      <td>15003</td>\n",
       "      <td>0.03</td>\n",
       "    </tr>\n",
       "    <tr>\n",
       "      <th>4</th>\n",
       "      <td>15004</td>\n",
       "      <td>0.03</td>\n",
       "    </tr>\n",
       "    <tr>\n",
       "      <th>...</th>\n",
       "      <td>...</td>\n",
       "      <td>...</td>\n",
       "    </tr>\n",
       "    <tr>\n",
       "      <th>9995</th>\n",
       "      <td>24995</td>\n",
       "      <td>0.08</td>\n",
       "    </tr>\n",
       "    <tr>\n",
       "      <th>9996</th>\n",
       "      <td>24996</td>\n",
       "      <td>0.56</td>\n",
       "    </tr>\n",
       "    <tr>\n",
       "      <th>9997</th>\n",
       "      <td>24997</td>\n",
       "      <td>0.01</td>\n",
       "    </tr>\n",
       "    <tr>\n",
       "      <th>9998</th>\n",
       "      <td>24998</td>\n",
       "      <td>0.06</td>\n",
       "    </tr>\n",
       "    <tr>\n",
       "      <th>9999</th>\n",
       "      <td>24999</td>\n",
       "      <td>0.02</td>\n",
       "    </tr>\n",
       "  </tbody>\n",
       "</table>\n",
       "<p>10000 rows × 2 columns</p>\n",
       "</div>"
      ],
      "text/plain": [
       "         id  Exited\n",
       "0     15000    0.71\n",
       "1     15001    0.13\n",
       "2     15002    0.26\n",
       "3     15003    0.03\n",
       "4     15004    0.03\n",
       "...     ...     ...\n",
       "9995  24995    0.08\n",
       "9996  24996    0.56\n",
       "9997  24997    0.01\n",
       "9998  24998    0.06\n",
       "9999  24999    0.02\n",
       "\n",
       "[10000 rows x 2 columns]"
      ]
     },
     "execution_count": 58,
     "metadata": {},
     "output_type": "execute_result"
    }
   ],
   "source": [
    "test = pd.read_csv('/kaggle/input/predict-customer-churn-a-binary-classification-ch/test.csv')\n",
    "y_hat = forest.predict_proba(data_cleaner(test))[:, 1]\n",
    "submission = pd.DataFrame(test.reset_index().id).assign(Exited=y_hat)\n",
    "submission"
   ]
  },
  {
   "cell_type": "markdown",
   "id": "a1824c76",
   "metadata": {
    "papermill": {
     "duration": 0.04011,
     "end_time": "2024-10-09T17:13:46.657295",
     "exception": false,
     "start_time": "2024-10-09T17:13:46.617185",
     "status": "completed"
    },
    "tags": []
   },
   "source": [
    "I hope you found this notebook helpful in understanding the workflow and concepts covered. Feel free to explore further and experiment with the code. `Thank you` for your time and interest!"
   ]
  }
 ],
 "metadata": {
  "kaggle": {
   "accelerator": "gpu",
   "dataSources": [
    {
     "databundleVersionId": 8551020,
     "sourceId": 77888,
     "sourceType": "competition"
    }
   ],
   "dockerImageVersionId": 30761,
   "isGpuEnabled": true,
   "isInternetEnabled": true,
   "language": "python",
   "sourceType": "notebook"
  },
  "kernelspec": {
   "display_name": "Python 3",
   "language": "python",
   "name": "python3"
  },
  "language_info": {
   "codemirror_mode": {
    "name": "ipython",
    "version": 3
   },
   "file_extension": ".py",
   "mimetype": "text/x-python",
   "name": "python",
   "nbconvert_exporter": "python",
   "pygments_lexer": "ipython3",
   "version": "3.8.8"
  },
  "papermill": {
   "default_parameters": {},
   "duration": 1228.091806,
   "end_time": "2024-10-09T17:13:47.216506",
   "environment_variables": {},
   "exception": null,
   "input_path": "__notebook__.ipynb",
   "output_path": "__notebook__.ipynb",
   "parameters": {},
   "start_time": "2024-10-09T16:53:19.124700",
   "version": "2.6.0"
  }
 },
 "nbformat": 4,
 "nbformat_minor": 5
}
