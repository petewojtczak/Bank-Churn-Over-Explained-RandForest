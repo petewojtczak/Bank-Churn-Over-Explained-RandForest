{
 "cells": [
  {
   "cell_type": "markdown",
   "id": "915cab21",
   "metadata": {
    "papermill": {
     "duration": 0.022723,
     "end_time": "2024-08-31T09:44:02.242977",
     "exception": false,
     "start_time": "2024-08-31T09:44:02.220254",
     "status": "completed"
    },
    "tags": []
   },
   "source": [
    "**Introduction**\n",
    "\n",
    "Welcome to this comprehensive guide on building a RandomForestClassifier machine learning model. This notebook is crafted with a beginner-friendly approach, providing detailed explanations for each step involved. The focus is on making concepts like data preparation, pipeline creation, and hyperparameter tuning with GridSearchCV accessible for less experienced readers. Hope you find this guide insightful and informative!"
   ]
  },
  {
   "cell_type": "markdown",
   "id": "14da3efd",
   "metadata": {
    "execution": {
     "iopub.execute_input": "2024-08-31T01:12:34.532862Z",
     "iopub.status.busy": "2024-08-31T01:12:34.532324Z",
     "iopub.status.idle": "2024-08-31T01:12:34.541051Z",
     "shell.execute_reply": "2024-08-31T01:12:34.540056Z",
     "shell.execute_reply.started": "2024-08-31T01:12:34.532826Z"
    },
    "papermill": {
     "duration": 0.022375,
     "end_time": "2024-08-31T09:44:02.288392",
     "exception": false,
     "start_time": "2024-08-31T09:44:02.266017",
     "status": "completed"
    },
    "tags": []
   },
   "source": [
    "# 1) Data wrangling\n",
    "This section covers everything from the initial examination of the data to preparing a preprocessed dataframe ready for input into the pipeline."
   ]
  },
  {
   "cell_type": "markdown",
   "id": "51c5845f",
   "metadata": {
    "papermill": {
     "duration": 0.022656,
     "end_time": "2024-08-31T09:44:02.333664",
     "exception": false,
     "start_time": "2024-08-31T09:44:02.311008",
     "status": "completed"
    },
    "tags": []
   },
   "source": [
    "## Overview and Cleaning"
   ]
  },
  {
   "cell_type": "code",
   "execution_count": 1,
   "id": "18ab4795",
   "metadata": {},
   "outputs": [],
   "source": [
    "import numpy as np\n",
    "import pandas as pd"
   ]
  },
  {
   "cell_type": "markdown",
   "id": "557b0ada",
   "metadata": {
    "papermill": {
     "duration": 0.023297,
     "end_time": "2024-08-31T09:44:02.379601",
     "exception": false,
     "start_time": "2024-08-31T09:44:02.356304",
     "status": "completed"
    },
    "tags": []
   },
   "source": [
    "A good way to begin tackling a classification problem is by visually examining the raw training data."
   ]
  },
  {
   "cell_type": "code",
   "execution_count": 2,
   "id": "5ce4a753",
   "metadata": {
    "execution": {
     "iopub.execute_input": "2024-08-31T09:44:02.427175Z",
     "iopub.status.busy": "2024-08-31T09:44:02.426177Z",
     "iopub.status.idle": "2024-08-31T09:44:02.522327Z",
     "shell.execute_reply": "2024-08-31T09:44:02.521389Z"
    },
    "papermill": {
     "duration": 0.122298,
     "end_time": "2024-08-31T09:44:02.524546",
     "exception": false,
     "start_time": "2024-08-31T09:44:02.402248",
     "status": "completed"
    },
    "tags": []
   },
   "outputs": [
    {
     "data": {
      "text/html": [
       "<div>\n",
       "<style scoped>\n",
       "    .dataframe tbody tr th:only-of-type {\n",
       "        vertical-align: middle;\n",
       "    }\n",
       "\n",
       "    .dataframe tbody tr th {\n",
       "        vertical-align: top;\n",
       "    }\n",
       "\n",
       "    .dataframe thead th {\n",
       "        text-align: right;\n",
       "    }\n",
       "</style>\n",
       "<table border=\"1\" class=\"dataframe\">\n",
       "  <thead>\n",
       "    <tr style=\"text-align: right;\">\n",
       "      <th></th>\n",
       "      <th>id</th>\n",
       "      <th>CustomerId</th>\n",
       "      <th>Surname</th>\n",
       "      <th>CreditScore</th>\n",
       "      <th>Geography</th>\n",
       "      <th>Gender</th>\n",
       "      <th>Age</th>\n",
       "      <th>Tenure</th>\n",
       "      <th>Balance</th>\n",
       "      <th>NumOfProducts</th>\n",
       "      <th>HasCrCard</th>\n",
       "      <th>IsActiveMember</th>\n",
       "      <th>EstimatedSalary</th>\n",
       "      <th>Exited</th>\n",
       "    </tr>\n",
       "  </thead>\n",
       "  <tbody>\n",
       "    <tr>\n",
       "      <th>0</th>\n",
       "      <td>0</td>\n",
       "      <td>15682442.0</td>\n",
       "      <td>Hsueh</td>\n",
       "      <td>506.0</td>\n",
       "      <td>Spain</td>\n",
       "      <td>Male</td>\n",
       "      <td>33.0</td>\n",
       "      <td>6.0</td>\n",
       "      <td>0.00</td>\n",
       "      <td>1.0</td>\n",
       "      <td>1.0</td>\n",
       "      <td>1.0</td>\n",
       "      <td>158845.49</td>\n",
       "      <td>0.0</td>\n",
       "    </tr>\n",
       "    <tr>\n",
       "      <th>1</th>\n",
       "      <td>1</td>\n",
       "      <td>15576676.0</td>\n",
       "      <td>Mazzi</td>\n",
       "      <td>651.0</td>\n",
       "      <td>Germany</td>\n",
       "      <td>Female</td>\n",
       "      <td>43.0</td>\n",
       "      <td>5.0</td>\n",
       "      <td>102773.20</td>\n",
       "      <td>1.0</td>\n",
       "      <td>0.0</td>\n",
       "      <td>1.0</td>\n",
       "      <td>85902.39</td>\n",
       "      <td>1.0</td>\n",
       "    </tr>\n",
       "    <tr>\n",
       "      <th>2</th>\n",
       "      <td>2</td>\n",
       "      <td>15668958.0</td>\n",
       "      <td>Walker</td>\n",
       "      <td>554.0</td>\n",
       "      <td>France</td>\n",
       "      <td>Female</td>\n",
       "      <td>37.0</td>\n",
       "      <td>6.0</td>\n",
       "      <td>0.00</td>\n",
       "      <td>2.0</td>\n",
       "      <td>1.0</td>\n",
       "      <td>1.0</td>\n",
       "      <td>139861.53</td>\n",
       "      <td>0.0</td>\n",
       "    </tr>\n",
       "    <tr>\n",
       "      <th>3</th>\n",
       "      <td>3</td>\n",
       "      <td>15783629.0</td>\n",
       "      <td>Yobachi</td>\n",
       "      <td>553.0</td>\n",
       "      <td>France</td>\n",
       "      <td>Female</td>\n",
       "      <td>31.0</td>\n",
       "      <td>1.0</td>\n",
       "      <td>0.00</td>\n",
       "      <td>2.0</td>\n",
       "      <td>1.0</td>\n",
       "      <td>1.0</td>\n",
       "      <td>26149.25</td>\n",
       "      <td>0.0</td>\n",
       "    </tr>\n",
       "    <tr>\n",
       "      <th>4</th>\n",
       "      <td>4</td>\n",
       "      <td>15795527.0</td>\n",
       "      <td>Chiu</td>\n",
       "      <td>646.0</td>\n",
       "      <td>France</td>\n",
       "      <td>Male</td>\n",
       "      <td>42.0</td>\n",
       "      <td>5.0</td>\n",
       "      <td>0.00</td>\n",
       "      <td>2.0</td>\n",
       "      <td>1.0</td>\n",
       "      <td>1.0</td>\n",
       "      <td>61761.77</td>\n",
       "      <td>0.0</td>\n",
       "    </tr>\n",
       "    <tr>\n",
       "      <th>...</th>\n",
       "      <td>...</td>\n",
       "      <td>...</td>\n",
       "      <td>...</td>\n",
       "      <td>...</td>\n",
       "      <td>...</td>\n",
       "      <td>...</td>\n",
       "      <td>...</td>\n",
       "      <td>...</td>\n",
       "      <td>...</td>\n",
       "      <td>...</td>\n",
       "      <td>...</td>\n",
       "      <td>...</td>\n",
       "      <td>...</td>\n",
       "      <td>...</td>\n",
       "    </tr>\n",
       "    <tr>\n",
       "      <th>14995</th>\n",
       "      <td>14995</td>\n",
       "      <td>15661830.0</td>\n",
       "      <td>Ts'ui</td>\n",
       "      <td>597.0</td>\n",
       "      <td>France</td>\n",
       "      <td>Male</td>\n",
       "      <td>31.0</td>\n",
       "      <td>7.0</td>\n",
       "      <td>74988.59</td>\n",
       "      <td>1.0</td>\n",
       "      <td>0.0</td>\n",
       "      <td>0.0</td>\n",
       "      <td>92621.90</td>\n",
       "      <td>0.0</td>\n",
       "    </tr>\n",
       "    <tr>\n",
       "      <th>14996</th>\n",
       "      <td>14996</td>\n",
       "      <td>15578866.0</td>\n",
       "      <td>Ch'iu</td>\n",
       "      <td>682.0</td>\n",
       "      <td>Spain</td>\n",
       "      <td>Male</td>\n",
       "      <td>32.0</td>\n",
       "      <td>0.0</td>\n",
       "      <td>131394.56</td>\n",
       "      <td>1.0</td>\n",
       "      <td>0.0</td>\n",
       "      <td>1.0</td>\n",
       "      <td>119903.20</td>\n",
       "      <td>0.0</td>\n",
       "    </tr>\n",
       "    <tr>\n",
       "      <th>14997</th>\n",
       "      <td>14997</td>\n",
       "      <td>15689147.0</td>\n",
       "      <td>Chidiebele</td>\n",
       "      <td>535.0</td>\n",
       "      <td>Germany</td>\n",
       "      <td>Female</td>\n",
       "      <td>39.0</td>\n",
       "      <td>9.0</td>\n",
       "      <td>90971.85</td>\n",
       "      <td>1.0</td>\n",
       "      <td>0.0</td>\n",
       "      <td>1.0</td>\n",
       "      <td>74836.45</td>\n",
       "      <td>0.0</td>\n",
       "    </tr>\n",
       "    <tr>\n",
       "      <th>14998</th>\n",
       "      <td>14998</td>\n",
       "      <td>15807577.0</td>\n",
       "      <td>Niu</td>\n",
       "      <td>668.0</td>\n",
       "      <td>France</td>\n",
       "      <td>Female</td>\n",
       "      <td>47.0</td>\n",
       "      <td>2.0</td>\n",
       "      <td>0.00</td>\n",
       "      <td>2.0</td>\n",
       "      <td>0.0</td>\n",
       "      <td>1.0</td>\n",
       "      <td>171552.02</td>\n",
       "      <td>1.0</td>\n",
       "    </tr>\n",
       "    <tr>\n",
       "      <th>14999</th>\n",
       "      <td>14999</td>\n",
       "      <td>15681928.0</td>\n",
       "      <td>Ch'in</td>\n",
       "      <td>599.0</td>\n",
       "      <td>France</td>\n",
       "      <td>Male</td>\n",
       "      <td>38.0</td>\n",
       "      <td>2.0</td>\n",
       "      <td>124495.98</td>\n",
       "      <td>1.0</td>\n",
       "      <td>1.0</td>\n",
       "      <td>0.0</td>\n",
       "      <td>144878.13</td>\n",
       "      <td>0.0</td>\n",
       "    </tr>\n",
       "  </tbody>\n",
       "</table>\n",
       "<p>15000 rows × 14 columns</p>\n",
       "</div>"
      ],
      "text/plain": [
       "          id  CustomerId     Surname  CreditScore Geography  Gender   Age  \\\n",
       "0          0  15682442.0       Hsueh        506.0     Spain    Male  33.0   \n",
       "1          1  15576676.0       Mazzi        651.0   Germany  Female  43.0   \n",
       "2          2  15668958.0      Walker        554.0    France  Female  37.0   \n",
       "3          3  15783629.0     Yobachi        553.0    France  Female  31.0   \n",
       "4          4  15795527.0        Chiu        646.0    France    Male  42.0   \n",
       "...      ...         ...         ...          ...       ...     ...   ...   \n",
       "14995  14995  15661830.0       Ts'ui        597.0    France    Male  31.0   \n",
       "14996  14996  15578866.0       Ch'iu        682.0     Spain    Male  32.0   \n",
       "14997  14997  15689147.0  Chidiebele        535.0   Germany  Female  39.0   \n",
       "14998  14998  15807577.0         Niu        668.0    France  Female  47.0   \n",
       "14999  14999  15681928.0       Ch'in        599.0    France    Male  38.0   \n",
       "\n",
       "       Tenure    Balance  NumOfProducts  HasCrCard  IsActiveMember  \\\n",
       "0         6.0       0.00            1.0        1.0             1.0   \n",
       "1         5.0  102773.20            1.0        0.0             1.0   \n",
       "2         6.0       0.00            2.0        1.0             1.0   \n",
       "3         1.0       0.00            2.0        1.0             1.0   \n",
       "4         5.0       0.00            2.0        1.0             1.0   \n",
       "...       ...        ...            ...        ...             ...   \n",
       "14995     7.0   74988.59            1.0        0.0             0.0   \n",
       "14996     0.0  131394.56            1.0        0.0             1.0   \n",
       "14997     9.0   90971.85            1.0        0.0             1.0   \n",
       "14998     2.0       0.00            2.0        0.0             1.0   \n",
       "14999     2.0  124495.98            1.0        1.0             0.0   \n",
       "\n",
       "       EstimatedSalary  Exited  \n",
       "0            158845.49     0.0  \n",
       "1             85902.39     1.0  \n",
       "2            139861.53     0.0  \n",
       "3             26149.25     0.0  \n",
       "4             61761.77     0.0  \n",
       "...                ...     ...  \n",
       "14995         92621.90     0.0  \n",
       "14996        119903.20     0.0  \n",
       "14997         74836.45     0.0  \n",
       "14998        171552.02     1.0  \n",
       "14999        144878.13     0.0  \n",
       "\n",
       "[15000 rows x 14 columns]"
      ]
     },
     "execution_count": 2,
     "metadata": {},
     "output_type": "execute_result"
    }
   ],
   "source": [
    "train = pd.read_csv('train.csv')\n",
    "train"
   ]
  },
  {
   "cell_type": "markdown",
   "id": "a5b50465",
   "metadata": {
    "papermill": {
     "duration": 0.022838,
     "end_time": "2024-08-31T09:44:02.570854",
     "exception": false,
     "start_time": "2024-08-31T09:44:02.548016",
     "status": "completed"
    },
    "tags": []
   },
   "source": [
    "Before we go on with meaningful outlook on this dataset, some basic formal issues (missing values, duplicates), as well as primary data cleaning (redundant features exclusion), are sorted out."
   ]
  },
  {
   "cell_type": "markdown",
   "id": "d7f207ca",
   "metadata": {
    "papermill": {
     "duration": 0.022826,
     "end_time": "2024-08-31T09:44:02.616658",
     "exception": false,
     "start_time": "2024-08-31T09:44:02.593832",
     "status": "completed"
    },
    "tags": []
   },
   "source": [
    "**Redundant features**\n",
    "\n",
    "Some features (columns) appear to be redundant, specifically **`'id'`**, **`'CustomerId'`**, and **`'Surname'`**. We will exclude them from the analysis, as there is no reason to believe that these arbitrary unique identifiers have any relevance to the target variable (note that we are working with cross-sectional data, where there is no inherent order among rows). A similar principle applies to **`'Surname'`**; it is likely best to exclude this arbitrary variable as well."
   ]
  },
  {
   "cell_type": "code",
   "execution_count": 3,
   "id": "e751d077",
   "metadata": {
    "execution": {
     "iopub.execute_input": "2024-08-31T09:44:02.664917Z",
     "iopub.status.busy": "2024-08-31T09:44:02.664132Z",
     "iopub.status.idle": "2024-08-31T09:44:02.671274Z",
     "shell.execute_reply": "2024-08-31T09:44:02.670553Z"
    },
    "papermill": {
     "duration": 0.03356,
     "end_time": "2024-08-31T09:44:02.673476",
     "exception": false,
     "start_time": "2024-08-31T09:44:02.639916",
     "status": "completed"
    },
    "tags": []
   },
   "outputs": [],
   "source": [
    "train.drop(columns=['id', 'CustomerId', 'Surname'], inplace=True)"
   ]
  },
  {
   "cell_type": "markdown",
   "id": "87839359",
   "metadata": {
    "papermill": {
     "duration": 0.022528,
     "end_time": "2024-08-31T09:44:02.719328",
     "exception": false,
     "start_time": "2024-08-31T09:44:02.696800",
     "status": "completed"
    },
    "tags": []
   },
   "source": [
    "**Basic formal issues**"
   ]
  },
  {
   "cell_type": "code",
   "execution_count": 4,
   "id": "4968b76e",
   "metadata": {
    "execution": {
     "iopub.execute_input": "2024-08-31T09:44:02.768797Z",
     "iopub.status.busy": "2024-08-31T09:44:02.767973Z",
     "iopub.status.idle": "2024-08-31T09:44:02.789746Z",
     "shell.execute_reply": "2024-08-31T09:44:02.788656Z"
    },
    "papermill": {
     "duration": 0.048169,
     "end_time": "2024-08-31T09:44:02.791858",
     "exception": false,
     "start_time": "2024-08-31T09:44:02.743689",
     "status": "completed"
    },
    "tags": []
   },
   "outputs": [
    {
     "name": "stdout",
     "output_type": "stream",
     "text": [
      "Number of rows: 15000\n",
      "Number of columns: 11\n",
      "Data types: {dtype('float64'), dtype('O')}\n",
      "Missing values: False\n",
      "Duplicates: 0\n"
     ]
    }
   ],
   "source": [
    "print(f'Number of rows: {train.shape[0]}')\n",
    "print(f'Number of columns: {train.shape[1]}')\n",
    "print(f'Data types: {set(train.dtypes.values)}')\n",
    "print(f'Missing values: {train.isnull().values.any()}')\n",
    "print(f\"Duplicates: {train.duplicated().sum()}\")"
   ]
  },
  {
   "cell_type": "markdown",
   "id": "b275ef5e",
   "metadata": {
    "papermill": {
     "duration": 0.023456,
     "end_time": "2024-08-31T09:44:02.838650",
     "exception": false,
     "start_time": "2024-08-31T09:44:02.815194",
     "status": "completed"
    },
    "tags": []
   },
   "source": [
    "The training data has no missing values or duplicates. However, if any NULL values (np.NAN) were present, we would need to decide how to address them. Common solutions include dropping rows with NULL values, removing entire columns if most of their values are NULL, or applying an imputation method. In the case of duplicates, when genuine duplicates are detected, only the first occurrence is typically kept."
   ]
  },
  {
   "cell_type": "markdown",
   "id": "f9a6bd14",
   "metadata": {
    "papermill": {
     "duration": 0.023166,
     "end_time": "2024-08-31T09:44:02.885073",
     "exception": false,
     "start_time": "2024-08-31T09:44:02.861907",
     "status": "completed"
    },
    "tags": []
   },
   "source": [
    "**Meaningful outlook on training dataset**\n",
    "\n",
    "Quick Reminder:\n",
    "* **Nominal Variable**: Categorical data without an inherent order (e.g., color, gender).\n",
    "* **Ordinal Variable**: Categorical data with a meaningful order or ranking (e.g., education level, satisfaction ratings).\n",
    "* **Continuous Variable**: Numeric data that can take any value within a range and is measured on a continuous scale (e.g., height, temperature)."
   ]
  },
  {
   "cell_type": "code",
   "execution_count": 5,
   "id": "082bb0da",
   "metadata": {
    "execution": {
     "iopub.execute_input": "2024-08-31T09:44:02.933753Z",
     "iopub.status.busy": "2024-08-31T09:44:02.932899Z",
     "iopub.status.idle": "2024-08-31T09:44:02.951700Z",
     "shell.execute_reply": "2024-08-31T09:44:02.950648Z"
    },
    "papermill": {
     "duration": 0.045441,
     "end_time": "2024-08-31T09:44:02.953686",
     "exception": false,
     "start_time": "2024-08-31T09:44:02.908245",
     "status": "completed"
    },
    "tags": []
   },
   "outputs": [
    {
     "data": {
      "text/html": [
       "<div>\n",
       "<style scoped>\n",
       "    .dataframe tbody tr th:only-of-type {\n",
       "        vertical-align: middle;\n",
       "    }\n",
       "\n",
       "    .dataframe tbody tr th {\n",
       "        vertical-align: top;\n",
       "    }\n",
       "\n",
       "    .dataframe thead th {\n",
       "        text-align: right;\n",
       "    }\n",
       "</style>\n",
       "<table border=\"1\" class=\"dataframe\">\n",
       "  <thead>\n",
       "    <tr style=\"text-align: right;\">\n",
       "      <th></th>\n",
       "      <th>CreditScore</th>\n",
       "      <th>Geography</th>\n",
       "      <th>Gender</th>\n",
       "      <th>Age</th>\n",
       "      <th>Tenure</th>\n",
       "      <th>Balance</th>\n",
       "      <th>NumOfProducts</th>\n",
       "      <th>HasCrCard</th>\n",
       "      <th>IsActiveMember</th>\n",
       "      <th>EstimatedSalary</th>\n",
       "      <th>Exited</th>\n",
       "    </tr>\n",
       "  </thead>\n",
       "  <tbody>\n",
       "    <tr>\n",
       "      <th>1451</th>\n",
       "      <td>679.0</td>\n",
       "      <td>Germany</td>\n",
       "      <td>Male</td>\n",
       "      <td>23.0</td>\n",
       "      <td>2.0</td>\n",
       "      <td>137946.39</td>\n",
       "      <td>1.0</td>\n",
       "      <td>0.0</td>\n",
       "      <td>0.0</td>\n",
       "      <td>126511.94</td>\n",
       "      <td>0.0</td>\n",
       "    </tr>\n",
       "    <tr>\n",
       "      <th>1571</th>\n",
       "      <td>663.0</td>\n",
       "      <td>France</td>\n",
       "      <td>Male</td>\n",
       "      <td>36.0</td>\n",
       "      <td>3.0</td>\n",
       "      <td>0.00</td>\n",
       "      <td>2.0</td>\n",
       "      <td>1.0</td>\n",
       "      <td>1.0</td>\n",
       "      <td>78650.95</td>\n",
       "      <td>0.0</td>\n",
       "    </tr>\n",
       "    <tr>\n",
       "      <th>379</th>\n",
       "      <td>657.0</td>\n",
       "      <td>France</td>\n",
       "      <td>Male</td>\n",
       "      <td>25.0</td>\n",
       "      <td>8.0</td>\n",
       "      <td>185714.28</td>\n",
       "      <td>1.0</td>\n",
       "      <td>1.0</td>\n",
       "      <td>0.0</td>\n",
       "      <td>109291.39</td>\n",
       "      <td>0.0</td>\n",
       "    </tr>\n",
       "  </tbody>\n",
       "</table>\n",
       "</div>"
      ],
      "text/plain": [
       "      CreditScore Geography Gender   Age  Tenure    Balance  NumOfProducts  \\\n",
       "1451        679.0   Germany   Male  23.0     2.0  137946.39            1.0   \n",
       "1571        663.0    France   Male  36.0     3.0       0.00            2.0   \n",
       "379         657.0    France   Male  25.0     8.0  185714.28            1.0   \n",
       "\n",
       "      HasCrCard  IsActiveMember  EstimatedSalary  Exited  \n",
       "1451        0.0             0.0        126511.94     0.0  \n",
       "1571        1.0             1.0         78650.95     0.0  \n",
       "379         1.0             0.0        109291.39     0.0  "
      ]
     },
     "execution_count": 5,
     "metadata": {},
     "output_type": "execute_result"
    }
   ],
   "source": [
    "train.sample(3)"
   ]
  },
  {
   "cell_type": "markdown",
   "id": "a7bee8f8",
   "metadata": {
    "papermill": {
     "duration": 0.023135,
     "end_time": "2024-08-31T09:44:03.000499",
     "exception": false,
     "start_time": "2024-08-31T09:44:02.977364",
     "status": "completed"
    },
    "tags": []
   },
   "source": [
    "The immediate goals when examining the training data are, on one hand, to identify the types of features present (nominal, ordinal, or continuous) and, on the other hand, to examine the target distribution, particularly to assess whether it is imbalanced. As you might suspect, there are some reasons for this.  Let’s closely examine both aspects, starting with the issue of target distribution."
   ]
  },
  {
   "cell_type": "markdown",
   "id": "27f7a518",
   "metadata": {
    "papermill": {
     "duration": 0.023504,
     "end_time": "2024-08-31T09:44:03.047721",
     "exception": false,
     "start_time": "2024-08-31T09:44:03.024217",
     "status": "completed"
    },
    "tags": []
   },
   "source": [
    "### Target distribution"
   ]
  },
  {
   "cell_type": "code",
   "execution_count": 6,
   "id": "fc1929b5",
   "metadata": {
    "execution": {
     "iopub.execute_input": "2024-08-31T09:44:03.096717Z",
     "iopub.status.busy": "2024-08-31T09:44:03.095764Z",
     "iopub.status.idle": "2024-08-31T09:44:03.107126Z",
     "shell.execute_reply": "2024-08-31T09:44:03.106266Z"
    },
    "papermill": {
     "duration": 0.037931,
     "end_time": "2024-08-31T09:44:03.109117",
     "exception": false,
     "start_time": "2024-08-31T09:44:03.071186",
     "status": "completed"
    },
    "tags": []
   },
   "outputs": [
    {
     "data": {
      "text/plain": [
       "0.0    0.7952\n",
       "1.0    0.2048\n",
       "Name: Exited, dtype: float64"
      ]
     },
     "execution_count": 6,
     "metadata": {},
     "output_type": "execute_result"
    }
   ],
   "source": [
    "train.Exited.value_counts(normalize=True)"
   ]
  },
  {
   "cell_type": "markdown",
   "id": "de62f4c7",
   "metadata": {
    "papermill": {
     "duration": 0.023744,
     "end_time": "2024-08-31T09:44:03.193678",
     "exception": false,
     "start_time": "2024-08-31T09:44:03.169934",
     "status": "completed"
    },
    "tags": []
   },
   "source": [
    "The magnitude of this imbalance requires careful consideration. Ignoring a significant imbalance in the target variable can lead to a model biased toward the majority class, poor detection of the minority class, and misleading performance metrics.\n",
    "\n",
    "One approach to address this imbalance is **oversampling**, such as generating synthetic examples for the minority class using SMOTE (Synthetic Minority Over-sampling Technique). This method can be effective when class instances are particularly rare. Alternatively, **undersampling** involves randomly removing instances from the majority class to balance the dataset. This approach works well when there is an abundance of data. In some cases, a combination of both strategies may be necessary.\n",
    "\n",
    "These approaches are known as **Resampling**. However, we prefer a solution that retains all original data and avoids synthetic samples, given our sample size and target distribution. A suitable alternative is to use a scikit-learn classifier with a class_weight parameter. By setting `class_weight`=`'balanced'`, the algorithm automatically adjusts class weights inversely proportional to class frequencies. This allows the model to handle the imbalance naturally while keeping things simple and effective."
   ]
  },
  {
   "cell_type": "markdown",
   "id": "9bc55040",
   "metadata": {
    "papermill": {
     "duration": 0.02311,
     "end_time": "2024-08-31T09:44:03.240253",
     "exception": false,
     "start_time": "2024-08-31T09:44:03.217143",
     "status": "completed"
    },
    "tags": []
   },
   "source": [
    "### Features\n",
    "Different types of features require different procedures (such as statistical tests, correlation coefficients, and preprocessing techniques, etc). To appropriately handle each variable, we first need to identify and categorize its type. Specifically, the variable can be classified as nominal, ordinal, or continuous. In some cases, the choice between treating a variable as ordinal or continuous may not be clear-cut. In such situations, relying on your intuition or experience, or conducting further investigation, is advisable.\n",
    "\n",
    "In this notebook, we will adopt a `convention` to identify whether a feature is nominal, ordinal, or continuous based on its data type. Specifically, we will:\n",
    "* Indicate `nominal` features with the '`object`' dtype,\n",
    "* Indicate `ordinal` features with the '`int`' dtype,\n",
    "* Indicate `continuous` features with the '`float`' dtype.\n",
    "\n",
    "To facilitate this analysis, a dataframe named **_`features_info`_** is created. This dataframe provides basic metadata about our variables (columns), including data type 'dtype' and the number of unique values 'nunique'."
   ]
  },
  {
   "cell_type": "code",
   "execution_count": 7,
   "id": "40a996d3",
   "metadata": {
    "execution": {
     "iopub.execute_input": "2024-08-31T09:44:03.288772Z",
     "iopub.status.busy": "2024-08-31T09:44:03.288379Z",
     "iopub.status.idle": "2024-08-31T09:44:03.310533Z",
     "shell.execute_reply": "2024-08-31T09:44:03.309626Z"
    },
    "papermill": {
     "duration": 0.049019,
     "end_time": "2024-08-31T09:44:03.312691",
     "exception": false,
     "start_time": "2024-08-31T09:44:03.263672",
     "status": "completed"
    },
    "tags": []
   },
   "outputs": [
    {
     "data": {
      "text/html": [
       "<div>\n",
       "<style scoped>\n",
       "    .dataframe tbody tr th:only-of-type {\n",
       "        vertical-align: middle;\n",
       "    }\n",
       "\n",
       "    .dataframe tbody tr th {\n",
       "        vertical-align: top;\n",
       "    }\n",
       "\n",
       "    .dataframe thead th {\n",
       "        text-align: right;\n",
       "    }\n",
       "</style>\n",
       "<table border=\"1\" class=\"dataframe\">\n",
       "  <thead>\n",
       "    <tr style=\"text-align: right;\">\n",
       "      <th></th>\n",
       "      <th>dtype</th>\n",
       "      <th>nunique_vals</th>\n",
       "    </tr>\n",
       "    <tr>\n",
       "      <th>feature</th>\n",
       "      <th></th>\n",
       "      <th></th>\n",
       "    </tr>\n",
       "  </thead>\n",
       "  <tbody>\n",
       "    <tr>\n",
       "      <th>EstimatedSalary</th>\n",
       "      <td>float64</td>\n",
       "      <td>6211</td>\n",
       "    </tr>\n",
       "    <tr>\n",
       "      <th>Balance</th>\n",
       "      <td>float64</td>\n",
       "      <td>3412</td>\n",
       "    </tr>\n",
       "    <tr>\n",
       "      <th>CreditScore</th>\n",
       "      <td>float64</td>\n",
       "      <td>372</td>\n",
       "    </tr>\n",
       "    <tr>\n",
       "      <th>Age</th>\n",
       "      <td>float64</td>\n",
       "      <td>55</td>\n",
       "    </tr>\n",
       "    <tr>\n",
       "      <th>Tenure</th>\n",
       "      <td>float64</td>\n",
       "      <td>11</td>\n",
       "    </tr>\n",
       "    <tr>\n",
       "      <th>NumOfProducts</th>\n",
       "      <td>float64</td>\n",
       "      <td>4</td>\n",
       "    </tr>\n",
       "    <tr>\n",
       "      <th>Geography</th>\n",
       "      <td>object</td>\n",
       "      <td>3</td>\n",
       "    </tr>\n",
       "    <tr>\n",
       "      <th>Gender</th>\n",
       "      <td>object</td>\n",
       "      <td>2</td>\n",
       "    </tr>\n",
       "    <tr>\n",
       "      <th>HasCrCard</th>\n",
       "      <td>float64</td>\n",
       "      <td>2</td>\n",
       "    </tr>\n",
       "    <tr>\n",
       "      <th>IsActiveMember</th>\n",
       "      <td>float64</td>\n",
       "      <td>2</td>\n",
       "    </tr>\n",
       "  </tbody>\n",
       "</table>\n",
       "</div>"
      ],
      "text/plain": [
       "                   dtype  nunique_vals\n",
       "feature                               \n",
       "EstimatedSalary  float64          6211\n",
       "Balance          float64          3412\n",
       "CreditScore      float64           372\n",
       "Age              float64            55\n",
       "Tenure           float64            11\n",
       "NumOfProducts    float64             4\n",
       "Geography         object             3\n",
       "Gender            object             2\n",
       "HasCrCard        float64             2\n",
       "IsActiveMember   float64             2"
      ]
     },
     "execution_count": 7,
     "metadata": {},
     "output_type": "execute_result"
    }
   ],
   "source": [
    "def columns_info(df):\n",
    "    # features' basic metadata for a given df\n",
    "    feature_info = {\n",
    "        'feature': df.columns,\n",
    "        'dtype': [df[col].dtype for col in df.columns],\n",
    "        'nunique_vals': [df[col].nunique() for col in df.columns]}\n",
    "    features_df = pd.DataFrame(feature_info)\n",
    "    features_df.set_index('feature', inplace=True)\n",
    "    features_df.sort_values(by='nunique_vals', ascending=False, inplace=True)\n",
    "    return features_df\n",
    "\n",
    "features_info = columns_info(train.drop(columns=['Exited']))\n",
    "features_info"
   ]
  },
  {
   "cell_type": "markdown",
   "id": "0ea4767b",
   "metadata": {
    "papermill": {
     "duration": 0.023943,
     "end_time": "2024-08-31T09:44:03.360718",
     "exception": false,
     "start_time": "2024-08-31T09:44:03.336775",
     "status": "completed"
    },
    "tags": []
   },
   "source": [
    "**Nominal features**\n",
    "\n",
    "By definition, binary features are essentially nominal features. Another feature identified as nominal is **`'Geography'`**. "
   ]
  },
  {
   "cell_type": "code",
   "execution_count": 8,
   "id": "c60d285a",
   "metadata": {
    "execution": {
     "iopub.execute_input": "2024-08-31T09:44:03.410486Z",
     "iopub.status.busy": "2024-08-31T09:44:03.410086Z",
     "iopub.status.idle": "2024-08-31T09:44:03.443090Z",
     "shell.execute_reply": "2024-08-31T09:44:03.442345Z"
    },
    "papermill": {
     "duration": 0.05998,
     "end_time": "2024-08-31T09:44:03.445150",
     "exception": false,
     "start_time": "2024-08-31T09:44:03.385170",
     "status": "completed"
    },
    "tags": []
   },
   "outputs": [],
   "source": [
    "for col in train.drop(columns='Exited').columns:\n",
    "    if train[col].nunique() < 4:\n",
    "        train[col] = train[col].astype(str)"
   ]
  },
  {
   "cell_type": "markdown",
   "id": "f68bf8ce",
   "metadata": {
    "papermill": {
     "duration": 0.023545,
     "end_time": "2024-08-31T09:44:03.493190",
     "exception": false,
     "start_time": "2024-08-31T09:44:03.469645",
     "status": "completed"
    },
    "tags": []
   },
   "source": [
    "**Ordinal features**\n",
    "\n",
    "Features **`'NumOfProducts'`** and **`'Tenure'`** are inferred to be ordinal."
   ]
  },
  {
   "cell_type": "code",
   "execution_count": 9,
   "id": "42a9bc0b",
   "metadata": {
    "execution": {
     "iopub.execute_input": "2024-08-31T09:44:03.542560Z",
     "iopub.status.busy": "2024-08-31T09:44:03.541871Z",
     "iopub.status.idle": "2024-08-31T09:44:03.547905Z",
     "shell.execute_reply": "2024-08-31T09:44:03.547129Z"
    },
    "papermill": {
     "duration": 0.032898,
     "end_time": "2024-08-31T09:44:03.549893",
     "exception": false,
     "start_time": "2024-08-31T09:44:03.516995",
     "status": "completed"
    },
    "tags": []
   },
   "outputs": [],
   "source": [
    "train.NumOfProducts = train.NumOfProducts.astype(int)\n",
    "train.Tenure = train.Tenure.astype(int)"
   ]
  },
  {
   "cell_type": "markdown",
   "id": "cf634282",
   "metadata": {
    "papermill": {
     "duration": 0.023465,
     "end_time": "2024-08-31T09:44:03.597282",
     "exception": false,
     "start_time": "2024-08-31T09:44:03.573817",
     "status": "completed"
    },
    "tags": []
   },
   "source": [
    "**Continous features**\n",
    "\n",
    "The remaining features are assumed to be continuous, and these variables are indicated by the dtype 'float'."
   ]
  },
  {
   "cell_type": "code",
   "execution_count": 10,
   "id": "05cf30a9",
   "metadata": {
    "execution": {
     "iopub.execute_input": "2024-08-31T09:44:03.648086Z",
     "iopub.status.busy": "2024-08-31T09:44:03.647222Z",
     "iopub.status.idle": "2024-08-31T09:44:03.667269Z",
     "shell.execute_reply": "2024-08-31T09:44:03.666421Z"
    },
    "papermill": {
     "duration": 0.048472,
     "end_time": "2024-08-31T09:44:03.669700",
     "exception": false,
     "start_time": "2024-08-31T09:44:03.621228",
     "status": "completed"
    },
    "tags": []
   },
   "outputs": [
    {
     "data": {
      "text/html": [
       "<div>\n",
       "<style scoped>\n",
       "    .dataframe tbody tr th:only-of-type {\n",
       "        vertical-align: middle;\n",
       "    }\n",
       "\n",
       "    .dataframe tbody tr th {\n",
       "        vertical-align: top;\n",
       "    }\n",
       "\n",
       "    .dataframe thead th {\n",
       "        text-align: right;\n",
       "    }\n",
       "</style>\n",
       "<table border=\"1\" class=\"dataframe\">\n",
       "  <thead>\n",
       "    <tr style=\"text-align: right;\">\n",
       "      <th></th>\n",
       "      <th>dtype</th>\n",
       "      <th>nunique_vals</th>\n",
       "    </tr>\n",
       "    <tr>\n",
       "      <th>feature</th>\n",
       "      <th></th>\n",
       "      <th></th>\n",
       "    </tr>\n",
       "  </thead>\n",
       "  <tbody>\n",
       "    <tr>\n",
       "      <th>EstimatedSalary</th>\n",
       "      <td>float64</td>\n",
       "      <td>6211</td>\n",
       "    </tr>\n",
       "    <tr>\n",
       "      <th>Balance</th>\n",
       "      <td>float64</td>\n",
       "      <td>3412</td>\n",
       "    </tr>\n",
       "    <tr>\n",
       "      <th>CreditScore</th>\n",
       "      <td>float64</td>\n",
       "      <td>372</td>\n",
       "    </tr>\n",
       "    <tr>\n",
       "      <th>Age</th>\n",
       "      <td>float64</td>\n",
       "      <td>55</td>\n",
       "    </tr>\n",
       "    <tr>\n",
       "      <th>Tenure</th>\n",
       "      <td>int64</td>\n",
       "      <td>11</td>\n",
       "    </tr>\n",
       "    <tr>\n",
       "      <th>NumOfProducts</th>\n",
       "      <td>int64</td>\n",
       "      <td>4</td>\n",
       "    </tr>\n",
       "    <tr>\n",
       "      <th>Geography</th>\n",
       "      <td>object</td>\n",
       "      <td>3</td>\n",
       "    </tr>\n",
       "    <tr>\n",
       "      <th>Gender</th>\n",
       "      <td>object</td>\n",
       "      <td>2</td>\n",
       "    </tr>\n",
       "    <tr>\n",
       "      <th>HasCrCard</th>\n",
       "      <td>object</td>\n",
       "      <td>2</td>\n",
       "    </tr>\n",
       "    <tr>\n",
       "      <th>IsActiveMember</th>\n",
       "      <td>object</td>\n",
       "      <td>2</td>\n",
       "    </tr>\n",
       "  </tbody>\n",
       "</table>\n",
       "</div>"
      ],
      "text/plain": [
       "                   dtype  nunique_vals\n",
       "feature                               \n",
       "EstimatedSalary  float64          6211\n",
       "Balance          float64          3412\n",
       "CreditScore      float64           372\n",
       "Age              float64            55\n",
       "Tenure             int64            11\n",
       "NumOfProducts      int64             4\n",
       "Geography         object             3\n",
       "Gender            object             2\n",
       "HasCrCard         object             2\n",
       "IsActiveMember    object             2"
      ]
     },
     "execution_count": 10,
     "metadata": {},
     "output_type": "execute_result"
    }
   ],
   "source": [
    "features_info = columns_info(train.drop(columns=['Exited']))\n",
    "features_info"
   ]
  },
  {
   "cell_type": "markdown",
   "id": "d3114b04",
   "metadata": {
    "papermill": {
     "duration": 0.024234,
     "end_time": "2024-08-31T09:44:03.718109",
     "exception": false,
     "start_time": "2024-08-31T09:44:03.693875",
     "status": "completed"
    },
    "tags": []
   },
   "source": [
    "## Exploratory Data Analysis"
   ]
  },
  {
   "cell_type": "code",
   "execution_count": 11,
   "id": "e43f17cc",
   "metadata": {
    "execution": {
     "iopub.execute_input": "2024-08-31T09:44:03.769698Z",
     "iopub.status.busy": "2024-08-31T09:44:03.769278Z",
     "iopub.status.idle": "2024-08-31T09:44:05.090805Z",
     "shell.execute_reply": "2024-08-31T09:44:05.089990Z"
    },
    "papermill": {
     "duration": 1.34933,
     "end_time": "2024-08-31T09:44:05.093188",
     "exception": false,
     "start_time": "2024-08-31T09:44:03.743858",
     "status": "completed"
    },
    "tags": []
   },
   "outputs": [],
   "source": [
    "import matplotlib.pyplot as plt\n",
    "import seaborn as sns\n",
    "plt.style.use('fivethirtyeight')\n",
    "%matplotlib inline"
   ]
  },
  {
   "cell_type": "markdown",
   "id": "f40d344c",
   "metadata": {
    "papermill": {
     "duration": 0.023985,
     "end_time": "2024-08-31T09:44:05.141606",
     "exception": false,
     "start_time": "2024-08-31T09:44:05.117621",
     "status": "completed"
    },
    "tags": []
   },
   "source": [
    "To enhance exploratory data analysis (EDA) for categorical features, the function **`categorical_eda()`** is defined. This function generates two plots for a given categorical variable:\n",
    "* **Countplot**: This plot shows the distribution of the variable and helps verify that each unique value has a sufficient frequency for meaningful statistical analysis.\n",
    "* **Barplot**: This plot compares the mean of the target variable for each unique value of the feature. A red horizontal line represents the overall target mean. Values below this line indicate that the target is more frequently 0 for that particular unique value, while values above the line suggest that the target is more frequently 1."
   ]
  },
  {
   "cell_type": "code",
   "execution_count": 12,
   "id": "bc97513b",
   "metadata": {
    "execution": {
     "iopub.execute_input": "2024-08-31T09:44:05.192551Z",
     "iopub.status.busy": "2024-08-31T09:44:05.191521Z",
     "iopub.status.idle": "2024-08-31T09:44:05.201468Z",
     "shell.execute_reply": "2024-08-31T09:44:05.200527Z"
    },
    "papermill": {
     "duration": 0.037313,
     "end_time": "2024-08-31T09:44:05.203388",
     "exception": false,
     "start_time": "2024-08-31T09:44:05.166075",
     "status": "completed"
    },
    "tags": []
   },
   "outputs": [],
   "source": [
    "def categorical_eda(feature):\n",
    "    # generates figure facilitating EDA for a categorical feature \n",
    "    fig, axes = plt.subplots(1, 2, figsize=(10, 3))\n",
    "    \n",
    "    # countplot\n",
    "    sns.countplot(data=train, x=feature, ax=axes[0])\n",
    "    axes[0].set_title('Countplot', fontsize=16)\n",
    "    axes[0].tick_params(axis='y', labelsize=10)\n",
    "    axes[0].set_xlabel(xlabel=feature, fontsize=16)\n",
    "    axes[0].set_ylabel(ylabel='Count', fontsize=14)\n",
    "\n",
    "    # barplot\n",
    "    sns.barplot(data=train, x=feature, y='Exited', ax=axes[1])\n",
    "    axes[1].axhline(y=train.Exited.mean(), color='red', linestyle='-', label='global mean')\n",
    "    axes[1].legend(loc='upper left')\n",
    "    axes[1].set_title('Target vs feature', fontsize=16)\n",
    "    axes[1].tick_params(axis='y', labelsize=10)\n",
    "    axes[1].set_xlabel(xlabel=feature, fontsize=16)\n",
    "    axes[1].set_ylabel(ylabel='target_mean', fontsize=14)\n",
    "    \n",
    "    plt.tight_layout()\n",
    "    plt.show()"
   ]
  },
  {
   "cell_type": "markdown",
   "id": "afce68fc",
   "metadata": {
    "papermill": {
     "duration": 0.023718,
     "end_time": "2024-08-31T09:44:05.250822",
     "exception": false,
     "start_time": "2024-08-31T09:44:05.227104",
     "status": "completed"
    },
    "tags": []
   },
   "source": [
    "### Nominal features\n",
    "Here we apply **`categorical_eda()`** to each nominal variable one by one and inspect the results visually."
   ]
  },
  {
   "cell_type": "code",
   "execution_count": 13,
   "id": "8d6fd608",
   "metadata": {
    "execution": {
     "iopub.execute_input": "2024-08-31T09:44:05.302006Z",
     "iopub.status.busy": "2024-08-31T09:44:05.301115Z",
     "iopub.status.idle": "2024-08-31T09:44:05.311561Z",
     "shell.execute_reply": "2024-08-31T09:44:05.310568Z"
    },
    "papermill": {
     "duration": 0.038874,
     "end_time": "2024-08-31T09:44:05.313612",
     "exception": false,
     "start_time": "2024-08-31T09:44:05.274738",
     "status": "completed"
    },
    "tags": []
   },
   "outputs": [
    {
     "data": {
      "text/html": [
       "<div>\n",
       "<style scoped>\n",
       "    .dataframe tbody tr th:only-of-type {\n",
       "        vertical-align: middle;\n",
       "    }\n",
       "\n",
       "    .dataframe tbody tr th {\n",
       "        vertical-align: top;\n",
       "    }\n",
       "\n",
       "    .dataframe thead th {\n",
       "        text-align: right;\n",
       "    }\n",
       "</style>\n",
       "<table border=\"1\" class=\"dataframe\">\n",
       "  <thead>\n",
       "    <tr style=\"text-align: right;\">\n",
       "      <th></th>\n",
       "      <th>dtype</th>\n",
       "      <th>nunique_vals</th>\n",
       "    </tr>\n",
       "    <tr>\n",
       "      <th>feature</th>\n",
       "      <th></th>\n",
       "      <th></th>\n",
       "    </tr>\n",
       "  </thead>\n",
       "  <tbody>\n",
       "    <tr>\n",
       "      <th>Geography</th>\n",
       "      <td>object</td>\n",
       "      <td>3</td>\n",
       "    </tr>\n",
       "    <tr>\n",
       "      <th>Gender</th>\n",
       "      <td>object</td>\n",
       "      <td>2</td>\n",
       "    </tr>\n",
       "    <tr>\n",
       "      <th>HasCrCard</th>\n",
       "      <td>object</td>\n",
       "      <td>2</td>\n",
       "    </tr>\n",
       "    <tr>\n",
       "      <th>IsActiveMember</th>\n",
       "      <td>object</td>\n",
       "      <td>2</td>\n",
       "    </tr>\n",
       "  </tbody>\n",
       "</table>\n",
       "</div>"
      ],
      "text/plain": [
       "                 dtype  nunique_vals\n",
       "feature                             \n",
       "Geography       object             3\n",
       "Gender          object             2\n",
       "HasCrCard       object             2\n",
       "IsActiveMember  object             2"
      ]
     },
     "execution_count": 13,
     "metadata": {},
     "output_type": "execute_result"
    }
   ],
   "source": [
    "# nominal features are indicated by 'object' dtype\n",
    "features_info[features_info.dtype=='object']"
   ]
  },
  {
   "cell_type": "markdown",
   "id": "3a8cd6ab",
   "metadata": {
    "papermill": {
     "duration": 0.023783,
     "end_time": "2024-08-31T09:44:05.362425",
     "exception": false,
     "start_time": "2024-08-31T09:44:05.338642",
     "status": "completed"
    },
    "tags": []
   },
   "source": [
    "**`'Geography'`**\n",
    "\n",
    "The countplot indicates no frequency issues with this variable, as each country is represented by more than 2,000 instances. The barplot suggests that German customers are more likely to churn."
   ]
  },
  {
   "cell_type": "code",
   "execution_count": 14,
   "id": "10237517",
   "metadata": {
    "execution": {
     "iopub.execute_input": "2024-08-31T09:44:05.412840Z",
     "iopub.status.busy": "2024-08-31T09:44:05.412460Z",
     "iopub.status.idle": "2024-08-31T09:44:06.085083Z",
     "shell.execute_reply": "2024-08-31T09:44:06.084386Z"
    },
    "papermill": {
     "duration": 0.700939,
     "end_time": "2024-08-31T09:44:06.087962",
     "exception": false,
     "start_time": "2024-08-31T09:44:05.387023",
     "status": "completed"
    },
    "tags": []
   },
   "outputs": [
    {
     "data": {
      "image/png": "[encoded data removed]",
      "text/plain": [
       "<Figure size 720x216 with 2 Axes>"
      ]
     },
     "metadata": {
      "needs_background": "light"
     },
     "output_type": "display_data"
    }
   ],
   "source": [
    "categorical_eda('Geography')"
   ]
  },
  {
   "cell_type": "markdown",
   "id": "24d5c064",
   "metadata": {
    "papermill": {
     "duration": 0.024567,
     "end_time": "2024-08-31T09:44:06.141696",
     "exception": false,
     "start_time": "2024-08-31T09:44:06.117129",
     "status": "completed"
    },
    "tags": []
   },
   "source": [
    "**`'Gender'`**\n",
    "\n",
    "The training data suggests that females are more likely to churn than males."
   ]
  },
  {
   "cell_type": "code",
   "execution_count": 15,
   "id": "42f13df1",
   "metadata": {
    "execution": {
     "iopub.execute_input": "2024-08-31T09:44:06.193203Z",
     "iopub.status.busy": "2024-08-31T09:44:06.192327Z",
     "iopub.status.idle": "2024-08-31T09:44:06.753681Z",
     "shell.execute_reply": "2024-08-31T09:44:06.752725Z"
    },
    "papermill": {
     "duration": 0.589403,
     "end_time": "2024-08-31T09:44:06.755813",
     "exception": false,
     "start_time": "2024-08-31T09:44:06.166410",
     "status": "completed"
    },
    "tags": []
   },
   "outputs": [
    {
     "data": {
      "image/png": "[encoded data removed]",
      "text/plain": [
       "<Figure size 720x216 with 2 Axes>"
      ]
     },
     "metadata": {
      "needs_background": "light"
     },
     "output_type": "display_data"
    }
   ],
   "source": [
    "categorical_eda('Gender')"
   ]
  },
  {
   "cell_type": "markdown",
   "id": "63f1d7b0",
   "metadata": {
    "papermill": {
     "duration": 0.025003,
     "end_time": "2024-08-31T09:44:06.805888",
     "exception": false,
     "start_time": "2024-08-31T09:44:06.780885",
     "status": "completed"
    },
    "tags": []
   },
   "source": [
    "**`'HasCrCard'`**\n",
    "\n",
    "At this point, there is nothing conclusive to say about this variable, except that it does not exhibit any frequency issues according to the plots."
   ]
  },
  {
   "cell_type": "code",
   "execution_count": 16,
   "id": "685a6549",
   "metadata": {
    "execution": {
     "iopub.execute_input": "2024-08-31T09:44:06.857916Z",
     "iopub.status.busy": "2024-08-31T09:44:06.857235Z",
     "iopub.status.idle": "2024-08-31T09:44:07.414678Z",
     "shell.execute_reply": "2024-08-31T09:44:07.413713Z"
    },
    "papermill": {
     "duration": 0.585785,
     "end_time": "2024-08-31T09:44:07.416774",
     "exception": false,
     "start_time": "2024-08-31T09:44:06.830989",
     "status": "completed"
    },
    "tags": []
   },
   "outputs": [
    {
     "data": {
      "image/png": "[encoded data removed]",
      "text/plain": [
       "<Figure size 720x216 with 2 Axes>"
      ]
     },
     "metadata": {
      "needs_background": "light"
     },
     "output_type": "display_data"
    }
   ],
   "source": [
    "categorical_eda('HasCrCard')"
   ]
  },
  {
   "cell_type": "markdown",
   "id": "de1144aa",
   "metadata": {
    "papermill": {
     "duration": 0.025222,
     "end_time": "2024-08-31T09:44:07.467760",
     "exception": false,
     "start_time": "2024-08-31T09:44:07.442538",
     "status": "completed"
    },
    "tags": []
   },
   "source": [
    "**`'IsActiveMember'`**\n",
    "\n",
    "Active members appear to churn less frequently."
   ]
  },
  {
   "cell_type": "code",
   "execution_count": 17,
   "id": "e166823f",
   "metadata": {
    "execution": {
     "iopub.execute_input": "2024-08-31T09:44:07.520987Z",
     "iopub.status.busy": "2024-08-31T09:44:07.520604Z",
     "iopub.status.idle": "2024-08-31T09:44:08.063644Z",
     "shell.execute_reply": "2024-08-31T09:44:08.062650Z"
    },
    "papermill": {
     "duration": 0.57197,
     "end_time": "2024-08-31T09:44:08.065729",
     "exception": false,
     "start_time": "2024-08-31T09:44:07.493759",
     "status": "completed"
    },
    "tags": []
   },
   "outputs": [
    {
     "data": {
      "image/png": "[encoded data removed]",
      "text/plain": [
       "<Figure size 720x216 with 2 Axes>"
      ]
     },
     "metadata": {
      "needs_background": "light"
     },
     "output_type": "display_data"
    }
   ],
   "source": [
    "categorical_eda('IsActiveMember')"
   ]
  },
  {
   "cell_type": "markdown",
   "id": "0b3d5639",
   "metadata": {
    "papermill": {
     "duration": 0.02556,
     "end_time": "2024-08-31T09:44:08.117803",
     "exception": false,
     "start_time": "2024-08-31T09:44:08.092243",
     "status": "completed"
    },
    "tags": []
   },
   "source": [
    "### Ordinal features"
   ]
  },
  {
   "cell_type": "code",
   "execution_count": 18,
   "id": "896e48fa",
   "metadata": {
    "execution": {
     "iopub.execute_input": "2024-08-31T09:44:08.171176Z",
     "iopub.status.busy": "2024-08-31T09:44:08.170795Z",
     "iopub.status.idle": "2024-08-31T09:44:08.180814Z",
     "shell.execute_reply": "2024-08-31T09:44:08.179910Z"
    },
    "papermill": {
     "duration": 0.039099,
     "end_time": "2024-08-31T09:44:08.182890",
     "exception": false,
     "start_time": "2024-08-31T09:44:08.143791",
     "status": "completed"
    },
    "tags": []
   },
   "outputs": [
    {
     "data": {
      "text/html": [
       "<div>\n",
       "<style scoped>\n",
       "    .dataframe tbody tr th:only-of-type {\n",
       "        vertical-align: middle;\n",
       "    }\n",
       "\n",
       "    .dataframe tbody tr th {\n",
       "        vertical-align: top;\n",
       "    }\n",
       "\n",
       "    .dataframe thead th {\n",
       "        text-align: right;\n",
       "    }\n",
       "</style>\n",
       "<table border=\"1\" class=\"dataframe\">\n",
       "  <thead>\n",
       "    <tr style=\"text-align: right;\">\n",
       "      <th></th>\n",
       "      <th>dtype</th>\n",
       "      <th>nunique_vals</th>\n",
       "    </tr>\n",
       "    <tr>\n",
       "      <th>feature</th>\n",
       "      <th></th>\n",
       "      <th></th>\n",
       "    </tr>\n",
       "  </thead>\n",
       "  <tbody>\n",
       "    <tr>\n",
       "      <th>Tenure</th>\n",
       "      <td>int64</td>\n",
       "      <td>11</td>\n",
       "    </tr>\n",
       "    <tr>\n",
       "      <th>NumOfProducts</th>\n",
       "      <td>int64</td>\n",
       "      <td>4</td>\n",
       "    </tr>\n",
       "  </tbody>\n",
       "</table>\n",
       "</div>"
      ],
      "text/plain": [
       "               dtype  nunique_vals\n",
       "feature                           \n",
       "Tenure         int64            11\n",
       "NumOfProducts  int64             4"
      ]
     },
     "execution_count": 18,
     "metadata": {},
     "output_type": "execute_result"
    }
   ],
   "source": [
    "# ordinal features are indicated by 'int' dtype\n",
    "features_info[features_info.dtype=='int']"
   ]
  },
  {
   "cell_type": "markdown",
   "id": "d7231d11",
   "metadata": {
    "papermill": {
     "duration": 0.025785,
     "end_time": "2024-08-31T09:44:08.235786",
     "exception": false,
     "start_time": "2024-08-31T09:44:08.210001",
     "status": "completed"
    },
    "tags": []
   },
   "source": [
    "Let's visually inspect both ordinal variables."
   ]
  },
  {
   "cell_type": "markdown",
   "id": "abeceb5b",
   "metadata": {
    "papermill": {
     "duration": 0.026047,
     "end_time": "2024-08-31T09:44:08.287942",
     "exception": false,
     "start_time": "2024-08-31T09:44:08.261895",
     "status": "completed"
    },
    "tags": []
   },
   "source": [
    "**`'Tenure'`**\n",
    "\n",
    "In this case, the countplot suggests that there are at least a few hundred instances for each category, which is sufficient."
   ]
  },
  {
   "cell_type": "code",
   "execution_count": 19,
   "id": "8853a304",
   "metadata": {
    "execution": {
     "iopub.execute_input": "2024-08-31T09:44:08.341932Z",
     "iopub.status.busy": "2024-08-31T09:44:08.341513Z",
     "iopub.status.idle": "2024-08-31T09:44:09.291602Z",
     "shell.execute_reply": "2024-08-31T09:44:09.290583Z"
    },
    "papermill": {
     "duration": 0.979755,
     "end_time": "2024-08-31T09:44:09.293770",
     "exception": false,
     "start_time": "2024-08-31T09:44:08.314015",
     "status": "completed"
    },
    "tags": []
   },
   "outputs": [
    {
     "data": {
      "image/png": "[encoded data removed]",
      "text/plain": [
       "<Figure size 720x216 with 2 Axes>"
      ]
     },
     "metadata": {
      "needs_background": "light"
     },
     "output_type": "display_data"
    }
   ],
   "source": [
    "categorical_eda('Tenure')"
   ]
  },
  {
   "cell_type": "markdown",
   "id": "830d0fb6",
   "metadata": {
    "papermill": {
     "duration": 0.028389,
     "end_time": "2024-08-31T09:44:09.349079",
     "exception": false,
     "start_time": "2024-08-31T09:44:09.320690",
     "status": "completed"
    },
    "tags": []
   },
   "source": [
    "**`'NumOfProducts'`**\n",
    "\n",
    "It appears that once a customer has 3 or more of the bank's products, they are almost certain to churn. However, let's closely examine the **`value_counts()`** of this feature, as there may be a frequency-related issue here."
   ]
  },
  {
   "cell_type": "code",
   "execution_count": 20,
   "id": "9f57f87a",
   "metadata": {
    "execution": {
     "iopub.execute_input": "2024-08-31T09:44:09.404212Z",
     "iopub.status.busy": "2024-08-31T09:44:09.403832Z",
     "iopub.status.idle": "2024-08-31T09:44:10.006715Z",
     "shell.execute_reply": "2024-08-31T09:44:10.005733Z"
    },
    "papermill": {
     "duration": 0.632791,
     "end_time": "2024-08-31T09:44:10.008813",
     "exception": false,
     "start_time": "2024-08-31T09:44:09.376022",
     "status": "completed"
    },
    "tags": []
   },
   "outputs": [
    {
     "data": {
      "image/png": "[encoded data removed]",
      "text/plain": [
       "<Figure size 720x216 with 2 Axes>"
      ]
     },
     "metadata": {
      "needs_background": "light"
     },
     "output_type": "display_data"
    }
   ],
   "source": [
    "categorical_eda('NumOfProducts')"
   ]
  },
  {
   "cell_type": "code",
   "execution_count": 21,
   "id": "56ae609a",
   "metadata": {
    "execution": {
     "iopub.execute_input": "2024-08-31T09:44:10.065572Z",
     "iopub.status.busy": "2024-08-31T09:44:10.064827Z",
     "iopub.status.idle": "2024-08-31T09:44:10.074612Z",
     "shell.execute_reply": "2024-08-31T09:44:10.073720Z"
    },
    "papermill": {
     "duration": 0.040418,
     "end_time": "2024-08-31T09:44:10.076480",
     "exception": false,
     "start_time": "2024-08-31T09:44:10.036062",
     "status": "completed"
    },
    "tags": []
   },
   "outputs": [
    {
     "data": {
      "text/plain": [
       "2    8339\n",
       "1    6388\n",
       "3     256\n",
       "4      17\n",
       "Name: NumOfProducts, dtype: int64"
      ]
     },
     "execution_count": 21,
     "metadata": {},
     "output_type": "execute_result"
    }
   ],
   "source": [
    "train.NumOfProducts.value_counts()"
   ]
  },
  {
   "cell_type": "code",
   "execution_count": 22,
   "id": "99f0ba2b",
   "metadata": {
    "execution": {
     "iopub.execute_input": "2024-08-31T09:44:10.131759Z",
     "iopub.status.busy": "2024-08-31T09:44:10.131386Z",
     "iopub.status.idle": "2024-08-31T09:44:10.156625Z",
     "shell.execute_reply": "2024-08-31T09:44:10.155746Z"
    },
    "papermill": {
     "duration": 0.055647,
     "end_time": "2024-08-31T09:44:10.158912",
     "exception": false,
     "start_time": "2024-08-31T09:44:10.103265",
     "status": "completed"
    },
    "tags": []
   },
   "outputs": [
    {
     "data": {
      "text/html": [
       "<div>\n",
       "<style scoped>\n",
       "    .dataframe tbody tr th:only-of-type {\n",
       "        vertical-align: middle;\n",
       "    }\n",
       "\n",
       "    .dataframe tbody tr th {\n",
       "        vertical-align: top;\n",
       "    }\n",
       "\n",
       "    .dataframe thead th {\n",
       "        text-align: right;\n",
       "    }\n",
       "</style>\n",
       "<table border=\"1\" class=\"dataframe\">\n",
       "  <thead>\n",
       "    <tr style=\"text-align: right;\">\n",
       "      <th></th>\n",
       "      <th>CreditScore</th>\n",
       "      <th>Geography</th>\n",
       "      <th>Gender</th>\n",
       "      <th>Age</th>\n",
       "      <th>Tenure</th>\n",
       "      <th>Balance</th>\n",
       "      <th>NumOfProducts</th>\n",
       "      <th>HasCrCard</th>\n",
       "      <th>IsActiveMember</th>\n",
       "      <th>EstimatedSalary</th>\n",
       "      <th>Exited</th>\n",
       "    </tr>\n",
       "  </thead>\n",
       "  <tbody>\n",
       "    <tr>\n",
       "      <th>264</th>\n",
       "      <td>544.0</td>\n",
       "      <td>Spain</td>\n",
       "      <td>Female</td>\n",
       "      <td>36.0</td>\n",
       "      <td>5</td>\n",
       "      <td>0.00</td>\n",
       "      <td>4</td>\n",
       "      <td>1.0</td>\n",
       "      <td>0.0</td>\n",
       "      <td>110748.88</td>\n",
       "      <td>1.0</td>\n",
       "    </tr>\n",
       "    <tr>\n",
       "      <th>296</th>\n",
       "      <td>478.0</td>\n",
       "      <td>France</td>\n",
       "      <td>Male</td>\n",
       "      <td>37.0</td>\n",
       "      <td>1</td>\n",
       "      <td>0.00</td>\n",
       "      <td>4</td>\n",
       "      <td>1.0</td>\n",
       "      <td>0.0</td>\n",
       "      <td>28750.67</td>\n",
       "      <td>1.0</td>\n",
       "    </tr>\n",
       "    <tr>\n",
       "      <th>1062</th>\n",
       "      <td>684.0</td>\n",
       "      <td>Germany</td>\n",
       "      <td>Female</td>\n",
       "      <td>37.0</td>\n",
       "      <td>1</td>\n",
       "      <td>144974.55</td>\n",
       "      <td>4</td>\n",
       "      <td>1.0</td>\n",
       "      <td>1.0</td>\n",
       "      <td>182865.09</td>\n",
       "      <td>1.0</td>\n",
       "    </tr>\n",
       "    <tr>\n",
       "      <th>1185</th>\n",
       "      <td>652.0</td>\n",
       "      <td>France</td>\n",
       "      <td>Female</td>\n",
       "      <td>56.0</td>\n",
       "      <td>3</td>\n",
       "      <td>0.00</td>\n",
       "      <td>4</td>\n",
       "      <td>0.0</td>\n",
       "      <td>1.0</td>\n",
       "      <td>171070.58</td>\n",
       "      <td>1.0</td>\n",
       "    </tr>\n",
       "    <tr>\n",
       "      <th>1417</th>\n",
       "      <td>633.0</td>\n",
       "      <td>Germany</td>\n",
       "      <td>Male</td>\n",
       "      <td>40.0</td>\n",
       "      <td>5</td>\n",
       "      <td>96763.89</td>\n",
       "      <td>4</td>\n",
       "      <td>1.0</td>\n",
       "      <td>0.0</td>\n",
       "      <td>86424.57</td>\n",
       "      <td>1.0</td>\n",
       "    </tr>\n",
       "    <tr>\n",
       "      <th>4842</th>\n",
       "      <td>539.0</td>\n",
       "      <td>Spain</td>\n",
       "      <td>Male</td>\n",
       "      <td>55.0</td>\n",
       "      <td>1</td>\n",
       "      <td>0.00</td>\n",
       "      <td>4</td>\n",
       "      <td>1.0</td>\n",
       "      <td>0.0</td>\n",
       "      <td>167984.72</td>\n",
       "      <td>1.0</td>\n",
       "    </tr>\n",
       "    <tr>\n",
       "      <th>7578</th>\n",
       "      <td>509.0</td>\n",
       "      <td>Spain</td>\n",
       "      <td>Female</td>\n",
       "      <td>55.0</td>\n",
       "      <td>9</td>\n",
       "      <td>123815.86</td>\n",
       "      <td>4</td>\n",
       "      <td>1.0</td>\n",
       "      <td>0.0</td>\n",
       "      <td>167984.72</td>\n",
       "      <td>1.0</td>\n",
       "    </tr>\n",
       "    <tr>\n",
       "      <th>8161</th>\n",
       "      <td>537.0</td>\n",
       "      <td>Spain</td>\n",
       "      <td>Female</td>\n",
       "      <td>47.0</td>\n",
       "      <td>1</td>\n",
       "      <td>0.00</td>\n",
       "      <td>4</td>\n",
       "      <td>1.0</td>\n",
       "      <td>0.0</td>\n",
       "      <td>45419.09</td>\n",
       "      <td>1.0</td>\n",
       "    </tr>\n",
       "    <tr>\n",
       "      <th>10530</th>\n",
       "      <td>558.0</td>\n",
       "      <td>France</td>\n",
       "      <td>Female</td>\n",
       "      <td>42.0</td>\n",
       "      <td>8</td>\n",
       "      <td>0.00</td>\n",
       "      <td>4</td>\n",
       "      <td>0.0</td>\n",
       "      <td>1.0</td>\n",
       "      <td>140929.98</td>\n",
       "      <td>1.0</td>\n",
       "    </tr>\n",
       "    <tr>\n",
       "      <th>11320</th>\n",
       "      <td>607.0</td>\n",
       "      <td>France</td>\n",
       "      <td>Female</td>\n",
       "      <td>43.0</td>\n",
       "      <td>6</td>\n",
       "      <td>0.00</td>\n",
       "      <td>4</td>\n",
       "      <td>1.0</td>\n",
       "      <td>0.0</td>\n",
       "      <td>107615.43</td>\n",
       "      <td>1.0</td>\n",
       "    </tr>\n",
       "    <tr>\n",
       "      <th>12465</th>\n",
       "      <td>850.0</td>\n",
       "      <td>France</td>\n",
       "      <td>Female</td>\n",
       "      <td>33.0</td>\n",
       "      <td>9</td>\n",
       "      <td>0.00</td>\n",
       "      <td>4</td>\n",
       "      <td>0.0</td>\n",
       "      <td>0.0</td>\n",
       "      <td>83629.60</td>\n",
       "      <td>1.0</td>\n",
       "    </tr>\n",
       "    <tr>\n",
       "      <th>13377</th>\n",
       "      <td>718.0</td>\n",
       "      <td>France</td>\n",
       "      <td>Female</td>\n",
       "      <td>46.0</td>\n",
       "      <td>3</td>\n",
       "      <td>156834.34</td>\n",
       "      <td>4</td>\n",
       "      <td>0.0</td>\n",
       "      <td>0.0</td>\n",
       "      <td>115842.10</td>\n",
       "      <td>1.0</td>\n",
       "    </tr>\n",
       "    <tr>\n",
       "      <th>14050</th>\n",
       "      <td>653.0</td>\n",
       "      <td>Germany</td>\n",
       "      <td>Male</td>\n",
       "      <td>48.0</td>\n",
       "      <td>7</td>\n",
       "      <td>137655.24</td>\n",
       "      <td>4</td>\n",
       "      <td>0.0</td>\n",
       "      <td>0.0</td>\n",
       "      <td>178827.30</td>\n",
       "      <td>1.0</td>\n",
       "    </tr>\n",
       "    <tr>\n",
       "      <th>14125</th>\n",
       "      <td>670.0</td>\n",
       "      <td>Germany</td>\n",
       "      <td>Male</td>\n",
       "      <td>63.0</td>\n",
       "      <td>10</td>\n",
       "      <td>141581.08</td>\n",
       "      <td>4</td>\n",
       "      <td>0.0</td>\n",
       "      <td>0.0</td>\n",
       "      <td>66825.33</td>\n",
       "      <td>1.0</td>\n",
       "    </tr>\n",
       "    <tr>\n",
       "      <th>14490</th>\n",
       "      <td>599.0</td>\n",
       "      <td>France</td>\n",
       "      <td>Female</td>\n",
       "      <td>47.0</td>\n",
       "      <td>6</td>\n",
       "      <td>0.00</td>\n",
       "      <td>4</td>\n",
       "      <td>1.0</td>\n",
       "      <td>1.0</td>\n",
       "      <td>79919.13</td>\n",
       "      <td>1.0</td>\n",
       "    </tr>\n",
       "    <tr>\n",
       "      <th>14539</th>\n",
       "      <td>758.0</td>\n",
       "      <td>France</td>\n",
       "      <td>Female</td>\n",
       "      <td>46.0</td>\n",
       "      <td>7</td>\n",
       "      <td>0.00</td>\n",
       "      <td>4</td>\n",
       "      <td>1.0</td>\n",
       "      <td>0.0</td>\n",
       "      <td>180598.86</td>\n",
       "      <td>1.0</td>\n",
       "    </tr>\n",
       "    <tr>\n",
       "      <th>14813</th>\n",
       "      <td>730.0</td>\n",
       "      <td>France</td>\n",
       "      <td>Female</td>\n",
       "      <td>44.0</td>\n",
       "      <td>1</td>\n",
       "      <td>0.00</td>\n",
       "      <td>4</td>\n",
       "      <td>1.0</td>\n",
       "      <td>0.0</td>\n",
       "      <td>136909.87</td>\n",
       "      <td>1.0</td>\n",
       "    </tr>\n",
       "  </tbody>\n",
       "</table>\n",
       "</div>"
      ],
      "text/plain": [
       "       CreditScore Geography  Gender   Age  Tenure    Balance  NumOfProducts  \\\n",
       "264          544.0     Spain  Female  36.0       5       0.00              4   \n",
       "296          478.0    France    Male  37.0       1       0.00              4   \n",
       "1062         684.0   Germany  Female  37.0       1  144974.55              4   \n",
       "1185         652.0    France  Female  56.0       3       0.00              4   \n",
       "1417         633.0   Germany    Male  40.0       5   96763.89              4   \n",
       "4842         539.0     Spain    Male  55.0       1       0.00              4   \n",
       "7578         509.0     Spain  Female  55.0       9  123815.86              4   \n",
       "8161         537.0     Spain  Female  47.0       1       0.00              4   \n",
       "10530        558.0    France  Female  42.0       8       0.00              4   \n",
       "11320        607.0    France  Female  43.0       6       0.00              4   \n",
       "12465        850.0    France  Female  33.0       9       0.00              4   \n",
       "13377        718.0    France  Female  46.0       3  156834.34              4   \n",
       "14050        653.0   Germany    Male  48.0       7  137655.24              4   \n",
       "14125        670.0   Germany    Male  63.0      10  141581.08              4   \n",
       "14490        599.0    France  Female  47.0       6       0.00              4   \n",
       "14539        758.0    France  Female  46.0       7       0.00              4   \n",
       "14813        730.0    France  Female  44.0       1       0.00              4   \n",
       "\n",
       "      HasCrCard IsActiveMember  EstimatedSalary  Exited  \n",
       "264         1.0            0.0        110748.88     1.0  \n",
       "296         1.0            0.0         28750.67     1.0  \n",
       "1062        1.0            1.0        182865.09     1.0  \n",
       "1185        0.0            1.0        171070.58     1.0  \n",
       "1417        1.0            0.0         86424.57     1.0  \n",
       "4842        1.0            0.0        167984.72     1.0  \n",
       "7578        1.0            0.0        167984.72     1.0  \n",
       "8161        1.0            0.0         45419.09     1.0  \n",
       "10530       0.0            1.0        140929.98     1.0  \n",
       "11320       1.0            0.0        107615.43     1.0  \n",
       "12465       0.0            0.0         83629.60     1.0  \n",
       "13377       0.0            0.0        115842.10     1.0  \n",
       "14050       0.0            0.0        178827.30     1.0  \n",
       "14125       0.0            0.0         66825.33     1.0  \n",
       "14490       1.0            1.0         79919.13     1.0  \n",
       "14539       1.0            0.0        180598.86     1.0  \n",
       "14813       1.0            0.0        136909.87     1.0  "
      ]
     },
     "execution_count": 22,
     "metadata": {},
     "output_type": "execute_result"
    }
   ],
   "source": [
    "# this is over-excessive and also a little sad to see\n",
    "train[train.NumOfProducts==4]"
   ]
  },
  {
   "cell_type": "markdown",
   "id": "dd7d20b6",
   "metadata": {
    "papermill": {
     "duration": 0.027718,
     "end_time": "2024-08-31T09:44:10.214962",
     "exception": false,
     "start_time": "2024-08-31T09:44:10.187244",
     "status": "completed"
    },
    "tags": []
   },
   "source": [
    "The exact numbers indicated by **`value_counts()`** for this variable could ideally be more balanced, but it’s clear that this feature has significant predictive power worth incorporating into our model. The barplot suggests that having 3 or 4 products is similar in terms of churn probability. Therefore, we will merge these two categories and treat them as a single value, representing **`'NumOfProducts'`** >= 3."
   ]
  },
  {
   "cell_type": "code",
   "execution_count": 23,
   "id": "21a0b294",
   "metadata": {
    "execution": {
     "iopub.execute_input": "2024-08-31T09:44:10.272643Z",
     "iopub.status.busy": "2024-08-31T09:44:10.271847Z",
     "iopub.status.idle": "2024-08-31T09:44:10.277285Z",
     "shell.execute_reply": "2024-08-31T09:44:10.276546Z"
    },
    "papermill": {
     "duration": 0.036164,
     "end_time": "2024-08-31T09:44:10.279136",
     "exception": false,
     "start_time": "2024-08-31T09:44:10.242972",
     "status": "completed"
    },
    "tags": []
   },
   "outputs": [],
   "source": [
    "train['NumOfProducts'] = train['NumOfProducts'].replace(4, 3)"
   ]
  },
  {
   "cell_type": "markdown",
   "id": "79c3d325",
   "metadata": {
    "papermill": {
     "duration": 0.027354,
     "end_time": "2024-08-31T09:44:10.334528",
     "exception": false,
     "start_time": "2024-08-31T09:44:10.307174",
     "status": "completed"
    },
    "tags": []
   },
   "source": [
    "### Continous features\n",
    "To facilitate the exploratory data analysis (EDA) of continuous features, function **`continous_eda()`** is created. This function generates two plots for a given variable:\n",
    "* **histogram with KDE** (feature distribution)\n",
    "* **violinplot** (target impact on feature distribution)"
   ]
  },
  {
   "cell_type": "code",
   "execution_count": 24,
   "id": "0002697b",
   "metadata": {
    "execution": {
     "iopub.execute_input": "2024-08-31T09:44:10.391584Z",
     "iopub.status.busy": "2024-08-31T09:44:10.391185Z",
     "iopub.status.idle": "2024-08-31T09:44:10.401163Z",
     "shell.execute_reply": "2024-08-31T09:44:10.400244Z"
    },
    "papermill": {
     "duration": 0.04115,
     "end_time": "2024-08-31T09:44:10.403567",
     "exception": false,
     "start_time": "2024-08-31T09:44:10.362417",
     "status": "completed"
    },
    "tags": []
   },
   "outputs": [],
   "source": [
    "def continous_eda(feature):\n",
    "    # generates figure facilitating EDA for a continous features \n",
    "    fig, axes = plt.subplots(1, 2, figsize=(12, 4))\n",
    "    \n",
    "    # histogram with KDE \n",
    "    sns.histplot(data=train, x=feature, kde=True, ax=axes[0])\n",
    "    axes[0].set_title(f'Distribution of {feature}', fontsize=14)\n",
    "    axes[0].set_xlabel(feature, fontsize=12)\n",
    "    axes[0].set_ylabel('Count', fontsize=12)\n",
    "    axes[0].tick_params(axis='x', labelsize=10)\n",
    "    axes[0].tick_params(axis='y', labelsize=10)\n",
    "    \n",
    "    # violin plot \n",
    "    sns.violinplot(x='Exited', y=feature, data=train, ax=axes[1])\n",
    "    axes[1].set_title(f'{feature} vs. Target (Exited)', fontsize=14)\n",
    "    axes[1].set_xlabel('Exited', fontsize=12)\n",
    "    axes[1].set_ylabel(feature, fontsize=12)\n",
    "    axes[1].tick_params(axis='x', labelsize=10)\n",
    "    axes[1].tick_params(axis='y', labelsize=10)\n",
    "    \n",
    "    plt.tight_layout()\n",
    "    plt.show()"
   ]
  },
  {
   "cell_type": "code",
   "execution_count": 25,
   "id": "a26bdec0",
   "metadata": {
    "execution": {
     "iopub.execute_input": "2024-08-31T09:44:10.460900Z",
     "iopub.status.busy": "2024-08-31T09:44:10.460547Z",
     "iopub.status.idle": "2024-08-31T09:44:10.470698Z",
     "shell.execute_reply": "2024-08-31T09:44:10.469792Z"
    },
    "papermill": {
     "duration": 0.041266,
     "end_time": "2024-08-31T09:44:10.472756",
     "exception": false,
     "start_time": "2024-08-31T09:44:10.431490",
     "status": "completed"
    },
    "tags": []
   },
   "outputs": [
    {
     "data": {
      "text/html": [
       "<div>\n",
       "<style scoped>\n",
       "    .dataframe tbody tr th:only-of-type {\n",
       "        vertical-align: middle;\n",
       "    }\n",
       "\n",
       "    .dataframe tbody tr th {\n",
       "        vertical-align: top;\n",
       "    }\n",
       "\n",
       "    .dataframe thead th {\n",
       "        text-align: right;\n",
       "    }\n",
       "</style>\n",
       "<table border=\"1\" class=\"dataframe\">\n",
       "  <thead>\n",
       "    <tr style=\"text-align: right;\">\n",
       "      <th></th>\n",
       "      <th>dtype</th>\n",
       "      <th>nunique_vals</th>\n",
       "    </tr>\n",
       "    <tr>\n",
       "      <th>feature</th>\n",
       "      <th></th>\n",
       "      <th></th>\n",
       "    </tr>\n",
       "  </thead>\n",
       "  <tbody>\n",
       "    <tr>\n",
       "      <th>EstimatedSalary</th>\n",
       "      <td>float64</td>\n",
       "      <td>6211</td>\n",
       "    </tr>\n",
       "    <tr>\n",
       "      <th>Balance</th>\n",
       "      <td>float64</td>\n",
       "      <td>3412</td>\n",
       "    </tr>\n",
       "    <tr>\n",
       "      <th>CreditScore</th>\n",
       "      <td>float64</td>\n",
       "      <td>372</td>\n",
       "    </tr>\n",
       "    <tr>\n",
       "      <th>Age</th>\n",
       "      <td>float64</td>\n",
       "      <td>55</td>\n",
       "    </tr>\n",
       "  </tbody>\n",
       "</table>\n",
       "</div>"
      ],
      "text/plain": [
       "                   dtype  nunique_vals\n",
       "feature                               \n",
       "EstimatedSalary  float64          6211\n",
       "Balance          float64          3412\n",
       "CreditScore      float64           372\n",
       "Age              float64            55"
      ]
     },
     "execution_count": 25,
     "metadata": {},
     "output_type": "execute_result"
    }
   ],
   "source": [
    "# continous features are indicated by 'float' dtype\n",
    "features_info[features_info.dtype=='float']"
   ]
  },
  {
   "cell_type": "markdown",
   "id": "28b4ffe7",
   "metadata": {
    "papermill": {
     "duration": 0.02757,
     "end_time": "2024-08-31T09:44:10.528055",
     "exception": false,
     "start_time": "2024-08-31T09:44:10.500485",
     "status": "completed"
    },
    "tags": []
   },
   "source": [
    "Quick Reminder:\n",
    "\n",
    "Descriptive statistics provide a summary of the central tendency, dispersion, and range of the numeric data.\n",
    "* **Count**: The number of non-null entries.\n",
    "* **Mean**: The average value of the column.\n",
    "* **Standard Deviation (std)**: A measure of the spread or dispersion of the column values.\n",
    "* **Minimum (min)**: The smallest value in the column.\n",
    "* **25th Percentile (25%)**: The value below which 25% of the data falls.\n",
    "* **Median (50%)**: The middle value of the column, separating the data into two halves.\n",
    "* **75th Percentile (75%)**: The value below which 75% of the data falls.\n",
    "* **Maximum (max)**: The largest value in the column."
   ]
  },
  {
   "cell_type": "markdown",
   "id": "3913aec8",
   "metadata": {
    "papermill": {
     "duration": 0.027679,
     "end_time": "2024-08-31T09:44:10.583638",
     "exception": false,
     "start_time": "2024-08-31T09:44:10.555959",
     "status": "completed"
    },
    "tags": []
   },
   "source": [
    "**`'EstimatedSalary'`**\n",
    "\n",
    "A troublemaker variable; applying **`continous_eda()`** produces an unreadable mess."
   ]
  },
  {
   "cell_type": "code",
   "execution_count": 26,
   "id": "26fbe14f",
   "metadata": {
    "execution": {
     "iopub.execute_input": "2024-08-31T09:44:10.641082Z",
     "iopub.status.busy": "2024-08-31T09:44:10.640441Z",
     "iopub.status.idle": "2024-08-31T09:44:10.654133Z",
     "shell.execute_reply": "2024-08-31T09:44:10.653211Z"
    },
    "papermill": {
     "duration": 0.044486,
     "end_time": "2024-08-31T09:44:10.655997",
     "exception": false,
     "start_time": "2024-08-31T09:44:10.611511",
     "status": "completed"
    },
    "tags": []
   },
   "outputs": [
    {
     "data": {
      "text/html": [
       "<div>\n",
       "<style scoped>\n",
       "    .dataframe tbody tr th:only-of-type {\n",
       "        vertical-align: middle;\n",
       "    }\n",
       "\n",
       "    .dataframe tbody tr th {\n",
       "        vertical-align: top;\n",
       "    }\n",
       "\n",
       "    .dataframe thead th {\n",
       "        text-align: right;\n",
       "    }\n",
       "</style>\n",
       "<table border=\"1\" class=\"dataframe\">\n",
       "  <thead>\n",
       "    <tr style=\"text-align: right;\">\n",
       "      <th></th>\n",
       "      <th>EstimatedSalary</th>\n",
       "    </tr>\n",
       "  </thead>\n",
       "  <tbody>\n",
       "    <tr>\n",
       "      <th>count</th>\n",
       "      <td>15000.00</td>\n",
       "    </tr>\n",
       "    <tr>\n",
       "      <th>mean</th>\n",
       "      <td>118914.46</td>\n",
       "    </tr>\n",
       "    <tr>\n",
       "      <th>std</th>\n",
       "      <td>134968.90</td>\n",
       "    </tr>\n",
       "    <tr>\n",
       "      <th>min</th>\n",
       "      <td>11.58</td>\n",
       "    </tr>\n",
       "    <tr>\n",
       "      <th>25%</th>\n",
       "      <td>83022.92</td>\n",
       "    </tr>\n",
       "    <tr>\n",
       "      <th>50%</th>\n",
       "      <td>122949.71</td>\n",
       "    </tr>\n",
       "    <tr>\n",
       "      <th>75%</th>\n",
       "      <td>156914.44</td>\n",
       "    </tr>\n",
       "    <tr>\n",
       "      <th>max</th>\n",
       "      <td>15677431.85</td>\n",
       "    </tr>\n",
       "  </tbody>\n",
       "</table>\n",
       "</div>"
      ],
      "text/plain": [
       "       EstimatedSalary\n",
       "count         15000.00\n",
       "mean         118914.46\n",
       "std          134968.90\n",
       "min              11.58\n",
       "25%           83022.92\n",
       "50%          122949.71\n",
       "75%          156914.44\n",
       "max        15677431.85"
      ]
     },
     "execution_count": 26,
     "metadata": {},
     "output_type": "execute_result"
    }
   ],
   "source": [
    "# descriptive statistics\n",
    "pd.set_option('display.float_format', lambda x: '%.2f' % x)\n",
    "train['EstimatedSalary'].to_frame().describe()"
   ]
  },
  {
   "cell_type": "markdown",
   "id": "6e8d2ea9",
   "metadata": {
    "papermill": {
     "duration": 0.028181,
     "end_time": "2024-08-31T09:44:10.712542",
     "exception": false,
     "start_time": "2024-08-31T09:44:10.684361",
     "status": "completed"
    },
    "tags": []
   },
   "source": [
    "Descriptive statistics for this feature indicate a high degree of variability with a wide range and the presence of extreme outliers. Such extreme values can skew statistical analyses and models. To mitigate their impact, it may be beneficial to address these outliers using robust statistical methods or by applying transformations or binning techniques.\n",
    "\n",
    "In our case, the **`RandomForestClassifier`** is quite robust to outliers because it uses an ensemble of decision trees, which are less sensitive to extreme values. Each tree in the forest is trained on a random subset of the data, and the final decision is based on the majority vote from all trees, reducing the influence of outliers on the overall model.\n",
    "\n",
    "Let's investigate further **`'EstimatedSalary'`** and check whether a linear relationship is present between this feature and the target variable. The Point Biserial Correlation is an appriopriate coefficient for a continous feature and a binary target."
   ]
  },
  {
   "cell_type": "code",
   "execution_count": 27,
   "id": "e853e03b",
   "metadata": {
    "execution": {
     "iopub.execute_input": "2024-08-31T09:44:10.771781Z",
     "iopub.status.busy": "2024-08-31T09:44:10.771064Z",
     "iopub.status.idle": "2024-08-31T09:44:10.780038Z",
     "shell.execute_reply": "2024-08-31T09:44:10.779099Z"
    },
    "papermill": {
     "duration": 0.041656,
     "end_time": "2024-08-31T09:44:10.782052",
     "exception": false,
     "start_time": "2024-08-31T09:44:10.740396",
     "status": "completed"
    },
    "tags": []
   },
   "outputs": [
    {
     "name": "stdout",
     "output_type": "stream",
     "text": [
      "Point Biserial Correlation between EstimatedSalary and Target: 0.01\n",
      "p_value: 0.48\n"
     ]
    }
   ],
   "source": [
    "from scipy.stats import pointbiserialr\n",
    "\n",
    "corr, p_value = pointbiserialr(train['EstimatedSalary'], train['Exited'])\n",
    "print(f\"Point Biserial Correlation between EstimatedSalary and Target: {corr:.2f}\")\n",
    "print(f\"p_value: {p_value:.2f}\")"
   ]
  },
  {
   "cell_type": "markdown",
   "id": "4fe82879",
   "metadata": {
    "papermill": {
     "duration": 0.027991,
     "end_time": "2024-08-31T09:44:10.839270",
     "exception": false,
     "start_time": "2024-08-31T09:44:10.811279",
     "status": "completed"
    },
    "tags": []
   },
   "source": [
    "A coefficient close to 0 (e.g., 0.01) and a p-value of 0.48, which is much higher than the significance level of 0.05, lead us to conclude that there is no linear relationship between the feature and the target.\n",
    "\n",
    "Let's emphasize the fact that the Point Biserial Correlation specifically detects linear relationships. If the relationship between a feature and the target is non-linear, the correlation coefficient might be close to zero, even if the feature is significant for classification. The Mann-Whitney U test is non-parametric (it does not assume any specific distribution of the data) and does not rely on linearity, so it is suitable for detecting non-linear relationships between a feature and a binary target variable.\n",
    "\n",
    "Since binning a continuous variable can help capture potential non-linear relationships with a binary target, let's create an additional feature **`'EstimatedSalary_binned'`** derived from the **`'EstimatedSalary'`** variable and include it in the analysis. Although this might introduce some collinearity, the **`RandomForestClassifier`** is quite robust to such issues (more details on this are provided in the next subsection, titled 'Collinearity'). Adding this derived feature could help the model account for non-linearity."
   ]
  },
  {
   "cell_type": "code",
   "execution_count": 28,
   "id": "6dbfb3dd",
   "metadata": {
    "execution": {
     "iopub.execute_input": "2024-08-31T09:44:10.897521Z",
     "iopub.status.busy": "2024-08-31T09:44:10.896782Z",
     "iopub.status.idle": "2024-08-31T09:44:11.998081Z",
     "shell.execute_reply": "2024-08-31T09:44:11.997136Z"
    },
    "papermill": {
     "duration": 1.132577,
     "end_time": "2024-08-31T09:44:12.000058",
     "exception": false,
     "start_time": "2024-08-31T09:44:10.867481",
     "status": "completed"
    },
    "tags": []
   },
   "outputs": [
    {
     "data": {
      "image/png": "[encoded data removed]",
      "text/plain": [
       "<Figure size 720x216 with 2 Axes>"
      ]
     },
     "metadata": {
      "needs_background": "light"
     },
     "output_type": "display_data"
    }
   ],
   "source": [
    "from sklearn.preprocessing import KBinsDiscretizer\n",
    "\n",
    "kbin_discretizer = KBinsDiscretizer(n_bins=10, encode='ordinal', strategy='quantile')\n",
    "train['EstimatedSalary_binned'] = kbin_discretizer.fit_transform(train[['EstimatedSalary']])\n",
    "# this is an ordinal variable\n",
    "train['EstimatedSalary_binned'] = train['EstimatedSalary_binned'].astype(int)\n",
    "\n",
    "categorical_eda('EstimatedSalary_binned')"
   ]
  },
  {
   "cell_type": "markdown",
   "id": "8eaa1f85",
   "metadata": {
    "papermill": {
     "duration": 0.028635,
     "end_time": "2024-08-31T09:44:12.057903",
     "exception": false,
     "start_time": "2024-08-31T09:44:12.029268",
     "status": "completed"
    },
    "tags": []
   },
   "source": [
    "Here is the rationale for why using `KBinsDiscretizer` with the quantile strategy can help capture potential non-linear relationships:\n",
    "* **Non-linear Relationships**: Continuous variables can have complex, non-linear relationships with the target variable that are not easily captured by linear models. By discretizing the continuous variable into bins, you essentially create a new categorical variable where each bin represents a range of values from the original variable.\n",
    "* **Quantile Strategy**: When using the quantile strategy in `KBinsDiscretizer`, the continuous variable is divided into bins such that each bin has roughly the same number of observations. This can help in revealing patterns or associations that might be missed if the variable were treated as continuous.\n",
    "* **Ordinal Encoding**: When these bins are encoded as ordinal values, you preserve the order of the bins, which might help models like decision trees or even some linear models with interaction terms capture the non-linear relationship more effectively.\n",
    "\n",
    "Okay, let’s now move on to the next continuous feature, **`'Balance'`**."
   ]
  },
  {
   "cell_type": "markdown",
   "id": "1568c4cb",
   "metadata": {
    "papermill": {
     "duration": 0.028509,
     "end_time": "2024-08-31T09:44:12.115259",
     "exception": false,
     "start_time": "2024-08-31T09:44:12.086750",
     "status": "completed"
    },
    "tags": []
   },
   "source": [
    "**`'Balance'`**\n",
    "\n",
    "\n",
    "At least half of the values for this variable are actually zeros. One possible explanation could be a significant number of \"ghost accounts\". It might be beneficial to create a binary variable **`'HasBalance'`** indicating whether the balance is zero, as this could help the model capture patterns related to these \"ghost accounts\"."
   ]
  },
  {
   "cell_type": "code",
   "execution_count": 29,
   "id": "57fe359d",
   "metadata": {
    "execution": {
     "iopub.execute_input": "2024-08-31T09:44:12.174889Z",
     "iopub.status.busy": "2024-08-31T09:44:12.174092Z",
     "iopub.status.idle": "2024-08-31T09:44:12.186776Z",
     "shell.execute_reply": "2024-08-31T09:44:12.185860Z"
    },
    "papermill": {
     "duration": 0.045153,
     "end_time": "2024-08-31T09:44:12.188885",
     "exception": false,
     "start_time": "2024-08-31T09:44:12.143732",
     "status": "completed"
    },
    "tags": []
   },
   "outputs": [
    {
     "data": {
      "text/html": [
       "<div>\n",
       "<style scoped>\n",
       "    .dataframe tbody tr th:only-of-type {\n",
       "        vertical-align: middle;\n",
       "    }\n",
       "\n",
       "    .dataframe tbody tr th {\n",
       "        vertical-align: top;\n",
       "    }\n",
       "\n",
       "    .dataframe thead th {\n",
       "        text-align: right;\n",
       "    }\n",
       "</style>\n",
       "<table border=\"1\" class=\"dataframe\">\n",
       "  <thead>\n",
       "    <tr style=\"text-align: right;\">\n",
       "      <th></th>\n",
       "      <th>Balance</th>\n",
       "    </tr>\n",
       "  </thead>\n",
       "  <tbody>\n",
       "    <tr>\n",
       "      <th>count</th>\n",
       "      <td>15000.00</td>\n",
       "    </tr>\n",
       "    <tr>\n",
       "      <th>mean</th>\n",
       "      <td>42689.54</td>\n",
       "    </tr>\n",
       "    <tr>\n",
       "      <th>std</th>\n",
       "      <td>59635.26</td>\n",
       "    </tr>\n",
       "    <tr>\n",
       "      <th>min</th>\n",
       "      <td>0.00</td>\n",
       "    </tr>\n",
       "    <tr>\n",
       "      <th>25%</th>\n",
       "      <td>0.00</td>\n",
       "    </tr>\n",
       "    <tr>\n",
       "      <th>50%</th>\n",
       "      <td>0.00</td>\n",
       "    </tr>\n",
       "    <tr>\n",
       "      <th>75%</th>\n",
       "      <td>109356.43</td>\n",
       "    </tr>\n",
       "    <tr>\n",
       "      <th>max</th>\n",
       "      <td>187530.66</td>\n",
       "    </tr>\n",
       "  </tbody>\n",
       "</table>\n",
       "</div>"
      ],
      "text/plain": [
       "        Balance\n",
       "count  15000.00\n",
       "mean   42689.54\n",
       "std    59635.26\n",
       "min        0.00\n",
       "25%        0.00\n",
       "50%        0.00\n",
       "75%   109356.43\n",
       "max   187530.66"
      ]
     },
     "execution_count": 29,
     "metadata": {},
     "output_type": "execute_result"
    }
   ],
   "source": [
    "# descriptive statistics\n",
    "train['Balance'].to_frame().describe()"
   ]
  },
  {
   "cell_type": "code",
   "execution_count": 30,
   "id": "57d53012",
   "metadata": {
    "execution": {
     "iopub.execute_input": "2024-08-31T09:44:12.249384Z",
     "iopub.status.busy": "2024-08-31T09:44:12.248527Z",
     "iopub.status.idle": "2024-08-31T09:44:12.800956Z",
     "shell.execute_reply": "2024-08-31T09:44:12.800015Z"
    },
    "papermill": {
     "duration": 0.584761,
     "end_time": "2024-08-31T09:44:12.803138",
     "exception": false,
     "start_time": "2024-08-31T09:44:12.218377",
     "status": "completed"
    },
    "tags": []
   },
   "outputs": [
    {
     "data": {
      "image/png": "[encoded data removed]",
      "text/plain": [
       "<Figure size 720x216 with 2 Axes>"
      ]
     },
     "metadata": {
      "needs_background": "light"
     },
     "output_type": "display_data"
    }
   ],
   "source": [
    "train['HasBalance'] = (train['Balance'] > 0).astype(int)\n",
    "# this is a nominal variable\n",
    "train['HasBalance'] = train['HasBalance'].astype(str)\n",
    "\n",
    "categorical_eda('HasBalance')"
   ]
  },
  {
   "cell_type": "markdown",
   "id": "2ede33ae",
   "metadata": {
    "papermill": {
     "duration": 0.029519,
     "end_time": "2024-08-31T09:44:12.862531",
     "exception": false,
     "start_time": "2024-08-31T09:44:12.833012",
     "status": "completed"
    },
    "tags": []
   },
   "source": [
    "It seems that binarization might add some explanatory power to the model, as indicated by the barplot. Let's explore the **`'Balance'`** feature further, specifically examining whether a linear relationship exists between this feature and the target variable. For this case, we will focus only on the non-zero instances of the **`'Balance'`** feature when calculating the Point Biserial correlation coefficient."
   ]
  },
  {
   "cell_type": "code",
   "execution_count": 31,
   "id": "ac4bba08",
   "metadata": {
    "execution": {
     "iopub.execute_input": "2024-08-31T09:44:12.922931Z",
     "iopub.status.busy": "2024-08-31T09:44:12.922197Z",
     "iopub.status.idle": "2024-08-31T09:44:12.934304Z",
     "shell.execute_reply": "2024-08-31T09:44:12.933157Z"
    },
    "papermill": {
     "duration": 0.044524,
     "end_time": "2024-08-31T09:44:12.936223",
     "exception": false,
     "start_time": "2024-08-31T09:44:12.891699",
     "status": "completed"
    },
    "tags": []
   },
   "outputs": [
    {
     "name": "stdout",
     "output_type": "stream",
     "text": [
      "Point Biserial Correlation between Balance and Target: 0.01\n",
      "p_value: 0.40\n"
     ]
    }
   ],
   "source": [
    "corr, p_value = pointbiserialr(train[train['Balance']>0].Balance, train[train['Balance']>0].Exited)\n",
    "print(f\"Point Biserial Correlation between Balance and Target: {corr:.2f}\")\n",
    "print(f\"p_value: {p_value:.2f}\")"
   ]
  },
  {
   "cell_type": "markdown",
   "id": "1f4fe505",
   "metadata": {
    "papermill": {
     "duration": 0.029437,
     "end_time": "2024-08-31T09:44:12.994954",
     "exception": false,
     "start_time": "2024-08-31T09:44:12.965517",
     "status": "completed"
    },
    "tags": []
   },
   "source": [
    "A coefficient close to 0 (e.g., 0.01) and a p-value of 0.40, which is much higher than the significance level of 0.05, lead us to conclude that there is no linear relationship between the **`'Balance'`** feature and the target. However, this does not exclude the possibility of a non-linear dependency. As with the **`'EstimatedSalary'`** feature, we will also verify potential non-linear relationships using the Mann-Whitney U test. "
   ]
  },
  {
   "cell_type": "markdown",
   "id": "1edd737f",
   "metadata": {
    "papermill": {
     "duration": 0.029254,
     "end_time": "2024-08-31T09:44:13.053918",
     "exception": false,
     "start_time": "2024-08-31T09:44:13.024664",
     "status": "completed"
    },
    "tags": []
   },
   "source": [
    "Aside from the numerous zeros, the **`'Balance'`** variable does not appear to have any other issues. Below, a violin plot for non-zero balances is provided to give insight into how the binary target impacts the distribution of the feature."
   ]
  },
  {
   "cell_type": "code",
   "execution_count": 32,
   "id": "3689789c",
   "metadata": {
    "execution": {
     "iopub.execute_input": "2024-08-31T09:44:13.114457Z",
     "iopub.status.busy": "2024-08-31T09:44:13.113687Z",
     "iopub.status.idle": "2024-08-31T09:44:13.403644Z",
     "shell.execute_reply": "2024-08-31T09:44:13.402676Z"
    },
    "papermill": {
     "duration": 0.322842,
     "end_time": "2024-08-31T09:44:13.406099",
     "exception": false,
     "start_time": "2024-08-31T09:44:13.083257",
     "status": "completed"
    },
    "tags": []
   },
   "outputs": [
    {
     "data": {
      "image/png": "[encoded data removed]",
      "text/plain": [
       "<Figure size 424.8x201.6 with 1 Axes>"
      ]
     },
     "metadata": {
      "needs_background": "light"
     },
     "output_type": "display_data"
    }
   ],
   "source": [
    "plt.figure(figsize=(5.9, 2.8))\n",
    "\n",
    "plt.title('Balance vs. Target for Non-Zero Balances', fontsize=12)\n",
    "ax = sns.violinplot(x='Exited', y='Balance', data=train[train['Balance'] > 0])\n",
    "ax.set_xlabel('Exited', fontsize=10)\n",
    "ax.set_ylabel('Balance', fontsize=10)\n",
    "ax.tick_params(axis='x', labelsize=9)  \n",
    "ax.tick_params(axis='y', labelsize=9) \n",
    "\n",
    "plt.show()"
   ]
  },
  {
   "cell_type": "markdown",
   "id": "5e1db533",
   "metadata": {
    "papermill": {
     "duration": 0.029881,
     "end_time": "2024-08-31T09:44:13.466857",
     "exception": false,
     "start_time": "2024-08-31T09:44:13.436976",
     "status": "completed"
    },
    "tags": []
   },
   "source": [
    "**`'CreditScore'`**\n",
    "\n",
    "This continous feature behaves kindly."
   ]
  },
  {
   "cell_type": "code",
   "execution_count": 33,
   "id": "8004a935",
   "metadata": {
    "execution": {
     "iopub.execute_input": "2024-08-31T09:44:13.528626Z",
     "iopub.status.busy": "2024-08-31T09:44:13.528238Z",
     "iopub.status.idle": "2024-08-31T09:44:13.542367Z",
     "shell.execute_reply": "2024-08-31T09:44:13.541421Z"
    },
    "papermill": {
     "duration": 0.047352,
     "end_time": "2024-08-31T09:44:13.544405",
     "exception": false,
     "start_time": "2024-08-31T09:44:13.497053",
     "status": "completed"
    },
    "tags": []
   },
   "outputs": [
    {
     "data": {
      "text/html": [
       "<div>\n",
       "<style scoped>\n",
       "    .dataframe tbody tr th:only-of-type {\n",
       "        vertical-align: middle;\n",
       "    }\n",
       "\n",
       "    .dataframe tbody tr th {\n",
       "        vertical-align: top;\n",
       "    }\n",
       "\n",
       "    .dataframe thead th {\n",
       "        text-align: right;\n",
       "    }\n",
       "</style>\n",
       "<table border=\"1\" class=\"dataframe\">\n",
       "  <thead>\n",
       "    <tr style=\"text-align: right;\">\n",
       "      <th></th>\n",
       "      <th>CreditScore</th>\n",
       "    </tr>\n",
       "  </thead>\n",
       "  <tbody>\n",
       "    <tr>\n",
       "      <th>count</th>\n",
       "      <td>15000.00</td>\n",
       "    </tr>\n",
       "    <tr>\n",
       "      <th>mean</th>\n",
       "      <td>657.78</td>\n",
       "    </tr>\n",
       "    <tr>\n",
       "      <th>std</th>\n",
       "      <td>72.98</td>\n",
       "    </tr>\n",
       "    <tr>\n",
       "      <th>min</th>\n",
       "      <td>431.00</td>\n",
       "    </tr>\n",
       "    <tr>\n",
       "      <th>25%</th>\n",
       "      <td>600.00</td>\n",
       "    </tr>\n",
       "    <tr>\n",
       "      <th>50%</th>\n",
       "      <td>661.00</td>\n",
       "    </tr>\n",
       "    <tr>\n",
       "      <th>75%</th>\n",
       "      <td>709.00</td>\n",
       "    </tr>\n",
       "    <tr>\n",
       "      <th>max</th>\n",
       "      <td>850.00</td>\n",
       "    </tr>\n",
       "  </tbody>\n",
       "</table>\n",
       "</div>"
      ],
      "text/plain": [
       "       CreditScore\n",
       "count     15000.00\n",
       "mean        657.78\n",
       "std          72.98\n",
       "min         431.00\n",
       "25%         600.00\n",
       "50%         661.00\n",
       "75%         709.00\n",
       "max         850.00"
      ]
     },
     "execution_count": 33,
     "metadata": {},
     "output_type": "execute_result"
    }
   ],
   "source": [
    "train['CreditScore'].to_frame().describe()"
   ]
  },
  {
   "cell_type": "code",
   "execution_count": 34,
   "id": "bf5a1c26",
   "metadata": {
    "execution": {
     "iopub.execute_input": "2024-08-31T09:44:13.608045Z",
     "iopub.status.busy": "2024-08-31T09:44:13.607218Z",
     "iopub.status.idle": "2024-08-31T09:44:14.417226Z",
     "shell.execute_reply": "2024-08-31T09:44:14.416301Z"
    },
    "papermill": {
     "duration": 0.84429,
     "end_time": "2024-08-31T09:44:14.419730",
     "exception": false,
     "start_time": "2024-08-31T09:44:13.575440",
     "status": "completed"
    },
    "tags": []
   },
   "outputs": [
    {
     "data": {
      "image/png": "[encoded data removed]",
      "text/plain": [
       "<Figure size 864x288 with 2 Axes>"
      ]
     },
     "metadata": {
      "needs_background": "light"
     },
     "output_type": "display_data"
    }
   ],
   "source": [
    "continous_eda('CreditScore')"
   ]
  },
  {
   "cell_type": "code",
   "execution_count": 35,
   "id": "e5ae80ed",
   "metadata": {
    "execution": {
     "iopub.execute_input": "2024-08-31T09:44:14.487082Z",
     "iopub.status.busy": "2024-08-31T09:44:14.486221Z",
     "iopub.status.idle": "2024-08-31T09:44:14.494452Z",
     "shell.execute_reply": "2024-08-31T09:44:14.493498Z"
    },
    "papermill": {
     "duration": 0.044616,
     "end_time": "2024-08-31T09:44:14.496317",
     "exception": false,
     "start_time": "2024-08-31T09:44:14.451701",
     "status": "completed"
    },
    "tags": []
   },
   "outputs": [
    {
     "name": "stdout",
     "output_type": "stream",
     "text": [
      "Point Biserial Correlation between CreditScore and Target: -0.04\n",
      "p_value: 0.00\n"
     ]
    }
   ],
   "source": [
    "corr, p_value = pointbiserialr(train['CreditScore'], train['Exited'])\n",
    "print(f\"Point Biserial Correlation between CreditScore and Target: {corr:.2f}\")\n",
    "print(f\"p_value: {p_value:.2f}\")"
   ]
  },
  {
   "cell_type": "markdown",
   "id": "063dfe88",
   "metadata": {
    "papermill": {
     "duration": 0.031219,
     "end_time": "2024-08-31T09:44:14.559429",
     "exception": false,
     "start_time": "2024-08-31T09:44:14.528210",
     "status": "completed"
    },
    "tags": []
   },
   "source": [
    "Above results means that there is a statistically significant linear relationship between **`'CreditScore'`** and the binary target, but the strength of this relationship is minimal."
   ]
  },
  {
   "cell_type": "markdown",
   "id": "c3989b01",
   "metadata": {
    "papermill": {
     "duration": 0.030896,
     "end_time": "2024-08-31T09:44:14.621734",
     "exception": false,
     "start_time": "2024-08-31T09:44:14.590838",
     "status": "completed"
    },
    "tags": []
   },
   "source": [
    "**`'Age'`**\n",
    "\n",
    "This continous feature behaves very kindly."
   ]
  },
  {
   "cell_type": "code",
   "execution_count": 36,
   "id": "80af5591",
   "metadata": {
    "execution": {
     "iopub.execute_input": "2024-08-31T09:44:14.686547Z",
     "iopub.status.busy": "2024-08-31T09:44:14.686152Z",
     "iopub.status.idle": "2024-08-31T09:44:14.699661Z",
     "shell.execute_reply": "2024-08-31T09:44:14.698618Z"
    },
    "papermill": {
     "duration": 0.048453,
     "end_time": "2024-08-31T09:44:14.701698",
     "exception": false,
     "start_time": "2024-08-31T09:44:14.653245",
     "status": "completed"
    },
    "tags": []
   },
   "outputs": [
    {
     "data": {
      "text/html": [
       "<div>\n",
       "<style scoped>\n",
       "    .dataframe tbody tr th:only-of-type {\n",
       "        vertical-align: middle;\n",
       "    }\n",
       "\n",
       "    .dataframe tbody tr th {\n",
       "        vertical-align: top;\n",
       "    }\n",
       "\n",
       "    .dataframe thead th {\n",
       "        text-align: right;\n",
       "    }\n",
       "</style>\n",
       "<table border=\"1\" class=\"dataframe\">\n",
       "  <thead>\n",
       "    <tr style=\"text-align: right;\">\n",
       "      <th></th>\n",
       "      <th>Age</th>\n",
       "    </tr>\n",
       "  </thead>\n",
       "  <tbody>\n",
       "    <tr>\n",
       "      <th>count</th>\n",
       "      <td>15000.00</td>\n",
       "    </tr>\n",
       "    <tr>\n",
       "      <th>mean</th>\n",
       "      <td>37.81</td>\n",
       "    </tr>\n",
       "    <tr>\n",
       "      <th>std</th>\n",
       "      <td>8.24</td>\n",
       "    </tr>\n",
       "    <tr>\n",
       "      <th>min</th>\n",
       "      <td>18.00</td>\n",
       "    </tr>\n",
       "    <tr>\n",
       "      <th>25%</th>\n",
       "      <td>32.00</td>\n",
       "    </tr>\n",
       "    <tr>\n",
       "      <th>50%</th>\n",
       "      <td>37.00</td>\n",
       "    </tr>\n",
       "    <tr>\n",
       "      <th>75%</th>\n",
       "      <td>42.00</td>\n",
       "    </tr>\n",
       "    <tr>\n",
       "      <th>max</th>\n",
       "      <td>74.00</td>\n",
       "    </tr>\n",
       "  </tbody>\n",
       "</table>\n",
       "</div>"
      ],
      "text/plain": [
       "           Age\n",
       "count 15000.00\n",
       "mean     37.81\n",
       "std       8.24\n",
       "min      18.00\n",
       "25%      32.00\n",
       "50%      37.00\n",
       "75%      42.00\n",
       "max      74.00"
      ]
     },
     "execution_count": 36,
     "metadata": {},
     "output_type": "execute_result"
    }
   ],
   "source": [
    "train['Age'].to_frame().describe()"
   ]
  },
  {
   "cell_type": "code",
   "execution_count": 37,
   "id": "5a949110",
   "metadata": {
    "execution": {
     "iopub.execute_input": "2024-08-31T09:44:14.767436Z",
     "iopub.status.busy": "2024-08-31T09:44:14.767019Z",
     "iopub.status.idle": "2024-08-31T09:44:15.447321Z",
     "shell.execute_reply": "2024-08-31T09:44:15.446399Z"
    },
    "papermill": {
     "duration": 0.715275,
     "end_time": "2024-08-31T09:44:15.449540",
     "exception": false,
     "start_time": "2024-08-31T09:44:14.734265",
     "status": "completed"
    },
    "tags": []
   },
   "outputs": [
    {
     "data": {
      "image/png": "[encoded data removed]",
      "text/plain": [
       "<Figure size 864x288 with 2 Axes>"
      ]
     },
     "metadata": {
      "needs_background": "light"
     },
     "output_type": "display_data"
    }
   ],
   "source": [
    "continous_eda('Age')"
   ]
  },
  {
   "cell_type": "code",
   "execution_count": 38,
   "id": "61e6e466",
   "metadata": {
    "execution": {
     "iopub.execute_input": "2024-08-31T09:44:15.518220Z",
     "iopub.status.busy": "2024-08-31T09:44:15.517455Z",
     "iopub.status.idle": "2024-08-31T09:44:15.526147Z",
     "shell.execute_reply": "2024-08-31T09:44:15.525009Z"
    },
    "papermill": {
     "duration": 0.046033,
     "end_time": "2024-08-31T09:44:15.529191",
     "exception": false,
     "start_time": "2024-08-31T09:44:15.483158",
     "status": "completed"
    },
    "tags": []
   },
   "outputs": [
    {
     "name": "stdout",
     "output_type": "stream",
     "text": [
      "Point Biserial Correlation between Age and Target: 0.46\n",
      "p_value: 0.00\n"
     ]
    }
   ],
   "source": [
    "corr, p_value = pointbiserialr(train['Age'], train['Exited'])\n",
    "print(f\"Point Biserial Correlation between Age and Target: {corr:.2f}\")\n",
    "print(f\"p_value: {p_value:.2f}\")"
   ]
  },
  {
   "cell_type": "markdown",
   "id": "cafcc250",
   "metadata": {
    "papermill": {
     "duration": 0.032604,
     "end_time": "2024-08-31T09:44:15.597400",
     "exception": false,
     "start_time": "2024-08-31T09:44:15.564796",
     "status": "completed"
    },
    "tags": []
   },
   "source": [
    "The results indicate that there is a statistically significant moderate positive linear relationship between **`'Age'`** and the target variable."
   ]
  },
  {
   "cell_type": "markdown",
   "id": "22b557d8",
   "metadata": {
    "papermill": {
     "duration": 0.032607,
     "end_time": "2024-08-31T09:44:15.662897",
     "exception": false,
     "start_time": "2024-08-31T09:44:15.630290",
     "status": "completed"
    },
    "tags": []
   },
   "source": [
    "### Colinearity\n",
    "Let's examine linear correlations by creating a heatmap that includes all numeric features and the binary target variable. Note that the Pearson correlation coefficient is used in this heatmap, which will provide us with only a rough, general sense of collinearity among the variables at most."
   ]
  },
  {
   "cell_type": "code",
   "execution_count": 39,
   "id": "346df3a6",
   "metadata": {
    "execution": {
     "iopub.execute_input": "2024-08-31T09:44:15.734609Z",
     "iopub.status.busy": "2024-08-31T09:44:15.733895Z",
     "iopub.status.idle": "2024-08-31T09:44:16.392179Z",
     "shell.execute_reply": "2024-08-31T09:44:16.391168Z"
    },
    "papermill": {
     "duration": 0.699588,
     "end_time": "2024-08-31T09:44:16.395088",
     "exception": false,
     "start_time": "2024-08-31T09:44:15.695500",
     "status": "completed"
    },
    "tags": []
   },
   "outputs": [
    {
     "data": {
      "image/png": "[encoded data removed]",
      "text/plain": [
       "<Figure size 482.4x482.4 with 2 Axes>"
      ]
     },
     "metadata": {
      "needs_background": "light"
     },
     "output_type": "display_data"
    }
   ],
   "source": [
    "# reordering columns\n",
    "numeric_cols = train.select_dtypes(exclude='object').columns\n",
    "cols_with_exited_poped = [col for col in numeric_cols if col != 'Exited'] + ['Exited']\n",
    "\n",
    "# Pearson coeff heatmap\n",
    "plt.figure(figsize=(6.7, 6.7))\n",
    "\n",
    "ax = sns.heatmap(train[cols_with_exited_poped].corr(), \n",
    "                 annot=True,\n",
    "                 fmt='.2f',\n",
    "                 square=True, \n",
    "                 cmap='coolwarm')\n",
    "\n",
    "ax.xaxis.set_label_position('top')\n",
    "ax.xaxis.set_ticks_position('top')\n",
    "ax.xaxis.set_tick_params(labelsize=12, rotation=65)\n",
    "ax.yaxis.set_tick_params(labelsize=12)\n",
    "\n",
    "plt.show()"
   ]
  },
  {
   "cell_type": "markdown",
   "id": "0d7b28cc",
   "metadata": {
    "papermill": {
     "duration": 0.034256,
     "end_time": "2024-08-31T09:44:16.464613",
     "exception": false,
     "start_time": "2024-08-31T09:44:16.430357",
     "status": "completed"
    },
    "tags": []
   },
   "source": [
    "Collinearity among our features does not appear to be a major issue. If it were, methods like PCA could be applied to address it. \n",
    "\n",
    "Moreover, **`RandomForestClassifier`** is generally robust to collinearity among features. Here's why:\n",
    "* **Decision Trees Structure**: Random forests are composed of multiple decision trees, and each tree is built using a random subset of the features (due to feature bagging). This means that not all trees will include the collinear features, reducing the impact of collinearity on the model as a whole.\n",
    "* **Feature Importance**: In random forests, if two or more features are highly correlated (collinear), the model might distribute the importance among them. However, because each tree in the forest can select different subsets of features, the overall importance of these correlated features is diluted across the forest.\n",
    "* **Model Averaging**: Since the final prediction of a random forest is based on the average or majority vote of all the trees, the effect of collinearity is further minimized compared to models like linear regression, where collinearity can directly affect the coefficients and lead to instability."
   ]
  },
  {
   "cell_type": "markdown",
   "id": "405e93b2",
   "metadata": {
    "papermill": {
     "duration": 0.034335,
     "end_time": "2024-08-31T09:44:16.533592",
     "exception": false,
     "start_time": "2024-08-31T09:44:16.499257",
     "status": "completed"
    },
    "tags": []
   },
   "source": [
    "## Train / Test Split\n",
    "Train/test splitting is typically done before statistical testing or model training to prevent data leakage, which occurs when information from the test set unintentionally influences the model during training."
   ]
  },
  {
   "cell_type": "code",
   "execution_count": 40,
   "id": "2d39df0b",
   "metadata": {
    "execution": {
     "iopub.execute_input": "2024-08-31T09:44:16.605753Z",
     "iopub.status.busy": "2024-08-31T09:44:16.604841Z",
     "iopub.status.idle": "2024-08-31T09:44:16.688897Z",
     "shell.execute_reply": "2024-08-31T09:44:16.687791Z"
    },
    "papermill": {
     "duration": 0.122712,
     "end_time": "2024-08-31T09:44:16.691186",
     "exception": false,
     "start_time": "2024-08-31T09:44:16.568474",
     "status": "completed"
    },
    "tags": []
   },
   "outputs": [],
   "source": [
    "from sklearn.model_selection import train_test_split\n",
    "\n",
    "y = train.Exited\n",
    "X = train.drop('Exited', axis=1)\n",
    "X_train, X_test, y_train, y_test = train_test_split(X, y, test_size=0.2, stratify=train.Exited)"
   ]
  },
  {
   "cell_type": "markdown",
   "id": "1f80ad48",
   "metadata": {
    "papermill": {
     "duration": 0.034534,
     "end_time": "2024-08-31T09:44:16.760651",
     "exception": false,
     "start_time": "2024-08-31T09:44:16.726117",
     "status": "completed"
    },
    "tags": []
   },
   "source": [
    "Due to the sufficiently large size of the **_`train`_** dataframe, the distribution of the target variable **`'Exited'`** in **_`y_test`_** is expected to closely resemble that in train.Exited. This expectation is supported by the law of large numbers, which suggests that larger samples tend to reflect the true population distribution more accurately. However, to ensure that the distribution of train.Exited is preserved, we explicitly set the `stratify parameter` accordingly. This parameter is particularly useful when working with smaller samples, as it helps maintain the target distribution across both **_`y_train`_** and **_`y_test`_**."
   ]
  },
  {
   "cell_type": "markdown",
   "id": "f168d783",
   "metadata": {
    "papermill": {
     "duration": 0.034222,
     "end_time": "2024-08-31T09:44:16.831123",
     "exception": false,
     "start_time": "2024-08-31T09:44:16.796901",
     "status": "completed"
    },
    "tags": []
   },
   "source": [
    "### Training data summary"
   ]
  },
  {
   "cell_type": "code",
   "execution_count": 41,
   "id": "b800de71",
   "metadata": {
    "execution": {
     "iopub.execute_input": "2024-08-31T09:44:16.903254Z",
     "iopub.status.busy": "2024-08-31T09:44:16.902353Z",
     "iopub.status.idle": "2024-08-31T09:44:16.908131Z",
     "shell.execute_reply": "2024-08-31T09:44:16.907226Z"
    },
    "papermill": {
     "duration": 0.043685,
     "end_time": "2024-08-31T09:44:16.910133",
     "exception": false,
     "start_time": "2024-08-31T09:44:16.866448",
     "status": "completed"
    },
    "tags": []
   },
   "outputs": [
    {
     "name": "stdout",
     "output_type": "stream",
     "text": [
      "Number of rows: 12000\n",
      "Number of columns: 12\n",
      "Data types: {dtype('int64'), dtype('float64'), dtype('O')}\n"
     ]
    }
   ],
   "source": [
    "# formal issues\n",
    "print(f'Number of rows: {X_train.shape[0]}')\n",
    "print(f'Number of columns: {X_train.shape[1]}')\n",
    "print(f'Data types: {set(X_train.dtypes.values)}')"
   ]
  },
  {
   "cell_type": "code",
   "execution_count": 42,
   "id": "c9cb834c",
   "metadata": {
    "execution": {
     "iopub.execute_input": "2024-08-31T09:44:16.982386Z",
     "iopub.status.busy": "2024-08-31T09:44:16.981522Z",
     "iopub.status.idle": "2024-08-31T09:44:16.996241Z",
     "shell.execute_reply": "2024-08-31T09:44:16.995377Z"
    },
    "papermill": {
     "duration": 0.052817,
     "end_time": "2024-08-31T09:44:16.998250",
     "exception": false,
     "start_time": "2024-08-31T09:44:16.945433",
     "status": "completed"
    },
    "tags": []
   },
   "outputs": [
    {
     "data": {
      "text/html": [
       "<div>\n",
       "<style scoped>\n",
       "    .dataframe tbody tr th:only-of-type {\n",
       "        vertical-align: middle;\n",
       "    }\n",
       "\n",
       "    .dataframe tbody tr th {\n",
       "        vertical-align: top;\n",
       "    }\n",
       "\n",
       "    .dataframe thead th {\n",
       "        text-align: right;\n",
       "    }\n",
       "</style>\n",
       "<table border=\"1\" class=\"dataframe\">\n",
       "  <thead>\n",
       "    <tr style=\"text-align: right;\">\n",
       "      <th></th>\n",
       "      <th>CreditScore</th>\n",
       "      <th>Geography</th>\n",
       "      <th>Gender</th>\n",
       "      <th>Age</th>\n",
       "      <th>Tenure</th>\n",
       "      <th>Balance</th>\n",
       "      <th>NumOfProducts</th>\n",
       "      <th>HasCrCard</th>\n",
       "      <th>IsActiveMember</th>\n",
       "      <th>EstimatedSalary</th>\n",
       "      <th>EstimatedSalary_binned</th>\n",
       "      <th>HasBalance</th>\n",
       "    </tr>\n",
       "  </thead>\n",
       "  <tbody>\n",
       "    <tr>\n",
       "      <th>3544</th>\n",
       "      <td>583.00</td>\n",
       "      <td>France</td>\n",
       "      <td>Female</td>\n",
       "      <td>56.00</td>\n",
       "      <td>1</td>\n",
       "      <td>110581.29</td>\n",
       "      <td>1</td>\n",
       "      <td>1.0</td>\n",
       "      <td>0.0</td>\n",
       "      <td>93783.00</td>\n",
       "      <td>3</td>\n",
       "      <td>1</td>\n",
       "    </tr>\n",
       "    <tr>\n",
       "      <th>7052</th>\n",
       "      <td>627.00</td>\n",
       "      <td>France</td>\n",
       "      <td>Female</td>\n",
       "      <td>34.00</td>\n",
       "      <td>8</td>\n",
       "      <td>0.00</td>\n",
       "      <td>2</td>\n",
       "      <td>1.0</td>\n",
       "      <td>1.0</td>\n",
       "      <td>156774.94</td>\n",
       "      <td>7</td>\n",
       "      <td>0</td>\n",
       "    </tr>\n",
       "    <tr>\n",
       "      <th>12831</th>\n",
       "      <td>686.00</td>\n",
       "      <td>France</td>\n",
       "      <td>Female</td>\n",
       "      <td>26.00</td>\n",
       "      <td>6</td>\n",
       "      <td>0.00</td>\n",
       "      <td>1</td>\n",
       "      <td>1.0</td>\n",
       "      <td>1.0</td>\n",
       "      <td>164081.42</td>\n",
       "      <td>8</td>\n",
       "      <td>0</td>\n",
       "    </tr>\n",
       "    <tr>\n",
       "      <th>5749</th>\n",
       "      <td>683.00</td>\n",
       "      <td>France</td>\n",
       "      <td>Female</td>\n",
       "      <td>37.00</td>\n",
       "      <td>4</td>\n",
       "      <td>83772.95</td>\n",
       "      <td>1</td>\n",
       "      <td>1.0</td>\n",
       "      <td>1.0</td>\n",
       "      <td>137835.82</td>\n",
       "      <td>6</td>\n",
       "      <td>1</td>\n",
       "    </tr>\n",
       "    <tr>\n",
       "      <th>3636</th>\n",
       "      <td>679.00</td>\n",
       "      <td>France</td>\n",
       "      <td>Female</td>\n",
       "      <td>37.00</td>\n",
       "      <td>3</td>\n",
       "      <td>137389.77</td>\n",
       "      <td>1</td>\n",
       "      <td>1.0</td>\n",
       "      <td>0.0</td>\n",
       "      <td>167749.53</td>\n",
       "      <td>8</td>\n",
       "      <td>1</td>\n",
       "    </tr>\n",
       "  </tbody>\n",
       "</table>\n",
       "</div>"
      ],
      "text/plain": [
       "       CreditScore Geography  Gender   Age  Tenure   Balance  NumOfProducts  \\\n",
       "3544        583.00    France  Female 56.00       1 110581.29              1   \n",
       "7052        627.00    France  Female 34.00       8      0.00              2   \n",
       "12831       686.00    France  Female 26.00       6      0.00              1   \n",
       "5749        683.00    France  Female 37.00       4  83772.95              1   \n",
       "3636        679.00    France  Female 37.00       3 137389.77              1   \n",
       "\n",
       "      HasCrCard IsActiveMember  EstimatedSalary  EstimatedSalary_binned  \\\n",
       "3544        1.0            0.0         93783.00                       3   \n",
       "7052        1.0            1.0        156774.94                       7   \n",
       "12831       1.0            1.0        164081.42                       8   \n",
       "5749        1.0            1.0        137835.82                       6   \n",
       "3636        1.0            0.0        167749.53                       8   \n",
       "\n",
       "      HasBalance  \n",
       "3544           1  \n",
       "7052           0  \n",
       "12831          0  \n",
       "5749           1  \n",
       "3636           1  "
      ]
     },
     "execution_count": 42,
     "metadata": {},
     "output_type": "execute_result"
    }
   ],
   "source": [
    "X_train.sample(5)"
   ]
  },
  {
   "cell_type": "code",
   "execution_count": 43,
   "id": "56af2218",
   "metadata": {
    "execution": {
     "iopub.execute_input": "2024-08-31T09:44:17.073365Z",
     "iopub.status.busy": "2024-08-31T09:44:17.072720Z",
     "iopub.status.idle": "2024-08-31T09:44:17.092305Z",
     "shell.execute_reply": "2024-08-31T09:44:17.091301Z"
    },
    "papermill": {
     "duration": 0.058458,
     "end_time": "2024-08-31T09:44:17.094399",
     "exception": false,
     "start_time": "2024-08-31T09:44:17.035941",
     "status": "completed"
    },
    "tags": []
   },
   "outputs": [
    {
     "data": {
      "text/html": [
       "<div>\n",
       "<style scoped>\n",
       "    .dataframe tbody tr th:only-of-type {\n",
       "        vertical-align: middle;\n",
       "    }\n",
       "\n",
       "    .dataframe tbody tr th {\n",
       "        vertical-align: top;\n",
       "    }\n",
       "\n",
       "    .dataframe thead th {\n",
       "        text-align: right;\n",
       "    }\n",
       "</style>\n",
       "<table border=\"1\" class=\"dataframe\">\n",
       "  <thead>\n",
       "    <tr style=\"text-align: right;\">\n",
       "      <th></th>\n",
       "      <th>dtype</th>\n",
       "      <th>nunique_vals</th>\n",
       "    </tr>\n",
       "    <tr>\n",
       "      <th>feature</th>\n",
       "      <th></th>\n",
       "      <th></th>\n",
       "    </tr>\n",
       "  </thead>\n",
       "  <tbody>\n",
       "    <tr>\n",
       "      <th>EstimatedSalary</th>\n",
       "      <td>float64</td>\n",
       "      <td>5494</td>\n",
       "    </tr>\n",
       "    <tr>\n",
       "      <th>Balance</th>\n",
       "      <td>float64</td>\n",
       "      <td>2917</td>\n",
       "    </tr>\n",
       "    <tr>\n",
       "      <th>CreditScore</th>\n",
       "      <td>float64</td>\n",
       "      <td>367</td>\n",
       "    </tr>\n",
       "    <tr>\n",
       "      <th>Age</th>\n",
       "      <td>float64</td>\n",
       "      <td>55</td>\n",
       "    </tr>\n",
       "    <tr>\n",
       "      <th>Tenure</th>\n",
       "      <td>int64</td>\n",
       "      <td>11</td>\n",
       "    </tr>\n",
       "    <tr>\n",
       "      <th>EstimatedSalary_binned</th>\n",
       "      <td>int64</td>\n",
       "      <td>10</td>\n",
       "    </tr>\n",
       "    <tr>\n",
       "      <th>Geography</th>\n",
       "      <td>object</td>\n",
       "      <td>3</td>\n",
       "    </tr>\n",
       "    <tr>\n",
       "      <th>NumOfProducts</th>\n",
       "      <td>int64</td>\n",
       "      <td>3</td>\n",
       "    </tr>\n",
       "    <tr>\n",
       "      <th>Gender</th>\n",
       "      <td>object</td>\n",
       "      <td>2</td>\n",
       "    </tr>\n",
       "    <tr>\n",
       "      <th>HasCrCard</th>\n",
       "      <td>object</td>\n",
       "      <td>2</td>\n",
       "    </tr>\n",
       "    <tr>\n",
       "      <th>IsActiveMember</th>\n",
       "      <td>object</td>\n",
       "      <td>2</td>\n",
       "    </tr>\n",
       "    <tr>\n",
       "      <th>HasBalance</th>\n",
       "      <td>object</td>\n",
       "      <td>2</td>\n",
       "    </tr>\n",
       "  </tbody>\n",
       "</table>\n",
       "</div>"
      ],
      "text/plain": [
       "                          dtype  nunique_vals\n",
       "feature                                      \n",
       "EstimatedSalary         float64          5494\n",
       "Balance                 float64          2917\n",
       "CreditScore             float64           367\n",
       "Age                     float64            55\n",
       "Tenure                    int64            11\n",
       "EstimatedSalary_binned    int64            10\n",
       "Geography                object             3\n",
       "NumOfProducts             int64             3\n",
       "Gender                   object             2\n",
       "HasCrCard                object             2\n",
       "IsActiveMember           object             2\n",
       "HasBalance               object             2"
      ]
     },
     "execution_count": 43,
     "metadata": {},
     "output_type": "execute_result"
    }
   ],
   "source": [
    "columns_info(X_train)"
   ]
  },
  {
   "cell_type": "markdown",
   "id": "955bc88c",
   "metadata": {
    "papermill": {
     "duration": 0.036,
     "end_time": "2024-08-31T09:44:17.166368",
     "exception": false,
     "start_time": "2024-08-31T09:44:17.130368",
     "status": "completed"
    },
    "tags": []
   },
   "source": [
    "## Statististical Significance Testing"
   ]
  },
  {
   "cell_type": "markdown",
   "id": "42d67a21",
   "metadata": {
    "papermill": {
     "duration": 0.035418,
     "end_time": "2024-08-31T09:44:17.237767",
     "exception": false,
     "start_time": "2024-08-31T09:44:17.202349",
     "status": "completed"
    },
    "tags": []
   },
   "source": [
    "**Numeric features**\n",
    "\n",
    "Since the target is binary, we can split the data into two groups based on the target variable and use the Mann-Whitney U test to determine if the distributions of your continuous or ordinal feature differ significantly between these two groups. The Mann-Whitney U test is a non-parametric test that compares the distributions of two independent groups. It does not assume normal distribution, making it appropriate for continuous or ordinal data, especially when the assumption of normality is not met."
   ]
  },
  {
   "cell_type": "code",
   "execution_count": 44,
   "id": "99597d1a",
   "metadata": {
    "execution": {
     "iopub.execute_input": "2024-08-31T09:44:17.310722Z",
     "iopub.status.busy": "2024-08-31T09:44:17.309826Z",
     "iopub.status.idle": "2024-08-31T09:44:17.316787Z",
     "shell.execute_reply": "2024-08-31T09:44:17.315863Z"
    },
    "papermill": {
     "duration": 0.045452,
     "end_time": "2024-08-31T09:44:17.318822",
     "exception": false,
     "start_time": "2024-08-31T09:44:17.273370",
     "status": "completed"
    },
    "tags": []
   },
   "outputs": [
    {
     "name": "stdout",
     "output_type": "stream",
     "text": [
      "CreditScore\n",
      "Age\n",
      "Tenure\n",
      "Balance\n",
      "NumOfProducts\n",
      "EstimatedSalary\n",
      "EstimatedSalary_binned\n"
     ]
    }
   ],
   "source": [
    "for feature in X_train.select_dtypes(exclude='object').columns:\n",
    "    print(feature)"
   ]
  },
  {
   "cell_type": "code",
   "execution_count": 45,
   "id": "d8d2bf0c",
   "metadata": {
    "execution": {
     "iopub.execute_input": "2024-08-31T09:44:17.392271Z",
     "iopub.status.busy": "2024-08-31T09:44:17.391614Z",
     "iopub.status.idle": "2024-08-31T09:44:17.431876Z",
     "shell.execute_reply": "2024-08-31T09:44:17.430875Z"
    },
    "papermill": {
     "duration": 0.079176,
     "end_time": "2024-08-31T09:44:17.433987",
     "exception": false,
     "start_time": "2024-08-31T09:44:17.354811",
     "status": "completed"
    },
    "tags": []
   },
   "outputs": [
    {
     "name": "stdout",
     "output_type": "stream",
     "text": [
      "CreditScore is statistically significant.\n",
      "Age is statistically significant.\n",
      "Tenure is statistically significant.\n",
      "Balance is statistically significant.\n",
      "NumOfProducts is statistically significant.\n",
      "EstimatedSalary is statistically significant.\n",
      "EstimatedSalary_binned is statistically significant.\n"
     ]
    }
   ],
   "source": [
    "from scipy.stats import mannwhitneyu\n",
    "\n",
    "df_train = pd.concat([X_train, y_train], axis=1)\n",
    "\n",
    "for feature in X_train.select_dtypes(exclude='object').columns:\n",
    "    group_0 = df_train[df_train['Exited']==0][feature]\n",
    "    group_1 = df_train[df_train['Exited']==1][feature]\n",
    "    stat, p = mannwhitneyu(group_0, group_1, alternative='two-sided')\n",
    "    if p < 0.05:\n",
    "        print('{} is statistically significant.'.format(feature))"
   ]
  },
  {
   "cell_type": "markdown",
   "id": "fa54850f",
   "metadata": {
    "papermill": {
     "duration": 0.035746,
     "end_time": "2024-08-31T09:44:17.506158",
     "exception": false,
     "start_time": "2024-08-31T09:44:17.470412",
     "status": "completed"
    },
    "tags": []
   },
   "source": [
    "**Nominal features**\n",
    "\n",
    "The chi2_contingency test is used to determine if there is a significant association between two categorical variables. It assesses whether the observed frequencies in each category are significantly different from the expected frequencies under the assumption of independence. The chi-square test is a non-parametric test, meaning it does not assume any specific distribution for the data. The test works by comparing the observed counts in each category with the counts that would be expected if the two variables were independent. If the observed counts deviate significantly from the expected counts, this suggests a relationship between the variables."
   ]
  },
  {
   "cell_type": "code",
   "execution_count": 46,
   "id": "31ef3623",
   "metadata": {
    "execution": {
     "iopub.execute_input": "2024-08-31T09:44:17.581690Z",
     "iopub.status.busy": "2024-08-31T09:44:17.581292Z",
     "iopub.status.idle": "2024-08-31T09:44:17.639708Z",
     "shell.execute_reply": "2024-08-31T09:44:17.638720Z"
    },
    "papermill": {
     "duration": 0.09788,
     "end_time": "2024-08-31T09:44:17.641845",
     "exception": false,
     "start_time": "2024-08-31T09:44:17.543965",
     "status": "completed"
    },
    "tags": []
   },
   "outputs": [
    {
     "name": "stdout",
     "output_type": "stream",
     "text": [
      "Geography is statistically significant.\n",
      "Gender is statistically significant.\n",
      "HasCrCard is statistically significant.\n",
      "IsActiveMember is statistically significant.\n",
      "HasBalance is statistically significant.\n"
     ]
    }
   ],
   "source": [
    "from scipy.stats import chi2_contingency\n",
    "\n",
    "for feature in X_train.select_dtypes(include='object').columns:\n",
    "    contingency_table = pd.crosstab(df_train[feature], df_train['Exited'])\n",
    "    chi2_stat, p_val, dof, expected = chi2_contingency(contingency_table)\n",
    "    if p < 0.05:\n",
    "        print('{} is statistically significant.'.format(feature))"
   ]
  },
  {
   "cell_type": "markdown",
   "id": "d30e9527",
   "metadata": {
    "papermill": {
     "duration": 0.035797,
     "end_time": "2024-08-31T09:44:17.715041",
     "exception": false,
     "start_time": "2024-08-31T09:44:17.679244",
     "status": "completed"
    },
    "tags": []
   },
   "source": [
    "## Preprocessing\n",
    "The **`RandomForestClassifier`** does not require the application of a **`StandardScaler`**, **`MinMaxScaler`**, or other scaling methods to numeric features, which is more the exception than the rule, as most other algorithms are sensitive to feature scaling. However, nominal features need to be converted to numeric format, so `One-Hot Encoding` should be applied to these variables. `One-hot Encoding` converts categorical variables into binary vectors, where each unique category is represented by a separate binary feature, with a value of 1 indicating the presence of that category and 0 indicating its absence."
   ]
  },
  {
   "cell_type": "code",
   "execution_count": 47,
   "id": "f067a018",
   "metadata": {
    "execution": {
     "iopub.execute_input": "2024-08-31T09:44:17.790298Z",
     "iopub.status.busy": "2024-08-31T09:44:17.789117Z",
     "iopub.status.idle": "2024-08-31T09:44:17.800435Z",
     "shell.execute_reply": "2024-08-31T09:44:17.799654Z"
    },
    "papermill": {
     "duration": 0.051102,
     "end_time": "2024-08-31T09:44:17.802505",
     "exception": false,
     "start_time": "2024-08-31T09:44:17.751403",
     "status": "completed"
    },
    "tags": []
   },
   "outputs": [],
   "source": [
    "from sklearn.compose import make_column_transformer"
   ]
  },
  {
   "cell_type": "markdown",
   "id": "29a59a31",
   "metadata": {
    "papermill": {
     "duration": 0.035923,
     "end_time": "2024-08-31T09:44:17.874917",
     "exception": false,
     "start_time": "2024-08-31T09:44:17.838994",
     "status": "completed"
    },
    "tags": []
   },
   "source": [
    "The **`make_column_transformer`** function from `sklearn.compose` is a powerful tool for preprocessing data in machine learning pipelines. It allows you to apply different preprocessing steps to different columns in your dataset. Two main features are:\n",
    "* **Column-Specific Transformations**: You can specify different preprocessing steps for different columns based on their data types. For example, you might want to apply one-hot encoding to categorical columns and scaling to numerical columns.\n",
    "* **Seamless Integration**: make_column_transformer integrates well with Pipeline from sklearn.pipeline, making it easy to include preprocessing steps as part of a complete machine learning workflow.\n",
    "\n",
    "Let's have a look at preprocessed data:"
   ]
  },
  {
   "cell_type": "code",
   "execution_count": 48,
   "id": "75c56ff6",
   "metadata": {
    "execution": {
     "iopub.execute_input": "2024-08-31T09:44:17.949669Z",
     "iopub.status.busy": "2024-08-31T09:44:17.949255Z",
     "iopub.status.idle": "2024-08-31T09:44:18.008915Z",
     "shell.execute_reply": "2024-08-31T09:44:18.007918Z"
    },
    "papermill": {
     "duration": 0.099844,
     "end_time": "2024-08-31T09:44:18.011083",
     "exception": false,
     "start_time": "2024-08-31T09:44:17.911239",
     "status": "completed"
    },
    "tags": []
   },
   "outputs": [
    {
     "data": {
      "text/html": [
       "<div>\n",
       "<style scoped>\n",
       "    .dataframe tbody tr th:only-of-type {\n",
       "        vertical-align: middle;\n",
       "    }\n",
       "\n",
       "    .dataframe tbody tr th {\n",
       "        vertical-align: top;\n",
       "    }\n",
       "\n",
       "    .dataframe thead th {\n",
       "        text-align: right;\n",
       "    }\n",
       "</style>\n",
       "<table border=\"1\" class=\"dataframe\">\n",
       "  <thead>\n",
       "    <tr style=\"text-align: right;\">\n",
       "      <th></th>\n",
       "      <th>0</th>\n",
       "      <th>1</th>\n",
       "      <th>2</th>\n",
       "      <th>3</th>\n",
       "      <th>4</th>\n",
       "      <th>5</th>\n",
       "      <th>6</th>\n",
       "      <th>7</th>\n",
       "      <th>8</th>\n",
       "      <th>9</th>\n",
       "      <th>10</th>\n",
       "      <th>11</th>\n",
       "      <th>12</th>\n",
       "    </tr>\n",
       "  </thead>\n",
       "  <tbody>\n",
       "    <tr>\n",
       "      <th>0</th>\n",
       "      <td>0.00</td>\n",
       "      <td>1.00</td>\n",
       "      <td>1.00</td>\n",
       "      <td>1.00</td>\n",
       "      <td>1.00</td>\n",
       "      <td>0.00</td>\n",
       "      <td>590.00</td>\n",
       "      <td>49.00</td>\n",
       "      <td>10.00</td>\n",
       "      <td>0.00</td>\n",
       "      <td>2.00</td>\n",
       "      <td>174098.28</td>\n",
       "      <td>8.00</td>\n",
       "    </tr>\n",
       "    <tr>\n",
       "      <th>1</th>\n",
       "      <td>0.00</td>\n",
       "      <td>1.00</td>\n",
       "      <td>0.00</td>\n",
       "      <td>0.00</td>\n",
       "      <td>0.00</td>\n",
       "      <td>0.00</td>\n",
       "      <td>582.00</td>\n",
       "      <td>32.00</td>\n",
       "      <td>3.00</td>\n",
       "      <td>0.00</td>\n",
       "      <td>2.00</td>\n",
       "      <td>177738.98</td>\n",
       "      <td>9.00</td>\n",
       "    </tr>\n",
       "    <tr>\n",
       "      <th>2</th>\n",
       "      <td>0.00</td>\n",
       "      <td>0.00</td>\n",
       "      <td>0.00</td>\n",
       "      <td>0.00</td>\n",
       "      <td>0.00</td>\n",
       "      <td>0.00</td>\n",
       "      <td>652.00</td>\n",
       "      <td>39.00</td>\n",
       "      <td>8.00</td>\n",
       "      <td>0.00</td>\n",
       "      <td>2.00</td>\n",
       "      <td>180551.76</td>\n",
       "      <td>9.00</td>\n",
       "    </tr>\n",
       "    <tr>\n",
       "      <th>3</th>\n",
       "      <td>0.00</td>\n",
       "      <td>0.00</td>\n",
       "      <td>0.00</td>\n",
       "      <td>1.00</td>\n",
       "      <td>1.00</td>\n",
       "      <td>0.00</td>\n",
       "      <td>657.00</td>\n",
       "      <td>35.00</td>\n",
       "      <td>7.00</td>\n",
       "      <td>0.00</td>\n",
       "      <td>2.00</td>\n",
       "      <td>142783.98</td>\n",
       "      <td>6.00</td>\n",
       "    </tr>\n",
       "    <tr>\n",
       "      <th>4</th>\n",
       "      <td>1.00</td>\n",
       "      <td>0.00</td>\n",
       "      <td>0.00</td>\n",
       "      <td>0.00</td>\n",
       "      <td>1.00</td>\n",
       "      <td>1.00</td>\n",
       "      <td>679.00</td>\n",
       "      <td>41.00</td>\n",
       "      <td>8.00</td>\n",
       "      <td>113923.81</td>\n",
       "      <td>2.00</td>\n",
       "      <td>182612.38</td>\n",
       "      <td>9.00</td>\n",
       "    </tr>\n",
       "    <tr>\n",
       "      <th>...</th>\n",
       "      <td>...</td>\n",
       "      <td>...</td>\n",
       "      <td>...</td>\n",
       "      <td>...</td>\n",
       "      <td>...</td>\n",
       "      <td>...</td>\n",
       "      <td>...</td>\n",
       "      <td>...</td>\n",
       "      <td>...</td>\n",
       "      <td>...</td>\n",
       "      <td>...</td>\n",
       "      <td>...</td>\n",
       "      <td>...</td>\n",
       "    </tr>\n",
       "    <tr>\n",
       "      <th>11995</th>\n",
       "      <td>0.00</td>\n",
       "      <td>0.00</td>\n",
       "      <td>1.00</td>\n",
       "      <td>1.00</td>\n",
       "      <td>1.00</td>\n",
       "      <td>1.00</td>\n",
       "      <td>779.00</td>\n",
       "      <td>31.00</td>\n",
       "      <td>10.00</td>\n",
       "      <td>107908.03</td>\n",
       "      <td>1.00</td>\n",
       "      <td>136491.72</td>\n",
       "      <td>5.00</td>\n",
       "    </tr>\n",
       "    <tr>\n",
       "      <th>11996</th>\n",
       "      <td>0.00</td>\n",
       "      <td>1.00</td>\n",
       "      <td>0.00</td>\n",
       "      <td>1.00</td>\n",
       "      <td>1.00</td>\n",
       "      <td>0.00</td>\n",
       "      <td>581.00</td>\n",
       "      <td>34.00</td>\n",
       "      <td>5.00</td>\n",
       "      <td>0.00</td>\n",
       "      <td>2.00</td>\n",
       "      <td>85470.45</td>\n",
       "      <td>2.00</td>\n",
       "    </tr>\n",
       "    <tr>\n",
       "      <th>11997</th>\n",
       "      <td>0.00</td>\n",
       "      <td>0.00</td>\n",
       "      <td>1.00</td>\n",
       "      <td>1.00</td>\n",
       "      <td>0.00</td>\n",
       "      <td>0.00</td>\n",
       "      <td>691.00</td>\n",
       "      <td>39.00</td>\n",
       "      <td>7.00</td>\n",
       "      <td>0.00</td>\n",
       "      <td>2.00</td>\n",
       "      <td>735.69</td>\n",
       "      <td>0.00</td>\n",
       "    </tr>\n",
       "    <tr>\n",
       "      <th>11998</th>\n",
       "      <td>0.00</td>\n",
       "      <td>0.00</td>\n",
       "      <td>1.00</td>\n",
       "      <td>1.00</td>\n",
       "      <td>1.00</td>\n",
       "      <td>0.00</td>\n",
       "      <td>739.00</td>\n",
       "      <td>22.00</td>\n",
       "      <td>8.00</td>\n",
       "      <td>0.00</td>\n",
       "      <td>2.00</td>\n",
       "      <td>58855.85</td>\n",
       "      <td>1.00</td>\n",
       "    </tr>\n",
       "    <tr>\n",
       "      <th>11999</th>\n",
       "      <td>1.00</td>\n",
       "      <td>0.00</td>\n",
       "      <td>0.00</td>\n",
       "      <td>0.00</td>\n",
       "      <td>0.00</td>\n",
       "      <td>1.00</td>\n",
       "      <td>611.00</td>\n",
       "      <td>43.00</td>\n",
       "      <td>10.00</td>\n",
       "      <td>116099.82</td>\n",
       "      <td>1.00</td>\n",
       "      <td>131249.46</td>\n",
       "      <td>5.00</td>\n",
       "    </tr>\n",
       "  </tbody>\n",
       "</table>\n",
       "<p>12000 rows × 13 columns</p>\n",
       "</div>"
      ],
      "text/plain": [
       "        0    1    2    3    4    5      6     7     8         9    10  \\\n",
       "0     0.00 1.00 1.00 1.00 1.00 0.00 590.00 49.00 10.00      0.00 2.00   \n",
       "1     0.00 1.00 0.00 0.00 0.00 0.00 582.00 32.00  3.00      0.00 2.00   \n",
       "2     0.00 0.00 0.00 0.00 0.00 0.00 652.00 39.00  8.00      0.00 2.00   \n",
       "3     0.00 0.00 0.00 1.00 1.00 0.00 657.00 35.00  7.00      0.00 2.00   \n",
       "4     1.00 0.00 0.00 0.00 1.00 1.00 679.00 41.00  8.00 113923.81 2.00   \n",
       "...    ...  ...  ...  ...  ...  ...    ...   ...   ...       ...  ...   \n",
       "11995 0.00 0.00 1.00 1.00 1.00 1.00 779.00 31.00 10.00 107908.03 1.00   \n",
       "11996 0.00 1.00 0.00 1.00 1.00 0.00 581.00 34.00  5.00      0.00 2.00   \n",
       "11997 0.00 0.00 1.00 1.00 0.00 0.00 691.00 39.00  7.00      0.00 2.00   \n",
       "11998 0.00 0.00 1.00 1.00 1.00 0.00 739.00 22.00  8.00      0.00 2.00   \n",
       "11999 1.00 0.00 0.00 0.00 0.00 1.00 611.00 43.00 10.00 116099.82 1.00   \n",
       "\n",
       "             11   12  \n",
       "0     174098.28 8.00  \n",
       "1     177738.98 9.00  \n",
       "2     180551.76 9.00  \n",
       "3     142783.98 6.00  \n",
       "4     182612.38 9.00  \n",
       "...         ...  ...  \n",
       "11995 136491.72 5.00  \n",
       "11996  85470.45 2.00  \n",
       "11997    735.69 0.00  \n",
       "11998  58855.85 1.00  \n",
       "11999 131249.46 5.00  \n",
       "\n",
       "[12000 rows x 13 columns]"
      ]
     },
     "execution_count": 48,
     "metadata": {},
     "output_type": "execute_result"
    }
   ],
   "source": [
    "from sklearn.preprocessing import OneHotEncoder\n",
    "\n",
    "prep = make_column_transformer((OneHotEncoder(drop='first'), X_train.select_dtypes(include='object').columns), remainder='passthrough')\n",
    "\n",
    "X_train_transformed = prep.fit_transform(X_train)\n",
    "X_train_transformed = pd.DataFrame(X_train_transformed)\n",
    "X_train_transformed"
   ]
  },
  {
   "cell_type": "markdown",
   "id": "45c76349",
   "metadata": {
    "papermill": {
     "duration": 0.036525,
     "end_time": "2024-08-31T09:44:18.086101",
     "exception": false,
     "start_time": "2024-08-31T09:44:18.049576",
     "status": "completed"
    },
    "tags": []
   },
   "source": [
    "# 2) Model Training\n",
    "All essential components are brought together in this section to perform machine learning with **`RandomForestClassifier`**."
   ]
  },
  {
   "cell_type": "markdown",
   "id": "7e2439ef",
   "metadata": {
    "papermill": {
     "duration": 0.036489,
     "end_time": "2024-08-31T09:44:18.159568",
     "exception": false,
     "start_time": "2024-08-31T09:44:18.123079",
     "status": "completed"
    },
    "tags": []
   },
   "source": [
    "Quick Reminder:\n",
    "\n",
    "\n",
    "K-fold cross-validation (CV) is a technique used to evaluate a machine learning model's performance by making the most efficient use of the available data. Here's how it works:\n",
    "1. **Data Splitting**: The dataset is randomly divided into K equal-sized subsets or \"folds\".\n",
    "2. **Training and Validation**: The model is trained on K-1 folds and tested on the remaining fold. This process is repeated K times, with each fold serving as the test set exactly once.\n",
    "3. **Performance Averaging**: The results from all K iterations are averaged to give a more reliable estimate of the model's performance."
   ]
  },
  {
   "cell_type": "markdown",
   "id": "49763910",
   "metadata": {
    "papermill": {
     "duration": 0.036851,
     "end_time": "2024-08-31T09:44:18.233650",
     "exception": false,
     "start_time": "2024-08-31T09:44:18.196799",
     "status": "completed"
    },
    "tags": []
   },
   "source": [
    "**Pipeline**\n",
    "\n",
    "To proceed with training, we need to use the already defined `prep` object, import **`RandomForestClassifier`**, and instantiate a pipeline with **`make_pipeline()`** to chain multiple steps into a single workflow. Note that `class_weight`=`'balanced'` is specified to mitigate the impact of an imbalanced target distribution."
   ]
  },
  {
   "cell_type": "code",
   "execution_count": 49,
   "id": "733da70d",
   "metadata": {
    "execution": {
     "iopub.execute_input": "2024-08-31T09:44:18.309602Z",
     "iopub.status.busy": "2024-08-31T09:44:18.308830Z",
     "iopub.status.idle": "2024-08-31T09:44:18.481433Z",
     "shell.execute_reply": "2024-08-31T09:44:18.480641Z"
    },
    "papermill": {
     "duration": 0.212959,
     "end_time": "2024-08-31T09:44:18.483672",
     "exception": false,
     "start_time": "2024-08-31T09:44:18.270713",
     "status": "completed"
    },
    "tags": []
   },
   "outputs": [],
   "source": [
    "from sklearn.ensemble import RandomForestClassifier\n",
    "from sklearn.pipeline import make_pipeline\n",
    "\n",
    "pipeline = make_pipeline(prep, RandomForestClassifier(class_weight='balanced'))"
   ]
  },
  {
   "cell_type": "markdown",
   "id": "23142d60",
   "metadata": {
    "papermill": {
     "duration": 0.036221,
     "end_time": "2024-08-31T09:44:18.556467",
     "exception": false,
     "start_time": "2024-08-31T09:44:18.520246",
     "status": "completed"
    },
    "tags": []
   },
   "source": [
    "**Hyperparameters tuning**\n",
    "\n",
    "Hyperparameters of a **`RandomForestClassifier`** include settings such as:\n",
    "* **n_estimators**: This controls the number of trees in the forest, which impacts the model's performance and stability.\n",
    "* **criterion**: This defines the function used to measure the quality of a split, such as 'gini' or 'entropy'.\n",
    "* **min_samples_split**: This determines the minimum number of samples required to split an internal node, affecting the model's complexity and generalization.\n",
    "* **min_samples_leaf**: This specifies the minimum number of samples required to be at a leaf node, helping to prevent overfitting by ensuring that branches contain enough data.\n",
    "\n",
    "The exact values of these hyperparameters, which control the behavior and performance of the model, are unknown and need to be determined. **`GridSearchCV`** is an extremely useful tool for this task, as it exhaustively searches a pre-specified hyperparameter space by evaluating all possible combinations. Each combination is assessed using **10-fold cross-validation**, ensuring that the optimal set of hyperparameters is both robust and reliable. Here is our pre-defined hyperparameter space to be researched in this study:"
   ]
  },
  {
   "cell_type": "code",
   "execution_count": 50,
   "id": "9b19c555",
   "metadata": {
    "execution": {
     "iopub.execute_input": "2024-08-31T09:44:18.630935Z",
     "iopub.status.busy": "2024-08-31T09:44:18.630570Z",
     "iopub.status.idle": "2024-08-31T09:44:18.635792Z",
     "shell.execute_reply": "2024-08-31T09:44:18.634844Z"
    },
    "papermill": {
     "duration": 0.045195,
     "end_time": "2024-08-31T09:44:18.637830",
     "exception": false,
     "start_time": "2024-08-31T09:44:18.592635",
     "status": "completed"
    },
    "tags": []
   },
   "outputs": [],
   "source": [
    "hyperspace = {\n",
    "        'randomforestclassifier__n_estimators':[85, 120, 150],\n",
    "        'randomforestclassifier__criterion':['gini', 'entropy', 'log_loss'],\n",
    "        'randomforestclassifier__min_samples_split':[2, 4, 8],\n",
    "        'randomforestclassifier__min_samples_leaf':[2, 4, 8]\n",
    "    }"
   ]
  },
  {
   "cell_type": "markdown",
   "id": "a6236dd9",
   "metadata": {
    "papermill": {
     "duration": 0.036337,
     "end_time": "2024-08-31T09:44:18.710666",
     "exception": false,
     "start_time": "2024-08-31T09:44:18.674329",
     "status": "completed"
    },
    "tags": []
   },
   "source": [
    "**Training**\n",
    "\n",
    "Now, we’re ready to bring everything together to build and execute our **`RandomForestClassifier`** ML model. The process seamlessly integrates all the steps we’ve prepared—`prep`, the machine learning `pipeline`, and hyperparameter tuning with **`GridSearchCV`**. Note that even with all this complexity, we still rely on the same familiar `'fit'` and `'predict'` API that is standard across all scikit-learn models."
   ]
  },
  {
   "cell_type": "code",
   "execution_count": 51,
   "id": "0acda760",
   "metadata": {
    "execution": {
     "iopub.execute_input": "2024-08-31T09:44:18.786521Z",
     "iopub.status.busy": "2024-08-31T09:44:18.785857Z",
     "iopub.status.idle": "2024-08-31T10:03:53.168824Z",
     "shell.execute_reply": "2024-08-31T10:03:53.167876Z"
    },
    "papermill": {
     "duration": 1174.460155,
     "end_time": "2024-08-31T10:03:53.207679",
     "exception": false,
     "start_time": "2024-08-31T09:44:18.747524",
     "status": "completed"
    },
    "tags": []
   },
   "outputs": [
    {
     "name": "stdout",
     "output_type": "stream",
     "text": [
      "CPU times: user 14min 9s, sys: 2.75 s, total: 14min 12s\n",
      "Wall time: 14min 16s\n"
     ]
    },
    {
     "data": {
      "text/html": [
       "<style>#sk-container-id-1 {color: black;}#sk-container-id-1 pre{padding: 0;}#sk-container-id-1 div.sk-toggleable {background-color: white;}#sk-container-id-1 label.sk-toggleable__label {cursor: pointer;display: block;width: 100%;margin-bottom: 0;padding: 0.3em;box-sizing: border-box;text-align: center;}#sk-container-id-1 label.sk-toggleable__label-arrow:before {content: \"▸\";float: left;margin-right: 0.25em;color: #696969;}#sk-container-id-1 label.sk-toggleable__label-arrow:hover:before {color: black;}#sk-container-id-1 div.sk-estimator:hover label.sk-toggleable__label-arrow:before {color: black;}#sk-container-id-1 div.sk-toggleable__content {max-height: 0;max-width: 0;overflow: hidden;text-align: left;background-color: #f0f8ff;}#sk-container-id-1 div.sk-toggleable__content pre {margin: 0.2em;color: black;border-radius: 0.25em;background-color: #f0f8ff;}#sk-container-id-1 input.sk-toggleable__control:checked~div.sk-toggleable__content {max-height: 200px;max-width: 100%;overflow: auto;}#sk-container-id-1 input.sk-toggleable__control:checked~label.sk-toggleable__label-arrow:before {content: \"▾\";}#sk-container-id-1 div.sk-estimator input.sk-toggleable__control:checked~label.sk-toggleable__label {background-color: #d4ebff;}#sk-container-id-1 div.sk-label input.sk-toggleable__control:checked~label.sk-toggleable__label {background-color: #d4ebff;}#sk-container-id-1 input.sk-hidden--visually {border: 0;clip: rect(1px 1px 1px 1px);clip: rect(1px, 1px, 1px, 1px);height: 1px;margin: -1px;overflow: hidden;padding: 0;position: absolute;width: 1px;}#sk-container-id-1 div.sk-estimator {font-family: monospace;background-color: #f0f8ff;border: 1px dotted black;border-radius: 0.25em;box-sizing: border-box;margin-bottom: 0.5em;}#sk-container-id-1 div.sk-estimator:hover {background-color: #d4ebff;}#sk-container-id-1 div.sk-parallel-item::after {content: \"\";width: 100%;border-bottom: 1px solid gray;flex-grow: 1;}#sk-container-id-1 div.sk-label:hover label.sk-toggleable__label {background-color: #d4ebff;}#sk-container-id-1 div.sk-serial::before {content: \"\";position: absolute;border-left: 1px solid gray;box-sizing: border-box;top: 0;bottom: 0;left: 50%;z-index: 0;}#sk-container-id-1 div.sk-serial {display: flex;flex-direction: column;align-items: center;background-color: white;padding-right: 0.2em;padding-left: 0.2em;position: relative;}#sk-container-id-1 div.sk-item {position: relative;z-index: 1;}#sk-container-id-1 div.sk-parallel {display: flex;align-items: stretch;justify-content: center;background-color: white;position: relative;}#sk-container-id-1 div.sk-item::before, #sk-container-id-1 div.sk-parallel-item::before {content: \"\";position: absolute;border-left: 1px solid gray;box-sizing: border-box;top: 0;bottom: 0;left: 50%;z-index: -1;}#sk-container-id-1 div.sk-parallel-item {display: flex;flex-direction: column;z-index: 1;position: relative;background-color: white;}#sk-container-id-1 div.sk-parallel-item:first-child::after {align-self: flex-end;width: 50%;}#sk-container-id-1 div.sk-parallel-item:last-child::after {align-self: flex-start;width: 50%;}#sk-container-id-1 div.sk-parallel-item:only-child::after {width: 0;}#sk-container-id-1 div.sk-dashed-wrapped {border: 1px dashed gray;margin: 0 0.4em 0.5em 0.4em;box-sizing: border-box;padding-bottom: 0.4em;background-color: white;}#sk-container-id-1 div.sk-label label {font-family: monospace;font-weight: bold;display: inline-block;line-height: 1.2em;}#sk-container-id-1 div.sk-label-container {text-align: center;}#sk-container-id-1 div.sk-container {/* jupyter's `normalize.less` sets `[hidden] { display: none; }` but bootstrap.min.css set `[hidden] { display: none !important; }` so we also need the `!important` here to be able to override the default hidden behavior on the sphinx rendered scikit-learn.org. See: https://github.com/scikit-learn/scikit-learn/issues/21755 */display: inline-block !important;position: relative;}#sk-container-id-1 div.sk-text-repr-fallback {display: none;}</style><div id=\"sk-container-id-1\" class=\"sk-top-container\"><div class=\"sk-text-repr-fallback\"><pre>GridSearchCV(cv=10,\n",
       "             estimator=Pipeline(steps=[(&#x27;columntransformer&#x27;,\n",
       "                                        ColumnTransformer(remainder=&#x27;passthrough&#x27;,\n",
       "                                                          transformers=[(&#x27;onehotencoder&#x27;,\n",
       "                                                                         OneHotEncoder(drop=&#x27;first&#x27;),\n",
       "                                                                         Index([&#x27;Geography&#x27;, &#x27;Gender&#x27;, &#x27;HasCrCard&#x27;, &#x27;IsActiveMember&#x27;, &#x27;HasBalance&#x27;], dtype=&#x27;object&#x27;))])),\n",
       "                                       (&#x27;randomforestclassifier&#x27;,\n",
       "                                        RandomForestClassifier(class_weight=&#x27;balanced&#x27;))]),\n",
       "             param_grid={&#x27;randomforestclassifier__criterion&#x27;: [&#x27;gini&#x27;,\n",
       "                                                               &#x27;entropy&#x27;,\n",
       "                                                               &#x27;log_loss&#x27;],\n",
       "                         &#x27;randomforestclassifier__min_samples_leaf&#x27;: [2, 4, 8],\n",
       "                         &#x27;randomforestclassifier__min_samples_split&#x27;: [2, 4, 8],\n",
       "                         &#x27;randomforestclassifier__n_estimators&#x27;: [85, 120,\n",
       "                                                                  150]},\n",
       "             scoring=&#x27;roc_auc&#x27;)</pre><b>In a Jupyter environment, please rerun this cell to show the HTML representation or trust the notebook. <br />On GitHub, the HTML representation is unable to render, please try loading this page with nbviewer.org.</b></div><div class=\"sk-container\" hidden><div class=\"sk-item sk-dashed-wrapped\"><div class=\"sk-label-container\"><div class=\"sk-label sk-toggleable\"><input class=\"sk-toggleable__control sk-hidden--visually\" id=\"sk-estimator-id-1\" type=\"checkbox\" ><label for=\"sk-estimator-id-1\" class=\"sk-toggleable__label sk-toggleable__label-arrow\">GridSearchCV</label><div class=\"sk-toggleable__content\"><pre>GridSearchCV(cv=10,\n",
       "             estimator=Pipeline(steps=[(&#x27;columntransformer&#x27;,\n",
       "                                        ColumnTransformer(remainder=&#x27;passthrough&#x27;,\n",
       "                                                          transformers=[(&#x27;onehotencoder&#x27;,\n",
       "                                                                         OneHotEncoder(drop=&#x27;first&#x27;),\n",
       "                                                                         Index([&#x27;Geography&#x27;, &#x27;Gender&#x27;, &#x27;HasCrCard&#x27;, &#x27;IsActiveMember&#x27;, &#x27;HasBalance&#x27;], dtype=&#x27;object&#x27;))])),\n",
       "                                       (&#x27;randomforestclassifier&#x27;,\n",
       "                                        RandomForestClassifier(class_weight=&#x27;balanced&#x27;))]),\n",
       "             param_grid={&#x27;randomforestclassifier__criterion&#x27;: [&#x27;gini&#x27;,\n",
       "                                                               &#x27;entropy&#x27;,\n",
       "                                                               &#x27;log_loss&#x27;],\n",
       "                         &#x27;randomforestclassifier__min_samples_leaf&#x27;: [2, 4, 8],\n",
       "                         &#x27;randomforestclassifier__min_samples_split&#x27;: [2, 4, 8],\n",
       "                         &#x27;randomforestclassifier__n_estimators&#x27;: [85, 120,\n",
       "                                                                  150]},\n",
       "             scoring=&#x27;roc_auc&#x27;)</pre></div></div></div><div class=\"sk-parallel\"><div class=\"sk-parallel-item\"><div class=\"sk-item\"><div class=\"sk-label-container\"><div class=\"sk-label sk-toggleable\"><input class=\"sk-toggleable__control sk-hidden--visually\" id=\"sk-estimator-id-2\" type=\"checkbox\" ><label for=\"sk-estimator-id-2\" class=\"sk-toggleable__label sk-toggleable__label-arrow\">estimator: Pipeline</label><div class=\"sk-toggleable__content\"><pre>Pipeline(steps=[(&#x27;columntransformer&#x27;,\n",
       "                 ColumnTransformer(remainder=&#x27;passthrough&#x27;,\n",
       "                                   transformers=[(&#x27;onehotencoder&#x27;,\n",
       "                                                  OneHotEncoder(drop=&#x27;first&#x27;),\n",
       "                                                  Index([&#x27;Geography&#x27;, &#x27;Gender&#x27;, &#x27;HasCrCard&#x27;, &#x27;IsActiveMember&#x27;, &#x27;HasBalance&#x27;], dtype=&#x27;object&#x27;))])),\n",
       "                (&#x27;randomforestclassifier&#x27;,\n",
       "                 RandomForestClassifier(class_weight=&#x27;balanced&#x27;))])</pre></div></div></div><div class=\"sk-serial\"><div class=\"sk-item\"><div class=\"sk-serial\"><div class=\"sk-item sk-dashed-wrapped\"><div class=\"sk-label-container\"><div class=\"sk-label sk-toggleable\"><input class=\"sk-toggleable__control sk-hidden--visually\" id=\"sk-estimator-id-3\" type=\"checkbox\" ><label for=\"sk-estimator-id-3\" class=\"sk-toggleable__label sk-toggleable__label-arrow\">columntransformer: ColumnTransformer</label><div class=\"sk-toggleable__content\"><pre>ColumnTransformer(remainder=&#x27;passthrough&#x27;,\n",
       "                  transformers=[(&#x27;onehotencoder&#x27;, OneHotEncoder(drop=&#x27;first&#x27;),\n",
       "                                 Index([&#x27;Geography&#x27;, &#x27;Gender&#x27;, &#x27;HasCrCard&#x27;, &#x27;IsActiveMember&#x27;, &#x27;HasBalance&#x27;], dtype=&#x27;object&#x27;))])</pre></div></div></div><div class=\"sk-parallel\"><div class=\"sk-parallel-item\"><div class=\"sk-item\"><div class=\"sk-label-container\"><div class=\"sk-label sk-toggleable\"><input class=\"sk-toggleable__control sk-hidden--visually\" id=\"sk-estimator-id-4\" type=\"checkbox\" ><label for=\"sk-estimator-id-4\" class=\"sk-toggleable__label sk-toggleable__label-arrow\">onehotencoder</label><div class=\"sk-toggleable__content\"><pre>Index([&#x27;Geography&#x27;, &#x27;Gender&#x27;, &#x27;HasCrCard&#x27;, &#x27;IsActiveMember&#x27;, &#x27;HasBalance&#x27;], dtype=&#x27;object&#x27;)</pre></div></div></div><div class=\"sk-serial\"><div class=\"sk-item\"><div class=\"sk-estimator sk-toggleable\"><input class=\"sk-toggleable__control sk-hidden--visually\" id=\"sk-estimator-id-5\" type=\"checkbox\" ><label for=\"sk-estimator-id-5\" class=\"sk-toggleable__label sk-toggleable__label-arrow\">OneHotEncoder</label><div class=\"sk-toggleable__content\"><pre>OneHotEncoder(drop=&#x27;first&#x27;)</pre></div></div></div></div></div></div><div class=\"sk-parallel-item\"><div class=\"sk-item\"><div class=\"sk-label-container\"><div class=\"sk-label sk-toggleable\"><input class=\"sk-toggleable__control sk-hidden--visually\" id=\"sk-estimator-id-6\" type=\"checkbox\" ><label for=\"sk-estimator-id-6\" class=\"sk-toggleable__label sk-toggleable__label-arrow\">remainder</label><div class=\"sk-toggleable__content\"><pre>[&#x27;CreditScore&#x27;, &#x27;Age&#x27;, &#x27;Tenure&#x27;, &#x27;Balance&#x27;, &#x27;NumOfProducts&#x27;, &#x27;EstimatedSalary&#x27;, &#x27;EstimatedSalary_binned&#x27;]</pre></div></div></div><div class=\"sk-serial\"><div class=\"sk-item\"><div class=\"sk-estimator sk-toggleable\"><input class=\"sk-toggleable__control sk-hidden--visually\" id=\"sk-estimator-id-7\" type=\"checkbox\" ><label for=\"sk-estimator-id-7\" class=\"sk-toggleable__label sk-toggleable__label-arrow\">passthrough</label><div class=\"sk-toggleable__content\"><pre>passthrough</pre></div></div></div></div></div></div></div></div><div class=\"sk-item\"><div class=\"sk-estimator sk-toggleable\"><input class=\"sk-toggleable__control sk-hidden--visually\" id=\"sk-estimator-id-8\" type=\"checkbox\" ><label for=\"sk-estimator-id-8\" class=\"sk-toggleable__label sk-toggleable__label-arrow\">RandomForestClassifier</label><div class=\"sk-toggleable__content\"><pre>RandomForestClassifier(class_weight=&#x27;balanced&#x27;)</pre></div></div></div></div></div></div></div></div></div></div></div></div>"
      ],
      "text/plain": [
       "GridSearchCV(cv=10,\n",
       "             estimator=Pipeline(steps=[('columntransformer',\n",
       "                                        ColumnTransformer(remainder='passthrough',\n",
       "                                                          transformers=[('onehotencoder',\n",
       "                                                                         OneHotEncoder(drop='first'),\n",
       "                                                                         Index(['Geography', 'Gender', 'HasCrCard', 'IsActiveMember', 'HasBalance'], dtype='object'))])),\n",
       "                                       ('randomforestclassifier',\n",
       "                                        RandomForestClassifier(class_weight='balanced'))]),\n",
       "             param_grid={'randomforestclassifier__criterion': ['gini',\n",
       "                                                               'entropy',\n",
       "                                                               'log_loss'],\n",
       "                         'randomforestclassifier__min_samples_leaf': [2, 4, 8],\n",
       "                         'randomforestclassifier__min_samples_split': [2, 4, 8],\n",
       "                         'randomforestclassifier__n_estimators': [85, 120,\n",
       "                                                                  150]},\n",
       "             scoring='roc_auc')"
      ]
     },
     "execution_count": 51,
     "metadata": {},
     "output_type": "execute_result"
    }
   ],
   "source": [
    "%%time\n",
    "from sklearn.model_selection import GridSearchCV\n",
    "\n",
    "model = GridSearchCV(pipeline, hyperspace, cv=10, scoring='roc_auc')\n",
    "model.fit(X_train, y_train)"
   ]
  },
  {
   "cell_type": "markdown",
   "id": "5602bd5d",
   "metadata": {
    "papermill": {
     "duration": 0.037107,
     "end_time": "2024-08-31T10:03:53.281618",
     "exception": false,
     "start_time": "2024-08-31T10:03:53.244511",
     "status": "completed"
    },
    "tags": []
   },
   "source": [
    "## Best model (specification)\n",
    "Optimal hyperparams indicated by **`GridSearchCV`**. "
   ]
  },
  {
   "cell_type": "code",
   "execution_count": 52,
   "id": "c36a0a5a",
   "metadata": {
    "execution": {
     "iopub.execute_input": "2024-08-31T10:03:53.358717Z",
     "iopub.status.busy": "2024-08-31T10:03:53.358293Z",
     "iopub.status.idle": "2024-08-31T10:03:53.364471Z",
     "shell.execute_reply": "2024-08-31T10:03:53.363639Z"
    },
    "papermill": {
     "duration": 0.04709,
     "end_time": "2024-08-31T10:03:53.366370",
     "exception": false,
     "start_time": "2024-08-31T10:03:53.319280",
     "status": "completed"
    },
    "tags": []
   },
   "outputs": [
    {
     "data": {
      "text/plain": [
       "{'randomforestclassifier__criterion': 'log_loss',\n",
       " 'randomforestclassifier__min_samples_leaf': 8,\n",
       " 'randomforestclassifier__min_samples_split': 4,\n",
       " 'randomforestclassifier__n_estimators': 120}"
      ]
     },
     "execution_count": 52,
     "metadata": {},
     "output_type": "execute_result"
    }
   ],
   "source": [
    "model.best_params_"
   ]
  },
  {
   "cell_type": "markdown",
   "id": "8d93d3e2",
   "metadata": {
    "papermill": {
     "duration": 0.036932,
     "end_time": "2024-08-31T10:03:53.440482",
     "exception": false,
     "start_time": "2024-08-31T10:03:53.403550",
     "status": "completed"
    },
    "tags": []
   },
   "source": [
    "# 3) Model Evaluation\n",
    "A good starting point for evaluating a classifier is the confusion matrix. **The confusion matrix** provides a detailed breakdown of the classifier's performance across all classes. It also serves as a basis for deeper analysis and subsequent metrics, like:\n",
    "* **Accuracy**: Provides a general overview of the model’s performance but does not indicate how well each individual class is performing.\n",
    "* **Sensitivity**: Measures the proportion of actual positive cases correctly identified by the model. It reflects the model’s ability to detect positive instances, also known as the true positive rate.\n",
    "* **Specificity**: Measures the proportion of actual negative cases correctly identified by the model. It reflects the model’s ability to identify negative instances, also known as the true negative rate."
   ]
  },
  {
   "cell_type": "code",
   "execution_count": 53,
   "id": "7d886b91",
   "metadata": {
    "execution": {
     "iopub.execute_input": "2024-08-31T10:03:53.516552Z",
     "iopub.status.busy": "2024-08-31T10:03:53.515910Z",
     "iopub.status.idle": "2024-08-31T10:03:54.094429Z",
     "shell.execute_reply": "2024-08-31T10:03:54.093453Z"
    },
    "papermill": {
     "duration": 0.619052,
     "end_time": "2024-08-31T10:03:54.096560",
     "exception": false,
     "start_time": "2024-08-31T10:03:53.477508",
     "status": "completed"
    },
    "tags": []
   },
   "outputs": [
    {
     "data": {
      "image/png": "[encoded data removed]",
      "text/plain": [
       "<Figure size 792x288 with 2 Axes>"
      ]
     },
     "metadata": {
      "needs_background": "light"
     },
     "output_type": "display_data"
    }
   ],
   "source": [
    "from sklearn.metrics import confusion_matrix, roc_curve, auc\n",
    "\n",
    "# Compute confusion matrix\n",
    "cm = confusion_matrix(y_test, model.predict(X_test))\n",
    "\n",
    "# Compute ROC curve and AUC\n",
    "y_pred_proba = model.predict_proba(X_test)[:, 1]\n",
    "fpr, tpr, thresholds = roc_curve(y_test, y_pred_proba)\n",
    "roc_auc = auc(fpr, tpr)\n",
    "\n",
    "# Compute accuracy, sensitivity and specificity\n",
    "accuracy = (cm[0, 0] + cm[1, 1]) / np.sum(cm)\n",
    "default_threshold_index = np.where(thresholds > 0.5)[0][-1]\n",
    "sensitivity = tpr[default_threshold_index]\n",
    "specificity = 1 - fpr[default_threshold_index]\n",
    "\n",
    "# Create figure with subplots\n",
    "fig, axes = plt.subplots(1, 2, figsize=(11, 4))\n",
    "\n",
    "# Confusion Matrix subplot\n",
    "sns.heatmap(cm, \n",
    "            annot=True, \n",
    "            fmt='d', \n",
    "            cmap='Blues', \n",
    "            xticklabels=['Predicted 0', 'Predicted 1'],\n",
    "            yticklabels=['Actual 0', 'Actual 1'], \n",
    "            cbar=False, \n",
    "            ax=axes[0])\n",
    "\n",
    "axes[0].set_title('Confusion Matrix', fontsize=21)\n",
    "axes[0].set_xlabel('Predicted Label', fontsize=18)\n",
    "axes[0].set_ylabel('True Label', fontsize=18)\n",
    "axes[0].tick_params(axis='both', which='major', labelsize=14)\n",
    "\n",
    "# ROC Curve subplot\n",
    "axes[1].plot(fpr, tpr, color='blue', lw=2, label=f'ROC curve (area = {roc_auc:.4f})')\n",
    "axes[1].legend(loc=\"lower right\", fontsize=14)\n",
    "axes[1].text(0.6, 0.4, f'Accuracy: {accuracy:.2f}\\nSensitivity: {sensitivity:.2f}\\nSpecificity: {specificity:.2f}', \n",
    "             bbox=dict(facecolor='white', edgecolor='black', boxstyle='round,pad=0.5'), \n",
    "             fontsize=12)\n",
    "axes[1].set_xlim([0.0, 1.0])\n",
    "axes[1].set_ylim([0.0, 1.05])\n",
    "axes[1].set_xlabel('1 - Specificity', fontsize=18)\n",
    "axes[1].set_ylabel('Sensitivity', fontsize=18)\n",
    "axes[1].set_title('ROC Curve', fontsize=21)\n",
    "axes[1].plot(fpr[default_threshold_index], tpr[default_threshold_index], 'ro', label='Threshold = 0.5')\n",
    "axes[1].legend(loc=\"lower right\", fontsize=14)\n",
    "\n",
    "plt.tight_layout()\n",
    "plt.show()"
   ]
  },
  {
   "cell_type": "markdown",
   "id": "af474ff2",
   "metadata": {
    "papermill": {
     "duration": 0.038291,
     "end_time": "2024-08-31T10:03:54.173497",
     "exception": false,
     "start_time": "2024-08-31T10:03:54.135206",
     "status": "completed"
    },
    "tags": []
   },
   "source": [
    "**ROC Curve**\n",
    "\n",
    "The ROC Curve (Receiver Operating Characteristic curve) is essentially a tool for visualizing **trade-off** between sensitivity and specificity. The trade-off between sensitivity and specificity often arises because adjusting the classification threshold can improve one metric at the expense of the other. The threshold is a decision point that determines how the model’s predicted probabilities are converted into class labels. For example, if the threshold is set to 0.5, the model will classify an instance as positive if its predicted probability is greater than or equal to 0.5. **Threshold Tuning** allows you to find the optimal balance between sensitivity and specificity based on your specific needs. For example, in medical diagnostics, you might prefer a higher sensitivity to ensure that most of the patients with a condition are identified, even if it means that some healthy patients are incorrectly classified as having the condition (lower specificity). Conversely, in fraud detection, you might prefer higher specificity to avoid falsely flagging legitimate transactions as fraudulent, even if it means missing some fraudulent cases (lower sensitivity)."
   ]
  },
  {
   "cell_type": "markdown",
   "id": "f8fe3cb2",
   "metadata": {
    "papermill": {
     "duration": 0.037841,
     "end_time": "2024-08-31T10:03:54.249298",
     "exception": false,
     "start_time": "2024-08-31T10:03:54.211457",
     "status": "completed"
    },
    "tags": []
   },
   "source": [
    "**AUC (submission metric)**\n",
    "\n",
    "AUC (Area Under the ROC Curve) is a threshold-agnostic metric that evaluates a classifier's performance across all possible threshold values, providing a synthetic measure of its overall ability to distinguish between classes."
   ]
  },
  {
   "cell_type": "markdown",
   "id": "6ab85bd3",
   "metadata": {
    "papermill": {
     "duration": 0.038223,
     "end_time": "2024-08-31T10:03:54.325494",
     "exception": false,
     "start_time": "2024-08-31T10:03:54.287271",
     "status": "completed"
    },
    "tags": []
   },
   "source": [
    "## Best model refit\n",
    "It is strongly recommended to refit the best model using the entire training dataset before making final predictions. This ensures that the model benefits from all available training data."
   ]
  },
  {
   "cell_type": "code",
   "execution_count": 54,
   "id": "72dd7c2d",
   "metadata": {
    "execution": {
     "iopub.execute_input": "2024-08-31T10:03:54.403638Z",
     "iopub.status.busy": "2024-08-31T10:03:54.403223Z",
     "iopub.status.idle": "2024-08-31T10:03:54.408618Z",
     "shell.execute_reply": "2024-08-31T10:03:54.407592Z"
    },
    "papermill": {
     "duration": 0.047239,
     "end_time": "2024-08-31T10:03:54.410604",
     "exception": false,
     "start_time": "2024-08-31T10:03:54.363365",
     "status": "completed"
    },
    "tags": []
   },
   "outputs": [
    {
     "name": "stdout",
     "output_type": "stream",
     "text": [
      "Number of rows X_train: 12000\n",
      "Number of rows train: 15000\n"
     ]
    }
   ],
   "source": [
    "print(f'Number of rows X_train: {X_train.shape[0]}')\n",
    "print(f'Number of rows train: {train.shape[0]}')"
   ]
  },
  {
   "cell_type": "code",
   "execution_count": 55,
   "id": "e893923b",
   "metadata": {
    "execution": {
     "iopub.execute_input": "2024-08-31T10:03:54.489096Z",
     "iopub.status.busy": "2024-08-31T10:03:54.488227Z",
     "iopub.status.idle": "2024-08-31T10:03:54.493688Z",
     "shell.execute_reply": "2024-08-31T10:03:54.492805Z"
    },
    "papermill": {
     "duration": 0.046919,
     "end_time": "2024-08-31T10:03:54.495683",
     "exception": false,
     "start_time": "2024-08-31T10:03:54.448764",
     "status": "completed"
    },
    "tags": []
   },
   "outputs": [],
   "source": [
    "# Classifier instantiation with best params\n",
    "classifier = RandomForestClassifier(n_estimators = model.best_params_['randomforestclassifier__n_estimators'],\n",
    "                                    criterion = model.best_params_['randomforestclassifier__criterion'],\n",
    "                                    min_samples_split = model.best_params_['randomforestclassifier__min_samples_split'], \n",
    "                                    min_samples_leaf = model.best_params_['randomforestclassifier__min_samples_leaf'],\n",
    "                                    class_weight = 'balanced'\n",
    "                                   )"
   ]
  },
  {
   "cell_type": "code",
   "execution_count": 56,
   "id": "fa86ff44",
   "metadata": {
    "execution": {
     "iopub.execute_input": "2024-08-31T10:03:54.574682Z",
     "iopub.status.busy": "2024-08-31T10:03:54.573890Z",
     "iopub.status.idle": "2024-08-31T10:03:56.018843Z",
     "shell.execute_reply": "2024-08-31T10:03:56.017836Z"
    },
    "papermill": {
     "duration": 1.486928,
     "end_time": "2024-08-31T10:03:56.020937",
     "exception": false,
     "start_time": "2024-08-31T10:03:54.534009",
     "status": "completed"
    },
    "tags": []
   },
   "outputs": [
    {
     "name": "stdout",
     "output_type": "stream",
     "text": [
      "CPU times: user 1.33 s, sys: 9 µs, total: 1.33 s\n",
      "Wall time: 1.33 s\n"
     ]
    },
    {
     "data": {
      "text/html": [
       "<style>#sk-container-id-2 {color: black;}#sk-container-id-2 pre{padding: 0;}#sk-container-id-2 div.sk-toggleable {background-color: white;}#sk-container-id-2 label.sk-toggleable__label {cursor: pointer;display: block;width: 100%;margin-bottom: 0;padding: 0.3em;box-sizing: border-box;text-align: center;}#sk-container-id-2 label.sk-toggleable__label-arrow:before {content: \"▸\";float: left;margin-right: 0.25em;color: #696969;}#sk-container-id-2 label.sk-toggleable__label-arrow:hover:before {color: black;}#sk-container-id-2 div.sk-estimator:hover label.sk-toggleable__label-arrow:before {color: black;}#sk-container-id-2 div.sk-toggleable__content {max-height: 0;max-width: 0;overflow: hidden;text-align: left;background-color: #f0f8ff;}#sk-container-id-2 div.sk-toggleable__content pre {margin: 0.2em;color: black;border-radius: 0.25em;background-color: #f0f8ff;}#sk-container-id-2 input.sk-toggleable__control:checked~div.sk-toggleable__content {max-height: 200px;max-width: 100%;overflow: auto;}#sk-container-id-2 input.sk-toggleable__control:checked~label.sk-toggleable__label-arrow:before {content: \"▾\";}#sk-container-id-2 div.sk-estimator input.sk-toggleable__control:checked~label.sk-toggleable__label {background-color: #d4ebff;}#sk-container-id-2 div.sk-label input.sk-toggleable__control:checked~label.sk-toggleable__label {background-color: #d4ebff;}#sk-container-id-2 input.sk-hidden--visually {border: 0;clip: rect(1px 1px 1px 1px);clip: rect(1px, 1px, 1px, 1px);height: 1px;margin: -1px;overflow: hidden;padding: 0;position: absolute;width: 1px;}#sk-container-id-2 div.sk-estimator {font-family: monospace;background-color: #f0f8ff;border: 1px dotted black;border-radius: 0.25em;box-sizing: border-box;margin-bottom: 0.5em;}#sk-container-id-2 div.sk-estimator:hover {background-color: #d4ebff;}#sk-container-id-2 div.sk-parallel-item::after {content: \"\";width: 100%;border-bottom: 1px solid gray;flex-grow: 1;}#sk-container-id-2 div.sk-label:hover label.sk-toggleable__label {background-color: #d4ebff;}#sk-container-id-2 div.sk-serial::before {content: \"\";position: absolute;border-left: 1px solid gray;box-sizing: border-box;top: 0;bottom: 0;left: 50%;z-index: 0;}#sk-container-id-2 div.sk-serial {display: flex;flex-direction: column;align-items: center;background-color: white;padding-right: 0.2em;padding-left: 0.2em;position: relative;}#sk-container-id-2 div.sk-item {position: relative;z-index: 1;}#sk-container-id-2 div.sk-parallel {display: flex;align-items: stretch;justify-content: center;background-color: white;position: relative;}#sk-container-id-2 div.sk-item::before, #sk-container-id-2 div.sk-parallel-item::before {content: \"\";position: absolute;border-left: 1px solid gray;box-sizing: border-box;top: 0;bottom: 0;left: 50%;z-index: -1;}#sk-container-id-2 div.sk-parallel-item {display: flex;flex-direction: column;z-index: 1;position: relative;background-color: white;}#sk-container-id-2 div.sk-parallel-item:first-child::after {align-self: flex-end;width: 50%;}#sk-container-id-2 div.sk-parallel-item:last-child::after {align-self: flex-start;width: 50%;}#sk-container-id-2 div.sk-parallel-item:only-child::after {width: 0;}#sk-container-id-2 div.sk-dashed-wrapped {border: 1px dashed gray;margin: 0 0.4em 0.5em 0.4em;box-sizing: border-box;padding-bottom: 0.4em;background-color: white;}#sk-container-id-2 div.sk-label label {font-family: monospace;font-weight: bold;display: inline-block;line-height: 1.2em;}#sk-container-id-2 div.sk-label-container {text-align: center;}#sk-container-id-2 div.sk-container {/* jupyter's `normalize.less` sets `[hidden] { display: none; }` but bootstrap.min.css set `[hidden] { display: none !important; }` so we also need the `!important` here to be able to override the default hidden behavior on the sphinx rendered scikit-learn.org. See: https://github.com/scikit-learn/scikit-learn/issues/21755 */display: inline-block !important;position: relative;}#sk-container-id-2 div.sk-text-repr-fallback {display: none;}</style><div id=\"sk-container-id-2\" class=\"sk-top-container\"><div class=\"sk-text-repr-fallback\"><pre>Pipeline(steps=[(&#x27;columntransformer&#x27;,\n",
       "                 ColumnTransformer(remainder=&#x27;passthrough&#x27;,\n",
       "                                   transformers=[(&#x27;onehotencoder&#x27;,\n",
       "                                                  OneHotEncoder(drop=&#x27;first&#x27;),\n",
       "                                                  Index([&#x27;Geography&#x27;, &#x27;Gender&#x27;, &#x27;HasCrCard&#x27;, &#x27;IsActiveMember&#x27;, &#x27;HasBalance&#x27;], dtype=&#x27;object&#x27;))])),\n",
       "                (&#x27;randomforestclassifier&#x27;,\n",
       "                 RandomForestClassifier(class_weight=&#x27;balanced&#x27;,\n",
       "                                        criterion=&#x27;log_loss&#x27;,\n",
       "                                        min_samples_leaf=8, min_samples_split=4,\n",
       "                                        n_estimators=120))])</pre><b>In a Jupyter environment, please rerun this cell to show the HTML representation or trust the notebook. <br />On GitHub, the HTML representation is unable to render, please try loading this page with nbviewer.org.</b></div><div class=\"sk-container\" hidden><div class=\"sk-item sk-dashed-wrapped\"><div class=\"sk-label-container\"><div class=\"sk-label sk-toggleable\"><input class=\"sk-toggleable__control sk-hidden--visually\" id=\"sk-estimator-id-9\" type=\"checkbox\" ><label for=\"sk-estimator-id-9\" class=\"sk-toggleable__label sk-toggleable__label-arrow\">Pipeline</label><div class=\"sk-toggleable__content\"><pre>Pipeline(steps=[(&#x27;columntransformer&#x27;,\n",
       "                 ColumnTransformer(remainder=&#x27;passthrough&#x27;,\n",
       "                                   transformers=[(&#x27;onehotencoder&#x27;,\n",
       "                                                  OneHotEncoder(drop=&#x27;first&#x27;),\n",
       "                                                  Index([&#x27;Geography&#x27;, &#x27;Gender&#x27;, &#x27;HasCrCard&#x27;, &#x27;IsActiveMember&#x27;, &#x27;HasBalance&#x27;], dtype=&#x27;object&#x27;))])),\n",
       "                (&#x27;randomforestclassifier&#x27;,\n",
       "                 RandomForestClassifier(class_weight=&#x27;balanced&#x27;,\n",
       "                                        criterion=&#x27;log_loss&#x27;,\n",
       "                                        min_samples_leaf=8, min_samples_split=4,\n",
       "                                        n_estimators=120))])</pre></div></div></div><div class=\"sk-serial\"><div class=\"sk-item sk-dashed-wrapped\"><div class=\"sk-label-container\"><div class=\"sk-label sk-toggleable\"><input class=\"sk-toggleable__control sk-hidden--visually\" id=\"sk-estimator-id-10\" type=\"checkbox\" ><label for=\"sk-estimator-id-10\" class=\"sk-toggleable__label sk-toggleable__label-arrow\">columntransformer: ColumnTransformer</label><div class=\"sk-toggleable__content\"><pre>ColumnTransformer(remainder=&#x27;passthrough&#x27;,\n",
       "                  transformers=[(&#x27;onehotencoder&#x27;, OneHotEncoder(drop=&#x27;first&#x27;),\n",
       "                                 Index([&#x27;Geography&#x27;, &#x27;Gender&#x27;, &#x27;HasCrCard&#x27;, &#x27;IsActiveMember&#x27;, &#x27;HasBalance&#x27;], dtype=&#x27;object&#x27;))])</pre></div></div></div><div class=\"sk-parallel\"><div class=\"sk-parallel-item\"><div class=\"sk-item\"><div class=\"sk-label-container\"><div class=\"sk-label sk-toggleable\"><input class=\"sk-toggleable__control sk-hidden--visually\" id=\"sk-estimator-id-11\" type=\"checkbox\" ><label for=\"sk-estimator-id-11\" class=\"sk-toggleable__label sk-toggleable__label-arrow\">onehotencoder</label><div class=\"sk-toggleable__content\"><pre>Index([&#x27;Geography&#x27;, &#x27;Gender&#x27;, &#x27;HasCrCard&#x27;, &#x27;IsActiveMember&#x27;, &#x27;HasBalance&#x27;], dtype=&#x27;object&#x27;)</pre></div></div></div><div class=\"sk-serial\"><div class=\"sk-item\"><div class=\"sk-estimator sk-toggleable\"><input class=\"sk-toggleable__control sk-hidden--visually\" id=\"sk-estimator-id-12\" type=\"checkbox\" ><label for=\"sk-estimator-id-12\" class=\"sk-toggleable__label sk-toggleable__label-arrow\">OneHotEncoder</label><div class=\"sk-toggleable__content\"><pre>OneHotEncoder(drop=&#x27;first&#x27;)</pre></div></div></div></div></div></div><div class=\"sk-parallel-item\"><div class=\"sk-item\"><div class=\"sk-label-container\"><div class=\"sk-label sk-toggleable\"><input class=\"sk-toggleable__control sk-hidden--visually\" id=\"sk-estimator-id-13\" type=\"checkbox\" ><label for=\"sk-estimator-id-13\" class=\"sk-toggleable__label sk-toggleable__label-arrow\">remainder</label><div class=\"sk-toggleable__content\"><pre>[&#x27;CreditScore&#x27;, &#x27;Age&#x27;, &#x27;Tenure&#x27;, &#x27;Balance&#x27;, &#x27;NumOfProducts&#x27;, &#x27;EstimatedSalary&#x27;, &#x27;EstimatedSalary_binned&#x27;]</pre></div></div></div><div class=\"sk-serial\"><div class=\"sk-item\"><div class=\"sk-estimator sk-toggleable\"><input class=\"sk-toggleable__control sk-hidden--visually\" id=\"sk-estimator-id-14\" type=\"checkbox\" ><label for=\"sk-estimator-id-14\" class=\"sk-toggleable__label sk-toggleable__label-arrow\">passthrough</label><div class=\"sk-toggleable__content\"><pre>passthrough</pre></div></div></div></div></div></div></div></div><div class=\"sk-item\"><div class=\"sk-estimator sk-toggleable\"><input class=\"sk-toggleable__control sk-hidden--visually\" id=\"sk-estimator-id-15\" type=\"checkbox\" ><label for=\"sk-estimator-id-15\" class=\"sk-toggleable__label sk-toggleable__label-arrow\">RandomForestClassifier</label><div class=\"sk-toggleable__content\"><pre>RandomForestClassifier(class_weight=&#x27;balanced&#x27;, criterion=&#x27;log_loss&#x27;,\n",
       "                       min_samples_leaf=8, min_samples_split=4,\n",
       "                       n_estimators=120)</pre></div></div></div></div></div></div></div>"
      ],
      "text/plain": [
       "Pipeline(steps=[('columntransformer',\n",
       "                 ColumnTransformer(remainder='passthrough',\n",
       "                                   transformers=[('onehotencoder',\n",
       "                                                  OneHotEncoder(drop='first'),\n",
       "                                                  Index(['Geography', 'Gender', 'HasCrCard', 'IsActiveMember', 'HasBalance'], dtype='object'))])),\n",
       "                ('randomforestclassifier',\n",
       "                 RandomForestClassifier(class_weight='balanced',\n",
       "                                        criterion='log_loss',\n",
       "                                        min_samples_leaf=8, min_samples_split=4,\n",
       "                                        n_estimators=120))])"
      ]
     },
     "execution_count": 56,
     "metadata": {},
     "output_type": "execute_result"
    }
   ],
   "source": [
    "%%time\n",
    "forest = make_pipeline(prep, classifier)\n",
    "forest.fit(train.drop(columns=['Exited']), train.Exited)"
   ]
  },
  {
   "cell_type": "markdown",
   "id": "91c1e6ba",
   "metadata": {
    "papermill": {
     "duration": 0.038978,
     "end_time": "2024-08-31T10:03:56.099092",
     "exception": false,
     "start_time": "2024-08-31T10:03:56.060114",
     "status": "completed"
    },
    "tags": []
   },
   "source": [
    "# 4) Submisson\n",
    "Really quick way to generate submission."
   ]
  },
  {
   "cell_type": "code",
   "execution_count": 57,
   "id": "fba31ef0",
   "metadata": {
    "execution": {
     "iopub.execute_input": "2024-08-31T10:03:56.178554Z",
     "iopub.status.busy": "2024-08-31T10:03:56.178150Z",
     "iopub.status.idle": "2024-08-31T10:03:56.186141Z",
     "shell.execute_reply": "2024-08-31T10:03:56.185266Z"
    },
    "papermill": {
     "duration": 0.050282,
     "end_time": "2024-08-31T10:03:56.188083",
     "exception": false,
     "start_time": "2024-08-31T10:03:56.137801",
     "status": "completed"
    },
    "tags": []
   },
   "outputs": [],
   "source": [
    "def data_cleaner(raw_data):\n",
    "    # cleans data for 'forest' pipeline\n",
    "    raw_data.set_index('id', inplace=True)\n",
    "    raw_data.drop(columns=['CustomerId', 'Surname'], inplace=True)\n",
    "    raw_data['NumOfProducts'] = raw_data['NumOfProducts'].replace(4, 3)\n",
    "    raw_data['EstimatedSalary_binned'] = kbin_discretizer.fit_transform(raw_data[['EstimatedSalary']])\n",
    "    raw_data['HasBalance'] = (raw_data['Balance'] > 0).astype(int)\n",
    "    raw_data['Tenure'] = raw_data['Tenure'].astype(int)\n",
    "    raw_data['EstimatedSalary_binned'] = raw_data['EstimatedSalary_binned'].astype(int)\n",
    "    raw_data['NumOfProducts'] = raw_data['NumOfProducts'].astype(int)\n",
    "    raw_data['HasCrCard'] = raw_data['HasCrCard'].astype(str)\n",
    "    raw_data['IsActiveMember'] = raw_data['IsActiveMember'].astype(str)\n",
    "    raw_data['HasBalance'] = raw_data['HasBalance'].astype(str)\n",
    "    return raw_data"
   ]
  },
  {
   "cell_type": "code",
   "execution_count": 58,
   "id": "3926185b",
   "metadata": {
    "execution": {
     "iopub.execute_input": "2024-08-31T10:03:56.267260Z",
     "iopub.status.busy": "2024-08-31T10:03:56.266864Z",
     "iopub.status.idle": "2024-08-31T10:03:56.474400Z",
     "shell.execute_reply": "2024-08-31T10:03:56.473415Z"
    },
    "papermill": {
     "duration": 0.249677,
     "end_time": "2024-08-31T10:03:56.476532",
     "exception": false,
     "start_time": "2024-08-31T10:03:56.226855",
     "status": "completed"
    },
    "tags": []
   },
   "outputs": [
    {
     "data": {
      "text/html": [
       "<div>\n",
       "<style scoped>\n",
       "    .dataframe tbody tr th:only-of-type {\n",
       "        vertical-align: middle;\n",
       "    }\n",
       "\n",
       "    .dataframe tbody tr th {\n",
       "        vertical-align: top;\n",
       "    }\n",
       "\n",
       "    .dataframe thead th {\n",
       "        text-align: right;\n",
       "    }\n",
       "</style>\n",
       "<table border=\"1\" class=\"dataframe\">\n",
       "  <thead>\n",
       "    <tr style=\"text-align: right;\">\n",
       "      <th></th>\n",
       "      <th>id</th>\n",
       "      <th>Exited</th>\n",
       "    </tr>\n",
       "  </thead>\n",
       "  <tbody>\n",
       "    <tr>\n",
       "      <th>0</th>\n",
       "      <td>15000</td>\n",
       "      <td>0.75</td>\n",
       "    </tr>\n",
       "    <tr>\n",
       "      <th>1</th>\n",
       "      <td>15001</td>\n",
       "      <td>0.22</td>\n",
       "    </tr>\n",
       "    <tr>\n",
       "      <th>2</th>\n",
       "      <td>15002</td>\n",
       "      <td>0.33</td>\n",
       "    </tr>\n",
       "    <tr>\n",
       "      <th>3</th>\n",
       "      <td>15003</td>\n",
       "      <td>0.06</td>\n",
       "    </tr>\n",
       "    <tr>\n",
       "      <th>4</th>\n",
       "      <td>15004</td>\n",
       "      <td>0.06</td>\n",
       "    </tr>\n",
       "    <tr>\n",
       "      <th>...</th>\n",
       "      <td>...</td>\n",
       "      <td>...</td>\n",
       "    </tr>\n",
       "    <tr>\n",
       "      <th>9995</th>\n",
       "      <td>24995</td>\n",
       "      <td>0.11</td>\n",
       "    </tr>\n",
       "    <tr>\n",
       "      <th>9996</th>\n",
       "      <td>24996</td>\n",
       "      <td>0.67</td>\n",
       "    </tr>\n",
       "    <tr>\n",
       "      <th>9997</th>\n",
       "      <td>24997</td>\n",
       "      <td>0.03</td>\n",
       "    </tr>\n",
       "    <tr>\n",
       "      <th>9998</th>\n",
       "      <td>24998</td>\n",
       "      <td>0.05</td>\n",
       "    </tr>\n",
       "    <tr>\n",
       "      <th>9999</th>\n",
       "      <td>24999</td>\n",
       "      <td>0.04</td>\n",
       "    </tr>\n",
       "  </tbody>\n",
       "</table>\n",
       "<p>10000 rows × 2 columns</p>\n",
       "</div>"
      ],
      "text/plain": [
       "         id  Exited\n",
       "0     15000    0.75\n",
       "1     15001    0.22\n",
       "2     15002    0.33\n",
       "3     15003    0.06\n",
       "4     15004    0.06\n",
       "...     ...     ...\n",
       "9995  24995    0.11\n",
       "9996  24996    0.67\n",
       "9997  24997    0.03\n",
       "9998  24998    0.05\n",
       "9999  24999    0.04\n",
       "\n",
       "[10000 rows x 2 columns]"
      ]
     },
     "execution_count": 58,
     "metadata": {},
     "output_type": "execute_result"
    }
   ],
   "source": [
    "test = pd.read_csv('test.csv')\n",
    "y_hat = forest.predict_proba(data_cleaner(test))[:, 1]\n",
    "submission = pd.DataFrame(test.reset_index().id).assign(Exited=y_hat)\n",
    "submission"
   ]
  },
  {
   "cell_type": "markdown",
   "id": "aefc67c1",
   "metadata": {
    "papermill": {
     "duration": 0.038716,
     "end_time": "2024-08-31T10:03:56.555529",
     "exception": false,
     "start_time": "2024-08-31T10:03:56.516813",
     "status": "completed"
    },
    "tags": []
   },
   "source": [
    "I hope you found this notebook helpful in understanding the workflow and concepts covered. Feel free to explore further and experiment with the code. `Thank you` for your time and interest!"
   ]
  }
 ],
 "metadata": {
  "kaggle": {
   "accelerator": "none",
   "dataSources": [
    {
     "databundleVersionId": 8551020,
     "sourceId": 77888,
     "sourceType": "competition"
    }
   ],
   "dockerImageVersionId": 30761,
   "isGpuEnabled": false,
   "isInternetEnabled": true,
   "language": "python",
   "sourceType": "notebook"
  },
  "kernelspec": {
   "display_name": "Python 3",
   "language": "python",
   "name": "python3"
  },
  "language_info": {
   "codemirror_mode": {
    "name": "ipython",
    "version": 3
   },
   "file_extension": ".py",
   "mimetype": "text/x-python",
   "name": "python",
   "nbconvert_exporter": "python",
   "pygments_lexer": "ipython3",
   "version": "3.8.8"
  },
  "papermill": {
   "default_parameters": {},
   "duration": 1198.456708,
   "end_time": "2024-08-31T10:03:57.114113",
   "environment_variables": {},
   "exception": null,
   "input_path": "__notebook__.ipynb",
   "output_path": "__notebook__.ipynb",
   "parameters": {},
   "start_time": "2024-08-31T09:43:58.657405",
   "version": "2.6.0"
  }
 },
 "nbformat": 4,
 "nbformat_minor": 5
}
